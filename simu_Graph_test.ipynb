{
 "cells": [
  {
   "cell_type": "code",
   "execution_count": 306,
   "metadata": {},
   "outputs": [],
   "source": [
    "import argparse\n",
    "import numpy as np\n",
    "import networkx as nx\n",
    "import slam.plot as splt\n",
    "import slam.topology as stop\n",
    "import slam.generate_parametric_surfaces as sgps\n",
    "import trimesh\n",
    "import os\n",
    "import networkx as nx\n",
    "import numpy as np\n",
    "from visbrain.objects import SourceObj, ConnectObj, ColorbarObj\n",
    "import tools.graph_processing as gp\n",
    "import slam.differential_geometry as sdg\n",
    "import random\n",
    "import plotly.express as px\n",
    "import plotly.graph_objects as go\n",
    "import plotly.express as px\n",
    "import plotly.figure_factory as ff\n",
    "import matplotlib.pyplot as plt\n",
    "import seaborn as sns"
   ]
  },
  {
   "cell_type": "code",
   "execution_count": 165,
   "metadata": {},
   "outputs": [],
   "source": [
    "def remove_dummy_nodes(graph):\n",
    "    G = graph.copy()\n",
    "    to_remove = []\n",
    "    for (p, d) in G.nodes(data=True):\n",
    "        if d['is_dummy'] == True:\n",
    "            to_remove.append(p)\n",
    "    G.remove_nodes_from(to_remove)\n",
    "    return G"
   ]
  },
  {
   "cell_type": "code",
   "execution_count": 166,
   "metadata": {},
   "outputs": [],
   "source": [
    "def mean_edge_len(G):\n",
    "    \n",
    "    all_geo = [z['geodesic_distance'] for x,y,z in list(G.edges.data())]\n",
    "    mean_geo = np.array(all_geo).mean()\n",
    "    std = np.std(all_geo)\n",
    "    \n",
    "    return mean_geo,std,all_geo"
   ]
  },
  {
   "cell_type": "code",
   "execution_count": 167,
   "metadata": {},
   "outputs": [],
   "source": [
    "#generate random color codes for plotting\n",
    "def generate_random_color_codes(num_colors):\n",
    "    \n",
    "    number_of_colors = num_colors\n",
    "    \n",
    "    color = [\"#\"+''.join([random.choice('0123456789ABCDEF') for j in range(6)])\n",
    "             for i in range(number_of_colors)]\n",
    "    \n",
    "    return color"
   ]
  },
  {
   "cell_type": "code",
   "execution_count": 335,
   "metadata": {},
   "outputs": [],
   "source": [
    "path = \"/home/rohit/PhD_Work/GM_my_version/Graph_matching/data/simu_graph/0/noise_1000,outliers_0/graphs/\"\n",
    "path_real = \"/home/rohit/PhD_Work/GM_my_version/Graph_matching/data/OASIS_full_batch/modified_graphs/\"\n",
    "simu_path = \"/home/rohit/PhD_Work/GM_my_version/Graph_matching/data/simu_graph/0/\""
   ]
  },
  {
   "cell_type": "code",
   "execution_count": 337,
   "metadata": {
    "scrolled": true
   },
   "outputs": [
    {
     "name": "stdout",
     "output_type": "stream",
     "text": [
      "noise_1000,outliers_4\n",
      "noise_1000,outliers_8\n",
      "noise_1000,outliers_12\n",
      "noise_1000,outliers_16\n",
      "noise_1000,outliers_0\n"
     ]
    }
   ],
   "source": [
    "all_noise_degree = []\n",
    "folder_name = os.listdir(simu_path)\n",
    "\n",
    "for folder in folder_name:\n",
    "    if os.path.isdir(simu_path+folder):\n",
    "        print(folder)\n",
    "        graph_path = simu_path+folder+'/'+'graphs/'\n",
    "        \n",
    "        degree_simu = []\n",
    "        \n",
    "        for graph in os.listdir(graph_path):\n",
    "            G = nx.read_gpickle(graph_path + graph) #read the graphs\n",
    "            mean_degree = list(dict(nx.degree(G)).values())\n",
    "            degree_simu.append(mean_degree)\n",
    "            \n",
    "        all_noise_degree.append(degree_simu)"
   ]
  },
  {
   "cell_type": "code",
   "execution_count": 342,
   "metadata": {},
   "outputs": [
    {
     "data": {
      "text/plain": [
       "134"
      ]
     },
     "execution_count": 342,
     "metadata": {},
     "output_type": "execute_result"
    }
   ],
   "source": [
    "len(all_noise_degree[0])"
   ]
  },
  {
   "cell_type": "code",
   "execution_count": 203,
   "metadata": {},
   "outputs": [],
   "source": [
    "degree_list = []\n",
    "mean_degree_real = []\n",
    "for graph in os.listdir(path_real):\n",
    "    G = nx.read_gpickle(path_real + graph) #read the graphs\n",
    "    G = remove_dummy_nodes(G)\n",
    "    G.remove_edges_from(nx.selfloop_edges(G))\n",
    "    mean_degree_real.append(list(dict(nx.degree(G)).values()))\n",
    "    #new_G = remove_dummy_nodes(G)\n",
    "    #new_G.remove_edges_from(nx.selfloop_edges(new_G)) # remove self loops\n",
    "    #degree_list.append(list(dict(nx.degree(G)).values()))"
   ]
  },
  {
   "cell_type": "code",
   "execution_count": null,
   "metadata": {},
   "outputs": [],
   "source": []
  },
  {
   "cell_type": "code",
   "execution_count": 346,
   "metadata": {},
   "outputs": [],
   "source": [
    "# plt.figure(figsize=(13,8))\n",
    "# bins = 60\n",
    "# #mean_geo = [mean_geo_simu,mean_geo_real]\n",
    "\n",
    "# plt.hist(mean_degree_simu, bins, alpha=0.7, label='Mean degree Simu')\n",
    "# plt.hist(mean_degree_real, bins, alpha=0.7, label='Mean degree real')\n",
    "# plt.legend(loc='upper right')\n",
    "# plt.xlabel('mean degree real and simu')\n",
    "# plt.ylabel('Density')\n",
    "# plt.show()"
   ]
  },
  {
   "cell_type": "code",
   "execution_count": 200,
   "metadata": {},
   "outputs": [],
   "source": [
    "#counts, bins = np.histogram(np.array(mean_degree_simu[3]),bins = 12)\n",
    "#counts\n",
    "#bins"
   ]
  },
  {
   "cell_type": "code",
   "execution_count": null,
   "metadata": {
    "scrolled": true
   },
   "outputs": [],
   "source": []
  },
  {
   "cell_type": "code",
   "execution_count": 347,
   "metadata": {},
   "outputs": [],
   "source": [
    "def interval_to_values(list_array,bins=2):\n",
    "    values = []\n",
    "    counts,bins = np.histogram(list_array,bins)\n",
    "    for i in range(len(bins)-1):\n",
    "        tmp_list = []\n",
    "        for j in list_array:\n",
    "            if i+1 == (len(bins)-1):\n",
    "                if bins[i]<= j <= bins[i+1]:\n",
    "                    tmp_list.append(j)\n",
    "            else:\n",
    "                if bins[i]<= j < bins[i+1]:\n",
    "                    tmp_list.append(j)\n",
    "        if len(tmp_list) != counts[i]:\n",
    "            print(\"counts doesn't match retrieved values at index \",i)\n",
    "        values.append(tmp_list)\n",
    "    return values,bins"
   ]
  },
  {
   "cell_type": "code",
   "execution_count": 287,
   "metadata": {},
   "outputs": [],
   "source": [
    "#values_real,bins_real = interval_to_values(flat_list,bins = 6)"
   ]
  },
  {
   "cell_type": "code",
   "execution_count": 290,
   "metadata": {},
   "outputs": [],
   "source": [
    "#avg_bins_real = [np.mean(x) for x in values_real]"
   ]
  },
  {
   "cell_type": "code",
   "execution_count": 291,
   "metadata": {
    "scrolled": true
   },
   "outputs": [],
   "source": [
    "#len(values_real)"
   ]
  },
  {
   "cell_type": "code",
   "execution_count": 297,
   "metadata": {},
   "outputs": [],
   "source": [
    "values_simu, bins_simu = interval_to_values(np.array(mean_degree_simu).flatten(),bins =6)"
   ]
  },
  {
   "cell_type": "code",
   "execution_count": 299,
   "metadata": {},
   "outputs": [],
   "source": [
    "#avg_bins_simu = [np.mean(x) for x in values_simu]"
   ]
  },
  {
   "cell_type": "code",
   "execution_count": 357,
   "metadata": {},
   "outputs": [
    {
     "data": {
      "text/plain": [
       "['noise_1000,outliers_4',\n",
       " 'noise_1000,outliers_8',\n",
       " 'noise_1000,outliers_12',\n",
       " 'noise_1000,outliers_16',\n",
       " 'noise_1000,outliers_0']"
      ]
     },
     "execution_count": 357,
     "metadata": {},
     "output_type": "execute_result"
    }
   ],
   "source": [
    "folder_name[1:]"
   ]
  },
  {
   "cell_type": "code",
   "execution_count": 358,
   "metadata": {},
   "outputs": [],
   "source": [
    "flat_list_real = [item for sublist in mean_degree_real for item in sublist]\n",
    "flat_list_simu_4 = [item for sublist in all_noise_degree[0] for item in sublist]\n",
    "flat_list_simu_8 = [item for sublist in all_noise_degree[1] for item in sublist]\n",
    "flat_list_simu_12 = [item for sublist in all_noise_degree[2] for item in sublist]\n",
    "flat_list_simu_16 = [item for sublist in all_noise_degree[3] for item in sublist]\n",
    "flat_list_simu_0 = [item for sublist in all_noise_degree[4] for item in sublist]"
   ]
  },
  {
   "cell_type": "code",
   "execution_count": null,
   "metadata": {},
   "outputs": [],
   "source": []
  },
  {
   "cell_type": "code",
   "execution_count": 328,
   "metadata": {},
   "outputs": [],
   "source": [
    "# plt.figure(figsize=(14,9))\n",
    "# for arr in [flat_list_real]+[flat_list_simu]:\n",
    "#     plt.hist(arr, bins = 14)\n",
    "# plt.xlabel('Degree')\n",
    "# plt.ylabel('Density')"
   ]
  },
  {
   "cell_type": "code",
   "execution_count": 368,
   "metadata": {},
   "outputs": [
    {
     "data": {
      "text/plain": [
       "Text(0, 0.5, 'Density')"
      ]
     },
     "execution_count": 368,
     "metadata": {},
     "output_type": "execute_result"
    },
    {
     "data": {
      "image/png": "[encoded data removed]",
      "text/plain": [
       "<Figure size 1008x648 with 1 Axes>"
      ]
     },
     "metadata": {
      "needs_background": "light"
     },
     "output_type": "display_data"
    }
   ],
   "source": [
    "plt.figure(figsize=(14,9))\n",
    "    \n",
    "plt.hist(flat_list_real, bins = 30,label='Real graph',alpha = 0.5)\n",
    "plt.hist(flat_list_simu_0, bins = 30,label ='noise_1000,outliers_0',alpha = 0.7)\n",
    "plt.hist(flat_list_simu_4, bins = 30,label ='noise_1000,outliers_4',alpha = 0.7)\n",
    "plt.hist(flat_list_simu_8, bins = 30,label ='noise_1000,outliers_8',alpha = 0.7)\n",
    "plt.hist(flat_list_simu_12, bins = 30,label ='noise_1000,outliers_12',alpha = 0.7)\n",
    "plt.hist(flat_list_simu_16, bins = 30,label ='noise_1000,outliers_16',alpha = 0.7)\n",
    "\n",
    "plt.title(\"Degree Density across all the graphs, Simu and Real\")\n",
    "plt.legend(loc='upper right')\n",
    "plt.xlabel('Degree')\n",
    "plt.ylabel('Density')"
   ]
  },
  {
   "cell_type": "code",
   "execution_count": null,
   "metadata": {},
   "outputs": [],
   "source": []
  },
  {
   "cell_type": "code",
   "execution_count": 317,
   "metadata": {},
   "outputs": [],
   "source": [
    "# #simu_graph_names = [name for name in os.listdir(simu_path) if os.path.isdir(simu_path+name)]\n",
    "\n",
    "# color = generate_random_color_codes(2)\n",
    "\n",
    "# #real_graph_names = [\"R_\"+names for names in os.listdir(real_path)]\n",
    "\n",
    "# fig = ff.create_distplot([avg_bins_real]+[avg_bins_simu],[\"real_graph\"] + [\"simu_grpah\"]\n",
    "#                          , show_hist=False,bin_size=.2, colors=color)\n",
    "\n",
    "# # Add title\n",
    "# fig.update_layout(title_text='Average degree for simu graphs and real graphs')\n",
    "# fig.show()"
   ]
  },
  {
   "cell_type": "code",
   "execution_count": 325,
   "metadata": {},
   "outputs": [
    {
     "data": {
      "text/plain": [
       "Text(0, 0.5, 'Density')"
      ]
     },
     "execution_count": 325,
     "metadata": {},
     "output_type": "execute_result"
    },
    {
     "data": {
      "image/png": "[encoded data removed]",
      "text/plain": [
       "<Figure size 1008x648 with 1 Axes>"
      ]
     },
     "metadata": {
      "needs_background": "light"
     },
     "output_type": "display_data"
    }
   ],
   "source": [
    "plt.figure(figsize=(14,9))\n",
    "for arr in [flat_list_real]+[flat_list_simu]:\n",
    "    sns.distplot(arr, hist = False, kde = True,norm_hist = False,rug = True,\n",
    "                 kde_kws = {'shade': True, 'linewidth': 3})\n",
    "plt.title(\"Density plots for degree Simulated Graphs and real\")\n",
    "plt.xlabel('Avg degree across bins')\n",
    "plt.ylabel('Density')"
   ]
  },
  {
   "cell_type": "code",
   "execution_count": 98,
   "metadata": {},
   "outputs": [],
   "source": [
    "#lst = mean_degree_simu[1].copy()\n",
    "# main_list = []\n",
    "# for i in range(len(bins)-1):\n",
    "#     tmp_list = []\n",
    "#     for j in lst:\n",
    "#         if i+1 == (len(bins)-1):\n",
    "#             if bins[i]<= j <= bins[i+1]:\n",
    "#                 tmp_list.append(j)\n",
    "#         else:\n",
    "#             if bins[i]<= j < bins[i+1]:\n",
    "#                 tmp_list.append(j)\n",
    "#     print(tmp_list)\n",
    "#     main_list.append(tmp_list)"
   ]
  },
  {
   "cell_type": "code",
   "execution_count": null,
   "metadata": {},
   "outputs": [],
   "source": []
  },
  {
   "cell_type": "code",
   "execution_count": null,
   "metadata": {},
   "outputs": [],
   "source": []
  },
  {
   "cell_type": "code",
   "execution_count": null,
   "metadata": {},
   "outputs": [],
   "source": []
  },
  {
   "cell_type": "code",
   "execution_count": 15,
   "metadata": {},
   "outputs": [],
   "source": [
    "#values = interval_to_values(mean_degree_simu[0],bins=4)"
   ]
  },
  {
   "cell_type": "code",
   "execution_count": 100,
   "metadata": {},
   "outputs": [],
   "source": [
    "#(n, bins_hist, patches) = plt.hist(mean_degree_simu[0], bins=4, label='hst')"
   ]
  },
  {
   "cell_type": "code",
   "execution_count": null,
   "metadata": {},
   "outputs": [],
   "source": []
  },
  {
   "cell_type": "code",
   "execution_count": null,
   "metadata": {},
   "outputs": [],
   "source": []
  },
  {
   "cell_type": "code",
   "execution_count": null,
   "metadata": {},
   "outputs": [],
   "source": []
  },
  {
   "cell_type": "code",
   "execution_count": 10,
   "metadata": {},
   "outputs": [],
   "source": [
    "geo_dist_all = []\n",
    "mean_geo_simu = []\n",
    "for graph in os.listdir(path):\n",
    "    G = nx.read_gpickle(path + graph) #read the graphs\n",
    "    \n",
    "    mean_geo,std,all_geo = mean_edge_len(G)\n",
    "    \n",
    "    geo_dist_all.append(all_geo)\n",
    "    mean_geo_simu.append(mean_geo)"
   ]
  },
  {
   "cell_type": "code",
   "execution_count": 11,
   "metadata": {},
   "outputs": [],
   "source": [
    "# color = generate_random_color_codes(len(geo_dist_all))\n",
    "# fig = ff.create_distplot(geo_dist_all, os.listdir(path), show_hist=False, colors=color)\n",
    "\n",
    "# # Add title\n",
    "# fig.update_layout(title_text='Geo dist reference graphs')\n",
    "# fig.show()"
   ]
  },
  {
   "cell_type": "code",
   "execution_count": 12,
   "metadata": {},
   "outputs": [],
   "source": [
    "geo_dist_all_real = []\n",
    "mean_geo_real = []\n",
    "for graph in os.listdir(path_real):\n",
    "    G = nx.read_gpickle(path_real + graph) #read the graphs\n",
    "    G = remove_dummy_nodes(G)\n",
    "    G.remove_edges_from(nx.selfloop_edges(G))\n",
    "    mean_geo,std,all_geo = mean_edge_len(G)\n",
    "    geo_dist_all_real.append(all_geo)\n",
    "    mean_geo_real.append(mean_geo)"
   ]
  },
  {
   "cell_type": "code",
   "execution_count": 13,
   "metadata": {},
   "outputs": [],
   "source": [
    "# color = generate_random_color_codes(len(geo_dist_all_real))\n",
    "# fig = ff.create_distplot(geo_dist_all_real, os.listdir(path_real), show_hist=False, colors=color)\n",
    "\n",
    "# # Add title\n",
    "# fig.update_layout(title_text='Geo dist real graphs')\n",
    "# fig.show()"
   ]
  },
  {
   "cell_type": "code",
   "execution_count": 15,
   "metadata": {},
   "outputs": [
    {
     "data": {
      "image/png": "[encoded data removed]",
      "text/plain": [
       "<Figure size 936x576 with 1 Axes>"
      ]
     },
     "metadata": {
      "needs_background": "light"
     },
     "output_type": "display_data"
    }
   ],
   "source": [
    "plt.figure(figsize=(13,8))\n",
    "bins = 80\n",
    "#mean_geo = [mean_geo_simu,mean_geo_real]\n",
    "\n",
    "plt.hist(mean_geo_simu, bins, alpha=0.8, label='Mean geo Simu')\n",
    "plt.hist(mean_geo_real, bins, alpha=0.6, label='Mean geo real')\n",
    "plt.legend(loc='upper right')\n",
    "plt.xlabel('mean geo real and simu')\n",
    "plt.ylabel('Density')\n",
    "plt.show()"
   ]
  },
  {
   "cell_type": "code",
   "execution_count": null,
   "metadata": {},
   "outputs": [],
   "source": []
  },
  {
   "cell_type": "code",
   "execution_count": null,
   "metadata": {},
   "outputs": [],
   "source": []
  },
  {
   "cell_type": "code",
   "execution_count": null,
   "metadata": {},
   "outputs": [],
   "source": []
  },
  {
   "cell_type": "code",
   "execution_count": 16,
   "metadata": {},
   "outputs": [],
   "source": [
    "min_real_list = []\n",
    "for i in geo_dist_all_real:\n",
    "    min_real_list.append(min(i))"
   ]
  },
  {
   "cell_type": "code",
   "execution_count": 17,
   "metadata": {},
   "outputs": [],
   "source": [
    "#plt.hist(min_real_list,bins = 30)"
   ]
  },
  {
   "cell_type": "code",
   "execution_count": 18,
   "metadata": {},
   "outputs": [],
   "source": [
    "min_simu_list = []\n",
    "for i in geo_dist_all:\n",
    "    min_simu_list.append(min(i))\n",
    "#plt.hist(min_simu_list,bins = 30)"
   ]
  },
  {
   "cell_type": "code",
   "execution_count": 19,
   "metadata": {},
   "outputs": [
    {
     "data": {
      "image/png": "[encoded data removed]",
      "text/plain": [
       "<Figure size 936x576 with 1 Axes>"
      ]
     },
     "metadata": {
      "needs_background": "light"
     },
     "output_type": "display_data"
    }
   ],
   "source": [
    "plt.figure(figsize=(13,8))\n",
    "\n",
    "plt.hist(min_simu_list, bins, alpha=0.7, label='Min geo Simu')\n",
    "plt.hist(min_real_list, bins, alpha=0.7, label='Min geo real')\n",
    "plt.legend(loc='upper right')\n",
    "plt.xlabel('min geodesic distance for simu and real')\n",
    "plt.ylabel('Density')\n",
    "plt.show()    "
   ]
  },
  {
   "cell_type": "code",
   "execution_count": 376,
   "metadata": {},
   "outputs": [],
   "source": [
    "import networkx as nx"
   ]
  },
  {
   "cell_type": "code",
   "execution_count": 373,
   "metadata": {
    "scrolled": true
   },
   "outputs": [
    {
     "data": {
      "text/plain": [
       "array([[0., 0., 0., 0., 0.],\n",
       "       [0., 0., 0., 0., 0.],\n",
       "       [0., 0., 0., 0., 0.],\n",
       "       [0., 0., 0., 0., 0.],\n",
       "       [0., 0., 0., 0., 0.]])"
      ]
     },
     "execution_count": 373,
     "metadata": {},
     "output_type": "execute_result"
    }
   ],
   "source": [
    "np.zeros((5,5))"
   ]
  },
  {
   "cell_type": "code",
   "execution_count": 377,
   "metadata": {},
   "outputs": [],
   "source": [
    "g1 = nx.read_gpickle(\"graph_0.gpickle\")\n",
    "g2 = nx.read_gpickle(\"graph_1.gpickle\")"
   ]
  },
  {
   "cell_type": "code",
   "execution_count": 385,
   "metadata": {},
   "outputs": [],
   "source": [
    "#list(g1.nodes(data=True))"
   ]
  },
  {
   "cell_type": "code",
   "execution_count": 386,
   "metadata": {},
   "outputs": [],
   "source": [
    "#list(g2.nodes(data=True))"
   ]
  },
  {
   "cell_type": "code",
   "execution_count": 387,
   "metadata": {},
   "outputs": [],
   "source": [
    "data = np.load(\"ground_truth.npy\")"
   ]
  },
  {
   "cell_type": "code",
   "execution_count": null,
   "metadata": {},
   "outputs": [],
   "source": []
  },
  {
   "cell_type": "code",
   "execution_count": null,
   "metadata": {},
   "outputs": [],
   "source": []
  }
 ],
 "metadata": {
  "kernelspec": {
   "display_name": "Python 3",
   "language": "python",
   "name": "python3"
  },
  "language_info": {
   "codemirror_mode": {
    "name": "ipython",
    "version": 3
   },
   "file_extension": ".py",
   "mimetype": "text/x-python",
   "name": "python",
   "nbconvert_exporter": "python",
   "pygments_lexer": "ipython3",
   "version": "3.8.3"
  }
 },
 "nbformat": 4,
 "nbformat_minor": 4
}
