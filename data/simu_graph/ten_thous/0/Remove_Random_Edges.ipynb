{
 "cells": [
  {
   "cell_type": "code",
   "execution_count": 1,
   "metadata": {},
   "outputs": [],
   "source": [
    "import sys\n",
    "sys.path.append(\"/home/rohit/PhD_Work/GM_my_version/Graph_matching/\")\n",
    "import networkx as nx\n",
    "import random\n",
    "import os\n",
    "from os import listdir\n",
    "import numpy as np\n",
    "import tools.graph_processing as gp\n",
    "import tools.plotly_extension as tp\n",
    "import plotly.graph_objs as go\n",
    "import matplotlib.pyplot as plt\n",
    "import tools.graph_visu as gv\n",
    "import slam.io as sio"
   ]
  },
  {
   "cell_type": "code",
   "execution_count": 2,
   "metadata": {},
   "outputs": [],
   "source": [
    "# G = nx.complete_graph(10)\n",
    "# nx.draw(G)\n",
    "# len(G.edges())"
   ]
  },
  {
   "cell_type": "code",
   "execution_count": 3,
   "metadata": {},
   "outputs": [],
   "source": [
    "# edge_to_remove = random.sample(list(G.edges),22)\n",
    "# G.remove_edges_from(edge_to_remove)\n",
    "# len(G.edges())"
   ]
  },
  {
   "cell_type": "code",
   "execution_count": 4,
   "metadata": {},
   "outputs": [],
   "source": [
    "mypath = \"/home/rohit/PhD_Work/GM_my_version/Graph_matching/data/simu_graph/ten_thous/0/noise_1200,outliers_16/graphs\""
   ]
  },
  {
   "cell_type": "code",
   "execution_count": 5,
   "metadata": {},
   "outputs": [],
   "source": [
    "def plot_edge_rmv(x,y,label):\n",
    "    plt.plot(x, y,marker=\"o\", label=label)\n",
    "    plt.xlabel(\"Mean across all the nodes\")\n",
    "    plt.ylabel(\"Percentage of edges removed\")\n",
    "    plt.legend(loc=\"upper left\")\n",
    "    plt.show()"
   ]
  },
  {
   "cell_type": "code",
   "execution_count": 6,
   "metadata": {},
   "outputs": [],
   "source": [
    "def edge_len_threshold(G,thr):\n",
    "    \n",
    "    edge_to_add = random.sample(list(graph.edges),round(len(graph.edges)*thr))\n",
    "\n",
    "    return edge_to_add\n"
   ]
  },
  {
   "cell_type": "code",
   "execution_count": null,
   "metadata": {},
   "outputs": [],
   "source": []
  },
  {
   "cell_type": "code",
   "execution_count": 7,
   "metadata": {},
   "outputs": [
    {
     "name": "stdout",
     "output_type": "stream",
     "text": [
      "removal percentage: 0.0\n",
      "removal percentage: 0.03\n",
      "removal percentage: 0.05\n",
      "removal percentage: 0.07\n",
      "removal percentage: 0.09\n",
      "removal percentage: 0.1\n"
     ]
    },
    {
     "data": {
      "image/png": "[encoded data removed]",
      "text/plain": [
       "<Figure size 432x288 with 1 Axes>"
      ]
     },
     "metadata": {
      "needs_background": "light"
     },
     "output_type": "display_data"
    }
   ],
   "source": [
    "per_rmv = [0.0, 0.03, 0.05,0.07,0.09,0.10] # percentage of edges to remove from simulated graph\n",
    "\n",
    "mean_degree_simu = list()\n",
    "\n",
    "for per in per_rmv:\n",
    "\n",
    "    degree_values = 20\n",
    "    # real data\n",
    "    path_to_graphs = '/home/rohit/PhD_Work/GM_my_version/Graph_matching/data/OASIS_full_batch/modified_graphs'\n",
    "\n",
    "    # Get the meshes\n",
    "    list_graphs = gp.load_graphs_in_list(path_to_graphs)\n",
    "    degree_list = list()\n",
    "    fig_labels = list()\n",
    "    for ind, graph in enumerate(list_graphs):\n",
    "        fig_labels.append('graph_'+str(ind))\n",
    "        gp.remove_dummy_nodes(graph)\n",
    "        #print(len(graph.nodes))\n",
    "        graph.remove_edges_from(nx.selfloop_edges(graph))\n",
    "        degree_list.append(list(dict(nx.degree(graph)).values()))\n",
    "    # compute the histos\n",
    "    degree_histo = np.zeros((len(degree_list), degree_values))\n",
    "    for i_d, dist in enumerate(degree_list):\n",
    "        count = np.bincount(dist)\n",
    "        for i,c in enumerate(count):\n",
    "            degree_histo[i_d, i] += c\n",
    "        degree_histo[i_d, :] = degree_histo[i_d, :]/np.sum(count)\n",
    "    # lines for the plot\n",
    "    x = list(range(degree_values))\n",
    "    y = np.mean(degree_histo, 0)\n",
    "    y_upper = y + np.std(degree_histo, 0)\n",
    "    y_lower = y - np.std(degree_histo, 0)\n",
    "    # error plot from real data\n",
    "    fig_c = tp.error_plot(x=x, y=y, y_lower=y_lower, y_upper=y_upper, line_label='degree real data', color='rgb(20, 20, 200)')\n",
    "\n",
    "    #simulated graphs\n",
    "    path_to_graphs = mypath\n",
    "    # Get the meshes\n",
    "\n",
    "\n",
    "    list_graphs = gp.load_graphs_in_list(path_to_graphs)\n",
    "    degree_list_simu = list()\n",
    "    fig_labels = list()\n",
    "    for ind, graph in enumerate(list_graphs):\n",
    "        fig_labels.append('simu_graph_'+str(ind))\n",
    "        gp.remove_dummy_nodes(graph)\n",
    "\n",
    "        # Remove edges\n",
    "        edge_to_remove = edge_len_threshold(graph,per)\n",
    "        graph.remove_edges_from(edge_to_remove)\n",
    "\n",
    "        if nx.is_connected(graph) == False:\n",
    "\n",
    "            print(\"found disconnected components\")\n",
    "\n",
    "        graph.remove_edges_from(nx.selfloop_edges(graph))\n",
    "        degree_list_simu.append(list(dict(nx.degree(graph)).values()))\n",
    "    # compute the histos\n",
    "    degree_histo = np.zeros((len(degree_list_simu), degree_values))\n",
    "    for i_d, dist in enumerate(degree_list_simu):\n",
    "        count = np.bincount(dist)\n",
    "        for i,c in enumerate(count):\n",
    "            degree_histo[i_d, i] += c\n",
    "        degree_histo[i_d, :] = degree_histo[i_d, :]/np.sum(count)\n",
    "    # lines for the plot\n",
    "    y = np.mean(degree_histo, 0)\n",
    "    y_upper = y + np.std(degree_histo, 0)\n",
    "    y_lower = y - np.std(degree_histo, 0)\n",
    "    # error plot from real data\n",
    "    fig_c2 = tp.error_plot(x=x, y=y, y_lower=y_lower, y_upper=y_upper, line_label='degree simus', color='rgb(200, 20, 20)')\n",
    "    fig_c.extend(fig_c2)\n",
    "    fig = go.Figure(fig_c)\n",
    "\n",
    "\n",
    "    fig.update_layout(\n",
    "        yaxis_title='proportion',\n",
    "        title=\"noise_1200,outliers_16\"+\"_removal_percentage_\"+str(per),\n",
    "        hovermode=\"x\"\n",
    "    )\n",
    "    #fig.show(renderer=\"browser\")\n",
    "    fig.write_html('first_figure.html', auto_open=True)\n",
    "\n",
    "    degree_flatten = [elem for lists in degree_list_simu for elem in lists]\n",
    "    mean_degree_simu.append(np.mean(degree_flatten))\n",
    "\n",
    "    print(\"removal percentage:\",per)\n",
    "\n",
    "plot_edge_rmv(mean_degree_simu,per_rmv,\"noise_1200,outliers_16\")\n",
    "\n",
    "\n",
    "    #simu_node_density(path_to_graphs,\"noise_1200,outliers_16\")"
   ]
  },
  {
   "cell_type": "code",
   "execution_count": null,
   "metadata": {},
   "outputs": [],
   "source": []
  },
  {
   "cell_type": "code",
   "execution_count": null,
   "metadata": {},
   "outputs": [],
   "source": []
  },
  {
   "cell_type": "code",
   "execution_count": null,
   "metadata": {},
   "outputs": [],
   "source": []
  },
  {
   "cell_type": "code",
   "execution_count": null,
   "metadata": {},
   "outputs": [],
   "source": []
  },
  {
   "cell_type": "code",
   "execution_count": null,
   "metadata": {},
   "outputs": [],
   "source": []
  }
 ],
 "metadata": {
  "kernelspec": {
   "display_name": "Python 3",
   "language": "python",
   "name": "python3"
  },
  "language_info": {
   "codemirror_mode": {
    "name": "ipython",
    "version": 3
   },
   "file_extension": ".py",
   "mimetype": "text/x-python",
   "name": "python",
   "nbconvert_exporter": "python",
   "pygments_lexer": "ipython3",
   "version": "3.8.3"
  }
 },
 "nbformat": 4,
 "nbformat_minor": 4
}
