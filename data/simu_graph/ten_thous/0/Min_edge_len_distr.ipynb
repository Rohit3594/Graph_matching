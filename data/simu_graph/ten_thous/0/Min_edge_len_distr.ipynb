{
 "cells": [
  {
   "cell_type": "code",
   "execution_count": 1,
   "metadata": {},
   "outputs": [],
   "source": [
    "import os\n",
    "import sys\n",
    "sys.path.append(\"/home/rohit/PhD_Work/GM_my_version/Graph_matching/\")"
   ]
  },
  {
   "cell_type": "code",
   "execution_count": 2,
   "metadata": {},
   "outputs": [],
   "source": [
    "import os\n",
    "import networkx as nx\n",
    "import numpy as np\n",
    "import tools.graph_processing as gp\n",
    "import matplotlib.pyplot as plt\n",
    "import plotly.figure_factory as ff\n",
    "from matplotlib.pyplot import figure"
   ]
  },
  {
   "cell_type": "code",
   "execution_count": 3,
   "metadata": {},
   "outputs": [],
   "source": [
    "# def mean_edge_len(G):\n",
    "    \n",
    "#     all_geo = [z['geodesic_distance'] for x, y, z in list(G.edges.data())]\n",
    "\n",
    "#     return all_geo"
   ]
  },
  {
   "cell_type": "code",
   "execution_count": 68,
   "metadata": {},
   "outputs": [],
   "source": [
    "path_to_graphs = '/home/rohit/PhD_Work/GM_my_version/Graph_matching/data/simu_graph/final_new_simu/0/noise_1400,outliers_18/graphs/'"
   ]
  },
  {
   "cell_type": "code",
   "execution_count": 69,
   "metadata": {},
   "outputs": [],
   "source": [
    "# path_to_real_graphs = '/home/rohit/PhD_Work/GM_my_version/Graph_matching/data/OASIS_full_batch/modified_graphs'"
   ]
  },
  {
   "cell_type": "code",
   "execution_count": 70,
   "metadata": {},
   "outputs": [],
   "source": [
    "list_graphs_simu = gp.load_graphs_in_list(path_to_graphs)"
   ]
  },
  {
   "cell_type": "code",
   "execution_count": 71,
   "metadata": {},
   "outputs": [],
   "source": [
    "# list_graphs_real = gp.load_graphs_in_list(path_to_real_graphs)"
   ]
  },
  {
   "cell_type": "code",
   "execution_count": 72,
   "metadata": {},
   "outputs": [],
   "source": [
    "# len(list_graphs_real)"
   ]
  },
  {
   "cell_type": "code",
   "execution_count": 73,
   "metadata": {},
   "outputs": [],
   "source": [
    "# len(list_graphs_simu)"
   ]
  },
  {
   "cell_type": "code",
   "execution_count": 74,
   "metadata": {},
   "outputs": [],
   "source": [
    "# min_geo_real = []\n",
    "# for graphs in list_graphs:\n",
    "#     z = mean_edge_len(graphs)\n",
    "#     min_geo_real.append(min(z))"
   ]
  },
  {
   "cell_type": "code",
   "execution_count": 75,
   "metadata": {},
   "outputs": [],
   "source": [
    "# min(min_geo_real)"
   ]
  },
  {
   "cell_type": "code",
   "execution_count": 76,
   "metadata": {},
   "outputs": [],
   "source": [
    "# figure(figsize=(11,7))\n",
    "# plt.hist(min_geo_real, density=True, bins=120)  # density=False would make counts\n",
    "# plt.ylabel('density')\n",
    "# plt.xlabel('min_geo_len');"
   ]
  },
  {
   "cell_type": "code",
   "execution_count": 77,
   "metadata": {},
   "outputs": [],
   "source": [
    "# min_geo = []\n",
    "# sorted_graphs = []\n",
    "# for graphs in list_graphs:\n",
    "#     z = mean_edge_len(graphs)\n",
    "    \n",
    "#     if min(z) > 9.5:\n",
    "#         sorted_graphs.append(graphs)\n",
    "        \n",
    "#     min_geo.append(min(z))"
   ]
  },
  {
   "cell_type": "code",
   "execution_count": 78,
   "metadata": {},
   "outputs": [],
   "source": [
    "# len(sorted_graphs)"
   ]
  },
  {
   "cell_type": "code",
   "execution_count": 79,
   "metadata": {},
   "outputs": [],
   "source": [
    "# min_geo_sorted_graphs = []\n",
    "\n",
    "# for g in sorted_graphs:\n",
    "#     min_geo_sorted_graphs.append(min(mean_edge_len(g)))\n",
    "\n",
    "# zipped_lists = zip(min_geo_sorted_graphs, sorted_graphs)\n",
    "# sorted_zipped_lists = sorted(zipped_lists)\n",
    "# sorted_list1 = [element for _, element in sorted_zipped_lists]\n",
    "# #print(sorted_list1)"
   ]
  },
  {
   "cell_type": "code",
   "execution_count": 80,
   "metadata": {},
   "outputs": [],
   "source": [
    "# sorted_zipped_lists[:5]"
   ]
  },
  {
   "cell_type": "code",
   "execution_count": 81,
   "metadata": {
    "scrolled": false
   },
   "outputs": [],
   "source": [
    "# figure(figsize=(11,7))\n",
    "# plt.hist(min_geo, density=True, bins=1000)  # density=False would make counts\n",
    "# plt.ylabel('probability')\n",
    "# plt.xlabel('min_geo_len');"
   ]
  },
  {
   "cell_type": "code",
   "execution_count": 82,
   "metadata": {},
   "outputs": [],
   "source": [
    "#del min_geo"
   ]
  },
  {
   "cell_type": "code",
   "execution_count": 83,
   "metadata": {
    "scrolled": true
   },
   "outputs": [
    {
     "name": "stdout",
     "output_type": "stream",
     "text": [
      "83\n",
      "91\n",
      "89\n",
      "85\n",
      "87\n",
      "92\n",
      "94\n",
      "80\n",
      "89\n",
      "85\n",
      "92\n",
      "89\n",
      "88\n",
      "93\n",
      "82\n",
      "88\n",
      "89\n",
      "89\n",
      "95\n",
      "94\n",
      "91\n",
      "82\n",
      "93\n",
      "89\n",
      "101\n",
      "88\n",
      "94\n",
      "87\n",
      "92\n",
      "86\n",
      "81\n",
      "87\n",
      "91\n",
      "92\n",
      "86\n",
      "89\n",
      "79\n",
      "84\n",
      "88\n",
      "89\n",
      "86\n",
      "101\n",
      "88\n",
      "81\n",
      "86\n",
      "91\n",
      "94\n",
      "86\n",
      "92\n",
      "89\n",
      "81\n",
      "95\n",
      "91\n",
      "91\n",
      "82\n",
      "91\n",
      "94\n",
      "85\n",
      "83\n",
      "90\n",
      "95\n",
      "85\n",
      "89\n",
      "87\n",
      "86\n",
      "86\n",
      "81\n",
      "91\n",
      "95\n",
      "90\n",
      "85\n",
      "83\n",
      "89\n",
      "83\n",
      "93\n",
      "90\n",
      "91\n",
      "86\n",
      "90\n",
      "86\n",
      "91\n",
      "85\n",
      "80\n",
      "83\n",
      "84\n",
      "79\n",
      "83\n",
      "94\n",
      "96\n",
      "89\n",
      "93\n",
      "87\n",
      "87\n",
      "85\n",
      "92\n",
      "89\n",
      "92\n",
      "86\n",
      "84\n",
      "87\n",
      "96\n",
      "89\n",
      "96\n",
      "88\n",
      "97\n",
      "86\n",
      "88\n",
      "83\n",
      "78\n",
      "81\n",
      "91\n",
      "83\n",
      "84\n",
      "94\n",
      "80\n",
      "92\n",
      "94\n",
      "86\n",
      "89\n",
      "97\n",
      "91\n",
      "96\n",
      "83\n",
      "89\n",
      "89\n",
      "93\n",
      "94\n",
      "85\n",
      "91\n",
      "83\n",
      "77\n",
      "89\n",
      "87\n",
      "86\n"
     ]
    }
   ],
   "source": [
    "import os\n",
    "import networkx as nx\n",
    "import numpy as np\n",
    "import tools.graph_processing as gp\n",
    "import tools.plotly_extension as tp\n",
    "import plotly.graph_objs as go\n",
    "\n",
    "def mean_edge_len(G):\n",
    "    \n",
    "    all_geo = [z['geodesic_distance'] for x,y,z in list(G.edges.data())]\n",
    "    mean_geo = np.array(all_geo).mean()\n",
    "    std = np.std(all_geo)\n",
    "    \n",
    "    return all_geo\n",
    "\n",
    "\n",
    "if __name__ == \"__main__\":\n",
    "    max_geo_values = 200\n",
    "    nb_bins = 200\n",
    "    # real data\n",
    "    path_to_graphs = '/home/rohit/PhD_Work/GM_my_version/Graph_matching/data/OASIS_full_batch/modified_graphs'\n",
    "\n",
    "    # Get the meshes\n",
    "    list_graphs = gp.load_graphs_in_list(path_to_graphs)\n",
    "    geo_list = list()\n",
    "    fig_labels = list()\n",
    "\n",
    "    for ind, graph in enumerate(list_graphs):\n",
    "        fig_labels.append('graph_'+str(ind))\n",
    "        gp.remove_dummy_nodes(graph)\n",
    "        print(len(graph.nodes))\n",
    "        graph.remove_edges_from(nx.selfloop_edges(graph))\n",
    "        geo_list.append(mean_edge_len(graph))\n",
    "    # compute the histos\n",
    "    \n",
    "    bins = np.arange(0, max_geo_values, max_geo_values/nb_bins)\n",
    "    geo_histo = list()\n",
    "    \n",
    "    for i_d, dist in enumerate(geo_list):\n",
    "        \n",
    "        hist, bin_edges = np.histogram(dist, bins, density=True)\n",
    "        geo_histo.append(hist)\n",
    "        \n",
    "    \n",
    "    # lines for the plot\n",
    "    y = np.mean(geo_histo, 0)\n",
    "    y_upper = y + np.std(geo_histo, 0)\n",
    "    y_lower = y - np.std(geo_histo, 0)\n",
    "    # error plot from real data\n",
    "    fig_c = tp.error_plot(x=bins, y=y, y_lower=y_lower, y_upper=y_upper, line_label='geo real data', color='rgb(20, 20, 200)')\n",
    "\n",
    "    \n",
    "    \n",
    "    list_graphs = list_graphs_simu\n",
    "    geo_list = list()\n",
    "    fig_labels = list()\n",
    "    for ind, graph in enumerate(list_graphs):\n",
    "        fig_labels.append('simu_graph_'+str(ind))\n",
    "        gp.remove_dummy_nodes(graph)\n",
    "        #print(len(graph.nodes))\n",
    "        graph.remove_edges_from(nx.selfloop_edges(graph))\n",
    "        geo_list.append(mean_edge_len(graph))\n",
    "    # compute the histos\n",
    "    bins = np.arange(0, max_geo_values, max_geo_values/nb_bins)\n",
    "    geo_histo = list()\n",
    "    \n",
    "    for i_d, dist in enumerate(geo_list):\n",
    "        \n",
    "        hist, bin_edges = np.histogram(dist, bins, density=True)\n",
    "        geo_histo.append(hist)\n",
    "        \n",
    "    # lines for the plot\n",
    "    y = np.mean(geo_histo, 0)\n",
    "    y_upper = y + np.std(geo_histo, 0)\n",
    "    y_lower = y - np.std(geo_histo, 0)\n",
    "    # error plot from real data\n",
    "    fig_c2 = tp.error_plot(x=bins, y=y, y_lower=y_lower, y_upper=y_upper, line_label='geo simus', color='rgb(200, 20, 20)')\n",
    "    fig_c.extend(fig_c2)\n",
    "    fig = go.Figure(fig_c)\n",
    "\n",
    "\n",
    "    fig.update_layout(\n",
    "        yaxis_title='proportion',\n",
    "        title='distribution of geodesic_distance noise_1200,outliers_0',\n",
    "        hovermode=\"x\"\n",
    "    )\n",
    "    #fig.show(renderer=\"browser\")\n",
    "    fig.write_html('first_figure.html', auto_open=True)\n"
   ]
  },
  {
   "cell_type": "code",
   "execution_count": null,
   "metadata": {},
   "outputs": [],
   "source": []
  },
  {
   "cell_type": "code",
   "execution_count": null,
   "metadata": {},
   "outputs": [],
   "source": [
    "# hist_data = [mean_edge_len(g) for g in sorted_graphs]\n",
    "    \n",
    "# group_labels = [str(i) for i in range(14)]\n",
    "    \n",
    "# fig = ff.create_distplot(hist_data, group_labels, show_hist=False)\n",
    "\n",
    "# fig.write_html('first_figure.html', auto_open=True)"
   ]
  },
  {
   "cell_type": "code",
   "execution_count": null,
   "metadata": {},
   "outputs": [],
   "source": [
    "gt = np.load('/home/rohit/PhD_Work/GM_my_version/Graph_matching/data/simu_graph/0/old/0/noise_1200,outliers_0/ground_truth.npy')"
   ]
  },
  {
   "cell_type": "code",
   "execution_count": null,
   "metadata": {},
   "outputs": [],
   "source": []
  },
  {
   "cell_type": "code",
   "execution_count": null,
   "metadata": {},
   "outputs": [],
   "source": []
  },
  {
   "cell_type": "code",
   "execution_count": null,
   "metadata": {},
   "outputs": [],
   "source": []
  },
  {
   "cell_type": "code",
   "execution_count": null,
   "metadata": {},
   "outputs": [],
   "source": []
  },
  {
   "cell_type": "code",
   "execution_count": null,
   "metadata": {},
   "outputs": [],
   "source": []
  },
  {
   "cell_type": "code",
   "execution_count": null,
   "metadata": {},
   "outputs": [],
   "source": []
  },
  {
   "cell_type": "code",
   "execution_count": null,
   "metadata": {},
   "outputs": [],
   "source": []
  }
 ],
 "metadata": {
  "kernelspec": {
   "display_name": "Python 3",
   "language": "python",
   "name": "python3"
  },
  "language_info": {
   "codemirror_mode": {
    "name": "ipython",
    "version": 3
   },
   "file_extension": ".py",
   "mimetype": "text/x-python",
   "name": "python",
   "nbconvert_exporter": "python",
   "pygments_lexer": "ipython3",
   "version": "3.8.3"
  }
 },
 "nbformat": 4,
 "nbformat_minor": 4
}
