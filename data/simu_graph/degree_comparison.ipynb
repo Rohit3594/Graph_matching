{
 "cells": [
  {
   "cell_type": "code",
   "execution_count": 1,
   "metadata": {},
   "outputs": [],
   "source": [
    "import sys\n",
    "sys.path.append(\"/home/rohit/PhD_Work/GM_my_version/Graph_matching/\")"
   ]
  },
  {
   "cell_type": "code",
   "execution_count": 2,
   "metadata": {
    "scrolled": false
   },
   "outputs": [],
   "source": [
    "import os\n",
    "import networkx as nx\n",
    "import numpy as np\n",
    "import tools.graph_processing as gp\n",
    "import tools.plotly_extension as tp\n",
    "import plotly.graph_objs as go\n",
    "from os import listdir\n",
    "from os.path import isfile, join\n",
    "import matplotlib.pyplot as plt\n",
    "import tools.graph_visu as gv\n",
    "import slam.io as sio"
   ]
  },
  {
   "cell_type": "code",
   "execution_count": 3,
   "metadata": {},
   "outputs": [],
   "source": [
    "# def compare_degree_real_simu(path_to_simu):\n",
    "    \n",
    "#     degree_values = 20\n",
    "#     # real data\n",
    "#     path_to_graphs = '/home/rohit/PhD_Work/GM_my_version/Graph_matching/data/OASIS_full_batch/modified_graphs'\n",
    "\n",
    "#     # Get the meshes\n",
    "#     list_graphs = gp.load_graphs_in_list(path_to_graphs)\n",
    "#     degree_list = list()\n",
    "#     fig_labels = list()\n",
    "#     for ind, graph in enumerate(list_graphs):\n",
    "#         fig_labels.append('graph_'+str(ind))\n",
    "#         gp.remove_dummy_nodes(graph)\n",
    "#         print(len(graph.nodes))\n",
    "#         graph.remove_edges_from(nx.selfloop_edges(graph))\n",
    "#         degree_list.append(list(dict(nx.degree(graph)).values()))\n",
    "#     # compute the histos\n",
    "#     degree_histo = np.zeros((len(degree_list), degree_values))\n",
    "#     for i_d, dist in enumerate(degree_list):\n",
    "#         count = np.bincount(dist)\n",
    "#         for i,c in enumerate(count):\n",
    "#             degree_histo[i_d, i] += c\n",
    "#         degree_histo[i_d, :] = degree_histo[i_d, :]/np.sum(count)\n",
    "#     # lines for the plot\n",
    "#     x = list(range(degree_values))\n",
    "#     y = np.mean(degree_histo, 0)\n",
    "#     y_upper = y + np.std(degree_histo, 0)\n",
    "#     y_lower = y - np.std(degree_histo, 0)\n",
    "#     # error plot from real data\n",
    "#     fig_c = tp.error_plot(x=x, y=y, y_lower=y_lower, y_upper=y_upper, line_label='degree real data', color='rgb(20, 20, 200)')\n",
    "\n",
    "#     #simulated graphs\n",
    "    \n",
    "#     path_to_graphs = path_to_simu  # path\n",
    "    \n",
    "#         # Get the meshes\n",
    "#     list_graphs = gp.load_graphs_in_list(path_to_graphs)\n",
    "#     degree_list = list()\n",
    "#     fig_labels = list()\n",
    "#     for ind, graph in enumerate(list_graphs):\n",
    "#         fig_labels.append('simu_graph_'+str(ind))\n",
    "#         gp.remove_dummy_nodes(graph)\n",
    "#         print(len(graph.nodes))\n",
    "#         graph.remove_edges_from(nx.selfloop_edges(graph))\n",
    "#         degree_list.append(list(dict(nx.degree(graph)).values()))\n",
    "#     # compute the histos\n",
    "#     degree_histo = np.zeros((len(degree_list), degree_values))\n",
    "#     for i_d, dist in enumerate(degree_list):\n",
    "#         count = np.bincount(dist)\n",
    "#         for i,c in enumerate(count):\n",
    "#             degree_histo[i_d, i] += c\n",
    "#         degree_histo[i_d, :] = degree_histo[i_d, :]/np.sum(count)\n",
    "#     # lines for the plot\n",
    "#     y = np.mean(degree_histo, 0)\n",
    "#     y_upper = y + np.std(degree_histo, 0)\n",
    "#     y_lower = y - np.std(degree_histo, 0)\n",
    "#     # error plot from real data\n",
    "#     fig_c2 = tp.error_plot(x=x, y=y, y_lower=y_lower, y_upper=y_upper, line_label='degree simus', color='rgb(200, 20, 20)')\n",
    "#     fig_c.extend(fig_c2)\n",
    "#     fig = go.Figure(fig_c)"
   ]
  },
  {
   "cell_type": "code",
   "execution_count": 4,
   "metadata": {},
   "outputs": [
    {
     "name": "stdout",
     "output_type": "stream",
     "text": [
      "['test', 'trials']\n"
     ]
    }
   ],
   "source": [
    "import os\n",
    "from os import listdir\n",
    "from os.path import isfile, join\n",
    "\n",
    "mypath = \"./0/\"\n",
    "\n",
    "directories = listdir(mypath)\n",
    "directories.sort()\n",
    "\n",
    "print(directories[0:5])\n"
   ]
  },
  {
   "cell_type": "code",
   "execution_count": 5,
   "metadata": {},
   "outputs": [],
   "source": [
    "# fixed_path = './0/'\n",
    "# #for file in directories:"
   ]
  },
  {
   "cell_type": "code",
   "execution_count": 6,
   "metadata": {
    "scrolled": true
   },
   "outputs": [],
   "source": [
    "def simu_node_density(path_to_graphs,file):\n",
    "    \n",
    "    file_template_mesh = '/home/rohit/PhD_Work/GM_my_version/Graph_matching/data/template_mesh/lh.OASIS_testGrp_average_inflated.gii'\n",
    "    file_sphere_mesh = '/home/rohit/PhD_Work/GM_my_version/Graph_matching/data/template_mesh/ico100_7.gii'\n",
    "    #simus_run = 0\n",
    "    #path_to_graphs = '../data/simu_graph/noise_70,outliers_0/'+str(simus_run)+'/graphs'\n",
    "    path_to_graphs = path_to_graphs\n",
    "    list_graphs = gp.load_graphs_in_list(path_to_graphs)\n",
    "    # path_ref_graph = '../data/simu_graph/noise_0,outliers_0/'+str(simus_run)+'/ground_truth.gpickle'\n",
    "    # graph_ref = nx.read_gpickle(path_ref_graph)\n",
    "    # list_graphs.append(graph_ref)\n",
    "\n",
    "    print(len(list_graphs),file)\n",
    "    # Get the meshes\n",
    "    sphere_mesh = sio.load_mesh(file_sphere_mesh)\n",
    "    mesh = gv.reg_mesh(sio.load_mesh(file_template_mesh))\n",
    "    for graph in list_graphs:\n",
    "        gp.remove_dummy_nodes(graph)\n",
    "        #print(len(graph.nodes))\n",
    "        gp.sphere_nearest_neighbor_interpolation(graph, sphere_mesh)\n",
    "\n",
    "    density_map = gv.nodes_density_map(list_graphs, mesh, nb_iter=3, dt=0.5)\n",
    "\n",
    "#     plt.figure()\n",
    "#     plt.hist(density_map, bins=50)\n",
    "#     plt.show()\n",
    "\n",
    "    visb_sc = gv.visbrain_plot(mesh=mesh,\n",
    "                            tex=density_map,\n",
    "                            caption='density map',\n",
    "                            cmap=\"jet\",\n",
    "                            clim=(0, 0.03)) #clim = cmap range, default = (min(data), max(data))\n",
    "\n",
    "\n",
    "\n",
    "    visb_sc.preview()\n",
    "    "
   ]
  },
  {
   "cell_type": "code",
   "execution_count": 11,
   "metadata": {},
   "outputs": [
    {
     "data": {
      "text/plain": [
       "['noise_1000,outliers_0',\n",
       " 'noise_1000,outliers_12',\n",
       " 'noise_1000,outliers_16',\n",
       " 'noise_1000,outliers_4',\n",
       " 'noise_1000,outliers_8',\n",
       " 'noise_1200,outliers_0',\n",
       " 'noise_1200,outliers_12',\n",
       " 'noise_1200,outliers_16',\n",
       " 'noise_1200,outliers_4',\n",
       " 'noise_1200,outliers_8',\n",
       " 'noise_1400,outliers_0',\n",
       " 'noise_1400,outliers_12',\n",
       " 'noise_1400,outliers_16',\n",
       " 'noise_1400,outliers_4',\n",
       " 'noise_1400,outliers_8',\n",
       " 'noise_200,outliers_0',\n",
       " 'noise_200,outliers_12',\n",
       " 'noise_200,outliers_16',\n",
       " 'noise_200,outliers_4',\n",
       " 'noise_200,outliers_8',\n",
       " 'noise_400,outliers_0',\n",
       " 'noise_400,outliers_12',\n",
       " 'noise_400,outliers_16',\n",
       " 'noise_400,outliers_4',\n",
       " 'noise_400,outliers_8',\n",
       " 'noise_600,outliers_0',\n",
       " 'noise_600,outliers_12',\n",
       " 'noise_600,outliers_16',\n",
       " 'noise_600,outliers_4',\n",
       " 'noise_600,outliers_8',\n",
       " 'noise_800,outliers_0',\n",
       " 'noise_800,outliers_12',\n",
       " 'noise_800,outliers_16',\n",
       " 'noise_800,outliers_4',\n",
       " 'noise_800,outliers_8',\n",
       " 'reference_0.gpickle']"
      ]
     },
     "execution_count": 11,
     "metadata": {},
     "output_type": "execute_result"
    }
   ],
   "source": [
    "directories"
   ]
  },
  {
   "cell_type": "code",
   "execution_count": 7,
   "metadata": {
    "scrolled": true
   },
   "outputs": [
    {
     "name": "stdout",
     "output_type": "stream",
     "text": [
      "134 noise_1000,outliers_0\n",
      "    Smoothing texture\n",
      "  Computing Laplacian\n",
      "    Computing mesh weights of type fem\n",
      "    -edge length threshold needed for  0  values =  0.0  %\n",
      "    -number of Nan in weights:  0  =  0.0  %\n",
      "    -number of Negative values in weights:  16032  =  6.5234375  %\n",
      "    -nb Nan in Laplacian :  0\n",
      "    -nb Inf in Laplacian :  0\n"
     ]
    },
    {
     "name": "stderr",
     "output_type": "stream",
     "text": [
      "BrainObj(name='gui') created\n"
     ]
    },
    {
     "name": "stdout",
     "output_type": "stream",
     "text": [
      "0\n",
      "1\n",
      "2\n",
      "    OK\n"
     ]
    },
    {
     "ename": "KeyboardInterrupt",
     "evalue": "",
     "output_type": "error",
     "traceback": [
      "\u001b[0;31m---------------------------------------------------------------------------\u001b[0m",
      "\u001b[0;31mKeyboardInterrupt\u001b[0m                         Traceback (most recent call last)",
      "\u001b[0;32m<ipython-input-7-3ea79d1b841f>\u001b[0m in \u001b[0;36m<module>\u001b[0;34m\u001b[0m\n\u001b[1;32m     74\u001b[0m     \u001b[0mfig\u001b[0m\u001b[0;34m.\u001b[0m\u001b[0mwrite_html\u001b[0m\u001b[0;34m(\u001b[0m\u001b[0;34m'first_figure.html'\u001b[0m\u001b[0;34m,\u001b[0m \u001b[0mauto_open\u001b[0m\u001b[0;34m=\u001b[0m\u001b[0;32mTrue\u001b[0m\u001b[0;34m)\u001b[0m\u001b[0;34m\u001b[0m\u001b[0;34m\u001b[0m\u001b[0m\n\u001b[1;32m     75\u001b[0m \u001b[0;34m\u001b[0m\u001b[0m\n\u001b[0;32m---> 76\u001b[0;31m     \u001b[0msimu_node_density\u001b[0m\u001b[0;34m(\u001b[0m\u001b[0mpath_to_graphs\u001b[0m\u001b[0;34m,\u001b[0m\u001b[0mfile\u001b[0m\u001b[0;34m)\u001b[0m\u001b[0;34m\u001b[0m\u001b[0;34m\u001b[0m\u001b[0m\n\u001b[0m",
      "\u001b[0;32m<ipython-input-6-5e706fb574f1>\u001b[0m in \u001b[0;36msimu_node_density\u001b[0;34m(path_to_graphs, file)\u001b[0m\n\u001b[1;32m     26\u001b[0m \u001b[0;31m#     plt.show()\u001b[0m\u001b[0;34m\u001b[0m\u001b[0;34m\u001b[0m\u001b[0;34m\u001b[0m\u001b[0m\n\u001b[1;32m     27\u001b[0m \u001b[0;34m\u001b[0m\u001b[0m\n\u001b[0;32m---> 28\u001b[0;31m     visb_sc = gv.visbrain_plot(mesh=mesh,\n\u001b[0m\u001b[1;32m     29\u001b[0m                             \u001b[0mtex\u001b[0m\u001b[0;34m=\u001b[0m\u001b[0mdensity_map\u001b[0m\u001b[0;34m,\u001b[0m\u001b[0;34m\u001b[0m\u001b[0;34m\u001b[0m\u001b[0m\n\u001b[1;32m     30\u001b[0m                             \u001b[0mcaption\u001b[0m\u001b[0;34m=\u001b[0m\u001b[0;34m'density map'\u001b[0m\u001b[0;34m,\u001b[0m\u001b[0;34m\u001b[0m\u001b[0;34m\u001b[0m\u001b[0m\n",
      "\u001b[0;32m~/PhD_Work/GM_my_version/Graph_matching/tools/graph_visu.py\u001b[0m in \u001b[0;36mvisbrain_plot\u001b[0;34m(mesh, tex, caption, cblabel, visb_sc, cmap, clim)\u001b[0m\n\u001b[1;32m    122\u001b[0m     \"\"\"\n\u001b[1;32m    123\u001b[0m     \u001b[0;32mfrom\u001b[0m \u001b[0mvisbrain\u001b[0m\u001b[0;34m.\u001b[0m\u001b[0mobjects\u001b[0m \u001b[0;32mimport\u001b[0m \u001b[0mBrainObj\u001b[0m\u001b[0;34m,\u001b[0m \u001b[0mColorbarObj\u001b[0m\u001b[0;34m,\u001b[0m \u001b[0mSceneObj\u001b[0m\u001b[0;34m\u001b[0m\u001b[0;34m\u001b[0m\u001b[0m\n\u001b[0;32m--> 124\u001b[0;31m     b_obj = BrainObj('gui', vertices=np.array(mesh.vertices),\n\u001b[0m\u001b[1;32m    125\u001b[0m                      \u001b[0mfaces\u001b[0m\u001b[0;34m=\u001b[0m\u001b[0mnp\u001b[0m\u001b[0;34m.\u001b[0m\u001b[0marray\u001b[0m\u001b[0;34m(\u001b[0m\u001b[0mmesh\u001b[0m\u001b[0;34m.\u001b[0m\u001b[0mfaces\u001b[0m\u001b[0;34m)\u001b[0m\u001b[0;34m,\u001b[0m\u001b[0;34m\u001b[0m\u001b[0;34m\u001b[0m\u001b[0m\n\u001b[1;32m    126\u001b[0m                      \u001b[0mtranslucent\u001b[0m\u001b[0;34m=\u001b[0m\u001b[0;32mFalse\u001b[0m\u001b[0;34m,\u001b[0m\u001b[0;34m\u001b[0m\u001b[0;34m\u001b[0m\u001b[0m\n",
      "\u001b[0;32m~/anaconda3/lib/python3.8/site-packages/visbrain/objects/brain_obj.py\u001b[0m in \u001b[0;36m__init__\u001b[0;34m(self, name, vertices, faces, normals, lr_index, hemisphere, translucent, sulcus, invert_normals, transform, parent, verbose, _scale, **kw)\u001b[0m\n\u001b[1;32m    117\u001b[0m         \u001b[0;32melif\u001b[0m \u001b[0;34m'.gii'\u001b[0m \u001b[0;32min\u001b[0m \u001b[0mname\u001b[0m\u001b[0;34m:\u001b[0m\u001b[0;34m\u001b[0m\u001b[0;34m\u001b[0m\u001b[0m\n\u001b[1;32m    118\u001b[0m             \u001b[0;32mpass\u001b[0m\u001b[0;34m\u001b[0m\u001b[0;34m\u001b[0m\u001b[0m\n\u001b[0;32m--> 119\u001b[0;31m         self.set_data(name, vertices, faces, normals, lr_index, hemisphere,\n\u001b[0m\u001b[1;32m    120\u001b[0m                       invert_normals, sulcus)\n\u001b[1;32m    121\u001b[0m         \u001b[0mself\u001b[0m\u001b[0;34m.\u001b[0m\u001b[0mtranslucent\u001b[0m \u001b[0;34m=\u001b[0m \u001b[0mtranslucent\u001b[0m\u001b[0;34m\u001b[0m\u001b[0;34m\u001b[0m\u001b[0m\n",
      "\u001b[0;32m~/anaconda3/lib/python3.8/site-packages/visbrain/objects/brain_obj.py\u001b[0m in \u001b[0;36mset_data\u001b[0;34m(self, name, vertices, faces, normals, lr_index, hemisphere, invert_normals, sulcus)\u001b[0m\n\u001b[1;32m    167\u001b[0m             \u001b[0msulcus\u001b[0m \u001b[0;34m=\u001b[0m \u001b[0;32mNone\u001b[0m\u001b[0;34m\u001b[0m\u001b[0;34m\u001b[0m\u001b[0m\n\u001b[1;32m    168\u001b[0m \u001b[0;34m\u001b[0m\u001b[0m\n\u001b[0;32m--> 169\u001b[0;31m         self._define_mesh(vertices, faces, normals, lr_index, hemisphere,\n\u001b[0m\u001b[1;32m    170\u001b[0m                           invert_normals, sulcus)\n\u001b[1;32m    171\u001b[0m \u001b[0;34m\u001b[0m\u001b[0m\n",
      "\u001b[0;32m~/anaconda3/lib/python3.8/site-packages/visbrain/objects/brain_obj.py\u001b[0m in \u001b[0;36m_define_mesh\u001b[0;34m(self, vertices, faces, normals, lr_index, hemisphere, invert_normals, sulcus)\u001b[0m\n\u001b[1;32m    199\u001b[0m         \u001b[0;32mif\u001b[0m \u001b[0;32mnot\u001b[0m \u001b[0mhasattr\u001b[0m\u001b[0;34m(\u001b[0m\u001b[0mself\u001b[0m\u001b[0;34m,\u001b[0m \u001b[0;34m'mesh'\u001b[0m\u001b[0;34m)\u001b[0m\u001b[0;34m:\u001b[0m\u001b[0;34m\u001b[0m\u001b[0;34m\u001b[0m\u001b[0m\n\u001b[1;32m    200\u001b[0m             \u001b[0;31m# Mesh brain :\u001b[0m\u001b[0;34m\u001b[0m\u001b[0;34m\u001b[0m\u001b[0;34m\u001b[0m\u001b[0m\n\u001b[0;32m--> 201\u001b[0;31m             self.mesh = BrainMesh(vertices=vertices, faces=faces,\n\u001b[0m\u001b[1;32m    202\u001b[0m                                   \u001b[0mnormals\u001b[0m\u001b[0;34m=\u001b[0m\u001b[0mnormals\u001b[0m\u001b[0;34m,\u001b[0m \u001b[0mlr_index\u001b[0m\u001b[0;34m=\u001b[0m\u001b[0mlr_index\u001b[0m\u001b[0;34m,\u001b[0m\u001b[0;34m\u001b[0m\u001b[0;34m\u001b[0m\u001b[0m\n\u001b[1;32m    203\u001b[0m                                   \u001b[0mhemisphere\u001b[0m\u001b[0;34m=\u001b[0m\u001b[0mhemisphere\u001b[0m\u001b[0;34m,\u001b[0m \u001b[0mparent\u001b[0m\u001b[0;34m=\u001b[0m\u001b[0mself\u001b[0m\u001b[0;34m.\u001b[0m\u001b[0m_node\u001b[0m\u001b[0;34m,\u001b[0m\u001b[0;34m\u001b[0m\u001b[0;34m\u001b[0m\u001b[0m\n",
      "\u001b[0;32m~/anaconda3/lib/python3.8/site-packages/vispy/scene/visuals.py\u001b[0m in \u001b[0;36m__init__\u001b[0;34m(self, *args, **kwargs)\u001b[0m\n\u001b[1;32m    125\u001b[0m         \u001b[0mself\u001b[0m\u001b[0;34m.\u001b[0m\u001b[0m_visual_superclass\u001b[0m \u001b[0;34m=\u001b[0m \u001b[0msubclass\u001b[0m\u001b[0;34m\u001b[0m\u001b[0;34m\u001b[0m\u001b[0m\n\u001b[1;32m    126\u001b[0m \u001b[0;34m\u001b[0m\u001b[0m\n\u001b[0;32m--> 127\u001b[0;31m         \u001b[0msubclass\u001b[0m\u001b[0;34m.\u001b[0m\u001b[0m__init__\u001b[0m\u001b[0;34m(\u001b[0m\u001b[0mself\u001b[0m\u001b[0;34m,\u001b[0m \u001b[0;34m*\u001b[0m\u001b[0margs\u001b[0m\u001b[0;34m,\u001b[0m \u001b[0;34m**\u001b[0m\u001b[0mkwargs\u001b[0m\u001b[0;34m)\u001b[0m\u001b[0;34m\u001b[0m\u001b[0;34m\u001b[0m\u001b[0m\n\u001b[0m\u001b[1;32m    128\u001b[0m         \u001b[0mself\u001b[0m\u001b[0;34m.\u001b[0m\u001b[0munfreeze\u001b[0m\u001b[0;34m(\u001b[0m\u001b[0;34m)\u001b[0m\u001b[0;34m\u001b[0m\u001b[0;34m\u001b[0m\u001b[0m\n\u001b[1;32m    129\u001b[0m         \u001b[0mVisualNode\u001b[0m\u001b[0;34m.\u001b[0m\u001b[0m__init__\u001b[0m\u001b[0;34m(\u001b[0m\u001b[0mself\u001b[0m\u001b[0;34m,\u001b[0m \u001b[0mparent\u001b[0m\u001b[0;34m=\u001b[0m\u001b[0mparent\u001b[0m\u001b[0;34m,\u001b[0m \u001b[0mname\u001b[0m\u001b[0;34m=\u001b[0m\u001b[0mname\u001b[0m\u001b[0;34m)\u001b[0m\u001b[0;34m\u001b[0m\u001b[0;34m\u001b[0m\u001b[0m\n",
      "\u001b[0;32m~/anaconda3/lib/python3.8/site-packages/visbrain/visuals/brain_visual.py\u001b[0m in \u001b[0;36m__init__\u001b[0;34m(self, vertices, faces, normals, lr_index, hemisphere, sulcus, alpha, mask_color, camera, meshdata, invert_normals)\u001b[0m\n\u001b[1;32m    235\u001b[0m         \u001b[0;31m# _________________ DATA / CAMERA / LIGHT _________________\u001b[0m\u001b[0;34m\u001b[0m\u001b[0;34m\u001b[0m\u001b[0;34m\u001b[0m\u001b[0m\n\u001b[1;32m    236\u001b[0m         \u001b[0;31m# Data :\u001b[0m\u001b[0;34m\u001b[0m\u001b[0;34m\u001b[0m\u001b[0;34m\u001b[0m\u001b[0m\n\u001b[0;32m--> 237\u001b[0;31m         self.set_data(vertices, faces, normals, hemisphere, lr_index,\n\u001b[0m\u001b[1;32m    238\u001b[0m                       invert_normals, sulcus, meshdata)\n\u001b[1;32m    239\u001b[0m         \u001b[0;31m# Camera :\u001b[0m\u001b[0;34m\u001b[0m\u001b[0;34m\u001b[0m\u001b[0;34m\u001b[0m\u001b[0m\n",
      "\u001b[0;32m~/anaconda3/lib/python3.8/site-packages/visbrain/visuals/brain_visual.py\u001b[0m in \u001b[0;36mset_data\u001b[0;34m(self, vertices, faces, normals, hemisphere, lr_index, invert_normals, sulcus, meshdata)\u001b[0m\n\u001b[1;32m    283\u001b[0m         \"\"\"\n\u001b[1;32m    284\u001b[0m         \u001b[0;31m# ____________________ VERTICES / FACES / NORMALS ____________________\u001b[0m\u001b[0;34m\u001b[0m\u001b[0;34m\u001b[0m\u001b[0;34m\u001b[0m\u001b[0m\n\u001b[0;32m--> 285\u001b[0;31m         vertices, faces, normals = convert_meshdata(vertices, faces, normals,\n\u001b[0m\u001b[1;32m    286\u001b[0m                                                     meshdata, invert_normals)\n\u001b[1;32m    287\u001b[0m         \u001b[0mself\u001b[0m\u001b[0;34m.\u001b[0m\u001b[0m_vertices\u001b[0m \u001b[0;34m=\u001b[0m \u001b[0mvertices\u001b[0m\u001b[0;34m\u001b[0m\u001b[0;34m\u001b[0m\u001b[0m\n",
      "\u001b[0;32m~/anaconda3/lib/python3.8/site-packages/visbrain/utils/mesh.py\u001b[0m in \u001b[0;36mconvert_meshdata\u001b[0;34m(vertices, faces, normals, meshdata, invert_normals, transform)\u001b[0m\n\u001b[1;32m     82\u001b[0m         \u001b[0;32mif\u001b[0m \u001b[0;34m(\u001b[0m\u001b[0mnormals\u001b[0m \u001b[0;32mis\u001b[0m \u001b[0;32mNone\u001b[0m\u001b[0;34m)\u001b[0m \u001b[0;32mor\u001b[0m \u001b[0;34m(\u001b[0m\u001b[0mnormals\u001b[0m\u001b[0;34m.\u001b[0m\u001b[0mndim\u001b[0m \u001b[0;34m!=\u001b[0m \u001b[0;36m2\u001b[0m\u001b[0;34m)\u001b[0m\u001b[0;34m:\u001b[0m\u001b[0;34m\u001b[0m\u001b[0;34m\u001b[0m\u001b[0m\n\u001b[1;32m     83\u001b[0m             \u001b[0mmd\u001b[0m \u001b[0;34m=\u001b[0m \u001b[0mMeshData\u001b[0m\u001b[0;34m(\u001b[0m\u001b[0mvertices\u001b[0m\u001b[0;34m=\u001b[0m\u001b[0mvertices\u001b[0m\u001b[0;34m,\u001b[0m \u001b[0mfaces\u001b[0m\u001b[0;34m=\u001b[0m\u001b[0mfaces\u001b[0m\u001b[0;34m)\u001b[0m\u001b[0;34m\u001b[0m\u001b[0;34m\u001b[0m\u001b[0m\n\u001b[0;32m---> 84\u001b[0;31m             \u001b[0mnormals\u001b[0m \u001b[0;34m=\u001b[0m \u001b[0mmd\u001b[0m\u001b[0;34m.\u001b[0m\u001b[0mget_vertex_normals\u001b[0m\u001b[0;34m(\u001b[0m\u001b[0;34m)\u001b[0m\u001b[0;34m\u001b[0m\u001b[0;34m\u001b[0m\u001b[0m\n\u001b[0m\u001b[1;32m     85\u001b[0m             \u001b[0mlogger\u001b[0m\u001b[0;34m.\u001b[0m\u001b[0mdebug\u001b[0m\u001b[0;34m(\u001b[0m\u001b[0;34m'Indexed faces normals converted // extracted'\u001b[0m\u001b[0;34m)\u001b[0m\u001b[0;34m\u001b[0m\u001b[0;34m\u001b[0m\u001b[0m\n\u001b[1;32m     86\u001b[0m     \u001b[0;32massert\u001b[0m \u001b[0mvertices\u001b[0m\u001b[0;34m.\u001b[0m\u001b[0mndim\u001b[0m \u001b[0;34m==\u001b[0m \u001b[0;36m2\u001b[0m\u001b[0;34m\u001b[0m\u001b[0;34m\u001b[0m\u001b[0m\n",
      "\u001b[0;32m~/anaconda3/lib/python3.8/site-packages/vispy/geometry/meshdata.py\u001b[0m in \u001b[0;36mget_vertex_normals\u001b[0;34m(self, indexed)\u001b[0m\n\u001b[1;32m    331\u001b[0m         \u001b[0;32mif\u001b[0m \u001b[0mself\u001b[0m\u001b[0;34m.\u001b[0m\u001b[0m_vertex_normals\u001b[0m \u001b[0;32mis\u001b[0m \u001b[0;32mNone\u001b[0m\u001b[0;34m:\u001b[0m\u001b[0;34m\u001b[0m\u001b[0;34m\u001b[0m\u001b[0m\n\u001b[1;32m    332\u001b[0m             \u001b[0mfaceNorms\u001b[0m \u001b[0;34m=\u001b[0m \u001b[0mself\u001b[0m\u001b[0;34m.\u001b[0m\u001b[0mget_face_normals\u001b[0m\u001b[0;34m(\u001b[0m\u001b[0;34m)\u001b[0m\u001b[0;34m\u001b[0m\u001b[0;34m\u001b[0m\u001b[0m\n\u001b[0;32m--> 333\u001b[0;31m             \u001b[0mvertFaces\u001b[0m \u001b[0;34m=\u001b[0m \u001b[0mself\u001b[0m\u001b[0;34m.\u001b[0m\u001b[0mget_vertex_faces\u001b[0m\u001b[0;34m(\u001b[0m\u001b[0;34m)\u001b[0m\u001b[0;34m\u001b[0m\u001b[0;34m\u001b[0m\u001b[0m\n\u001b[0m\u001b[1;32m    334\u001b[0m             self._vertex_normals = np.empty(self._vertices.shape,\n\u001b[1;32m    335\u001b[0m                                             dtype=np.float32)\n",
      "\u001b[0;32m~/anaconda3/lib/python3.8/site-packages/vispy/geometry/meshdata.py\u001b[0m in \u001b[0;36mget_vertex_faces\u001b[0;34m(self)\u001b[0m\n\u001b[1;32m    578\u001b[0m             \u001b[0;32mfor\u001b[0m \u001b[0mi\u001b[0m \u001b[0;32min\u001b[0m \u001b[0mxrange\u001b[0m\u001b[0;34m(\u001b[0m\u001b[0mself\u001b[0m\u001b[0;34m.\u001b[0m\u001b[0m_faces\u001b[0m\u001b[0;34m.\u001b[0m\u001b[0mshape\u001b[0m\u001b[0;34m[\u001b[0m\u001b[0;36m0\u001b[0m\u001b[0;34m]\u001b[0m\u001b[0;34m)\u001b[0m\u001b[0;34m:\u001b[0m\u001b[0;34m\u001b[0m\u001b[0;34m\u001b[0m\u001b[0m\n\u001b[1;32m    579\u001b[0m                 \u001b[0mface\u001b[0m \u001b[0;34m=\u001b[0m \u001b[0mself\u001b[0m\u001b[0;34m.\u001b[0m\u001b[0m_faces\u001b[0m\u001b[0;34m[\u001b[0m\u001b[0mi\u001b[0m\u001b[0;34m]\u001b[0m\u001b[0;34m\u001b[0m\u001b[0;34m\u001b[0m\u001b[0m\n\u001b[0;32m--> 580\u001b[0;31m                 \u001b[0;32mfor\u001b[0m \u001b[0mind\u001b[0m \u001b[0;32min\u001b[0m \u001b[0mface\u001b[0m\u001b[0;34m:\u001b[0m\u001b[0;34m\u001b[0m\u001b[0;34m\u001b[0m\u001b[0m\n\u001b[0m\u001b[1;32m    581\u001b[0m                     \u001b[0mself\u001b[0m\u001b[0;34m.\u001b[0m\u001b[0m_vertex_faces\u001b[0m\u001b[0;34m[\u001b[0m\u001b[0mind\u001b[0m\u001b[0;34m]\u001b[0m\u001b[0;34m.\u001b[0m\u001b[0mappend\u001b[0m\u001b[0;34m(\u001b[0m\u001b[0mi\u001b[0m\u001b[0;34m)\u001b[0m\u001b[0;34m\u001b[0m\u001b[0;34m\u001b[0m\u001b[0m\n\u001b[1;32m    582\u001b[0m         \u001b[0;32mreturn\u001b[0m \u001b[0mself\u001b[0m\u001b[0;34m.\u001b[0m\u001b[0m_vertex_faces\u001b[0m\u001b[0;34m\u001b[0m\u001b[0;34m\u001b[0m\u001b[0m\n",
      "\u001b[0;31mKeyboardInterrupt\u001b[0m: "
     ]
    }
   ],
   "source": [
    "for file in directories:\n",
    "    \n",
    "    degree_values = 20\n",
    "    # real data\n",
    "    path_to_graphs = '/home/rohit/PhD_Work/GM_my_version/Graph_matching/data/OASIS_full_batch/modified_graphs'\n",
    "\n",
    "    # Get the meshes\n",
    "    list_graphs = gp.load_graphs_in_list(path_to_graphs)\n",
    "    degree_list = list()\n",
    "    fig_labels = list()\n",
    "    for ind, graph in enumerate(list_graphs):\n",
    "        fig_labels.append('graph_'+str(ind))\n",
    "        gp.remove_dummy_nodes(graph)\n",
    "        #print(len(graph.nodes))\n",
    "        graph.remove_edges_from(nx.selfloop_edges(graph))\n",
    "        degree_list.append(list(dict(nx.degree(graph)).values()))\n",
    "    # compute the histos\n",
    "    degree_histo = np.zeros((len(degree_list), degree_values))\n",
    "    for i_d, dist in enumerate(degree_list):\n",
    "        count = np.bincount(dist)\n",
    "        for i,c in enumerate(count):\n",
    "            degree_histo[i_d, i] += c\n",
    "        degree_histo[i_d, :] = degree_histo[i_d, :]/np.sum(count)\n",
    "    # lines for the plot\n",
    "    x = list(range(degree_values))\n",
    "    y = np.mean(degree_histo, 0)\n",
    "    y_upper = y + np.std(degree_histo, 0)\n",
    "    y_lower = y - np.std(degree_histo, 0)\n",
    "    # error plot from real data\n",
    "    fig_c = tp.error_plot(x=x, y=y, y_lower=y_lower, y_upper=y_upper, line_label='degree real data', color='rgb(20, 20, 200)')\n",
    "\n",
    "    #simulated graphs\n",
    "    \n",
    "    path_to_graphs = '/home/rohit/PhD_Work/GM_my_version/Graph_matching/data/simu_graph/0/'+ file +'/graphs'\n",
    "        # Get the meshes\n",
    "    list_graphs = gp.load_graphs_in_list(path_to_graphs)\n",
    "    degree_list = list()\n",
    "    fig_labels = list()\n",
    "    for ind, graph in enumerate(list_graphs):\n",
    "        fig_labels.append('simu_graph_'+str(ind))\n",
    "        gp.remove_dummy_nodes(graph)\n",
    "        #print(len(graph.nodes))\n",
    "        graph.remove_edges_from(nx.selfloop_edges(graph))\n",
    "        degree_list.append(list(dict(nx.degree(graph)).values()))\n",
    "    # compute the histos\n",
    "    degree_histo = np.zeros((len(degree_list), degree_values))\n",
    "    for i_d, dist in enumerate(degree_list):\n",
    "        count = np.bincount(dist)\n",
    "        for i,c in enumerate(count):\n",
    "            degree_histo[i_d, i] += c\n",
    "        degree_histo[i_d, :] = degree_histo[i_d, :]/np.sum(count)\n",
    "    # lines for the plot\n",
    "    y = np.mean(degree_histo, 0)\n",
    "    y_upper = y + np.std(degree_histo, 0)\n",
    "    y_lower = y - np.std(degree_histo, 0)\n",
    "    # error plot from real data\n",
    "    fig_c2 = tp.error_plot(x=x, y=y, y_lower=y_lower, y_upper=y_upper, line_label='degree simus', color='rgb(200, 20, 20)')\n",
    "    fig_c.extend(fig_c2)\n",
    "    fig = go.Figure(fig_c)\n",
    "\n",
    "        # fig.add_trace(go.Scatter(\n",
    "        #     name=fig_labels[i_d],\n",
    "        #     x=x,\n",
    "        #     y=degree_histo[i_d, :],\n",
    "        #     mode='lines',\n",
    "        #     line=dict(color='rgb(25, 25, 180)')))\n",
    "\n",
    "    fig.update_layout(\n",
    "        yaxis_title='proportion',\n",
    "        title=file,\n",
    "        hovermode=\"x\"\n",
    "    )\n",
    "    #fig.show(renderer=\"browser\")\n",
    "    fig.write_html('first_figure.html', auto_open=True)\n",
    "    \n",
    "    simu_node_density(path_to_graphs,file)"
   ]
  },
  {
   "cell_type": "code",
   "execution_count": null,
   "metadata": {},
   "outputs": [],
   "source": [
    "path"
   ]
  },
  {
   "cell_type": "code",
   "execution_count": 9,
   "metadata": {},
   "outputs": [
    {
     "name": "stdout",
     "output_type": "stream",
     "text": [
      "01\n"
     ]
    }
   ],
   "source": [
    "print(\"{:d}\".format(1).zfill(2))"
   ]
  },
  {
   "cell_type": "code",
   "execution_count": null,
   "metadata": {
    "scrolled": true
   },
   "outputs": [],
   "source": []
  },
  {
   "cell_type": "code",
   "execution_count": null,
   "metadata": {},
   "outputs": [],
   "source": []
  }
 ],
 "metadata": {
  "kernelspec": {
   "display_name": "Python 3",
   "language": "python",
   "name": "python3"
  },
  "language_info": {
   "codemirror_mode": {
    "name": "ipython",
    "version": 3
   },
   "file_extension": ".py",
   "mimetype": "text/x-python",
   "name": "python",
   "nbconvert_exporter": "python",
   "pygments_lexer": "ipython3",
   "version": "3.8.3"
  }
 },
 "nbformat": 4,
 "nbformat_minor": 4
}
