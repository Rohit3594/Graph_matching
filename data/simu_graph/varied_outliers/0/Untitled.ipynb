{
 "cells": [
  {
   "cell_type": "code",
   "execution_count": null,
   "metadata": {},
   "outputs": [],
   "source": [
    "import numpy as np\n",
    "import matplotlib.pyplot as plt\n",
    "from scipy.stats import betabinom\n",
    "\n",
    "\n",
    "def compute_beta(alpha, n, mean):\n",
    "    return (1-mean/n) / (mean/n) * alpha\n",
    "\n",
    "\n",
    "def compute_alpha(n, mean, variance):\n",
    "    ratio = (1-mean/n) / (mean/n)\n",
    "    alpha = ((1+ratio)**2 * variance - n**2 * ratio) / (n*ratio*(1+ratio) - variance* (1 + ratio)**3)\n",
    "    return alpha"
   ]
  },
  {
   "cell_type": "code",
   "execution_count": null,
   "metadata": {},
   "outputs": [],
   "source": [
    "if __name__ == \"__main__\":\n",
    "    np.random.seed(19680801)\n",
    "\n",
    "    # example data\n",
    "    n = 30  # Size of the support (i.e. numbers between 0 and n)\n",
    "    mu = 10  # mean of distribution\n",
    "    sigma = 4  # standard deviation of distribution\n",
    "    \n",
    "    # Compute the alpha and beta for the given mu and sigma\n",
    "    alpha = compute_alpha(n , mu, sigma**2)\n",
    "    beta = compute_beta(alpha, n, mu)\n",
    "    \n",
    "    x = betabinom.rvs(n, alpha, beta, size=100000)\n",
    "\n",
    "    num_bins = n+1\n",
    "\n",
    "    fig, ax = plt.subplots()\n",
    "\n",
    "    # the histogram of the data\n",
    "    n, bins, patches = ax.hist(x, num_bins, density=True)\n",
    "\n",
    "    ax.set_xlabel('Number of outliers')\n",
    "    ax.set_ylabel('Probability density')\n",
    "    ax.set_title(r'Histogram of Beta-binominal dist: $\\mu=8$, $\\sigma=4$')\n",
    "\n",
    "    # Tweak spacing to prevent clipping of ylabel\n",
    "    fig.tight_layout()\n",
    "    plt.show()"
   ]
  },
  {
   "cell_type": "code",
   "execution_count": 1,
   "metadata": {},
   "outputs": [],
   "source": [
    "import os\n",
    "import sys\n",
    "sys.path.append(\"/home/rohit/PhD_Work/GM_my_version/Graph_matching/\")\n",
    "import argparse\n",
    "import numpy as np\n",
    "import networkx as nx\n",
    "import slam.plot as splt\n",
    "import slam.topology as stop\n",
    "import slam.generate_parametric_surfaces as sgps\n",
    "import trimesh\n",
    "import os\n",
    "import tools.graph_processing as gp\n",
    "from sphere import *\n",
    "from tqdm.auto import tqdm,trange\n",
    "from scipy.stats import betabinom\n",
    "import random\n",
    "import pickle "
   ]
  },
  {
   "cell_type": "code",
   "execution_count": 2,
   "metadata": {},
   "outputs": [],
   "source": [
    "def generate_sphere_random_sampling(vertex_number=100, radius=1.0):\n",
    "    \"\"\"\n",
    "\tgenerate a sphere with random sampling\n",
    "\t:param vertex_number: number of vertices in the output spherical mesh\n",
    "\t:param radius: radius of the output sphere\n",
    "\t:return:\n",
    "\t\"\"\"\n",
    "    coords = np.zeros((vertex_number, 3))\n",
    "    for i in range(vertex_number):\n",
    "        M = np.random.normal(size=(3, 3))\n",
    "        Q, R = np.linalg.qr(M)\n",
    "        coords[i, :] = Q[:, 0].transpose() * np.sign(R[0, 0])\n",
    "    if radius != 1:\n",
    "        coords = radius * coords\n",
    "    return coords\n",
    "\n",
    "def tri_from_hull(vertices):\n",
    "    \"\"\"\n",
    "\tcompute faces from vertices using trimesh convex hull\n",
    "\t:param vertices: (n, 3) float\n",
    "\t:return:\n",
    "\t\"\"\"\n",
    "    mesh = trimesh.Trimesh(vertices=vertices, process=False)\n",
    "    return mesh.convex_hull\n",
    "\n",
    "\n",
    "def edge_len_threshold(graph,thr): # Adds a percentage of edges \n",
    "    \n",
    "    edge_to_add = random.sample(list(graph.edges),round(len(graph.edges)*thr))\n",
    "\n",
    "    return edge_to_add"
   ]
  },
  {
   "cell_type": "code",
   "execution_count": 3,
   "metadata": {},
   "outputs": [],
   "source": [
    "def compute_beta(alpha, n, mean):\n",
    "    return (1-mean/n) / (mean/n) * alpha\n",
    "\n",
    "\n",
    "def compute_alpha(n, mean, variance):\n",
    "    ratio = (1-mean/n) / (mean/n)\n",
    "    alpha = ((1+ratio)**2 * variance - n**2 * ratio) / (n*ratio*(1+ratio) - variance* (1 + ratio)**3)\n",
    "    return alpha\n",
    "\n",
    "\n",
    "def generate_nb_outliers_and_nb_supress(nb_vertices):\n",
    "\n",
    "    \"\"\"\n",
    "\n",
    "    Sample nb_outliers and nb_supress from a Normal dist\n",
    "    following the std of real data\n",
    "\n",
    "    \"\"\"\n",
    "\n",
    "    mean_real_data = 10         # mean real data\n",
    "    std_real_data = 4           # std real data\n",
    "\n",
    "\n",
    "    mu = 10 # mu_A = mu_B = mu\n",
    "    sigma = std_real_data\n",
    "    n = 20\n",
    "\n",
    "    alpha = compute_alpha(n , mu, sigma**2)  # corresponding alpha with respect to given mu and sigma\n",
    "    beta = compute_beta(alpha, n, mu)       # corresponding beta\n",
    "\n",
    "    nb_supress = betabinom.rvs(n, alpha, beta, size=1)[0]\n",
    "    nb_outliers = betabinom.rvs(n, alpha, beta, size=1)[0]                 # Sample nb_outliers\n",
    "\n",
    "\n",
    "    return int(nb_outliers),int(nb_supress)"
   ]
  },
  {
   "cell_type": "code",
   "execution_count": 280,
   "metadata": {},
   "outputs": [],
   "source": [
    "def generate_noisy_graph(original_graph, nb_vertices, sigma_noise_nodes=1400, sigma_noise_edges=1,\n",
    "                         radius=100):\n",
    "    # Perturbate the coordinates\n",
    "\n",
    "    noisy_coord = []\n",
    "    key = []\n",
    "    value = []\n",
    "    nb_outliers = 0\n",
    "    nb_supress = 0\n",
    "\n",
    "    for index in range(nb_vertices):\n",
    "        # Sampling from Von Mises - Fisher distribution\n",
    "        original_coord = original_graph.nodes[index][\"coord\"]\n",
    "        mean_original = original_coord / np.linalg.norm(original_coord)  # convert to mean unit vector.\n",
    "        noisy_coordinate = Sphere().sample(1, distribution='vMF', mu=mean_original,\n",
    "                                           kappa=sigma_noise_nodes).sample[0]\n",
    "\n",
    "        noisy_coordinate = noisy_coordinate * np.linalg.norm(original_coord) # rescale to original size.\n",
    "        # print(noisy_coordinate)\n",
    "        noisy_coord.append(noisy_coordinate)\n",
    "\n",
    "        print(original_coord,\" \",noisy_coordinate)\n",
    "\n",
    "\n",
    "    nb_outliers, nb_supress = generate_nb_outliers_and_nb_supress(nb_vertices)  # Sample nb_outliers and nb_supress\n",
    "    #nb_outliers = 0\n",
    "    \n",
    "    noisy_coord_all = noisy_coord\n",
    "    \n",
    "\n",
    "    #Supress Non-Outlier nodes\n",
    "    if nb_supress > 0:\n",
    "        \n",
    "        supress_list = random.sample(range(len(noisy_coord)), nb_supress) # Indexes to remove \n",
    "        \n",
    "        removed_coords = [noisy_coord[i] for i in range(len(noisy_coord)) if i in supress_list]\n",
    "        \n",
    "        #noisy_coord = [dummy_coords if i in supress_list else noisy_coord[i] for i in range(len(noisy_coord))]\n",
    "        \n",
    "        noisy_coord = [noisy_coord[i] for i in range(len(noisy_coord)) if i not in supress_list]\n",
    "        \n",
    "        print(\"nb_supress : \",nb_supress)\n",
    "        \n",
    "    print(\"nb_outliers : \",nb_outliers)\n",
    "        \n",
    "            \n",
    "    #print('Noisy coord len after supression',len(noisy_coord_all))\n",
    "    #print('removed coord len after supression',len(removed_coords))\n",
    "\n",
    "\n",
    "    # Add Outliers\n",
    "    sphere_random_sampling = []\n",
    "    if nb_outliers > 0:\n",
    "        #print(\"nb_outliers: \", nb_outliers)\n",
    "\n",
    "        sphere_random_sampling = generate_sphere_random_sampling(vertex_number=nb_outliers, radius=radius)\n",
    "        # merge pertubated and outlier coordinates to add edges \n",
    "        all_coord = noisy_coord + list(sphere_random_sampling)\n",
    "    else:\n",
    "        all_coord = noisy_coord\n",
    "\n",
    "\n",
    "    noisy_graph = nx.Graph()\n",
    "\n",
    "    compute_noisy_edges = tri_from_hull(all_coord)  # take all peturbated coord and comp conv hull.\n",
    "    adja = stop.adjacency_matrix(compute_noisy_edges)  # compute the new adjacency mat.\n",
    "\n",
    "    noisy_graph = nx.from_numpy_matrix(adja.todense())\n",
    "    \n",
    "\n",
    "    node_attribute_dict = {}\n",
    "    for node in noisy_graph.nodes():\n",
    "        node_attribute_dict[node] = {\"coord\": np.array(compute_noisy_edges.vertices[node]),'is_dummy':False,'is_outlier':False}\n",
    "        \n",
    "#     dummy_nodes = [j for j in range(len(noisy_graph.nodes), len(noisy_graph.nodes) + len(supress_list))] \n",
    "#     noisy_graph.add_nodes_from(dummy_nodes,is_dummy=True) # add dummy nodes\n",
    "    \n",
    "        \n",
    "    nx.set_node_attributes(noisy_graph, node_attribute_dict)\n",
    "    nx.set_edge_attributes(noisy_graph, 1.0, name=\"weight\")\n",
    "\n",
    "    \n",
    "    edge_attribute_dict = {}\n",
    "    id_counter = 0  # useful for affinity matrix caculation\n",
    "    for edge in noisy_graph.edges:\n",
    "        # We calculate the geodesic distance\n",
    "        end_a = noisy_graph.nodes()[edge[0]][\"coord\"]\n",
    "        end_b = noisy_graph.nodes()[edge[1]][\"coord\"]\n",
    "        geodesic_dist = gp.compute_geodesic_distance_sphere(end_a, end_b, radius)\n",
    "\n",
    "        # add the information in the dictionnary\n",
    "        edge_attribute_dict[edge] = {\"geodesic_distance\": geodesic_dist, \"id\": id_counter}\n",
    "        id_counter += 1\n",
    "\n",
    "    # add the edge attributes to the graph\n",
    "    nx.set_edge_attributes(noisy_graph, edge_attribute_dict)\n",
    "\n",
    "    # Extracting the ground-truth correspondence\n",
    "\n",
    "    \n",
    "    ground_truth_permutation = []\n",
    "    counter = 0\n",
    "    check = False\n",
    "#     print(dummy_nodes)\n",
    "    \n",
    "    for i in range(len(noisy_graph.nodes)): \n",
    "        for j in range(len(noisy_coord_all)):  # upto the indexes of outliers\n",
    "            if np.linalg.norm(noisy_coord_all[j] - noisy_graph.nodes[i]['coord']) == 0.:\n",
    "                ground_truth_permutation.append(j)\n",
    "                continue\n",
    "                \n",
    "            elif j == len(noisy_coord_all) - 1.:\n",
    "                 for outlier in sphere_random_sampling:\n",
    "                        if np.linalg.norm(outlier - noisy_graph.nodes[i]['coord']) == 0.:\n",
    "                            noisy_graph.nodes[i]['is_outlier'] = True\n",
    "                            ground_truth_permutation.append('O')\n",
    "          \n",
    "        \n",
    "#         if check == False:\n",
    "#             print(counter)\n",
    "            \n",
    "#             if dummy_nodes[counter] >= len(noisy_coord_all):\n",
    "#                 key.append(i)\n",
    "#             ground_truth_permutation.append(dummy_nodes[counter])#add idx of dummy node as correspondence\n",
    "#             counter += 1\n",
    "#         check = False\n",
    "                \n",
    "            \n",
    "\n",
    "#     for outlier in sphere_random_sampling:\n",
    "#         for i in range(len(all_coord)):\n",
    "#             if np.mean(noisy_graph.nodes[i]['coord']) == np.mean(outlier):\n",
    "#                 if i<nb_vertices:\n",
    "#                     value.append(i)\n",
    "\n",
    "\n",
    "#     if nb_outliers > 0 and len(key)!=0:\n",
    "#         index = 0\n",
    "#         for j in range(len(ground_truth_permutation)):\n",
    "#             if ground_truth_permutation[j] == key[index]:\n",
    "#                 ground_truth_permutation[j] = value[index]\n",
    "#                 index+=1\n",
    "#                 if index == len(key):\n",
    "#                     break\n",
    "\n",
    "#         key = key + value\n",
    "#         value = value + key\n",
    "\n",
    "#         mapping = dict(zip(key,value))\n",
    "#         #print(\"mapping :\",mapping)\n",
    "#         #print(\"number of nodes in graphs: \", len(noisy_graph.nodes))\n",
    "#         noisy_graph = nx.relabel_nodes(noisy_graph, mapping)\n",
    "\n",
    "\n",
    "    # Remove 10% of random edges\n",
    "#     edge_to_remove = edge_len_threshold(noisy_graph, 0.10)\n",
    "#     noisy_graph.remove_edges_from(edge_to_remove)\n",
    "\n",
    "#     noisy_graph.remove_edges_from(nx.selfloop_edges(noisy_graph))\n",
    "\n",
    "\n",
    "    return ground_truth_permutation, noisy_graph,noisy_coord_all"
   ]
  },
  {
   "cell_type": "code",
   "execution_count": 281,
   "metadata": {},
   "outputs": [],
   "source": [
    "list_graphs= []"
   ]
  },
  {
   "cell_type": "code",
   "execution_count": 282,
   "metadata": {},
   "outputs": [],
   "source": [
    "ref_graph = nx.read_gpickle('reference_1.gpickle')"
   ]
  },
  {
   "cell_type": "code",
   "execution_count": 283,
   "metadata": {
    "scrolled": false
   },
   "outputs": [
    {
     "name": "stdout",
     "output_type": "stream",
     "text": [
      "[ 20.96346116 -76.88340545 -60.41088695]   [ 18.85659395 -77.90242492 -59.79666426]\n",
      "[-40.38208717  36.61107826  83.83863062]   [-39.98447318  40.06027737  82.44037895]\n",
      "[-53.14616772  26.3147491  -80.51719591]   [-55.73982188  27.1302843  -78.46668039]\n",
      "[87.30901573 46.98534633 13.01971589]   [86.75154354 48.69062733 10.16821047]\n",
      "[-50.93066397  85.66396199  -8.23122617]   [-47.0820403   87.62970463 -10.21353749]\n",
      "[-85.9712732   50.983334    -3.10480883]   [-84.92910496  52.51129854  -5.44156738]\n",
      "[-83.8724879  -23.10325171 -49.31171803]   [-86.58194857 -21.6051973  -45.13071716]\n",
      "[ -8.14699669  97.86962485 -18.84576812]   [ -6.3257007   98.02440791 -18.74035657]\n",
      "[-90.38310799  25.9637659   34.01141941]   [-89.62284852  28.40550632  34.07157517]\n",
      "[ 2.31108465 83.28236347 55.30557678]   [ 0.40383906 81.48609734 57.96423771]\n",
      "[84.6487079  14.32457521 51.27770271]   [84.38524166 11.4527751  52.42103521]\n",
      "[ 81.88240267 -57.22654565   4.51603881]   [ 82.64875213 -56.23394244   2.63201231]\n",
      "[ 20.71161998  32.4404267  -92.29651951]   [ 19.57503407  29.39269926 -93.55686651]\n",
      "[ 71.1577078   65.44426721 -25.56615945]   [ 69.96737424  67.28501969 -24.02691546]\n",
      "[-39.92334919 -43.92600033 -80.47752906]   [-40.88819386 -43.17673088 -80.39854174]\n",
      "[ 67.64475611 -64.17671898 -36.13219771]   [ 70.56539403 -65.02898825 -28.13815652]\n",
      "[ 37.35079912 -92.41109706  -8.06888744]   [ 36.02068837 -93.15205558  -5.02041333]\n",
      "[ 53.60484077 -23.35121063 -81.12485444]   [ 53.36751068 -25.2048253  -80.72561914]\n",
      "[-56.41173779  75.65470627  33.07689918]   [-53.58251005  76.59427613  35.52789723]\n",
      "[ 44.5827481  -72.2409887   52.85468875]   [ 46.30600681 -72.88208146  50.43764403]\n",
      "nb_supress :  9\n",
      "nb_outliers :  7\n"
     ]
    }
   ],
   "source": [
    "ground_truth, noisy_graph, noisy_coord_all = generate_noisy_graph(ref_graph,20)"
   ]
  },
  {
   "cell_type": "code",
   "execution_count": null,
   "metadata": {},
   "outputs": [],
   "source": []
  },
  {
   "cell_type": "code",
   "execution_count": 284,
   "metadata": {
    "scrolled": true
   },
   "outputs": [
    {
     "data": {
      "text/plain": [
       "[18, 'O', 10, 15, 2, 'O', 'O', 1, 'O', 'O', 14, 5, 16, 'O', 'O', 13, 17, 19]"
      ]
     },
     "execution_count": 284,
     "metadata": {},
     "output_type": "execute_result"
    }
   ],
   "source": [
    "ground_truth"
   ]
  },
  {
   "cell_type": "code",
   "execution_count": null,
   "metadata": {},
   "outputs": [],
   "source": []
  },
  {
   "cell_type": "code",
   "execution_count": 152,
   "metadata": {},
   "outputs": [
    {
     "data": {
      "text/plain": [
       "{'coord': array([ 20.96346116, -76.88340545, -60.41088695])}"
      ]
     },
     "execution_count": 152,
     "metadata": {},
     "output_type": "execute_result"
    }
   ],
   "source": [
    "ref_graph.nodes[0]"
   ]
  },
  {
   "cell_type": "code",
   "execution_count": null,
   "metadata": {},
   "outputs": [],
   "source": []
  },
  {
   "cell_type": "code",
   "execution_count": null,
   "metadata": {},
   "outputs": [],
   "source": []
  },
  {
   "cell_type": "code",
   "execution_count": 191,
   "metadata": {},
   "outputs": [],
   "source": [
    "def get_in_between_perm_matrix(perm_mat_1, perm_mat_2):\n",
    "    \"\"\"\n",
    "\tGiven two permutation from noisy graphs to a reference graph,\n",
    "\tReturn the permutation matrix to go from one graph to the other\n",
    "\t\"\"\"\n",
    "    result_perm = {}\n",
    "    for i in range(len(perm_mat_1)):\n",
    "        if perm_mat_1[i] == 'O':\n",
    "                continue\n",
    "        for j in range(len(perm_mat_2)):\n",
    "            if perm_mat_2[j] == 'O':\n",
    "                continue\n",
    "            \n",
    "            if perm_mat_1[i] == perm_mat_2[j]:\n",
    "                result_perm[i] = j\n",
    "\n",
    "    return result_perm"
   ]
  },
  {
   "cell_type": "code",
   "execution_count": null,
   "metadata": {},
   "outputs": [],
   "source": []
  },
  {
   "cell_type": "code",
   "execution_count": 192,
   "metadata": {},
   "outputs": [],
   "source": [
    "gt_0 = ground_truth_0\n",
    "gt_1 = ground_truth_1\n",
    "# gt_2 = ground_truth_2\n",
    "# gt_3 = ground_truth_3\n",
    "gt_all = [gt_0,gt_1]"
   ]
  },
  {
   "cell_type": "code",
   "execution_count": 193,
   "metadata": {},
   "outputs": [],
   "source": [
    "new_groundtruth = []"
   ]
  },
  {
   "cell_type": "code",
   "execution_count": 194,
   "metadata": {},
   "outputs": [],
   "source": [
    "result_perm = get_in_between_perm_matrix(gt_0,gt_1)"
   ]
  },
  {
   "cell_type": "code",
   "execution_count": 195,
   "metadata": {
    "scrolled": true
   },
   "outputs": [
    {
     "data": {
      "text/plain": [
       "{2: 7, 5: 6, 7: 17, 10: 22, 12: 14, 17: 26, 18: 19, 21: 16}"
      ]
     },
     "execution_count": 195,
     "metadata": {},
     "output_type": "execute_result"
    }
   ],
   "source": [
    "result_perm"
   ]
  },
  {
   "cell_type": "code",
   "execution_count": 196,
   "metadata": {
    "scrolled": true
   },
   "outputs": [
    {
     "name": "stdout",
     "output_type": "stream",
     "text": [
      "[87.96029962 43.95165181 18.19994488] ---- [87.90662198 46.27881099 11.43229917]\n",
      "[ 82.9968391  -55.77855793   0.52647356] ---- [ 81.17070132 -57.9376393    7.38560761]\n",
      "[82.64595281 17.32215314 53.56854949] ---- [84.93741475 14.36852202 50.78563921]\n",
      "[ 21.41644424 -77.66644408 -59.23900218] ---- [ 21.91153331 -78.10018138 -58.4828725 ]\n",
      "[ 47.52387721 -69.9761136   53.33689737] ---- [ 49.82963337 -69.76524611  51.47638364]\n",
      "[ 69.85966807 -62.38129156 -35.04570217] ---- [ 70.35443955 -64.42147507 -30.00210637]\n",
      "[ 69.83559898  66.13268484 -27.37621433] ---- [ 72.3575313   65.1184683  -22.89045107]\n",
      "[ 24.54262499  34.17415789 -90.71817068] ---- [ 20.4184669   31.78021106 -92.59106001]\n"
     ]
    }
   ],
   "source": [
    "for i,j in result_perm.items():\n",
    "    print(noisy_graph_0.nodes[i]['coord'],'----',noisy_graph_1.nodes[j]['coord'])"
   ]
  },
  {
   "cell_type": "code",
   "execution_count": null,
   "metadata": {},
   "outputs": [],
   "source": []
  },
  {
   "cell_type": "code",
   "execution_count": null,
   "metadata": {},
   "outputs": [],
   "source": [
    "gt_03 = {}\n",
    "\n",
    "for i in range(len(gt_0)):\n",
    "    for j in range(len(gt_3)):\n",
    "        if gt_0[i] == gt_3[j]:\n",
    "            gt_03[i] = j"
   ]
  },
  {
   "cell_type": "code",
   "execution_count": null,
   "metadata": {},
   "outputs": [],
   "source": [
    "new_groundtruth = []\n",
    "new_groundtruth = [gt_00,gt_01,gt_02,gt_03]"
   ]
  },
  {
   "cell_type": "code",
   "execution_count": null,
   "metadata": {},
   "outputs": [],
   "source": [
    "ground_dict = {}\n",
    "\n",
    "for i in range(1):\n",
    "    for j in range(4):\n",
    "        ground_dict[str(i)+str(j)] =globals()['gt_'+str(i)+str(j)] "
   ]
  },
  {
   "cell_type": "code",
   "execution_count": null,
   "metadata": {},
   "outputs": [],
   "source": [
    "ground_dict"
   ]
  },
  {
   "cell_type": "code",
   "execution_count": null,
   "metadata": {},
   "outputs": [],
   "source": []
  },
  {
   "cell_type": "code",
   "execution_count": null,
   "metadata": {},
   "outputs": [],
   "source": []
  },
  {
   "cell_type": "code",
   "execution_count": null,
   "metadata": {},
   "outputs": [],
   "source": [
    "for key,value in gt_02.items():\n",
    "    print(noisy_graph.nodes[key]['coord'],noisy_graph_2.nodes[value]['coord'])"
   ]
  },
  {
   "cell_type": "code",
   "execution_count": null,
   "metadata": {},
   "outputs": [],
   "source": []
  },
  {
   "cell_type": "code",
   "execution_count": null,
   "metadata": {},
   "outputs": [],
   "source": [
    "# for key,value in g3_dict.items():\n",
    "#     if value == -1:\n",
    "#         continue\n",
    "#     else:\n",
    "#         print(noisy_graph_3.nodes[key]['coord'],'-----',value,'----',noisy_graph.nodes[value]['coord'])"
   ]
  },
  {
   "cell_type": "code",
   "execution_count": null,
   "metadata": {},
   "outputs": [],
   "source": []
  },
  {
   "cell_type": "code",
   "execution_count": null,
   "metadata": {},
   "outputs": [],
   "source": [
    "for i in range(len(ref_graph.nodes)):\n",
    "    print(ref_graph.nodes[i]['coord'],noisy_coord_all[i])"
   ]
  },
  {
   "cell_type": "code",
   "execution_count": null,
   "metadata": {},
   "outputs": [],
   "source": [
    "for i in range(len(ref_graph.nodes)):\n",
    "    print(ref_graph.nodes[i]['coord'],noisy_coord_all_3[i])"
   ]
  },
  {
   "cell_type": "code",
   "execution_count": null,
   "metadata": {},
   "outputs": [],
   "source": []
  },
  {
   "cell_type": "code",
   "execution_count": null,
   "metadata": {},
   "outputs": [],
   "source": []
  },
  {
   "cell_type": "code",
   "execution_count": null,
   "metadata": {},
   "outputs": [],
   "source": []
  },
  {
   "cell_type": "code",
   "execution_count": null,
   "metadata": {},
   "outputs": [],
   "source": []
  },
  {
   "cell_type": "code",
   "execution_count": null,
   "metadata": {},
   "outputs": [],
   "source": []
  },
  {
   "cell_type": "code",
   "execution_count": null,
   "metadata": {},
   "outputs": [],
   "source": []
  },
  {
   "cell_type": "code",
   "execution_count": null,
   "metadata": {},
   "outputs": [],
   "source": []
  },
  {
   "cell_type": "code",
   "execution_count": null,
   "metadata": {},
   "outputs": [],
   "source": []
  },
  {
   "cell_type": "code",
   "execution_count": null,
   "metadata": {},
   "outputs": [],
   "source": []
  },
  {
   "cell_type": "code",
   "execution_count": null,
   "metadata": {},
   "outputs": [],
   "source": [
    "# nx.read_gpickle('test_graphs.gpickle')"
   ]
  },
  {
   "cell_type": "code",
   "execution_count": null,
   "metadata": {},
   "outputs": [],
   "source": [
    "# np.load('new_groundtruth.npy',allow_pickle=True)"
   ]
  },
  {
   "cell_type": "code",
   "execution_count": null,
   "metadata": {},
   "outputs": [],
   "source": [
    "test_graphs = [noisy_graph,noisy_graph_1,noisy_graph_2,noisy_graph_3]\n",
    "np.save('new_groundtruth.npy',new_groundtruth)\n",
    "nx.write_gpickle(test_graphs,'test_graphs.gpickle')"
   ]
  },
  {
   "cell_type": "code",
   "execution_count": null,
   "metadata": {},
   "outputs": [],
   "source": [
    "noisy_graph_2.nodes"
   ]
  },
  {
   "cell_type": "code",
   "execution_count": null,
   "metadata": {},
   "outputs": [],
   "source": [
    "print('g3 node attr len: ',nx.get_node_attributes(g1,'label_gt'))"
   ]
  },
  {
   "cell_type": "code",
   "execution_count": null,
   "metadata": {},
   "outputs": [],
   "source": []
  },
  {
   "cell_type": "code",
   "execution_count": null,
   "metadata": {},
   "outputs": [],
   "source": [
    "for i,j in enumerate(ground_truth_permutation):\n",
    "    print(noisy_graph.nodes[i]['coord'],noisy_coord_all[j])"
   ]
  },
  {
   "cell_type": "code",
   "execution_count": null,
   "metadata": {},
   "outputs": [],
   "source": [
    "ground_truth_permutation"
   ]
  },
  {
   "cell_type": "code",
   "execution_count": null,
   "metadata": {},
   "outputs": [],
   "source": []
  },
  {
   "cell_type": "code",
   "execution_count": null,
   "metadata": {
    "scrolled": true
   },
   "outputs": [],
   "source": [
    "shuffled_coords"
   ]
  },
  {
   "cell_type": "code",
   "execution_count": null,
   "metadata": {},
   "outputs": [],
   "source": []
  },
  {
   "cell_type": "code",
   "execution_count": null,
   "metadata": {},
   "outputs": [],
   "source": [
    "ground_truth"
   ]
  },
  {
   "cell_type": "code",
   "execution_count": null,
   "metadata": {},
   "outputs": [],
   "source": [
    "noisy_coord_all[3]"
   ]
  },
  {
   "cell_type": "code",
   "execution_count": null,
   "metadata": {},
   "outputs": [],
   "source": [
    "noisy_graph.nodes[12]"
   ]
  },
  {
   "cell_type": "code",
   "execution_count": null,
   "metadata": {},
   "outputs": [],
   "source": []
  },
  {
   "cell_type": "code",
   "execution_count": null,
   "metadata": {},
   "outputs": [],
   "source": [
    "for i,j in enumerate(ground_truth):\n",
    "    \n",
    "    if noisy_graph.nodes[j]['is_dummy'] == False:\n",
    "        \n",
    "        print(noisy_graph.nodes[j]['coord'],ref_graph.nodes[i]['coord'])"
   ]
  },
  {
   "cell_type": "code",
   "execution_count": null,
   "metadata": {},
   "outputs": [],
   "source": [
    "rm = random.sample(range(10), 5)\n",
    "rm"
   ]
  },
  {
   "cell_type": "code",
   "execution_count": null,
   "metadata": {},
   "outputs": [],
   "source": [
    "ground_truth"
   ]
  },
  {
   "cell_type": "code",
   "execution_count": null,
   "metadata": {},
   "outputs": [],
   "source": [
    "np.sort(ground_truth)"
   ]
  },
  {
   "cell_type": "code",
   "execution_count": null,
   "metadata": {},
   "outputs": [],
   "source": [
    "# [ground_truth[i] for i in range(len(ground_truth)) if i not in rm]"
   ]
  },
  {
   "cell_type": "code",
   "execution_count": null,
   "metadata": {},
   "outputs": [],
   "source": []
  },
  {
   "cell_type": "code",
   "execution_count": null,
   "metadata": {},
   "outputs": [],
   "source": [
    "[ref_graph.nodes[i]['coord'] for i in range(len(ref_graph.nodes)) if i in rm]"
   ]
  },
  {
   "cell_type": "code",
   "execution_count": null,
   "metadata": {},
   "outputs": [],
   "source": [
    "noisy_coords = list(nx.get_node_attributes(ref_graph,'coord').values())\n",
    "\n",
    "dummy_coords = np.array([0.0,0.0,0.0])\n",
    "\n",
    "noisy_coords_2 = [dummy_coords if i in rm else noisy_coords[i] for i in range(len(noisy_coords))]"
   ]
  },
  {
   "cell_type": "code",
   "execution_count": null,
   "metadata": {
    "scrolled": false
   },
   "outputs": [],
   "source": []
  },
  {
   "cell_type": "code",
   "execution_count": null,
   "metadata": {},
   "outputs": [],
   "source": [
    "# nx.get_node_attributes(noisy_graph,'coord')"
   ]
  },
  {
   "cell_type": "code",
   "execution_count": null,
   "metadata": {},
   "outputs": [],
   "source": [
    "# noisy_graph.add_nodes_from([(13, {'is_dummy': True}),(14, {'is_dummy': True}),(15, {'is_dummy': True})])"
   ]
  },
  {
   "cell_type": "code",
   "execution_count": null,
   "metadata": {},
   "outputs": [],
   "source": [
    "# noisy_graph.add_node(16,is_dummy=True)"
   ]
  },
  {
   "cell_type": "code",
   "execution_count": null,
   "metadata": {},
   "outputs": [],
   "source": [
    "ground_truth"
   ]
  },
  {
   "cell_type": "code",
   "execution_count": null,
   "metadata": {},
   "outputs": [],
   "source": [
    "# for i in ground_truth:\n",
    "#     print(noisy_graph.nodes[i])"
   ]
  },
  {
   "cell_type": "code",
   "execution_count": null,
   "metadata": {},
   "outputs": [],
   "source": [
    "gt = np.load('ground_truth.npy')"
   ]
  },
  {
   "cell_type": "code",
   "execution_count": null,
   "metadata": {},
   "outputs": [],
   "source": []
  },
  {
   "cell_type": "code",
   "execution_count": null,
   "metadata": {},
   "outputs": [],
   "source": [
    "# path_graph = \"./noise_1000,outliers_20/graphs/\""
   ]
  },
  {
   "cell_type": "code",
   "execution_count": null,
   "metadata": {},
   "outputs": [],
   "source": [
    "# g0 = nx.read_gpickle(path_graph+'graph_12.gpickle')\n",
    "# g1 = nx.read_gpickle(path_graph+'graph_1.gpickle')\n",
    "# g8 = nx.read_gpickle(path_graph+'graph_8.gpickle')"
   ]
  },
  {
   "cell_type": "code",
   "execution_count": null,
   "metadata": {},
   "outputs": [],
   "source": [
    "# gt_12 = {}\n",
    "\n",
    "# for i in range(len(gt_1)):\n",
    "#     for j in range(len(gt_2)):\n",
    "#         if gt_1[i] == gt_2[j]:\n",
    "#             gt_12[i] = j\n",
    "            "
   ]
  },
  {
   "cell_type": "code",
   "execution_count": null,
   "metadata": {},
   "outputs": [],
   "source": [
    "# for i,j in gt_12.items():\n",
    "#     print(noisy_graph.nodes[i]['coord'], noisy_graph_1.nodes[j]['coord'])"
   ]
  },
  {
   "cell_type": "code",
   "execution_count": null,
   "metadata": {
    "scrolled": false
   },
   "outputs": [],
   "source": [
    "# for i,j in enumerate(ground_truth_1):\n",
    "#     print(noisy_graph_1.nodes[i]['coord'],noisy_coord_all[j])"
   ]
  },
  {
   "cell_type": "code",
   "execution_count": null,
   "metadata": {},
   "outputs": [],
   "source": []
  },
  {
   "cell_type": "code",
   "execution_count": null,
   "metadata": {},
   "outputs": [],
   "source": [
    "g_updated = nx.read_gpickle('g_updated.gpickle')\n",
    "g1_updated = nx.read_gpickle('g1_updated.gpickle')\n",
    "g2_updated = nx.read_gpickle('g2_updated.gpickle')\n",
    "g3_updated = nx.read_gpickle('g3_updated.gpickle')\n",
    "\n",
    "\n",
    "\n",
    "g_values = nx.get_node_attributes(g1_updated,'label_gt').values()\n",
    "\n",
    "for i,j in enumerate(g_values):\n",
    "    \n",
    "    if(j == -1):\n",
    "        continue\n",
    "        \n",
    "    else:\n",
    "        print(g_updated.nodes[j]['coord'],g1_updated.nodes[i]['coord'])\n",
    "        print(g_updated.nodes[j]['label_gt'],'....',g1_updated.nodes[i]['label_gt'])"
   ]
  },
  {
   "cell_type": "code",
   "execution_count": null,
   "metadata": {},
   "outputs": [],
   "source": []
  },
  {
   "cell_type": "code",
   "execution_count": null,
   "metadata": {},
   "outputs": [],
   "source": []
  },
  {
   "cell_type": "code",
   "execution_count": null,
   "metadata": {},
   "outputs": [],
   "source": [
    "list_graphs = [len(g_updated.nodes),len(g1_updated.nodes),len(g2_updated.nodes),len(g3_updated.nodes)]"
   ]
  },
  {
   "cell_type": "code",
   "execution_count": null,
   "metadata": {
    "scrolled": true
   },
   "outputs": [],
   "source": [
    "list_graphs.index(min(list_graphs))"
   ]
  },
  {
   "cell_type": "code",
   "execution_count": null,
   "metadata": {},
   "outputs": [],
   "source": [
    "list_graphs"
   ]
  },
  {
   "cell_type": "code",
   "execution_count": null,
   "metadata": {},
   "outputs": [],
   "source": [
    "g1_updated.nodes[4]['label_gt']"
   ]
  },
  {
   "cell_type": "code",
   "execution_count": null,
   "metadata": {},
   "outputs": [],
   "source": [
    "g1_updated.nodes.data()"
   ]
  },
  {
   "cell_type": "code",
   "execution_count": null,
   "metadata": {},
   "outputs": [],
   "source": [
    "#check if there is -1 in attribute\n",
    "\n",
    "#number of nodes to add in the graph"
   ]
  },
  {
   "cell_type": "code",
   "execution_count": null,
   "metadata": {},
   "outputs": [],
   "source": [
    "gt_label = list(nx.get_node_attributes(g1_updated,'label_gt').values())\n",
    "count_val = gt_label.count(-1)\n",
    "num_nodes_to_add = len(g_updated.nodes())-(len(g1_updated.nodes)-count_val)"
   ]
  },
  {
   "cell_type": "code",
   "execution_count": null,
   "metadata": {},
   "outputs": [],
   "source": [
    "num_nodes_to_add"
   ]
  },
  {
   "cell_type": "code",
   "execution_count": null,
   "metadata": {},
   "outputs": [],
   "source": [
    "np.sort(gt_label)"
   ]
  },
  {
   "cell_type": "code",
   "execution_count": null,
   "metadata": {},
   "outputs": [],
   "source": [
    "list(g_updated.nodes)"
   ]
  },
  {
   "cell_type": "code",
   "execution_count": null,
   "metadata": {},
   "outputs": [],
   "source": [
    "len_g1 = len(g1_updated.nodes)\n",
    "\n",
    "labels = list(set(list(g_updated.nodes)).symmetric_difference(set(gt_label)))\n",
    "\n",
    "if -1 in labels:\n",
    "    labels.remove(-1)"
   ]
  },
  {
   "cell_type": "code",
   "execution_count": null,
   "metadata": {},
   "outputs": [],
   "source": [
    "labels"
   ]
  },
  {
   "cell_type": "code",
   "execution_count": null,
   "metadata": {},
   "outputs": [],
   "source": [
    "for i,j in enumerate(labels):\n",
    "    \n",
    "    g1_updated.add_node(len_g1+i,label_gt=j,coord=[-0.0,-0.0,-0.0])"
   ]
  },
  {
   "cell_type": "code",
   "execution_count": null,
   "metadata": {},
   "outputs": [],
   "source": []
  },
  {
   "cell_type": "code",
   "execution_count": null,
   "metadata": {},
   "outputs": [],
   "source": [
    "np.sort(list(nx.get_node_attributes(g1_updated,'label_gt').values()))"
   ]
  },
  {
   "cell_type": "code",
   "execution_count": null,
   "metadata": {},
   "outputs": [],
   "source": [
    "# def dummy_for_visu(g,g1):\n",
    "    \n",
    "#     gt_label = list(nx.get_node_attributes(g1,'label_gt').values())\n",
    "    \n",
    "#     len_g1 = len(g1.nodes)\n",
    "\n",
    "    \n",
    "#     labels = list(set(list(g.nodes)).symmetric_difference(set(gt_label)))\n",
    "\n",
    "#     if -1 in labels:\n",
    "#         labels.remove(-1)\n",
    "        \n",
    "#     for i,j in enumerate(labels):\n",
    "        \n",
    "#         g1.add_node(len_g1+i,label_gt=j,coord=[-0.0,-0.0,-0.0])"
   ]
  },
  {
   "cell_type": "code",
   "execution_count": null,
   "metadata": {},
   "outputs": [],
   "source": [
    "dummy_for_visu(g_updated,g1_updated)"
   ]
  },
  {
   "cell_type": "code",
   "execution_count": null,
   "metadata": {
    "scrolled": true
   },
   "outputs": [],
   "source": [
    "list(nx.get_node_attributes(g1_updated,'label_gt').values())"
   ]
  },
  {
   "cell_type": "code",
   "execution_count": null,
   "metadata": {},
   "outputs": [],
   "source": []
  },
  {
   "cell_type": "code",
   "execution_count": 387,
   "metadata": {},
   "outputs": [],
   "source": [
    "graph_0 = nx.read_gpickle('./noise_800,outliers_20/graphs/graph_00000.gpickle')\n",
    "graph_1 = nx.read_gpickle('./noise_800,outliers_20/graphs/graph_00001.gpickle')\n",
    "graph_2 = nx.read_gpickle('./noise_800,outliers_20/graphs/graph_00002.gpickle')\n",
    "graph_3 = nx.read_gpickle('./noise_800,outliers_20/graphs/graph_00003.gpickle')\n",
    "# graph_5 = nx.read_gpickle('./noise_1400,outliers_20/graphs/graph_5.gpickle')\n",
    "\n",
    "grt_01 = np.load('./noise_800,outliers_20/ground_truth.gpickle',allow_pickle=True)"
   ]
  },
  {
   "cell_type": "code",
   "execution_count": 388,
   "metadata": {},
   "outputs": [
    {
     "data": {
      "text/plain": [
       "17"
      ]
     },
     "execution_count": 388,
     "metadata": {},
     "output_type": "execute_result"
    }
   ],
   "source": [
    "nx.number_of_nodes(graph_2)"
   ]
  },
  {
   "cell_type": "code",
   "execution_count": 389,
   "metadata": {},
   "outputs": [],
   "source": [
    "new_groundtruth = [grt_01['0,0'], grt_01['0,1'], grt_01['0,2'], grt_01['0,3']]"
   ]
  },
  {
   "cell_type": "code",
   "execution_count": 390,
   "metadata": {},
   "outputs": [],
   "source": [
    "test_graphs = [graph_0,graph_1,graph_2,graph_3]\n",
    "np.save('new_groundtruth.npy',new_groundtruth)\n",
    "nx.write_gpickle(test_graphs,'test_graphs.gpickle')"
   ]
  },
  {
   "cell_type": "code",
   "execution_count": 391,
   "metadata": {
    "scrolled": false
   },
   "outputs": [
    {
     "data": {
      "text/plain": [
       "[{2: 2, 5: 5, 10: 10, 11: 11, 12: 12, 14: 14},\n",
       " {2: 16, 5: 15, 10: 3, 11: 5, 14: 14},\n",
       " {5: 12, 12: 10},\n",
       " {5: 18, 10: 10, 11: 13, 14: 16}]"
      ]
     },
     "execution_count": 391,
     "metadata": {},
     "output_type": "execute_result"
    }
   ],
   "source": [
    "new_groundtruth"
   ]
  },
  {
   "cell_type": "code",
   "execution_count": 394,
   "metadata": {},
   "outputs": [
    {
     "name": "stdout",
     "output_type": "stream",
     "text": [
      "[-94.56324843  31.94520655   6.10703079] ... [-94.85703263  31.63370855  -1.20492514]\n",
      "False ... False\n",
      "[-48.60981682 -52.42534082  69.91901993] ... [-56.25603427 -51.17239957  64.93569227]\n",
      "False ... False\n",
      "[ 93.82162054  11.55761375 -32.61786448] ... [ 93.77491742  11.834926   -32.65270878]\n",
      "False ... False\n",
      "[-60.32108386   7.78459544 -79.3773703 ] ... [-61.88796636  14.42646136 -77.21241372]\n",
      "False ... False\n",
      "[-15.59387718 -39.16153913 -90.6818882 ] ... [ -9.41205102 -41.07835039 -90.68617549]\n",
      "False ... False\n"
     ]
    }
   ],
   "source": [
    "for i,j in new_groundtruth[1].items():\n",
    "    print(graph_0.nodes[i]['coord'],'...',graph_1.nodes[j]['coord'])\n",
    "    print(graph_0.nodes[i]['is_outlier'],'...',graph_1.nodes[j]['is_outlier'])"
   ]
  },
  {
   "cell_type": "code",
   "execution_count": null,
   "metadata": {},
   "outputs": [],
   "source": []
  },
  {
   "cell_type": "code",
   "execution_count": null,
   "metadata": {},
   "outputs": [],
   "source": [
    "new_groundtruth[1]"
   ]
  },
  {
   "cell_type": "code",
   "execution_count": null,
   "metadata": {
    "scrolled": true
   },
   "outputs": [],
   "source": [
    "for key,value in new_groundtruth[1].items():\n",
    "    \n",
    "    print(graph_0.nodes[key]['coord'], graph_1.nodes[value]['coord'])"
   ]
  },
  {
   "cell_type": "code",
   "execution_count": null,
   "metadata": {},
   "outputs": [],
   "source": [
    "graph_1.nodes"
   ]
  },
  {
   "cell_type": "code",
   "execution_count": null,
   "metadata": {
    "scrolled": false
   },
   "outputs": [],
   "source": [
    "new_groundtruth[2].items()"
   ]
  },
  {
   "cell_type": "code",
   "execution_count": null,
   "metadata": {},
   "outputs": [],
   "source": [
    "gt_02 = grt_01['02']\n",
    "g0 = graph_0.copy()\n",
    "g2 = graph_2.copy()\n",
    "\n",
    "outliers_label = -1\n",
    "\n",
    "dict_lab = {}\n",
    "for n, node in enumerate(g2.nodes):\n",
    "    if node not in list(gt_02.values()):\n",
    "        dict_lab[node] = {'label_gt':outliers_label}\n",
    "        \n",
    "    else:\n",
    "        \n",
    "        dict_lab[node] = {'label_gt':list(gt_02.keys())[list(gt_02.values()).index(node)]}"
   ]
  },
  {
   "cell_type": "code",
   "execution_count": null,
   "metadata": {},
   "outputs": [],
   "source": []
  },
  {
   "cell_type": "code",
   "execution_count": null,
   "metadata": {},
   "outputs": [],
   "source": []
  },
  {
   "cell_type": "code",
   "execution_count": null,
   "metadata": {},
   "outputs": [],
   "source": []
  },
  {
   "cell_type": "code",
   "execution_count": 210,
   "metadata": {},
   "outputs": [],
   "source": [
    "gt = './noise_1500,outliers_20/ground_truth.gpickle'\n",
    "gt = nois"
   ]
  },
  {
   "cell_type": "code",
   "execution_count": 206,
   "metadata": {
    "scrolled": false
   },
   "outputs": [
    {
     "data": {
      "text/plain": [
       "array(['graph_00000.gpickle', 'graph_00001.gpickle',\n",
       "       'graph_00002.gpickle', 'graph_00003.gpickle',\n",
       "       'graph_00004.gpickle', 'graph_00005.gpickle',\n",
       "       'graph_00006.gpickle', 'graph_00007.gpickle',\n",
       "       'graph_00008.gpickle', 'graph_00009.gpickle',\n",
       "       'graph_00010.gpickle', 'graph_00011.gpickle',\n",
       "       'graph_00012.gpickle', 'graph_00013.gpickle',\n",
       "       'graph_00014.gpickle', 'graph_00015.gpickle',\n",
       "       'graph_00016.gpickle', 'graph_00017.gpickle',\n",
       "       'graph_00018.gpickle', 'graph_00019.gpickle'], dtype='<U19')"
      ]
     },
     "execution_count": 206,
     "metadata": {},
     "output_type": "execute_result"
    }
   ],
   "source": [
    "np.sort(os.listdir('./noise_1500,outliers_20/graphs/'))"
   ]
  },
  {
   "cell_type": "code",
   "execution_count": null,
   "metadata": {},
   "outputs": [],
   "source": [
    "def get_permutation_matrix_from_dictionary(matching, g_sizes):\n",
    "    \"\"\"\n",
    "    Create the full permutation matrix from the matching result\n",
    "    :param matching: the matching result for each graph (nodes number, assignment)\n",
    "    :param g_sizes: the list of the size of the different graph\n",
    "    :return: the full permutation matrix\n",
    "    \"\"\"\n",
    "    f_size = int(np.sum(g_sizes))\n",
    "    res = np.zeros((f_size, f_size))\n",
    "\n",
    "    idx1 = 0\n",
    "    for i_g1 in range(len(sizes)):\n",
    "        idx2 = 0\n",
    "        for i_g2 in range(len(sizes)):\n",
    "            match = matching[\"{},{}\".format(i_g1, i_g2)]\n",
    "            for k in match:\n",
    "                res[idx1 + int(k), idx2 + match[k]] = 1\n",
    "            idx2 += sizes[i_g2]\n",
    "        idx1 += sizes[i_g1]\n",
    "\n",
    "    return res"
   ]
  },
  {
   "cell_type": "code",
   "execution_count": 249,
   "metadata": {},
   "outputs": [],
   "source": []
  },
  {
   "cell_type": "code",
   "execution_count": 345,
   "metadata": {},
   "outputs": [],
   "source": [
    "path_to_graphs = './noise_1500,outliers_20/graphs/'\n",
    "path_to_groundtruth_ref = './noise_1500,outliers_20/permutation_to_ref_graph.gpickle'\n",
    "reference_graph = nx.read_gpickle('reference_0.gpickle')"
   ]
  },
  {
   "cell_type": "code",
   "execution_count": 307,
   "metadata": {
    "scrolled": false
   },
   "outputs": [],
   "source": []
  },
  {
   "cell_type": "code",
   "execution_count": 308,
   "metadata": {},
   "outputs": [],
   "source": [
    "list_graphs = load_graphs_in_order(path_to_graphs)\n",
    "ground_truth = nx.read_gpickle(path_to_groundtruth)"
   ]
  },
  {
   "cell_type": "code",
   "execution_count": 263,
   "metadata": {},
   "outputs": [],
   "source": [
    "sizes = [nx.number_of_nodes(g) for g in list_graphs]"
   ]
  },
  {
   "cell_type": "code",
   "execution_count": 333,
   "metadata": {},
   "outputs": [],
   "source": [
    "nodes = [list(graph.nodes()) for graph in list_graphs]"
   ]
  },
  {
   "cell_type": "code",
   "execution_count": null,
   "metadata": {},
   "outputs": [],
   "source": []
  },
  {
   "cell_type": "code",
   "execution_count": null,
   "metadata": {},
   "outputs": [],
   "source": []
  },
  {
   "cell_type": "code",
   "execution_count": 330,
   "metadata": {
    "scrolled": true
   },
   "outputs": [
    {
     "name": "stdout",
     "output_type": "stream",
     "text": [
      "[-97.80548343  -8.96316602  18.80821806] [-98.0701938  -11.20343727  16.02248674]\n",
      "[-43.60572913   3.98506594 -89.90361303] [-43.05288179   2.70645786 -90.21709625]\n",
      "[ 68.44258321  71.68983814 -13.2732781 ] [ 66.5622926   73.40626273 -13.45294748]\n",
      "[-47.6285131  -42.24344192  77.11690058] [-46.71281266 -38.95646934  79.37447089]\n",
      "[34.39975188 70.04587704 62.53184932] [34.85079114 71.50510136 60.60068346]\n",
      "[-83.40981704 -54.79472549  -6.35141564] [-82.56146591 -55.96585618  -7.17128217]\n",
      "[-14.73654717 -46.24582237 -87.43087607] [-14.52337439 -44.90820666 -88.16078817]\n",
      "[-29.12658875 -69.72282329  65.50091404] [-27.99677138 -69.06989269  66.67481321]\n",
      "[99.80204108 -5.15639509  3.60058126] [99.80901978 -4.71223371  3.99429903]\n",
      "[-59.97308298 -24.3009728  -76.24101284] [-61.20794245 -21.99989099 -75.9578342 ]\n",
      "[ 72.16803969 -56.56706062  39.8991441 ] [ 70.55795154 -57.47179196  41.45562211]\n",
      "[ -9.10369379 -85.83046767 -50.50003544] [ -5.23776152 -82.58417386 -56.14641647]\n",
      "[ 20.70765473 -53.35939405  81.9998055 ] [ 23.96131961 -50.68948791  82.80356863]\n",
      "[-89.98932792  42.3637275   10.3554552 ] [-91.4567513   39.59743985   8.22832902]\n",
      "[  3.48977097 -94.05974538  33.77255985] [  1.89222281 -94.34454232  33.09874358]\n",
      "[ 49.9597258  -44.37186377 -74.39867945] [ 50.04443227 -46.05293068 -73.31222528]\n",
      "[-69.14046741  67.6768413   25.28716904] [-68.71054329  68.48217177  24.27042215]\n",
      "[ 78.27466731 -36.76002807 -50.21729577] [ 76.99894295 -36.78991759 -52.13122623]\n",
      "[33.47518725 73.78368157 58.61211626] [34.85079114 71.50510136 60.60068346]\n",
      "[-43.46478271 -37.26148408  81.99020958] [-46.71281266 -38.95646934  79.37447089]\n",
      "[-84.88890011  31.00713338  42.80691904] [-87.17308325  29.20727014  39.3419487 ]\n",
      "[61.23740007 77.5176594  15.52395936] [59.88326741 78.72774478 14.69477749]\n",
      "[81.99150195 29.27275358 49.1985722 ] [84.17899734 28.99917881 45.52959516]\n",
      "[ 90.05231481 -27.57445833  33.6188912 ] [ 90.18589353 -31.28087534  29.7995209 ]\n",
      "[ 78.52828284 -36.42513908 -50.06513794] [ 76.99894295 -36.78991759 -52.13122623]\n",
      "[30.23698557 38.48173745 87.20596646] [30.2319979  38.95145602 86.99891021]\n",
      "[ 95.23495563 -29.22063204  -8.74402019] [ 95.65223997 -28.47408353  -6.3147095 ]\n",
      "[-44.07912291   2.47090859 -89.72694988] [-43.05288179   2.70645786 -90.21709625]\n",
      "[ -9.3393341  -84.42055627 -52.78206626] [ -5.23776152 -82.58417386 -56.14641647]\n",
      "[ 50.5458755  -43.76123148 -74.3644343 ] [ 50.04443227 -46.05293068 -73.31222528]\n",
      "[-29.46483027 -70.12215818  64.92077255] [-27.99677138 -69.06989269  66.67481321]\n",
      "[-68.95345214  68.69813999  22.93440646] [-68.71054329  68.48217177  24.27042215]\n",
      "[12.21664489 14.43624179 98.19546074] [10.98910535 16.76968788 97.96947041]\n",
      "[-87.2066969   24.77225772  42.20577287] [-87.17308325  29.20727014  39.3419487 ]\n",
      "[62.21064214 76.76751282 15.38131918] [59.88326741 78.72774478 14.69477749]\n",
      "[-66.51061415  72.91297873 -16.12562364] [-65.28851654  74.93061428 -11.08208693]\n",
      "[-82.02878111 -56.59215841  -8.28291465] [-82.56146591 -55.96585618  -7.17128217]\n",
      "[-68.02121874  68.8621476   25.12207057] [-68.71054329  68.48217177  24.27042215]\n",
      "[31.60450174 72.14859228 61.60954555] [34.85079114 71.50510136 60.60068346]\n",
      "[ 66.94555781  72.93604839 -14.09344297] [ 66.5622926   73.40626273 -13.45294748]\n",
      "[-98.16664661 -10.58409051  15.85201949] [-98.0701938  -11.20343727  16.02248674]\n",
      "[-12.05756996 -47.28414449 -87.28587908] [-14.52337439 -44.90820666 -88.16078817]\n",
      "[ 79.85492161 -35.59176258 -48.54294934] [ 76.99894295 -36.78991759 -52.13122623]\n",
      "[ -3.91081274 -81.37239881 -57.99343287] [ -5.23776152 -82.58417386 -56.14641647]\n",
      "[10.04833743 15.43489108 98.28934353] [10.98910535 16.76968788 97.96947041]\n",
      "[ -0.86416911  92.772287   -37.31696633] [ -4.46724357  94.82884544 -31.42505063]\n",
      "[-30.12456204 -64.50803307  70.22267747] [-27.99677138 -69.06989269  66.67481321]\n",
      "[32.17909267 39.55531522 86.02257281] [30.2319979  38.95145602 86.99891021]\n",
      "[83.96171308 27.56473651 46.80401733] [84.17899734 28.99917881 45.52959516]\n",
      "[ 63.46538817  75.56502256 -16.18863396] [ 66.5622926   73.40626273 -13.45294748]\n",
      "[-27.19582908 -68.97685938  67.10126489] [-27.99677138 -69.06989269  66.67481321]\n",
      "[ -1.91522727 -79.91850329 -60.07798878] [ -5.23776152 -82.58417386 -56.14641647]\n",
      "[-45.34033815   2.45687455 -89.09667504] [-43.05288179   2.70645786 -90.21709625]\n",
      "[ 69.84839806 -59.70088968  39.45890343] [ 70.55795154 -57.47179196  41.45562211]\n",
      "[31.70261909 70.61664061 63.31061531] [34.85079114 71.50510136 60.60068346]\n",
      "[-19.37501     55.99638818  80.55441328] [-21.83523596  58.25475758  78.29179836]\n",
      "[-69.05959474  67.70489745  25.43264114] [-68.71054329  68.48217177  24.27042215]\n",
      "[ 53.76106194 -45.63213217 -70.90456074] [ 50.04443227 -46.05293068 -73.31222528]\n",
      "[ 94.15347155 -33.60609629  -2.398768  ] [ 95.65223997 -28.47408353  -6.3147095 ]\n",
      "[99.70858491 -5.23123457  5.5526823 ] [99.80901978 -4.71223371  3.99429903]\n",
      "[55.60198926 -3.9753233  83.02177784] [56.81555494 -3.69500226 82.20912161]\n",
      "[ 21.6675561  -48.08204799  84.96254277] [ 23.96131961 -50.68948791  82.80356863]\n",
      "[-87.18419683  32.4985211   36.64371636] [-87.17308325  29.20727014  39.3419487 ]\n",
      "[33.28539935 40.27045736 85.26647908] [30.2319979  38.95145602 86.99891021]\n",
      "[ 93.75420468 -34.26853418  -5.98470294] [ 95.65223997 -28.47408353  -6.3147095 ]\n",
      "[83.51927619 30.00345248 46.09038233] [84.17899734 28.99917881 45.52959516]\n",
      "[-98.22169519 -13.16854366  13.38237839] [-98.0701938  -11.20343727  16.02248674]\n",
      "[-92.6325264   37.60926195   2.1813914 ] [-91.4567513   39.59743985   8.22832902]\n",
      "[-45.84778641   1.37699603 -88.85991426] [-43.05288179   2.70645786 -90.21709625]\n",
      "[ 7.56585338 14.64662057 98.63181215] [10.98910535 16.76968788 97.96947041]\n",
      "[99.48805005 -8.20032502  5.90614645] [99.80901978 -4.71223371  3.99429903]\n",
      "[ 89.18312602 -33.54167321  30.35335551] [ 90.18589353 -31.28087534  29.7995209 ]\n",
      "[-25.89004643 -67.68398304  68.90996978] [-27.99677138 -69.06989269  66.67481321]\n",
      "[ -7.68282205 -83.4204142  -54.60777179] [ -5.23776152 -82.58417386 -56.14641647]\n",
      "[ 48.60716228 -47.41545867 -73.41061269] [ 50.04443227 -46.05293068 -73.31222528]\n",
      "[-49.45094705 -38.55300688  77.89909818] [-46.71281266 -38.95646934  79.37447089]\n",
      "[ -5.4843929   93.13010234 -36.00979689] [ -4.46724357  94.82884544 -31.42505063]\n",
      "[-68.34827228  69.11410563  23.48944612] [-68.71054329  68.48217177  24.27042215]\n",
      "[-12.41725387 -44.68617773 -88.59434139] [-14.52337439 -44.90820666 -88.16078817]\n",
      "[58.96084803 79.53670311 14.05458136] [59.88326741 78.72774478 14.69477749]\n",
      "[ 78.28096331 -34.31053787 -51.91221218] [ 76.99894295 -36.78991759 -52.13122623]\n",
      "[ 94.90432857 -31.00301716  -5.65520512] [ 95.65223997 -28.47408353  -6.3147095 ]\n",
      "[-66.03256735  74.4497301   -9.84569644] [-65.28851654  74.93061428 -11.08208693]\n",
      "[-63.03190428 -21.54326221 -74.58462909] [-61.20794245 -21.99989099 -75.9578342 ]\n",
      "[84.50833768 25.51943815 46.97977372] [84.17899734 28.99917881 45.52959516]\n",
      "[31.43892867 72.15642018 61.68504512] [34.85079114 71.50510136 60.60068346]\n",
      "[-91.20659055  40.58767366   5.83083075] [-91.4567513   39.59743985   8.22832902]\n",
      "[-27.64767851 -68.42596579  67.47957527] [-27.99677138 -69.06989269  66.67481321]\n",
      "[99.87817111 -3.63460324  3.33775287] [99.80901978 -4.71223371  3.99429903]\n",
      "[15.80881334 15.72415061 97.48247283] [10.98910535 16.76968788 97.96947041]\n",
      "[-98.56712521  -8.69559416  14.45366632] [-98.0701938  -11.20343727  16.02248674]\n",
      "[ -8.1530527 -82.4871213 -55.9410632] [ -5.23776152 -82.58417386 -56.14641647]\n",
      "[-85.84274482  28.17441499  42.86286857] [-87.17308325  29.20727014  39.3419487 ]\n",
      "[-49.51468332 -37.19708147  78.5154333 ] [-46.71281266 -38.95646934  79.37447089]\n",
      "[56.37284317 -4.12298019 82.49305175] [56.81555494 -3.69500226 82.20912161]\n",
      "[30.50762468 38.01102476 87.3180785 ] [30.2319979  38.95145602 86.99891021]\n",
      "[ 51.58530539 -46.77732375 -71.7693406 ] [ 50.04443227 -46.05293068 -73.31222528]\n",
      "[83.86521344 26.47630535 47.59864736] [84.17899734 28.99917881 45.52959516]\n",
      "[ 66.40563222  73.71721742 -12.49255239] [ 66.5622926   73.40626273 -13.45294748]\n",
      "[-46.83230174 -39.65537488  78.95686643] [-46.71281266 -38.95646934  79.37447089]\n",
      "[ 73.99990075 -53.4748995   40.7976692 ] [ 70.55795154 -57.47179196  41.45562211]\n",
      "[-87.78461369  25.97679841  40.23763839] [-87.17308325  29.20727014  39.3419487 ]\n",
      "[ 48.9620206  -43.54744069 -75.54032663] [ 50.04443227 -46.05293068 -73.31222528]\n",
      "[60.96336204 77.88626832 14.73762856] [59.88326741 78.72774478 14.69477749]\n",
      "[  1.78505835 -94.72728568  31.99304479] [  1.89222281 -94.34454232  33.09874358]\n",
      "[ 95.15514237 -30.55258424  -3.46965078] [ 95.65223997 -28.47408353  -6.3147095 ]\n",
      "[36.94144134 73.34341755 57.06201025] [34.85079114 71.50510136 60.60068346]\n",
      "[ -3.97820245  94.62685178 -32.09256654] [ -4.46724357  94.82884544 -31.42505063]\n",
      "[ 26.21161973 -48.96467879  83.15895155] [ 23.96131961 -50.68948791  82.80356863]\n",
      "[99.74162697 -4.22770298  5.80813031] [99.80901978 -4.71223371  3.99429903]\n",
      "[-26.5704242  -71.20770847  64.98826673] [-27.99677138 -69.06989269  66.67481321]\n",
      "[-69.56484331  67.35584825  24.97843635] [-68.71054329  68.48217177  24.27042215]\n",
      "[28.00915746 39.42636702 87.52741674] [30.2319979  38.95145602 86.99891021]\n",
      "[ 76.79489573 -39.99971236 -50.02566342] [ 76.99894295 -36.78991759 -52.13122623]\n",
      "[-97.50123707 -12.93830909  18.05848631] [-98.0701938  -11.20343727  16.02248674]\n",
      "[-40.55054515   3.18906765 -91.35361589] [-43.05288179   2.70645786 -90.21709625]\n",
      "[ 95.15992661 -30.64750465  -2.30625832] [ 95.65223997 -28.47408353  -6.3147095 ]\n",
      "[ 50.24669791 -43.69345665 -74.6066431 ] [ 50.04443227 -46.05293068 -73.31222528]\n",
      "[-40.95733635  78.65868392 -46.20939345] [-36.57389605  81.23926065 -45.41511485]\n",
      "[-21.52852867  60.96222197  76.28977615] [-21.83523596  58.25475758  78.29179836]\n",
      "[34.63078325 71.68417031 60.51519295] [34.85079114 71.50510136 60.60068346]\n",
      "[ -3.07951919 -83.54128262 -54.87595703] [ -5.23776152 -82.58417386 -56.14641647]\n",
      "[59.00121052 79.05178005 16.42173037] [59.88326741 78.72774478 14.69477749]\n",
      "[85.0838552  27.69196037 44.65302807] [84.17899734 28.99917881 45.52959516]\n",
      "[-82.96024586 -55.42903437  -6.72456364] [-82.56146591 -55.96585618  -7.17128217]\n",
      "[-46.9551718  -38.13637874  79.62931908] [-46.71281266 -38.95646934  79.37447089]\n",
      "[34.07846422 72.19719243 60.21813417] [34.85079114 71.50510136 60.60068346]\n",
      "[28.39875107 41.04438703 86.65373177] [30.2319979  38.95145602 86.99891021]\n",
      "[-82.84630491 -55.4915672   -7.56146363] [-82.56146591 -55.96585618  -7.17128217]\n",
      "[ 96.63784537 -25.42761986  -3.81614866] [ 95.65223997 -28.47408353  -6.3147095 ]\n",
      "[-91.0089537   40.36904183   9.36540486] [-91.4567513   39.59743985   8.22832902]\n",
      "[ 49.26044621 -45.79642326 -74.00064902] [ 50.04443227 -46.05293068 -73.31222528]\n",
      "[-60.52874542 -18.4279103  -77.43825347] [-61.20794245 -21.99989099 -75.9578342 ]\n",
      "[ 74.56924631 -39.22528955 -53.85911404] [ 76.99894295 -36.78991759 -52.13122623]\n",
      "[56.68057825 -1.18474274 82.37662553] [56.81555494 -3.69500226 82.20912161]\n",
      "[ 21.80442364 -52.01905428  82.57472435] [ 23.96131961 -50.68948791  82.80356863]\n",
      "[-47.7764428  -41.25579427  77.55882253] [-46.71281266 -38.95646934  79.37447089]\n",
      "[-68.54642641  72.21637282  -9.28347582] [-65.28851654  74.93061428 -11.08208693]\n",
      "[-68.20976574  66.92434856  29.47133231] [-68.71054329  68.48217177  24.27042215]\n",
      "[99.74025288 -5.06526023  5.12104417] [99.80901978 -4.71223371  3.99429903]\n",
      "[-98.51532958 -11.4327792   12.80708384] [-98.0701938  -11.20343727  16.02248674]\n",
      "[-37.36019834  81.00790708 -45.18777014] [-36.57389605  81.23926065 -45.41511485]\n",
      "[-43.73329504   6.42548736 -89.70012273] [-43.05288179   2.70645786 -90.21709625]\n",
      "[ 21.55099301 -51.18849188  83.15824072] [ 23.96131961 -50.68948791  82.80356863]\n",
      "[ 95.47039917 -29.13357345  -6.05291508] [ 95.65223997 -28.47408353  -6.3147095 ]\n",
      "[63.43784435 75.620288   16.03782864] [59.88326741 78.72774478 14.69477749]\n",
      "[-37.2641124   80.36690255 -46.39554829] [-36.57389605  81.23926065 -45.41511485]\n",
      "[-19.88729809  57.43035521  79.41189883] [-21.83523596  58.25475758  78.29179836]\n",
      "[85.63341378 29.03284357 42.70845862] [84.17899734 28.99917881 45.52959516]\n",
      "[-66.88256184  73.50505211 -11.1234094 ] [-65.28851654  74.93061428 -11.08208693]\n",
      "[-24.56301996 -72.29726881  64.57370187] [-27.99677138 -69.06989269  66.67481321]\n",
      "[  4.98914389 -93.54501755  34.99197244] [  1.89222281 -94.34454232  33.09874358]\n",
      "[ 49.6576675  -44.99844613 -74.22436193] [ 50.04443227 -46.05293068 -73.31222528]\n",
      "[ 77.9648294  -36.58078945 -50.82648148] [ 76.99894295 -36.78991759 -52.13122623]\n",
      "[ 96.41062542 -25.89353523  -5.87504379] [ 95.65223997 -28.47408353  -6.3147095 ]\n",
      "[-85.65367651  31.61885693  40.78842467] [-87.17308325  29.20727014  39.3419487 ]\n",
      "[ 68.27254729 -60.07995927  41.58434539] [ 70.55795154 -57.47179196  41.45562211]\n",
      "[-67.20708392  69.95941153  24.26702721] [-68.71054329  68.48217177  24.27042215]\n",
      "[ 90.42617844 -32.71733718  27.43505241] [ 90.18589353 -31.28087534  29.7995209 ]\n",
      "[-43.93712371   5.9997577  -89.62997304] [-43.05288179   2.70645786 -90.21709625]\n",
      "[ 8.65573689 18.85261817 97.82462373] [10.98910535 16.76968788 97.96947041]\n",
      "[ 64.67323728  74.55798886 -16.07727208] [ 66.5622926   73.40626273 -13.45294748]\n",
      "[-60.33248928 -23.26622212 -76.28023103] [-61.20794245 -21.99989099 -75.9578342 ]\n",
      "[ 50.18538853 -45.98877068 -73.25612431] [ 50.04443227 -46.05293068 -73.31222528]\n",
      "[-85.33813629  31.24358991  41.72817495] [-87.17308325  29.20727014  39.3419487 ]\n",
      "[ 76.26447771 -37.38110271 -52.78619706] [ 76.99894295 -36.78991759 -52.13122623]\n",
      "[-81.44788324 -57.84611365  -4.47989422] [-82.56146591 -55.96585618  -7.17128217]\n",
      "[82.5360581  30.67009584 47.40405399] [84.17899734 28.99917881 45.52959516]\n",
      "[59.72052414 78.99657482 13.89244986] [59.88326741 78.72774478 14.69477749]\n",
      "[30.92849857 39.47380955 86.51731813] [30.2319979  38.95145602 86.99891021]\n",
      "[-11.69010198 -47.85727784 -87.02311459] [-14.52337439 -44.90820666 -88.16078817]\n",
      "[-98.08794901 -11.4070415   15.76812173] [-98.0701938  -11.20343727  16.02248674]\n",
      "[99.96898046 -2.21771825  1.13343361] [99.80901978 -4.71223371  3.99429903]\n",
      "[ 72.16905491 -56.74818275  39.63926423] [ 70.55795154 -57.47179196  41.45562211]\n",
      "[ 27.05880106 -46.60000352  84.23930767] [ 23.96131961 -50.68948791  82.80356863]\n",
      "[-26.6250696   59.69253245  75.68293889] [-21.83523596  58.25475758  78.29179836]\n",
      "[ -6.25068458  94.73907353 -31.39166911] [ -4.46724357  94.82884544 -31.42505063]\n",
      "[-17.25935696 -46.65201341 -86.75081695] [-14.52337439 -44.90820666 -88.16078817]\n",
      "[-82.2321876  -56.41657245  -7.41873815] [-82.56146591 -55.96585618  -7.17128217]\n",
      "[-98.94948372  -4.18550689  13.83767332] [-98.0701938  -11.20343727  16.02248674]\n",
      "[-37.10244858  79.56496812 -47.88344346] [-36.57389605  81.23926065 -45.41511485]\n",
      "[ -4.78011877  95.1144009  -30.5024787 ] [ -4.46724357  94.82884544 -31.42505063]\n",
      "[ 88.55301967 -35.64347161  29.79774553] [ 90.18589353 -31.28087534  29.7995209 ]\n",
      "[-26.62090362 -72.21559477  63.84540204] [-27.99677138 -69.06989269  66.67481321]\n",
      "[-44.71507301 -35.74221277  81.99424658] [-46.71281266 -38.95646934  79.37447089]\n",
      "[-87.91700059  28.36565636  38.28825598] [-87.17308325  29.20727014  39.3419487 ]\n",
      "[-71.91610452  65.49226461  23.21286683] [-68.71054329  68.48217177  24.27042215]\n",
      "[29.1652552  39.09574151 87.29782864] [30.2319979  38.95145602 86.99891021]\n",
      "[-20.53029404  56.56009135  79.8715412 ] [-21.83523596  58.25475758  78.29179836]\n",
      "[ 25.78602292 -53.89554798  80.18946895] [ 23.96131961 -50.68948791  82.80356863]\n",
      "[-47.92500938 -38.20630722  79.01564127] [-46.71281266 -38.95646934  79.37447089]\n",
      "[-98.93341124  -5.85863692  13.33628561] [-98.0701938  -11.20343727  16.02248674]\n",
      "[-32.26401692 -67.81664782  66.02980759] [-27.99677138 -69.06989269  66.67481321]\n",
      "[ -6.00021147 -86.60838148 -49.6284769 ] [ -5.23776152 -82.58417386 -56.14641647]\n",
      "[57.9744369  -7.05315509 81.17399626] [56.81555494 -3.69500226 82.20912161]\n",
      "[-12.56418681 -45.06463999 -88.3816691 ] [-14.52337439 -44.90820666 -88.16078817]\n",
      "[ 91.09112981 -28.6435773   29.6976691 ] [ 90.18589353 -31.28087534  29.7995209 ]\n",
      "[83.29743773 31.4384437  45.53197916] [84.17899734 28.99917881 45.52959516]\n",
      "[-91.62140258  39.04252157   9.01110971] [-91.4567513   39.59743985   8.22832902]\n",
      "[-19.52151896  58.90393749  78.41706731] [-21.83523596  58.25475758  78.29179836]\n",
      "[-67.02821683  73.55778102  -9.82196521] [-65.28851654  74.93061428 -11.08208693]\n",
      "[ 44.29724907 -47.04876882 -76.31623076] [ 50.04443227 -46.05293068 -73.31222528]\n",
      "[ 71.6190002   68.83009629 -11.53848579] [ 66.5622926   73.40626273 -13.45294748]\n",
      "[29.81802764 40.86795361 86.2594667 ] [30.2319979  38.95145602 86.99891021]\n",
      "[-87.09478898  29.20244382  39.51854004] [-87.17308325  29.20727014  39.3419487 ]\n",
      "[-69.72702443  70.66312789 -12.0359636 ] [-65.28851654  74.93061428 -11.08208693]\n",
      "[85.93038881 27.53927982 43.09937755] [84.17899734 28.99917881 45.52959516]\n",
      "[ 48.1778538  -46.11366936 -74.51458851] [ 50.04443227 -46.05293068 -73.31222528]\n",
      "[-59.62210513 -22.82161202 -76.96998509] [-61.20794245 -21.99989099 -75.9578342 ]\n",
      "[ 91.137954   -30.33951114  27.80984367] [ 90.18589353 -31.28087534  29.7995209 ]\n",
      "[ 25.69814425 -50.43617302  82.4366292 ] [ 23.96131961 -50.68948791  82.80356863]\n",
      "[-21.54562644  56.90843144  79.35500244] [-21.83523596  58.25475758  78.29179836]\n",
      "[12.25812209 15.01908286 98.10283173] [10.98910535 16.76968788 97.96947041]\n",
      "[ 75.43895808 -36.99835086 -54.22255655] [ 76.99894295 -36.78991759 -52.13122623]\n",
      "[62.32766987 76.78572412 14.80588196] [59.88326741 78.72774478 14.69477749]\n",
      "[ 88.99439121 -32.31771397  32.18017552] [ 90.18589353 -31.28087534  29.7995209 ]\n",
      "[-66.38489322  70.41508413  25.19448114] [-68.71054329  68.48217177  24.27042215]\n",
      "[ 62.55463234  77.27513665 -10.74575396] [ 66.5622926   73.40626273 -13.45294748]\n",
      "[-26.13912499 -68.12484361  68.37946935] [-27.99677138 -69.06989269  66.67481321]\n",
      "[-98.3137349  -13.31086652  12.5391532 ] [-98.0701938  -11.20343727  16.02248674]\n",
      "[-88.64894636  28.98118043  36.07569112] [-87.17308325  29.20727014  39.3419487 ]\n",
      "[-45.78662793   5.26262802 -88.74620809] [-43.05288179   2.70645786 -90.21709625]\n",
      "[-83.91669367 -54.35824648  -1.78032686] [-82.56146591 -55.96585618  -7.17128217]\n",
      "[57.56421023 -0.84263255 81.76583437] [56.81555494 -3.69500226 82.20912161]\n",
      "[ 28.3975032  -45.42211528  84.44177435] [ 23.96131961 -50.68948791  82.80356863]\n",
      "[ -1.65403141 -94.54304248  32.54039487] [  1.89222281 -94.34454232  33.09874358]\n",
      "[-27.55758295 -68.48225424  67.4593246 ] [-27.99677138 -69.06989269  66.67481321]\n",
      "[-70.6902214   66.80405477  23.2402854 ] [-68.71054329  68.48217177  24.27042215]\n",
      "[  3.25519715 -95.21261706  30.39673081] [  1.89222281 -94.34454232  33.09874358]\n",
      "[ 51.90628466 -48.57943742 -70.32621043] [ 50.04443227 -46.05293068 -73.31222528]\n",
      "[-84.67075725 -52.57413371  -8.17455388] [-82.56146591 -55.96585618  -7.17128217]\n",
      "[ 65.18457982  74.57645934 -13.75944281] [ 66.5622926   73.40626273 -13.45294748]\n",
      "[27.68709579 36.8850446  88.72946642] [30.2319979  38.95145602 86.99891021]\n",
      "[ 94.72970445 -31.85511081  -3.39632294] [ 95.65223997 -28.47408353  -6.3147095 ]\n",
      "[ 24.29444824 -51.14777569  82.42381226] [ 23.96131961 -50.68948791  82.80356863]\n",
      "[-23.31913738  57.35327828  78.52909844] [-21.83523596  58.25475758  78.29179836]\n",
      "[99.9821747  -1.54525179  1.08486865] [99.80901978 -4.71223371  3.99429903]\n",
      "[ 75.10906113 -36.97999794 -54.69102932] [ 76.99894295 -36.78991759 -52.13122623]\n",
      "[29.51430685 39.80698947 86.8579834 ] [30.2319979  38.95145602 86.99891021]\n",
      "[ -8.02347465 -80.58592274 -58.6645797 ] [ -5.23776152 -82.58417386 -56.14641647]\n",
      "[ 69.92063288 -56.99577716  43.15769321] [ 70.55795154 -57.47179196  41.45562211]\n",
      "[12.03598154 12.7914964  98.4454812 ] [10.98910535 16.76968788 97.96947041]\n",
      "[31.66766164 74.05894778 59.26576971] [34.85079114 71.50510136 60.60068346]\n",
      "[-69.80904609  68.05338218  22.25835254] [-68.71054329  68.48217177  24.27042215]\n",
      "[-30.13110679 -68.07877595  66.76373768] [-27.99677138 -69.06989269  66.67481321]\n",
      "[-67.72594805  73.27508783  -6.63004255] [-65.28851654  74.93061428 -11.08208693]\n",
      "[-97.5821245  -14.19037407  16.62414692] [-98.0701938  -11.20343727  16.02248674]\n",
      "[ -5.52885574  94.25647038 -32.94160813] [ -4.46724357  94.82884544 -31.42505063]\n",
      "[-46.71662891   5.12345307 -88.26837946] [-43.05288179   2.70645786 -90.21709625]\n",
      "[-68.57682944  72.02371232 -10.47870828] [-65.28851654  74.93061428 -11.08208693]\n",
      "[ 9.00153626 19.10531899 97.74435601] [10.98910535 16.76968788 97.96947041]\n",
      "[-30.08942541 -69.25412675  65.56288894] [-27.99677138 -69.06989269  66.67481321]\n",
      "[ -2.38391238 -95.21808209  30.46036449] [  1.89222281 -94.34454232  33.09874358]\n",
      "[61.21145403 77.082163   17.64930716] [59.88326741 78.72774478 14.69477749]\n",
      "[56.29311816 -5.87807362 82.44108866] [56.81555494 -3.69500226 82.20912161]\n",
      "[ 66.07791955  72.77825623 -18.35848492] [ 66.5622926   73.40626273 -13.45294748]\n",
      "[-97.89940079 -13.06824409  15.650186  ] [-98.0701938  -11.20343727  16.02248674]\n",
      "[ 48.36724123 -43.59394577 -75.89583564] [ 50.04443227 -46.05293068 -73.31222528]\n",
      "[28.12974766 38.1470729  88.05406365] [30.2319979  38.95145602 86.99891021]\n",
      "[-87.28798543  31.09157111  37.60481094] [-87.17308325  29.20727014  39.3419487 ]\n",
      "[-61.65323086 -20.42621558 -76.03715435] [-61.20794245 -21.99989099 -75.9578342 ]\n",
      "[ 95.97451463 -27.71230158  -4.57393507] [ 95.65223997 -28.47408353  -6.3147095 ]\n",
      "[82.99519441 30.30764993 46.83208367] [84.17899734 28.99917881 45.52959516]\n"
     ]
    }
   ],
   "source": [
    "for graph,perm in zip(list_graphs,ground_truth):\n",
    "    \n",
    "    for i,j in enumerate(perm):\n",
    "        \n",
    "        if j == 'O':\n",
    "            continue\n",
    "            \n",
    "        print(graph.nodes[i]['coord'],reference_graph.nodes[j]['coord'])\n"
   ]
  },
  {
   "cell_type": "code",
   "execution_count": 338,
   "metadata": {},
   "outputs": [
    {
     "data": {
      "text/plain": [
       "[22, 'O', 6, 0, 11, 20, 26, 'O', 1, 16, 7, 10]"
      ]
     },
     "execution_count": 338,
     "metadata": {},
     "output_type": "execute_result"
    }
   ],
   "source": [
    "ground_truth[9]"
   ]
  },
  {
   "cell_type": "code",
   "execution_count": null,
   "metadata": {},
   "outputs": [],
   "source": []
  },
  {
   "cell_type": "code",
   "execution_count": 339,
   "metadata": {},
   "outputs": [],
   "source": [
    "from graph_generation.load_graphs_and_create_metadata import dataset_metadata"
   ]
  },
  {
   "cell_type": "code",
   "execution_count": 385,
   "metadata": {},
   "outputs": [
    {
     "data": {
      "text/plain": [
       "[22,\n",
       " 19,\n",
       " 18,\n",
       " 20,\n",
       " 10,\n",
       " 27,\n",
       " 20,\n",
       " 22,\n",
       " 17,\n",
       " 25,\n",
       " 26,\n",
       " 19,\n",
       " 24,\n",
       " 25,\n",
       " 27,\n",
       " 24,\n",
       " 24,\n",
       " 24,\n",
       " 19,\n",
       " 31]"
      ]
     },
     "execution_count": 385,
     "metadata": {},
     "output_type": "execute_result"
    }
   ],
   "source": [
    "graph_meta = dataset_metadata(path_to_graphs,path_to_groundtruth_ref)\n",
    "graph_meta.labels\n",
    "graph_meta.sizes"
   ]
  },
  {
   "cell_type": "code",
   "execution_count": null,
   "metadata": {},
   "outputs": [],
   "source": [
    "graph_meta.list_graphs"
   ]
  },
  {
   "cell_type": "code",
   "execution_count": null,
   "metadata": {},
   "outputs": [],
   "source": []
  }
 ],
 "metadata": {
  "kernelspec": {
   "display_name": "Python 3",
   "language": "python",
   "name": "python3"
  },
  "language_info": {
   "codemirror_mode": {
    "name": "ipython",
    "version": 3
   },
   "file_extension": ".py",
   "mimetype": "text/x-python",
   "name": "python",
   "nbconvert_exporter": "python",
   "pygments_lexer": "ipython3",
   "version": "3.8.0"
  }
 },
 "nbformat": 4,
 "nbformat_minor": 5
}
