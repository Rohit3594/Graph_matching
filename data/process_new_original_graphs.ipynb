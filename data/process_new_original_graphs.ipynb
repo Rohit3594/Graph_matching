{
 "cells": [
  {
   "cell_type": "code",
   "execution_count": 1,
   "metadata": {},
   "outputs": [],
   "source": [
    "import networkx as nx\n",
    "import numpy as np\n",
    "import os"
   ]
  },
  {
   "cell_type": "code",
   "execution_count": 2,
   "metadata": {},
   "outputs": [],
   "source": [
    "path_old_batch = './OASIS_full_batch/modified_graphs/'\n",
    "path_new_batch = './Oasis_original_new/'\n",
    "path_to_save = './Oasis_original_new_with_dummy/'"
   ]
  },
  {
   "cell_type": "code",
   "execution_count": 3,
   "metadata": {},
   "outputs": [],
   "source": [
    "old_graphs = [nx.read_gpickle(path_old_batch + graph) for graph in os.listdir(path_old_batch)]\n",
    "new_graphs = [nx.read_gpickle(path_new_batch + graph) for graph in os.listdir(path_new_batch)]\n",
    "\n",
    "new_graph_sizes = [nx.number_of_nodes(g) for g in new_graphs]"
   ]
  },
  {
   "cell_type": "code",
   "execution_count": 4,
   "metadata": {},
   "outputs": [],
   "source": [
    "# old_graphs[0].nodes.data()"
   ]
  },
  {
   "cell_type": "code",
   "execution_count": 5,
   "metadata": {},
   "outputs": [],
   "source": [
    "def get_geodesic_distance_sphere(coord_a, coord_b, radius):\n",
    "    ''' \n",
    "    Return the geodesic distance of two 3D vectors on a sphere\n",
    "    '''\n",
    "    return radius * np.arccos(np.clip(np.dot(coord_a, coord_b) / np.power(radius,2),-1,1))"
   ]
  },
  {
   "cell_type": "code",
   "execution_count": 6,
   "metadata": {},
   "outputs": [],
   "source": [
    "def add_geodesic_distance_on_edges(graph):\n",
    "    \"\"\"\n",
    "    Compute the geodesic distance represented by each edge\n",
    "    and add it as attribute in the graph\n",
    "    \"\"\"\n",
    "\n",
    "    # initialise the dict for atttributes on edges\n",
    "    edges_attributes = {}\n",
    "\n",
    "    # Fill the dictionnary with the geodesic_distance\n",
    "    for edge in graph.edges:\n",
    "        geodesic_distance = get_geodesic_distance_sphere(graph.nodes[edge[0]][\"sphere_3dcoords\"],\n",
    "                                                         graph.nodes[edge[1]][\"sphere_3dcoords\"],\n",
    "                                                         radius=100)\n",
    "\n",
    "        edges_attributes[edge] = {\"geodesic_distance\": geodesic_distance}\n",
    "\n",
    "    nx.set_edge_attributes(graph, edges_attributes)"
   ]
  },
  {
   "cell_type": "code",
   "execution_count": 7,
   "metadata": {},
   "outputs": [],
   "source": [
    "def add_id_on_edges(graph):\n",
    "    \"\"\"\n",
    "    Add an Id information on edge (integer)\n",
    "    \"\"\"\n",
    "\n",
    "    # initialise the dict for atttributes on edges\n",
    "    edges_attributes = {}\n",
    "\n",
    "    # Fill the dictionnary with the geodesic_distance\n",
    "    for i, edge in enumerate(graph.edges):\n",
    "        edges_attributes[edge] = {\"id\": i}\n",
    "\n",
    "    nx.set_edge_attributes(graph, edges_attributes)\n",
    "    "
   ]
  },
  {
   "cell_type": "code",
   "execution_count": 8,
   "metadata": {},
   "outputs": [],
   "source": [
    "def transform_3d_coordinates_into_ndarray(graph):\n",
    "    \"\"\"\n",
    "    Transform the node attribute sphere_3dcoord from a list to a ndarray\n",
    "    \"\"\"\n",
    "    # initialise the dict for atttributes on edges\n",
    "    nodes_attributes = {}\n",
    "\n",
    "    # Fill the dictionnary with the nd_array attribute\n",
    "    for node in graph.nodes:\n",
    "        nodes_attributes[node] = {\"sphere_3dcoords\": np.array(graph.nodes[node][\"sphere_3dcoords\"])}\n",
    "\n",
    "    nx.set_node_attributes(graph, nodes_attributes)"
   ]
  },
  {
   "cell_type": "code",
   "execution_count": 9,
   "metadata": {},
   "outputs": [],
   "source": [
    "def dummy_for_visu(g,max_size):\n",
    "    len_g = len(g.nodes)\n",
    "    num_nodes_add = max_size - len_g\n",
    "    \n",
    "    \n",
    "    dummy_dict = {}\n",
    "    for i in range(nx.number_of_nodes(g)):\n",
    "        dummy_dict[i] = {'is_dummy':False}\n",
    "        \n",
    "    nx.set_node_attributes(g,dummy_dict)    \n",
    "        \n",
    "    if num_nodes_add > 0.:\n",
    "        for i in range(num_nodes_add):\n",
    "            g.add_node(len_g+i,is_dummy = True)"
   ]
  },
  {
   "cell_type": "code",
   "execution_count": 10,
   "metadata": {},
   "outputs": [],
   "source": [
    "all_graphs_name = os.listdir(path_new_batch)"
   ]
  },
  {
   "cell_type": "code",
   "execution_count": 11,
   "metadata": {},
   "outputs": [],
   "source": [
    "# Process graphs\n",
    "\n",
    "# Transform the 3d attributes into ndarray\n",
    "for graph in new_graphs:\n",
    "    transform_3d_coordinates_into_ndarray(graph)\n",
    "\n",
    "# Calculate the geodesic distance for each node and add the id information\n",
    "for graph in new_graphs:\n",
    "    add_geodesic_distance_on_edges(graph)\n",
    "    add_id_on_edges(graph)\n",
    "\n",
    "\n",
    "for i,graph in enumerate(new_graphs):\n",
    "    \n",
    "    graph_num = int(all_graphs_name[i].split('_')[1].split('.')[0])\n",
    "    \n",
    "    max_size = max(new_graph_sizes)\n",
    "    dummy_for_visu(graph,max_size)\n",
    "    \n",
    "                   \n",
    "    nx.write_gpickle(graph, os.path.join(path_to_save, \"modified_graphs\",\"graph_{:05d}\".format(graph_num) + \".gpickle\"))"
   ]
  },
  {
   "cell_type": "code",
   "execution_count": 26,
   "metadata": {},
   "outputs": [
    {
     "data": {
      "text/plain": [
       "{'vertex_index': 3286,\n",
       " 'sphere_3dcoords': array([  5.03527355, -95.44298553, -29.41569519]),\n",
       " 'sphere_coords': [-1.5180883407592773, 1.869369626045227],\n",
       " 'basin_label': 235.0,\n",
       " 'basin_area': 1035.7528,\n",
       " 'depth': -0.5467673,\n",
       " 'basin_thickness': 2.415462017059326,\n",
       " 'ico100_7_vertex_index': 7573,\n",
       " 'is_dummy': False,\n",
       " 'label_dbscan': -1}"
      ]
     },
     "execution_count": 26,
     "metadata": {},
     "output_type": "execute_result"
    }
   ],
   "source": [
    "old_graphs[33].nodes.data()[0]"
   ]
  },
  {
   "cell_type": "code",
   "execution_count": 25,
   "metadata": {},
   "outputs": [
    {
     "data": {
      "text/plain": [
       "{'vertex_index': 1916,\n",
       " 'sphere_3dcoords': array([  4.7382164 , -92.68218231, -37.25      ]),\n",
       " 'sphere_coords': [-1.5197175741195679, 1.9524977207183838],\n",
       " 'basin_label': 459.0,\n",
       " 'basin_area': 114.99903,\n",
       " 'depth': 0.65721834,\n",
       " 'basin_thickness': 2.067657232284546,\n",
       " 'ico100_7_vertex_index': 30281,\n",
       " 'label_neuroimage': 28,\n",
       " 'label_media': 90,\n",
       " 'sphere_3dcoords_noreg': array([ 16.458645, -86.622185, -47.17743 ], dtype=float32),\n",
       " 'ico100_7_vertex_index_noreg': 1896,\n",
       " 'is_dummy': False}"
      ]
     },
     "execution_count": 25,
     "metadata": {},
     "output_type": "execute_result"
    }
   ],
   "source": [
    "new_graphs[34].nodes.data()[0]"
   ]
  },
  {
   "cell_type": "code",
   "execution_count": null,
   "metadata": {},
   "outputs": [],
   "source": []
  },
  {
   "cell_type": "code",
   "execution_count": null,
   "metadata": {},
   "outputs": [],
   "source": []
  }
 ],
 "metadata": {
  "kernelspec": {
   "display_name": "Python 3",
   "language": "python",
   "name": "python3"
  },
  "language_info": {
   "codemirror_mode": {
    "name": "ipython",
    "version": 3
   },
   "file_extension": ".py",
   "mimetype": "text/x-python",
   "name": "python",
   "nbconvert_exporter": "python",
   "pygments_lexer": "ipython3",
   "version": "3.8.0"
  }
 },
 "nbformat": 4,
 "nbformat_minor": 4
}
