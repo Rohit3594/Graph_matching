{
 "cells": [
  {
   "cell_type": "code",
   "execution_count": 1,
   "metadata": {},
   "outputs": [],
   "source": [
    "import os\n",
    "import sys\n",
    "sys.path.append(\"/home/rohit/PhD_Work/GM_my_version/Graph_matching/\")\n",
    "import networkx as nx\n",
    "import numpy as np\n",
    "from graph_matching_tools.io.graph_dataset import GraphDataset"
   ]
  },
  {
   "cell_type": "code",
   "execution_count": 2,
   "metadata": {},
   "outputs": [],
   "source": [
    "#real_data_path = '/home/rohit/PhD_Work/GM_my_version/Graph_matching/data/OASIS_full_batch/modified_graphs/'\n",
    "path_to_graph_folder =  '/home/rohit/PhD_Work/GM_my_version/Graph_matching/data/simu_graph/NEW_SIMUS_JULY_11/'"
   ]
  },
  {
   "cell_type": "code",
   "execution_count": 3,
   "metadata": {},
   "outputs": [],
   "source": [
    "# def remove_dummy_nodes(graph):\n",
    "#     G = graph.copy()\n",
    "#     to_remove = []\n",
    "#     for (p, d) in G.nodes(data=True):\n",
    "#         if d['is_dummy'] == True:\n",
    "#             to_remove.append(p)\n",
    "#     G.remove_nodes_from(to_remove)\n",
    "#     return G"
   ]
  },
  {
   "cell_type": "code",
   "execution_count": null,
   "metadata": {},
   "outputs": [],
   "source": []
  },
  {
   "cell_type": "code",
   "execution_count": 4,
   "metadata": {},
   "outputs": [],
   "source": [
    "def dummy_for_visu(g,max_size):\n",
    "    \n",
    "    len_g = len(g.nodes)\n",
    "    \n",
    "    num_nodes_add = max_size - len_g\n",
    "    \n",
    "    if num_nodes_add > 0.:\n",
    "        \n",
    "        for i in range(num_nodes_add):\n",
    "            \n",
    "            g.add_node(len_g+i,is_dummy = True)\n"
   ]
  },
  {
   "cell_type": "code",
   "execution_count": 5,
   "metadata": {},
   "outputs": [],
   "source": [
    "path_to_save = '/home/rohit/PhD_Work/GM_my_version/Graph_matching/data/simu_graph/NEW_SIMUS_JULY_11_with_dummy/'"
   ]
  },
  {
   "cell_type": "code",
   "execution_count": null,
   "metadata": {},
   "outputs": [],
   "source": []
  },
  {
   "cell_type": "code",
   "execution_count": 6,
   "metadata": {},
   "outputs": [
    {
     "name": "stdout",
     "output_type": "stream",
     "text": [
      "trial:  0\n",
      "Noise folder:  noise_100,outliers_varied\n",
      "Noise folder:  noise_400,outliers_varied\n",
      "Noise folder:  noise_200,outliers_varied\n",
      "Noise folder:  noise_1000,outliers_varied\n",
      "trial:  1\n",
      "Noise folder:  noise_100,outliers_varied\n",
      "Noise folder:  noise_400,outliers_varied\n",
      "Noise folder:  noise_200,outliers_varied\n",
      "Noise folder:  noise_1000,outliers_varied\n",
      "trial:  2\n",
      "Noise folder:  noise_100,outliers_varied\n",
      "Noise folder:  noise_400,outliers_varied\n",
      "Noise folder:  noise_200,outliers_varied\n",
      "Noise folder:  noise_1000,outliers_varied\n",
      "trial:  3\n",
      "Noise folder:  noise_100,outliers_varied\n",
      "Noise folder:  noise_400,outliers_varied\n",
      "Noise folder:  noise_200,outliers_varied\n",
      "Noise folder:  noise_1000,outliers_varied\n",
      "trial:  4\n",
      "Noise folder:  noise_100,outliers_varied\n",
      "Noise folder:  noise_400,outliers_varied\n",
      "Noise folder:  noise_200,outliers_varied\n",
      "Noise folder:  noise_1000,outliers_varied\n",
      "trial:  5\n",
      "Noise folder:  noise_100,outliers_varied\n",
      "Noise folder:  noise_400,outliers_varied\n",
      "Noise folder:  noise_200,outliers_varied\n",
      "Noise folder:  noise_1000,outliers_varied\n",
      "trial:  6\n",
      "Noise folder:  noise_100,outliers_varied\n",
      "Noise folder:  noise_400,outliers_varied\n",
      "Noise folder:  noise_200,outliers_varied\n",
      "Noise folder:  noise_1000,outliers_varied\n",
      "trial:  7\n",
      "Noise folder:  noise_100,outliers_varied\n",
      "Noise folder:  noise_400,outliers_varied\n",
      "Noise folder:  noise_200,outliers_varied\n",
      "Noise folder:  noise_1000,outliers_varied\n",
      "trial:  8\n",
      "Noise folder:  noise_100,outliers_varied\n",
      "Noise folder:  noise_400,outliers_varied\n",
      "Noise folder:  noise_200,outliers_varied\n",
      "Noise folder:  noise_1000,outliers_varied\n",
      "trial:  9\n",
      "Noise folder:  noise_100,outliers_varied\n",
      "Noise folder:  noise_400,outliers_varied\n",
      "Noise folder:  noise_200,outliers_varied\n",
      "Noise folder:  noise_1000,outliers_varied\n"
     ]
    }
   ],
   "source": [
    "trials = np.sort(os.listdir(path_to_graph_folder))\n",
    "\n",
    "all_trials = []\n",
    "\n",
    "for trial in trials:\n",
    "        \n",
    "    print('trial: ', trial)\n",
    "    \n",
    "\n",
    "    all_files = os.listdir(path_to_graph_folder+trial)\n",
    "    folders_in_trial = []\n",
    "    \n",
    "    \n",
    "    path_trial_folder = os.path.join(path_to_save, trial)\n",
    "    \n",
    "    \n",
    "    if not os.path.isdir(path_trial_folder):\n",
    "        os.mkdir(path_trial_folder)\n",
    "    \n",
    "    \n",
    "    for folder in all_files:\n",
    "        \n",
    "        if os.path.isdir(path_to_graph_folder+trial+'/'+ folder):\n",
    "\n",
    "            print('Noise folder: ',folder)\n",
    "\n",
    "            path_to_graphs = path_to_graph_folder + '/' + trial + '/' + folder+'/graphs/'\n",
    "            path_to_groundtruth_ref = path_to_graph_folder + '/' + trial +'/' + folder + '/permutation_to_ref_graph.gpickle'\n",
    "            path_to_groundtruth  = path_to_graph_folder + '/' + trial + '/' + folder + '/ground_truth.gpickle'\n",
    "            \n",
    "            \n",
    "            graph_meta = GraphDataset(path_to_graphs, path_to_groundtruth_ref)\n",
    "            \n",
    "            path_noise_folder = os.path.join(path_trial_folder, folder) \n",
    "            \n",
    "            if not os.path.isdir(path_noise_folder):\n",
    "                os.mkdir(path_noise_folder)\n",
    "                \n",
    "                \n",
    "            path_0_folder = os.path.join(path_noise_folder,'0')\n",
    "                \n",
    "                \n",
    "            if not os.path.isdir(path_0_folder):\n",
    "                os.mkdir(path_0_folder)\n",
    "                os.mkdir(os.path.join(path_0_folder, \"graphs\"))\n",
    "                \n",
    "                \n",
    "            for i,graph in enumerate(graph_meta.list_graphs):\n",
    "                \n",
    "                max_size = max(graph_meta.sizes)\n",
    "                \n",
    "                dummy_for_visu(graph,max_size)\n",
    "                \n",
    "                nx.write_gpickle(graph, os.path.join(path_0_folder, \"graphs\",\"graph_{:05d}\".format(i) + \".gpickle\"))\n",
    "                \n",
    "            folders_in_trial.append(graph_meta.list_graphs)\n",
    "            \n",
    "    all_trials.append(folders_in_trial)\n",
    "            "
   ]
  },
  {
   "cell_type": "code",
   "execution_count": null,
   "metadata": {},
   "outputs": [],
   "source": []
  },
  {
   "cell_type": "code",
   "execution_count": null,
   "metadata": {},
   "outputs": [],
   "source": [
    "graph.nodes.data()"
   ]
  },
  {
   "cell_type": "code",
   "execution_count": null,
   "metadata": {},
   "outputs": [],
   "source": []
  },
  {
   "cell_type": "code",
   "execution_count": null,
   "metadata": {
    "scrolled": false
   },
   "outputs": [],
   "source": [
    "nb_tot_graphs = 134\n",
    "aaa= []\n",
    "for i_graph in range(nb_tot_graphs):\n",
    "    for j_graph in range(i_graph+1, nb_tot_graphs):\n",
    "        \n",
    "        aaa.append((\"{:05d}\".format(i_graph),\"{:05d}\".format(j_graph)))"
   ]
  },
  {
   "cell_type": "code",
   "execution_count": null,
   "metadata": {},
   "outputs": [],
   "source": [
    "real_graph_1 = nx.read_gpickle(real_data_path+'/graph_0.gpickle')"
   ]
  },
  {
   "cell_type": "code",
   "execution_count": 9,
   "metadata": {},
   "outputs": [
    {
     "data": {
      "text/plain": [
       "NodeDataView({0: {'coord': array([-12.30320384, -65.13619328, -74.87260848]), 'is_dummy': False, 'is_outlier': False}, 1: {'coord': array([87.48156417, 37.68946998, 30.43813041]), 'is_dummy': False, 'is_outlier': False}, 2: {'coord': array([-64.08594683, -52.78300152, -55.73998717]), 'is_dummy': False, 'is_outlier': True}, 3: {'coord': array([ 58.90081287, -80.80076504,  -1.38946478]), 'is_dummy': False, 'is_outlier': False}, 4: {'coord': array([ 37.48798486, -70.71424671,  59.95119935]), 'is_dummy': False, 'is_outlier': False}, 5: {'coord': array([99.97035286,  1.24605695,  2.09186308]), 'is_dummy': False, 'is_outlier': False}, 6: {'coord': array([ 80.70154519, -59.02306844,   1.88095637]), 'is_dummy': False, 'is_outlier': False}, 7: {'coord': array([ 29.04286231, -54.60985223,  78.57656259]), 'is_dummy': False, 'is_outlier': False}, 8: {'coord': array([-63.89826022,  60.76431827,  47.16683121]), 'is_dummy': False, 'is_outlier': True}, 9: {'coord': array([96.08624155, 26.1562919 , -9.12592892]), 'is_dummy': False, 'is_outlier': False}, 10: {'coord': array([77.1457411 , 41.55157127, 48.18715136]), 'is_dummy': False, 'is_outlier': False}, 11: {'coord': array([71.47138853, 19.27551783, 67.23313941]), 'is_dummy': False, 'is_outlier': False}, 12: {'coord': array([-84.05028558, -43.57646132,  32.19691776]), 'is_dummy': False, 'is_outlier': False}, 13: {'coord': array([-10.96580556, -71.45133123,  69.09745563]), 'is_dummy': False, 'is_outlier': False}, 14: {'coord': array([-21.09729992,  77.50095846, -59.56933249]), 'is_dummy': False, 'is_outlier': False}, 15: {'coord': array([ -0.55247816,  97.50887495, -22.17462678]), 'is_dummy': False, 'is_outlier': False}, 16: {'coord': array([  3.83232064, -93.35857474, -35.62990093]), 'is_dummy': False, 'is_outlier': False}, 17: {'coord': array([ 17.49725761, -79.48876247,  58.09804315]), 'is_dummy': False, 'is_outlier': False}, 18: {'coord': array([ 44.57768258,  52.6335178 , -72.40540739]), 'is_dummy': False, 'is_outlier': False}, 19: {'coord': array([-68.72775356,  46.85651007,  55.50642624]), 'is_dummy': False, 'is_outlier': False}, 20: {'coord': array([98.01004618, 19.79874257,  1.42850967]), 'is_dummy': False, 'is_outlier': False}, 21: {'coord': array([-32.69360559,  31.68111171,  89.03614611]), 'is_dummy': False, 'is_outlier': True}, 22: {'coord': array([-66.07539884,   3.89021974,  74.95937472]), 'is_dummy': False, 'is_outlier': False}, 23: {'coord': array([43.00223577, 85.15696527, 29.98497931]), 'is_dummy': False, 'is_outlier': False}, 24: {'coord': array([-78.87525287,  13.1768849 ,  60.04218675]), 'is_dummy': False, 'is_outlier': False}, 25: {'coord': array([-54.47429798,  75.22757927,  37.05890145]), 'is_dummy': False, 'is_outlier': False}, 26: {'coord': array([ 74.4337929 , -63.92210305, -19.32809394]), 'is_dummy': False, 'is_outlier': False}, 27: {'coord': array([14.13103456, 75.43359273, 64.10995984]), 'is_dummy': False, 'is_outlier': False}, 28: {'coord': array([ 71.81684064,  17.92731239, -67.23803144]), 'is_dummy': False, 'is_outlier': False}, 29: {'coord': array([ 92.13320044, -28.7867142 , -26.13041259]), 'is_dummy': False, 'is_outlier': False}, 30: {'coord': array([ 25.76595823, -31.70131017, -91.27509151]), 'is_dummy': False, 'is_outlier': False}, 31: {'coord': array([  7.1056677 ,  73.8426977 , -67.05792632]), 'is_dummy': False, 'is_outlier': False}, 32: {'coord': array([-81.71677325, -55.38864856,  15.95200865]), 'is_dummy': False, 'is_outlier': False}, 33: {'coord': array([-60.45869709, -33.75127008, -72.14982823]), 'is_dummy': False, 'is_outlier': False}, 34: {'coord': array([-43.07690637, -90.22302095,   2.04612495]), 'is_dummy': False, 'is_outlier': False}, 35: {'coord': array([-24.41574283,  96.0700306 , -13.20684378]), 'is_dummy': False, 'is_outlier': False}, 36: {'coord': array([ 16.39330171,  33.32235247, -92.84869673]), 'is_dummy': False, 'is_outlier': False}, 37: {'coord': array([-1.95021695,  8.10115027, 99.65223539]), 'is_dummy': False, 'is_outlier': False}, 38: {'coord': array([-53.51140733, -83.68762571, -11.52868542]), 'is_dummy': False, 'is_outlier': False}, 39: {'coord': array([-22.52255861,  70.48152552,  67.26878112]), 'is_dummy': False, 'is_outlier': False}, 40: {'coord': array([ 68.23147659,  32.00640387, -65.72713073]), 'is_dummy': False, 'is_outlier': False}, 41: {'coord': array([-27.85087604,  77.56423171,  56.64025656]), 'is_dummy': False, 'is_outlier': False}, 42: {'coord': array([-51.03958386, -71.21997712,  48.1941463 ]), 'is_dummy': False, 'is_outlier': False}, 43: {'coord': array([ 39.80976785, -74.00719359, -54.20440646]), 'is_dummy': False, 'is_outlier': False}, 44: {'coord': array([-31.95032942, -74.9011713 ,  58.04300981]), 'is_dummy': False, 'is_outlier': False}, 45: {'coord': array([-18.08184941, -24.3769814 , -95.28278701]), 'is_dummy': False, 'is_outlier': False}, 46: {'coord': array([-34.28513641, -36.52268668, -86.54838404]), 'is_dummy': False, 'is_outlier': False}, 47: {'coord': array([-44.01961826,   7.48424909,  89.47770238]), 'is_dummy': False, 'is_outlier': False}, 48: {'coord': array([-57.38187617, -11.47755582, -81.08998705]), 'is_dummy': False, 'is_outlier': False}, 49: {'coord': array([-27.61019486, -40.94746195,  86.9539102 ]), 'is_dummy': False, 'is_outlier': False}, 50: {'coord': array([32.29323939, 85.18306721, 41.24308124]), 'is_dummy': False, 'is_outlier': True}, 51: {'coord': array([ 3.30408356, 99.94274349, -0.72873545]), 'is_dummy': False, 'is_outlier': False}, 52: {'coord': array([ 13.75950504, -35.8414363 ,  92.33670703]), 'is_dummy': False, 'is_outlier': False}, 53: {'coord': array([-45.83335255,  59.09850204,  66.38276019]), 'is_dummy': False, 'is_outlier': False}, 54: {'coord': array([-10.51634773, -69.48809026, -71.1393825 ]), 'is_dummy': False, 'is_outlier': False}, 55: {'coord': array([-61.48143445, -78.81164754,   2.95929554]), 'is_dummy': False, 'is_outlier': False}, 56: {'coord': array([ 2.52920092e-02, -4.18147225e+01, -9.08379235e+01]), 'is_dummy': False, 'is_outlier': False}, 57: {'coord': array([-81.3695675 ,   2.00385996, -58.09456111]), 'is_dummy': False, 'is_outlier': True}, 58: {'coord': array([ 12.58050997, -99.06285635,   5.31801275]), 'is_dummy': False, 'is_outlier': True}, 59: {'coord': array([-25.27362377, -88.3275475 ,  39.49035697]), 'is_dummy': False, 'is_outlier': True}, 60: {'coord': array([-52.43107911, -61.71940485,  58.66597828]), 'is_dummy': False, 'is_outlier': False}, 61: {'coord': array([-15.10704451,  51.86059459,  84.15614021]), 'is_dummy': False, 'is_outlier': False}, 62: {'coord': array([ 93.92454078,  -5.72888717, -33.84317496]), 'is_dummy': False, 'is_outlier': False}, 63: {'coord': array([ 85.62237637,  14.24268243, -49.65837958]), 'is_dummy': False, 'is_outlier': False}, 64: {'coord': array([-74.9803193 , -60.70812259,  26.31493055]), 'is_dummy': False, 'is_outlier': False}, 65: {'coord': array([ -3.26052153, -98.7285702 ,  15.55758416]), 'is_dummy': False, 'is_outlier': False}, 66: {'coord': array([ 20.84577993, -47.90335389, -85.26852963]), 'is_dummy': False, 'is_outlier': False}, 67: {'coord': array([-60.48159795, -62.63082437, -49.186951  ]), 'is_dummy': False, 'is_outlier': False}, 68: {'coord': array([-48.33973554,  11.36694773, -86.79897734]), 'is_dummy': False, 'is_outlier': False}, 69: {'coord': array([59.15799511, 52.30635322, 61.35451922]), 'is_dummy': False, 'is_outlier': False}, 70: {'coord': array([ 83.27132887, -53.94807413,  12.46960648]), 'is_dummy': False, 'is_outlier': False}, 71: {'coord': array([44.51518936, 63.19652915, 63.43970854]), 'is_dummy': False, 'is_outlier': False}, 72: {'coord': array([-75.80669733, -24.91351898, -60.27156221]), 'is_dummy': False, 'is_outlier': False}, 73: {'coord': array([34.01252572, 76.54300423, 54.62889893]), 'is_dummy': False, 'is_outlier': False}, 74: {'coord': array([ 62.27874783, -57.15785238, -53.42600003]), 'is_dummy': False, 'is_outlier': False}, 75: {'coord': array([  6.45588961, -94.60317114,  31.75785728]), 'is_dummy': False, 'is_outlier': False}, 76: {'coord': array([38.00534498, 28.1237697 , 88.11723629]), 'is_dummy': False, 'is_outlier': False}, 77: {'coord': array([  2.39094502,  53.75818396, -84.28725312]), 'is_dummy': False, 'is_outlier': False}, 78: {'coord': array([ 24.20822759,  78.86870218, -56.51273779]), 'is_dummy': False, 'is_outlier': False}, 79: {'coord': array([-46.48869144, -35.86715777,  80.94657844]), 'is_dummy': False, 'is_outlier': False}, 80: {'coord': array([ -4.75248407, -99.65178684,   6.85093239]), 'is_dummy': False, 'is_outlier': True}, 81: {'coord': array([-65.69242129, -75.13761328,  -6.23256415]), 'is_dummy': False, 'is_outlier': False}, 82: {'coord': array([ 56.89843185,  42.8376738 , -70.1961691 ]), 'is_dummy': False, 'is_outlier': True}, 83: {'coord': array([-35.73831431, -91.33534909,  19.50966164]), 'is_dummy': False, 'is_outlier': False}, 84: {'coord': array([ 24.31582974,  88.11469261, -40.55294527]), 'is_dummy': False, 'is_outlier': False}, 85: {'coord': array([-71.12263681,  60.23784126,  36.23496949]), 'is_dummy': False, 'is_outlier': False}, 86: {'is_dummy': True}, 87: {'is_dummy': True}, 88: {'is_dummy': True}, 89: {'is_dummy': True}, 90: {'is_dummy': True}, 91: {'is_dummy': True}, 92: {'is_dummy': True}, 93: {'is_dummy': True}, 94: {'is_dummy': True}, 95: {'is_dummy': True}, 96: {'is_dummy': True}, 97: {'is_dummy': True}, 98: {'is_dummy': True}})"
      ]
     },
     "execution_count": 9,
     "metadata": {},
     "output_type": "execute_result"
    }
   ],
   "source": [
    "graph.nodes.data()"
   ]
  },
  {
   "cell_type": "code",
   "execution_count": null,
   "metadata": {},
   "outputs": [],
   "source": []
  },
  {
   "cell_type": "code",
   "execution_count": null,
   "metadata": {},
   "outputs": [],
   "source": []
  }
 ],
 "metadata": {
  "kernelspec": {
   "display_name": "Python 3 (ipykernel)",
   "language": "python",
   "name": "python3"
  },
  "language_info": {
   "codemirror_mode": {
    "name": "ipython",
    "version": 3
   },
   "file_extension": ".py",
   "mimetype": "text/x-python",
   "name": "python",
   "nbconvert_exporter": "python",
   "pygments_lexer": "ipython3",
   "version": "3.8.0"
  }
 },
 "nbformat": 4,
 "nbformat_minor": 4
}
