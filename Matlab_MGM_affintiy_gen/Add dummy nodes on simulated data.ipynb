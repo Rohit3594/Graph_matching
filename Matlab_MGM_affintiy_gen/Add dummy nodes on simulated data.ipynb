{
 "cells": [
  {
   "cell_type": "code",
   "execution_count": 1,
   "metadata": {},
   "outputs": [],
   "source": [
    "import os\n",
    "import sys\n",
    "sys.path.append(\"/home/rohit/PhD_Work/GM_my_version/Graph_matching/\")\n",
    "import networkx as nx\n",
    "import numpy as np\n",
    "from graph_matching_tools.io.graph_dataset import GraphDataset"
   ]
  },
  {
   "cell_type": "code",
   "execution_count": 2,
   "metadata": {},
   "outputs": [],
   "source": [
    "real_data_path = '/home/rohit/PhD_Work/GM_my_version/Graph_matching/data/OASIS_full_batch/modified_graphs/'\n",
    "path_to_graph_folder = '/home/rohit/PhD_Work/GM_my_version/Graph_matching/data/simu_graph/simu_test_single_noise/'"
   ]
  },
  {
   "cell_type": "code",
   "execution_count": 3,
   "metadata": {},
   "outputs": [],
   "source": [
    "# def remove_dummy_nodes(graph):\n",
    "#     G = graph.copy()\n",
    "#     to_remove = []\n",
    "#     for (p, d) in G.nodes(data=True):\n",
    "#         if d['is_dummy'] == True:\n",
    "#             to_remove.append(p)\n",
    "#     G.remove_nodes_from(to_remove)\n",
    "#     return G"
   ]
  },
  {
   "cell_type": "code",
   "execution_count": 4,
   "metadata": {},
   "outputs": [],
   "source": [
    "def dummy_for_visu(g,max_size):\n",
    "    \n",
    "    len_g = len(g.nodes)\n",
    "    \n",
    "    num_nodes_add = max_size - len_g\n",
    "    \n",
    "    if num_nodes_add > 0.:\n",
    "        \n",
    "        for i in range(num_nodes_add):\n",
    "            \n",
    "            g.add_node(len_g+i,is_dummy = True)\n"
   ]
  },
  {
   "cell_type": "code",
   "execution_count": 5,
   "metadata": {},
   "outputs": [],
   "source": [
    "path_to_save = '/home/rohit/PhD_Work/GM_my_version/Graph_matching/data/simu_graph/simu_with_dummy'"
   ]
  },
  {
   "cell_type": "code",
   "execution_count": 6,
   "metadata": {},
   "outputs": [
    {
     "name": "stdout",
     "output_type": "stream",
     "text": [
      "trial:  0.0\n",
      "Noise folder:  noise_100,outliers_varied\n",
      "Noise folder:  noise_400,outliers_varied\n",
      "Noise folder:  noise_700,outliers_varied\n",
      "Noise folder:  noise_1300,outliers_varied\n",
      "Noise folder:  noise_1000,outliers_varied\n",
      "trial:  0.1\n",
      "Noise folder:  noise_100,outliers_varied\n",
      "Noise folder:  noise_400,outliers_varied\n",
      "Noise folder:  noise_700,outliers_varied\n",
      "Noise folder:  noise_1300,outliers_varied\n",
      "Noise folder:  noise_1000,outliers_varied\n",
      "trial:  0.2\n",
      "Noise folder:  noise_100,outliers_varied\n",
      "Noise folder:  noise_400,outliers_varied\n",
      "Noise folder:  noise_700,outliers_varied\n",
      "Noise folder:  noise_1300,outliers_varied\n",
      "Noise folder:  noise_1000,outliers_varied\n",
      "trial:  0.3\n",
      "Noise folder:  noise_100,outliers_varied\n",
      "Noise folder:  noise_400,outliers_varied\n",
      "Noise folder:  noise_700,outliers_varied\n",
      "Noise folder:  noise_1300,outliers_varied\n",
      "Noise folder:  noise_1000,outliers_varied\n",
      "trial:  0.4\n",
      "Noise folder:  noise_100,outliers_varied\n",
      "Noise folder:  noise_400,outliers_varied\n",
      "Noise folder:  noise_700,outliers_varied\n",
      "Noise folder:  noise_1300,outliers_varied\n",
      "Noise folder:  noise_1000,outliers_varied\n",
      "trial:  0.5\n",
      "Noise folder:  noise_100,outliers_varied\n",
      "Noise folder:  noise_400,outliers_varied\n",
      "Noise folder:  noise_700,outliers_varied\n",
      "Noise folder:  noise_1300,outliers_varied\n",
      "Noise folder:  noise_1000,outliers_varied\n",
      "trial:  0.6\n",
      "Noise folder:  noise_100,outliers_varied\n",
      "Noise folder:  noise_400,outliers_varied\n",
      "Noise folder:  noise_700,outliers_varied\n",
      "Noise folder:  noise_1300,outliers_varied\n",
      "Noise folder:  noise_1000,outliers_varied\n",
      "trial:  0.7\n",
      "Noise folder:  noise_100,outliers_varied\n",
      "Noise folder:  noise_400,outliers_varied\n",
      "Noise folder:  noise_700,outliers_varied\n",
      "Noise folder:  noise_1300,outliers_varied\n",
      "Noise folder:  noise_1000,outliers_varied\n",
      "trial:  0.8\n",
      "Noise folder:  noise_100,outliers_varied\n",
      "Noise folder:  noise_400,outliers_varied\n",
      "Noise folder:  noise_700,outliers_varied\n",
      "Noise folder:  noise_1300,outliers_varied\n",
      "Noise folder:  noise_1000,outliers_varied\n",
      "trial:  0.9\n",
      "Noise folder:  noise_100,outliers_varied\n",
      "Noise folder:  noise_400,outliers_varied\n",
      "Noise folder:  noise_700,outliers_varied\n",
      "Noise folder:  noise_1300,outliers_varied\n",
      "Noise folder:  noise_1000,outliers_varied\n"
     ]
    }
   ],
   "source": [
    "trials = np.sort(os.listdir(path_to_graph_folder))\n",
    "\n",
    "all_trials = []\n",
    "\n",
    "for trial in trials:\n",
    "        \n",
    "    print('trial: ', trial)\n",
    "    \n",
    "\n",
    "    all_files = os.listdir(path_to_graph_folder+trial)\n",
    "    folders_in_trial = []\n",
    "    \n",
    "    \n",
    "    path_trial_folder = os.path.join(path_to_save, trial)\n",
    "    \n",
    "    \n",
    "    if not os.path.isdir(path_trial_folder):\n",
    "        os.mkdir(path_trial_folder)\n",
    "    \n",
    "    \n",
    "    for folder in all_files:\n",
    "        \n",
    "        if os.path.isdir(path_to_graph_folder+trial+'/'+ folder):\n",
    "\n",
    "            print('Noise folder: ',folder)\n",
    "\n",
    "            path_to_graphs = path_to_graph_folder + '/' + trial + '/' + folder+'/graphs/'\n",
    "            path_to_groundtruth_ref = path_to_graph_folder + '/' + trial +'/' + folder + '/permutation_to_ref_graph.gpickle'\n",
    "            path_to_groundtruth  = path_to_graph_folder + '/' + trial + '/' + folder + '/ground_truth.gpickle'\n",
    "            \n",
    "            \n",
    "            graph_meta = GraphDataset(path_to_graphs, path_to_groundtruth_ref)\n",
    "            \n",
    "            path_noise_folder = os.path.join(path_trial_folder, folder) \n",
    "            \n",
    "            if not os.path.isdir(path_noise_folder):\n",
    "                os.mkdir(path_noise_folder)\n",
    "                \n",
    "                \n",
    "            path_0_folder = os.path.join(path_noise_folder,'0')\n",
    "                \n",
    "                \n",
    "            if not os.path.isdir(path_0_folder):\n",
    "                os.mkdir(path_0_folder)\n",
    "                os.mkdir(os.path.join(path_0_folder, \"graphs\"))\n",
    "                \n",
    "                \n",
    "            for i,graph in enumerate(graph_meta.list_graphs):\n",
    "                \n",
    "                max_size = max(graph_meta.sizes)\n",
    "                \n",
    "                dummy_for_visu(graph,max_size)\n",
    "                \n",
    "                nx.write_gpickle(graph, os.path.join(path_0_folder, \"graphs\",\"graph_{:05d}\".format(i) + \".gpickle\"))\n",
    "                \n",
    "            folders_in_trial.append(graph_meta.list_graphs)\n",
    "            \n",
    "    all_trials.append(folders_in_trial)\n",
    "            "
   ]
  },
  {
   "cell_type": "code",
   "execution_count": 65,
   "metadata": {},
   "outputs": [
    {
     "data": {
      "text/plain": [
       "NodeDataView({0: {'coord': array([-24.57375231, -73.68464069,  62.9817785 ]), 'is_dummy': False, 'is_outlier': False}, 1: {'coord': array([-99.42279675,   6.23351075,  -8.7321721 ]), 'is_dummy': False, 'is_outlier': False}, 2: {'coord': array([ 10.05053703, -37.34170901,  92.2202986 ]), 'is_dummy': False, 'is_outlier': False}, 3: {'coord': array([ 86.09782539, -36.54727097, -35.37600102]), 'is_dummy': False, 'is_outlier': False}, 4: {'coord': array([-55.97712884,  72.16771689, -40.72323275]), 'is_dummy': False, 'is_outlier': False}, 5: {'coord': array([ 42.48784909, -88.99471863, -16.57476204]), 'is_dummy': False, 'is_outlier': False}, 6: {'coord': array([-79.31835379, -42.79348675,  43.32800761]), 'is_dummy': False, 'is_outlier': False}, 7: {'coord': array([-72.43802605,  45.99511683, -51.35349657]), 'is_dummy': False, 'is_outlier': False}, 8: {'coord': array([-76.23797483, -57.96212128, -28.77783332]), 'is_dummy': False, 'is_outlier': False}, 9: {'coord': array([-48.15093994, -45.8846911 ,  74.67316858]), 'is_dummy': False, 'is_outlier': False}, 10: {'coord': array([ -2.82192617, -46.35062583,  88.56441846]), 'is_dummy': False, 'is_outlier': False}, 11: {'coord': array([-12.93762537,  95.50180828,  26.68374909]), 'is_dummy': False, 'is_outlier': False}, 12: {'coord': array([  1.21556762, -27.97005033,  96.00103478]), 'is_dummy': False, 'is_outlier': False}, 13: {'coord': array([21.56712223, 36.92907206, 90.39415288]), 'is_dummy': False, 'is_outlier': False}, 14: {'coord': array([ 79.17677093, -28.96610619, -53.77735246]), 'is_dummy': False, 'is_outlier': False}, 15: {'coord': array([ -5.66192346, -59.8093123 , -79.94240918]), 'is_dummy': False, 'is_outlier': False}, 16: {'coord': array([-21.69329876,  88.73087528, -40.69683724]), 'is_dummy': False, 'is_outlier': False}, 17: {'coord': array([ 38.31480364, -75.21228545, -53.61984651]), 'is_dummy': False, 'is_outlier': True}, 18: {'coord': array([ 38.78526254, -90.34354469, -18.26875319]), 'is_dummy': False, 'is_outlier': True}, 19: {'coord': array([ 87.25187121, -48.64645538,   4.54239466]), 'is_dummy': False, 'is_outlier': False}, 20: {'coord': array([15.27793716, 86.4943275 , 47.80497826]), 'is_dummy': False, 'is_outlier': False}, 21: {'coord': array([-62.57477057, -73.42104485,  26.33910138]), 'is_dummy': False, 'is_outlier': False}, 22: {'coord': array([ -5.55387064,  73.25733059, -67.84186049]), 'is_dummy': False, 'is_outlier': False}, 23: {'coord': array([ 13.83617609, -21.49961132, -96.67640324]), 'is_dummy': False, 'is_outlier': False}, 24: {'coord': array([-49.09276343,  19.79972164,  84.84027111]), 'is_dummy': False, 'is_outlier': True}, 25: {'coord': array([-43.87881646,  37.98495601,  81.43581879]), 'is_dummy': False, 'is_outlier': False}, 26: {'coord': array([-40.4989892 ,  85.79707139,  31.60212673]), 'is_dummy': False, 'is_outlier': False}, 27: {'coord': array([ 2.11332194e+00, -7.00666035e-02, -9.99776423e+01]), 'is_dummy': False, 'is_outlier': False}, 28: {'coord': array([-72.15049883, -68.72833615,   8.40959741]), 'is_dummy': False, 'is_outlier': False}, 29: {'coord': array([ 13.34821481,  36.39168098, -92.18172659]), 'is_dummy': False, 'is_outlier': False}, 30: {'coord': array([ 68.56157035, -70.72218915,  17.25349336]), 'is_dummy': False, 'is_outlier': False}, 31: {'coord': array([-93.25934996,   1.82575666,  36.04664003]), 'is_dummy': False, 'is_outlier': False}, 32: {'coord': array([ 70.05817454,  53.14763487, -47.61492505]), 'is_dummy': False, 'is_outlier': False}, 33: {'coord': array([-36.46507666, -73.0800543 , -57.70271958]), 'is_dummy': False, 'is_outlier': False}, 34: {'coord': array([-30.66648209, -26.53888996, -91.40707957]), 'is_dummy': False, 'is_outlier': True}, 35: {'coord': array([ 66.8219224 ,  10.46979245, -73.65605292]), 'is_dummy': False, 'is_outlier': False}, 36: {'coord': array([-26.301764  ,  18.11918953,  94.76239856]), 'is_dummy': False, 'is_outlier': False}, 37: {'coord': array([-84.47906959,  35.37889141,  40.14499774]), 'is_dummy': False, 'is_outlier': False}, 38: {'coord': array([-47.22603405,  53.39522284, -70.13310122]), 'is_dummy': False, 'is_outlier': False}, 39: {'coord': array([56.09975157, 82.26887688, -9.20053105]), 'is_dummy': False, 'is_outlier': False}, 40: {'coord': array([  7.93328765, -95.29725571, -29.24886324]), 'is_dummy': False, 'is_outlier': True}, 41: {'coord': array([ 20.92239747,  96.51897808, -15.69522715]), 'is_dummy': False, 'is_outlier': False}, 42: {'coord': array([-43.43047293, -17.05721584,  88.44685076]), 'is_dummy': False, 'is_outlier': True}, 43: {'coord': array([-63.55175035,  24.88249353,  73.08923685]), 'is_dummy': False, 'is_outlier': False}, 44: {'coord': array([-39.0759999 ,  77.44933177, -49.74602738]), 'is_dummy': False, 'is_outlier': False}, 45: {'coord': array([-92.81344886, -32.98868102,  17.24559756]), 'is_dummy': False, 'is_outlier': False}, 46: {'coord': array([-53.07747701,  73.39476239,  42.37912561]), 'is_dummy': False, 'is_outlier': False}, 47: {'coord': array([60.55198864, 44.55027207, 65.94490071]), 'is_dummy': False, 'is_outlier': False}, 48: {'coord': array([-28.96640615, -83.75233428, -46.33026892]), 'is_dummy': False, 'is_outlier': False}, 49: {'coord': array([77.1651369 , 30.48239595, 55.82441387]), 'is_dummy': False, 'is_outlier': False}, 50: {'coord': array([99.56584863, -8.84998522, -2.88436276]), 'is_dummy': False, 'is_outlier': False}, 51: {'coord': array([80.48243877, 35.46259248, 47.59182267]), 'is_dummy': False, 'is_outlier': False}, 52: {'coord': array([ -8.70607451, -82.36233309, -56.04150564]), 'is_dummy': False, 'is_outlier': False}, 53: {'coord': array([ -3.45654617,  86.86077023, -49.42933222]), 'is_dummy': False, 'is_outlier': False}, 54: {'coord': array([ 37.32786599,  18.29245495, -90.95062678]), 'is_dummy': False, 'is_outlier': False}, 55: {'coord': array([-93.10083414,  36.49385577,   0.65815957]), 'is_dummy': False, 'is_outlier': False}, 56: {'coord': array([-68.51551059,  11.02289346, -72.00083769]), 'is_dummy': False, 'is_outlier': False}, 57: {'coord': array([ -5.22994002, -93.64168724, -34.69700475]), 'is_dummy': False, 'is_outlier': False}, 58: {'coord': array([55.66043055, 82.36463812, 10.86199141]), 'is_dummy': False, 'is_outlier': False}, 59: {'coord': array([-19.79315016, -97.99232306,   2.39495874]), 'is_dummy': False, 'is_outlier': False}, 60: {'coord': array([39.97830584, 87.57697503, 27.0556557 ]), 'is_dummy': False, 'is_outlier': False}, 61: {'coord': array([ 69.58796474, -43.02527634, -57.50078921]), 'is_dummy': False, 'is_outlier': False}, 62: {'coord': array([ 75.01064636, -66.02330984,   3.78490302]), 'is_dummy': False, 'is_outlier': True}, 63: {'coord': array([31.93703361, 74.97929002, 57.9493913 ]), 'is_dummy': False, 'is_outlier': False}, 64: {'coord': array([-43.28962612,  89.78882899,  -7.99840351]), 'is_dummy': False, 'is_outlier': False}, 65: {'coord': array([57.38811346, 73.64061365, 35.82826335]), 'is_dummy': False, 'is_outlier': False}, 66: {'coord': array([76.02792404, 51.96073004, 38.98509074]), 'is_dummy': False, 'is_outlier': False}, 67: {'coord': array([ 77.20887766, -11.15976888, -62.56395743]), 'is_dummy': False, 'is_outlier': False}, 68: {'coord': array([28.60410071, 59.78057462, 74.8871706 ]), 'is_dummy': False, 'is_outlier': False}, 69: {'coord': array([12.46242776, 23.56646945, 96.38106355]), 'is_dummy': False, 'is_outlier': False}, 70: {'coord': array([-24.98623778,  96.43566229,   8.70924571]), 'is_dummy': False, 'is_outlier': False}, 71: {'coord': array([ 79.75986399,  35.8409768 , -48.51585801]), 'is_dummy': False, 'is_outlier': False}, 72: {'coord': array([-37.09499423, -92.55197573,  -7.621889  ]), 'is_dummy': False, 'is_outlier': False}, 73: {'coord': array([ 44.65186024, -19.28595944, -87.3742705 ]), 'is_dummy': False, 'is_outlier': False}, 74: {'coord': array([ 23.04362474,  77.33339193, -59.06384556]), 'is_dummy': False, 'is_outlier': False}, 75: {'coord': array([-5.08112917, 20.5246192 , 97.73905122]), 'is_dummy': False, 'is_outlier': True}, 76: {'coord': array([-64.04048144, -76.78981018,   1.4634853 ]), 'is_dummy': False, 'is_outlier': False}, 77: {'coord': array([ 89.62598129,  40.41653695, -18.26710209]), 'is_dummy': False, 'is_outlier': False}, 78: {'coord': array([-84.72501774, -35.8914905 , -39.15957455]), 'is_dummy': False, 'is_outlier': False}, 79: {'coord': array([81.62328565, 45.11359018, 36.08882406]), 'is_dummy': False, 'is_outlier': False}, 80: {'coord': array([-10.48435465, -82.60452173,  55.37663133]), 'is_dummy': False, 'is_outlier': False}, 81: {'is_dummy': True}, 82: {'is_dummy': True}, 83: {'is_dummy': True}, 84: {'is_dummy': True}, 85: {'is_dummy': True}, 86: {'is_dummy': True}, 87: {'is_dummy': True}, 88: {'is_dummy': True}, 89: {'is_dummy': True}, 90: {'is_dummy': True}, 91: {'is_dummy': True}, 92: {'is_dummy': True}, 93: {'is_dummy': True}, 94: {'is_dummy': True}, 95: {'is_dummy': True}, 96: {'is_dummy': True}})"
      ]
     },
     "execution_count": 65,
     "metadata": {},
     "output_type": "execute_result"
    }
   ],
   "source": [
    "graph.nodes.data()"
   ]
  },
  {
   "cell_type": "code",
   "execution_count": null,
   "metadata": {},
   "outputs": [],
   "source": []
  },
  {
   "cell_type": "code",
   "execution_count": 61,
   "metadata": {
    "scrolled": false
   },
   "outputs": [],
   "source": [
    "nb_tot_graphs = 134\n",
    "aaa= []\n",
    "for i_graph in range(nb_tot_graphs):\n",
    "    for j_graph in range(i_graph+1, nb_tot_graphs):\n",
    "        \n",
    "        aaa.append((\"{:05d}\".format(i_graph),\"{:05d}\".format(j_graph)))"
   ]
  },
  {
   "cell_type": "code",
   "execution_count": 66,
   "metadata": {},
   "outputs": [],
   "source": [
    "real_graph_1 = nx.read_gpickle(real_data_path+'/graph_0.gpickle')"
   ]
  },
  {
   "cell_type": "code",
   "execution_count": 74,
   "metadata": {},
   "outputs": [
    {
     "data": {
      "text/plain": [
       "{'vertex_index': 7102,\n",
       " 'sphere_3dcoords': array([-33.25432205, -94.24859619,  -3.36938214]),\n",
       " 'sphere_coords': [1.2315969467163086, 1.6044964790344238],\n",
       " 'basin_label': 348.0,\n",
       " 'basin_area': 137.7991,\n",
       " 'depth': 0.2340452,\n",
       " 'basin_thickness': 3.2783775329589844,\n",
       " 'ico100_7_vertex_index': 4089,\n",
       " 'is_dummy': False,\n",
       " 'label_dbscan': 1}"
      ]
     },
     "execution_count": 74,
     "metadata": {},
     "output_type": "execute_result"
    }
   ],
   "source": [
    "real_graph_1.nodes[2]"
   ]
  },
  {
   "cell_type": "code",
   "execution_count": 73,
   "metadata": {},
   "outputs": [
    {
     "data": {
      "text/plain": [
       "'/home/rohit/PhD_Work/GM_my_version/Graph_matching/data/simu_graph/simu_with_dummy/0.9/noise_1000,outliers_varied/0'"
      ]
     },
     "execution_count": 73,
     "metadata": {},
     "output_type": "execute_result"
    }
   ],
   "source": [
    "path_0_folder"
   ]
  },
  {
   "cell_type": "code",
   "execution_count": null,
   "metadata": {},
   "outputs": [],
   "source": []
  }
 ],
 "metadata": {
  "kernelspec": {
   "display_name": "Python 3",
   "language": "python",
   "name": "python3"
  },
  "language_info": {
   "codemirror_mode": {
    "name": "ipython",
    "version": 3
   },
   "file_extension": ".py",
   "mimetype": "text/x-python",
   "name": "python",
   "nbconvert_exporter": "python",
   "pygments_lexer": "ipython3",
   "version": "3.8.0"
  }
 },
 "nbformat": 4,
 "nbformat_minor": 4
}
