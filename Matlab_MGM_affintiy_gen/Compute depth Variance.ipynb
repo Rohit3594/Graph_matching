{
 "cells": [
  {
   "cell_type": "markdown",
   "id": "f00dea71",
   "metadata": {},
   "source": [
    "## Load graphs, bulk matrices and remove dummy nodes, rows cols."
   ]
  },
  {
   "cell_type": "code",
   "execution_count": 1,
   "id": "b4cbd180",
   "metadata": {},
   "outputs": [],
   "source": [
    "import os\n",
    "import sys\n",
    "sys.path.append(\"/home/rohit/PhD_Work/GM_my_version/Graph_matching/\")\n",
    "from sklearn.cluster import KMeans\n",
    "import networkx as nx\n",
    "import numpy as np\n",
    "from graph_generation.load_graphs_and_create_metadata import dataset_metadata\n",
    "from graph_matching_tools.metrics import matching\n",
    "import matplotlib.pyplot as plt\n",
    "import scipy.io as sio\n",
    "import tools.graph_processing as gp\n",
    "import pickle"
   ]
  },
  {
   "cell_type": "code",
   "execution_count": 2,
   "id": "4d6c0734",
   "metadata": {},
   "outputs": [],
   "source": [
    "path_realdata = '../data/Oasis_original_new_with_dummy/'\n",
    "path_nondummy = '../data/Oasis_original_new_renamed/modified_graphs/'"
   ]
  },
  {
   "cell_type": "code",
   "execution_count": 3,
   "id": "2b036046",
   "metadata": {},
   "outputs": [],
   "source": [
    "X_mALS_dummy = sio.loadmat(path_realdata +'/X_mALS.mat')['X']"
   ]
  },
  {
   "cell_type": "code",
   "execution_count": 4,
   "id": "ced6d53f",
   "metadata": {},
   "outputs": [],
   "source": [
    "def remove_dummy_rowcol_X(bulk_X, graphs):\n",
    "    \n",
    "    dummy_mask = [list(nx.get_node_attributes(graph,'is_dummy').values()) for graph in graphs]\n",
    "    dummy_mask = sum(dummy_mask,[])\n",
    "    dummy_indexes = [i for i in range(len(dummy_mask)) if dummy_mask[i]==True]     \n",
    "    \n",
    "    bulk_X = np.delete(bulk_X,dummy_indexes,0) # delete the dummy rows\n",
    "    bulk_X = np.delete(bulk_X,dummy_indexes,1) # delete the dummy columns\n",
    "    \n",
    "    return bulk_X"
   ]
  },
  {
   "cell_type": "code",
   "execution_count": 5,
   "id": "1c734738",
   "metadata": {},
   "outputs": [],
   "source": [
    "all_graphs = gp.load_graphs_in_list(path_realdata + '/labelled_graphs')\n",
    "\n",
    "#load non dummy graphs\n",
    "all_graphs_non_dummy = gp.load_graphs_in_list(path_nondummy)\n",
    "sizes = [len(g) for g in all_graphs_non_dummy]"
   ]
  },
  {
   "cell_type": "code",
   "execution_count": 6,
   "id": "1c1d50a5",
   "metadata": {},
   "outputs": [],
   "source": [
    "X_mALS = remove_dummy_rowcol_X(X_mALS_dummy,all_graphs)"
   ]
  },
  {
   "cell_type": "markdown",
   "id": "ace17cba",
   "metadata": {},
   "source": [
    "## Retrieve matched nodes and depth values using the largest graph as reference."
   ]
  },
  {
   "cell_type": "code",
   "execution_count": 7,
   "id": "487f071c",
   "metadata": {},
   "outputs": [
    {
     "data": {
      "text/plain": [
       "{'vertex_index': 1357,\n",
       " 'sphere_3dcoords': array([  6.50138903, -93.98175049, -33.54344177]),\n",
       " 'sphere_coords': [-1.5017292499542236, 1.9128626585006714],\n",
       " 'basin_label': 307.0,\n",
       " 'basin_area': 447.01047,\n",
       " 'depth': -0.18439683,\n",
       " 'basin_thickness': 2.5869646072387695,\n",
       " 'ico100_7_vertex_index': 7574,\n",
       " 'label_neuroimage': 28,\n",
       " 'label_media': 90,\n",
       " 'sphere_3dcoords_noreg': array([ 17.402021, -91.770744, -35.71135 ], dtype=float32),\n",
       " 'ico100_7_vertex_index_noreg': 11492,\n",
       " 'is_dummy': False,\n",
       " 'labelling_kerGM': 0.6726961301647116,\n",
       " 'labelling_mALS': 0.6726961301647116,\n",
       " 'labelling_mSync': 0.6726961301647116,\n",
       " 'labelling_CAO': 0.2269832262372122}"
      ]
     },
     "execution_count": 7,
     "metadata": {},
     "output_type": "execute_result"
    }
   ],
   "source": [
    "all_graphs[0].nodes.data()[0]"
   ]
  },
  {
   "cell_type": "code",
   "execution_count": 8,
   "id": "83e06180",
   "metadata": {
    "scrolled": true
   },
   "outputs": [],
   "source": [
    "r_perm=pickle.load(open(\"../data/r_perm_22.gpickle\",\"rb\"))"
   ]
  },
  {
   "cell_type": "code",
   "execution_count": 9,
   "id": "3a4ef653",
   "metadata": {},
   "outputs": [],
   "source": [
    "import tools.graph_visu as gv"
   ]
  },
  {
   "cell_type": "code",
   "execution_count": 11,
   "id": "a97ffde2",
   "metadata": {},
   "outputs": [
    {
     "name": "stdout",
     "output_type": "stream",
     "text": [
      "Number of labels: 101\n"
     ]
    },
    {
     "data": {
      "image/png": "[encoded data removed]",
      "text/plain": [
       "<Figure size 1500x50 with 1 Axes>"
      ]
     },
     "metadata": {},
     "output_type": "display_data"
    }
   ],
   "source": [
    "cmap = gv.rand_cmap(101, type='bright', first_color_black=True, last_color_black=False, verbose=True)"
   ]
  },
  {
   "cell_type": "code",
   "execution_count": null,
   "id": "0493e17e",
   "metadata": {},
   "outputs": [],
   "source": []
  },
  {
   "cell_type": "code",
   "execution_count": null,
   "id": "729d7602",
   "metadata": {},
   "outputs": [],
   "source": []
  }
 ],
 "metadata": {
  "kernelspec": {
   "display_name": "Python 3 (ipykernel)",
   "language": "python",
   "name": "python3"
  },
  "language_info": {
   "codemirror_mode": {
    "name": "ipython",
    "version": 3
   },
   "file_extension": ".py",
   "mimetype": "text/x-python",
   "name": "python",
   "nbconvert_exporter": "python",
   "pygments_lexer": "ipython3",
   "version": "3.8.0"
  }
 },
 "nbformat": 4,
 "nbformat_minor": 5
}
