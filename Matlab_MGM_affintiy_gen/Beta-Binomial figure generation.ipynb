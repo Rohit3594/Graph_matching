{
 "cells": [
  {
   "cell_type": "code",
   "execution_count": 1,
   "metadata": {},
   "outputs": [],
   "source": [
    "import os\n",
    "import sys\n",
    "sys.path.append(\"/home/rohit/PhD_Work/GM_my_version/Graph_matching/\")\n",
    "from sklearn.cluster import KMeans\n",
    "import networkx as nx\n",
    "import numpy as np\n",
    "from graph_generation.load_graphs_and_create_metadata import dataset_metadata\n",
    "from graph_matching_tools.metrics import matching\n",
    "import matplotlib.pyplot as plt\n",
    "import scipy.io as sio\n",
    "import pickle\n",
    "from scipy.stats import betabinom\n",
    "import seaborn as sns\n",
    "%matplotlib inline"
   ]
  },
  {
   "cell_type": "code",
   "execution_count": 2,
   "metadata": {},
   "outputs": [],
   "source": [
    "def compute_beta(alpha, n, mean):\n",
    "    return (1-mean/n) / (mean/n) * alpha\n",
    "\n",
    "\n",
    "def compute_alpha(n, mean, variance):\n",
    "    ratio = (1-mean/n) / (mean/n)\n",
    "    alpha = ((1+ratio)**2 * variance - n**2 * ratio) / (n*ratio*(1+ratio) - variance* (1 + ratio)**3)\n",
    "    return alpha"
   ]
  },
  {
   "cell_type": "code",
   "execution_count": 3,
   "metadata": {},
   "outputs": [],
   "source": [
    "def generate_beta_bionm_1():\n",
    "    n = 60\n",
    "    mu = 12 \n",
    "    sigma = 5\n",
    "    alpha = compute_alpha(n , mu, sigma**2) \n",
    "    beta = compute_beta(alpha, n, mu)\n",
    "    x = betabinom.rvs(n, alpha, beta, size=1000)\n",
    "    \n",
    "    return x,alpha,beta"
   ]
  },
  {
   "cell_type": "code",
   "execution_count": 4,
   "metadata": {},
   "outputs": [],
   "source": [
    "def generate_beta_binom_2():\n",
    "    n1 = 30\n",
    "    mu1 = 12\n",
    "    sigma1 = 3\n",
    "    alpha1 = compute_alpha(n1 , mu1, sigma1**2)\n",
    "    beta1 = compute_beta(alpha1, n1, mu1)\n",
    "    x1 = betabinom.rvs(n1, alpha1, beta1, size=1000)\n",
    "    \n",
    "    return x1,alpha1,beta1"
   ]
  },
  {
   "cell_type": "code",
   "execution_count": 5,
   "metadata": {},
   "outputs": [],
   "source": [
    "x,alpha,beta = generate_beta_bionm_1()\n",
    "#x1,alpha1,beta1 = generate_beta_binom_2()"
   ]
  },
  {
   "cell_type": "code",
   "execution_count": 6,
   "metadata": {},
   "outputs": [
    {
     "data": {
      "text/plain": [
       "(7.1558441558441555, 28.623376623376622)"
      ]
     },
     "execution_count": 6,
     "metadata": {},
     "output_type": "execute_result"
    }
   ],
   "source": [
    "alpha,beta"
   ]
  },
  {
   "cell_type": "code",
   "execution_count": null,
   "metadata": {},
   "outputs": [],
   "source": []
  },
  {
   "cell_type": "code",
   "execution_count": 143,
   "metadata": {},
   "outputs": [
    {
     "data": {
      "text/plain": [
       "1000"
      ]
     },
     "execution_count": 143,
     "metadata": {},
     "output_type": "execute_result"
    }
   ],
   "source": [
    "len(x)"
   ]
  },
  {
   "cell_type": "code",
   "execution_count": 150,
   "metadata": {},
   "outputs": [
    {
     "name": "stderr",
     "output_type": "stream",
     "text": [
      "/home/rohit/anaconda3/envs/Slam_python_3.8/lib/python3.8/site-packages/seaborn/distributions.py:2619: FutureWarning: `distplot` is a deprecated function and will be removed in a future version. Please adapt your code to use either `displot` (a figure-level function with similar flexibility) or `histplot` (an axes-level function for histograms).\n",
      "  warnings.warn(msg, FutureWarning)\n"
     ]
    },
    {
     "data": {
      "text/plain": [
       "<matplotlib.legend.Legend at 0x7fba99649910>"
      ]
     },
     "execution_count": 150,
     "metadata": {},
     "output_type": "execute_result"
    },
    {
     "data": {
      "image/png": "[encoded data removed]",
      "text/plain": [
       "<Figure size 880x480 with 1 Axes>"
      ]
     },
     "metadata": {
      "needs_background": "light"
     },
     "output_type": "display_data"
    }
   ],
   "source": [
    "# x = betabinom.rvs(n, alpha, beta, size=1000)\n",
    "\n",
    "plt.figure(figsize=(11, 6), dpi=80)\n",
    "\n",
    "sns.distplot(x, hist = True, kde = True, bins=30, kde_kws = {'shade': True,'linewidth': 3},label=r\"$\\nu$ = 60\")\n",
    "#plt.title('Beta binomial Distribution for number of node to suppress')\n",
    "\n",
    "plt.xlabel('$\\chi$',fontweight=\"light\",fontsize=20)\n",
    "plt.ylabel('Density',fontweight=\"light\",fontsize=20)\n",
    "plt.legend(loc = 'upper left', prop={'size': 20})"
   ]
  },
  {
   "cell_type": "code",
   "execution_count": null,
   "metadata": {},
   "outputs": [],
   "source": []
  },
  {
   "cell_type": "code",
   "execution_count": 23,
   "metadata": {},
   "outputs": [],
   "source": [
    "dist_1 = []\n",
    "dist_2 = []\n",
    "\n",
    "for i in range(10):\n",
    "    x,alpha,beta = generate_beta_bionm_1()\n",
    "    x1,alpha1,beta1 = generate_beta_binom_2()\n",
    "    \n",
    "    num_occur = {}\n",
    "    for i in range(max(x)+1):\n",
    "        num_occur[i] = len(np.where(x==i)[0])/len(x)\n",
    "    dist_1.append(num_occur)\n",
    "        \n",
    "    num_occur_1 = {}\n",
    "    for i in range(max(x1)+1):\n",
    "        num_occur_1[i] = len(np.where(x1==i)[0])/len(x1)\n",
    "    dist_2.append(num_occur_1)"
   ]
  },
  {
   "cell_type": "code",
   "execution_count": 24,
   "metadata": {},
   "outputs": [],
   "source": [
    "#Beta-binom 1\n",
    "keys = []\n",
    "values = []\n",
    "for k_v in dist_1:\n",
    "    keys.append(list(k_v.keys()))\n",
    "    values.append(list(k_v.values()))\n",
    "\n",
    "selected_values = []\n",
    "for val in values:\n",
    "    selected_values.append(val[:26])"
   ]
  },
  {
   "cell_type": "code",
   "execution_count": 25,
   "metadata": {},
   "outputs": [],
   "source": [
    "#Beta-binom 1\n",
    "keys_1 = []\n",
    "values_1 = []\n",
    "for k_v_1 in dist_2:\n",
    "    keys_1.append(list(k_v_1.keys()))\n",
    "    values_1.append(list(k_v_1.values()))\n",
    "\n",
    "selected_values_1 = []\n",
    "for val_1 in values_1:\n",
    "    selected_values_1.append(val_1[:21])"
   ]
  },
  {
   "cell_type": "code",
   "execution_count": 26,
   "metadata": {},
   "outputs": [
    {
     "name": "stdout",
     "output_type": "stream",
     "text": [
      "27\n",
      "26\n",
      "27\n",
      "28\n",
      "29\n",
      "27\n",
      "28\n",
      "28\n",
      "26\n",
      "28\n"
     ]
    }
   ],
   "source": [
    "for i in keys:\n",
    "    print(max(i))"
   ]
  },
  {
   "cell_type": "code",
   "execution_count": 27,
   "metadata": {},
   "outputs": [
    {
     "name": "stdout",
     "output_type": "stream",
     "text": [
      "23\n",
      "23\n",
      "22\n",
      "21\n",
      "22\n",
      "21\n",
      "21\n",
      "21\n",
      "21\n",
      "21\n"
     ]
    }
   ],
   "source": [
    "for j in keys_1:\n",
    "    print(max(j))"
   ]
  },
  {
   "cell_type": "code",
   "execution_count": 28,
   "metadata": {},
   "outputs": [],
   "source": [
    "mean_x1 = np.mean(selected_values,axis=0)\n",
    "std_x1 = np.std(selected_values,axis=0)"
   ]
  },
  {
   "cell_type": "code",
   "execution_count": 50,
   "metadata": {},
   "outputs": [],
   "source": [
    "mean_x2 = np.mean(selected_values_1,axis=0)\n",
    "std_x2 = np.std(selected_values_1,axis=0)"
   ]
  },
  {
   "cell_type": "code",
   "execution_count": null,
   "metadata": {},
   "outputs": [],
   "source": []
  },
  {
   "cell_type": "code",
   "execution_count": 52,
   "metadata": {},
   "outputs": [],
   "source": [
    "mean_x2 = np.append(mean_x2,[0.0,0.0,0.0,0.0,0.0])\n",
    "std_x2 = np.append(std_x2,[0.0,0.0,0.0,0.0,0.0])"
   ]
  },
  {
   "cell_type": "code",
   "execution_count": null,
   "metadata": {},
   "outputs": [],
   "source": []
  },
  {
   "cell_type": "code",
   "execution_count": 31,
   "metadata": {},
   "outputs": [],
   "source": [
    "# num_occur = {}\n",
    "# for i in range(max(x)+1):\n",
    "    \n",
    "#     num_occur[i] = len(np.where(x==i)[0])/len(x)"
   ]
  },
  {
   "cell_type": "code",
   "execution_count": 32,
   "metadata": {},
   "outputs": [],
   "source": [
    "# num_occur_1 = {}\n",
    "# for i in range(max(x1)+1):\n",
    "    \n",
    "#     num_occur_1[i] = len(np.where(x1==i)[0])/len(x1)"
   ]
  },
  {
   "cell_type": "code",
   "execution_count": null,
   "metadata": {},
   "outputs": [],
   "source": []
  },
  {
   "cell_type": "code",
   "execution_count": 33,
   "metadata": {
    "scrolled": false
   },
   "outputs": [],
   "source": [
    "# plt.figure(figsize=(11, 7), dpi=80)\n",
    "# plt.plot([], [], ' ', label=r\"$\\nu$ = 30\")\n",
    "# plt.plot(num_occur.keys(),num_occur.values(),'-o',color = 'red',label = r'$\\alpha$ = 4.29, $\\beta$ = 6.43 / $\\mu$ = 12, $\\sigma$ = 5')\n",
    "# plt.plot(num_occur_1.keys(),num_occur_1.values(),'-o',color = 'blue',label = r'$\\alpha_{1}$ = 45.99, $\\beta_{1}$ = 68.99 / $\\mu_{1}$ = 12, $\\sigma_{1}$ = 3')\n",
    "\n",
    "# plt.xlabel('$\\chi$',fontweight=\"light\",fontsize=20)\n",
    "# plt.ylabel('P(P = $\\chi$)',fontweight=\"light\",fontsize=20)\n",
    "# plt.legend(loc = 'upper right', prop={'size': 12})"
   ]
  },
  {
   "cell_type": "code",
   "execution_count": null,
   "metadata": {},
   "outputs": [],
   "source": []
  },
  {
   "cell_type": "code",
   "execution_count": 53,
   "metadata": {},
   "outputs": [
    {
     "data": {
      "text/plain": [
       "<matplotlib.legend.Legend at 0x7fba9b58ffd0>"
      ]
     },
     "execution_count": 53,
     "metadata": {},
     "output_type": "execute_result"
    },
    {
     "data": {
      "image/png": "[encoded data removed]",
      "text/plain": [
       "<Figure size 880x560 with 1 Axes>"
      ]
     },
     "metadata": {
      "needs_background": "light"
     },
     "output_type": "display_data"
    }
   ],
   "source": [
    "plt.figure(figsize=(11, 7), dpi=80)\n",
    "plt.plot([], [], ' ', label=r\"$\\nu$ = 30\")\n",
    "plt.plot(list(range(len(mean_x1))),mean_x1,'-o',color = 'red',label = r'$\\alpha$ = 4.29, $\\beta$ = 6.43 / $\\mu$ = 12, $\\sigma$ = 5')\n",
    "plt.fill_between(list(range(len(mean_x1))), mean_x1 - std_x1, mean_x1 + std_x1, alpha=0.2)\n",
    "plt.plot(list(range(len(mean_x2))),mean_x2,'-o',color = 'blue',label = r'$\\alpha_{1}$ = 45.99, $\\beta_{1}$ = 68.99 / $\\mu_{1}$ = 12, $\\sigma_{1}$ = 3')\n",
    "plt.fill_between(list(range(len(mean_x2))), mean_x2 - std_x2, mean_x2 + std_x2, alpha=0.2)\n",
    "\n",
    "plt.xlabel('$\\chi$',fontweight=\"light\",fontsize=20)\n",
    "plt.ylabel('P(P = $\\chi$)',fontweight=\"light\",fontsize=20)\n",
    "plt.legend(loc = 'upper right', prop={'size': 10})"
   ]
  },
  {
   "cell_type": "code",
   "execution_count": null,
   "metadata": {},
   "outputs": [],
   "source": []
  },
  {
   "cell_type": "code",
   "execution_count": null,
   "metadata": {},
   "outputs": [],
   "source": []
  },
  {
   "cell_type": "code",
   "execution_count": null,
   "metadata": {},
   "outputs": [],
   "source": []
  },
  {
   "cell_type": "code",
   "execution_count": null,
   "metadata": {},
   "outputs": [],
   "source": []
  },
  {
   "cell_type": "code",
   "execution_count": 2,
   "metadata": {},
   "outputs": [],
   "source": [
    "path = '/home/rohit/PhD_Work/GM_my_version/Graph_matching/data/Oasis_original_new_with_dummy/'"
   ]
  },
  {
   "cell_type": "code",
   "execution_count": 3,
   "metadata": {},
   "outputs": [],
   "source": [
    "graph_0 = nx.read_gpickle(path + 'modified_graphs/graph_00000.gpickle')\n",
    "graph_1 = nx.read_gpickle(path + 'modified_graphs/graph_00001.gpickle')"
   ]
  },
  {
   "cell_type": "code",
   "execution_count": 10,
   "metadata": {},
   "outputs": [
    {
     "data": {
      "text/plain": [
       "{'vertex_index': 5139,\n",
       " 'sphere_3dcoords': array([ -0.23501231, -99.5291748 ,  -9.6895895 ]),\n",
       " 'sphere_coords': [1.5684350728988647, 1.667844533920288],\n",
       " 'basin_label': 204.0,\n",
       " 'basin_area': 822.709,\n",
       " 'depth': -1.0727112,\n",
       " 'basin_thickness': 2.5196378231048584,\n",
       " 'ico100_7_vertex_index': 30249,\n",
       " 'label_neuroimage': 54,\n",
       " 'label_media': 79,\n",
       " 'sphere_3dcoords_noreg': array([ 16.33407 , -97.624435, -14.236153], dtype=float32),\n",
       " 'ico100_7_vertex_index_noreg': 15311,\n",
       " 'is_dummy': False}"
      ]
     },
     "execution_count": 10,
     "metadata": {},
     "output_type": "execute_result"
    }
   ],
   "source": [
    "graph_1.nodes.data()[0]"
   ]
  },
  {
   "cell_type": "code",
   "execution_count": null,
   "metadata": {},
   "outputs": [],
   "source": [
    "X_mals = sio.loadmat(path+'X_mALS.mat')['X']"
   ]
  },
  {
   "cell_type": "code",
   "execution_count": null,
   "metadata": {},
   "outputs": [],
   "source": [
    "nb_nodes = 101\n",
    "\n",
    "i = 0 # graph_0 \n",
    "j = 1 # graph_1\n",
    "\n",
    "iscope = range(i * nb_nodes, (i+1) * nb_nodes)\n",
    "jscope = range(j * nb_nodes, (j+1) * nb_nodes)\n",
    "\n",
    "Xij = np.array(X_mals[np.ix_(iscope, jscope)], dtype=int)"
   ]
  },
  {
   "cell_type": "code",
   "execution_count": null,
   "metadata": {},
   "outputs": [],
   "source": [
    "Xij[:,95]"
   ]
  },
  {
   "cell_type": "code",
   "execution_count": null,
   "metadata": {},
   "outputs": [],
   "source": []
  },
  {
   "cell_type": "code",
   "execution_count": 151,
   "metadata": {
    "scrolled": true
   },
   "outputs": [],
   "source": [
    "st = 'X_cao_cst_o.mat'"
   ]
  },
  {
   "cell_type": "code",
   "execution_count": 165,
   "metadata": {},
   "outputs": [
    {
     "data": {
      "text/plain": [
       "'F1_score_X_cao_cst_o'"
      ]
     },
     "execution_count": 165,
     "metadata": {},
     "output_type": "execute_result"
    }
   ],
   "source": [
    "'F1_score_'+st.split('.')[0]"
   ]
  },
  {
   "cell_type": "code",
   "execution_count": 167,
   "metadata": {},
   "outputs": [
    {
     "ename": "TypeError",
     "evalue": "'builtin_function_or_method' object is not subscriptable",
     "output_type": "error",
     "traceback": [
      "\u001b[0;31m---------------------------------------------------------------------------\u001b[0m",
      "\u001b[0;31mTypeError\u001b[0m                                 Traceback (most recent call last)",
      "\u001b[0;32m<ipython-input-167-5a4f5c3412a1>\u001b[0m in \u001b[0;36m<module>\u001b[0;34m\u001b[0m\n\u001b[0;32m----> 1\u001b[0;31m \u001b[0mst\u001b[0m\u001b[0;34m.\u001b[0m\u001b[0msplit\u001b[0m\u001b[0;34m[\u001b[0m\u001b[0;36m0\u001b[0m\u001b[0;34m]\u001b[0m\u001b[0;34m\u001b[0m\u001b[0;34m\u001b[0m\u001b[0m\n\u001b[0m",
      "\u001b[0;31mTypeError\u001b[0m: 'builtin_function_or_method' object is not subscriptable"
     ]
    }
   ],
   "source": [
    "st.split()"
   ]
  },
  {
   "cell_type": "code",
   "execution_count": null,
   "metadata": {},
   "outputs": [],
   "source": []
  },
  {
   "cell_type": "code",
   "execution_count": null,
   "metadata": {},
   "outputs": [],
   "source": []
  }
 ],
 "metadata": {
  "kernelspec": {
   "display_name": "Python 3 (ipykernel)",
   "language": "python",
   "name": "python3"
  },
  "language_info": {
   "codemirror_mode": {
    "name": "ipython",
    "version": 3
   },
   "file_extension": ".py",
   "mimetype": "text/x-python",
   "name": "python",
   "nbconvert_exporter": "python",
   "pygments_lexer": "ipython3",
   "version": "3.8.0"
  }
 },
 "nbformat": 4,
 "nbformat_minor": 4
}
