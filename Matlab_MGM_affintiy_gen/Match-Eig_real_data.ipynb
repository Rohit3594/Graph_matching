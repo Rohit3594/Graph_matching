{
 "cells": [
  {
   "cell_type": "code",
   "execution_count": 1,
   "metadata": {},
   "outputs": [],
   "source": [
    "import os\n",
    "import sys\n",
    "sys.path.append(\"/home/rohit/PhD_Work/GM_my_version/Graph_matching/\")\n",
    "from sklearn.cluster import KMeans\n",
    "import networkx as nx\n",
    "import numpy as np\n",
    "from graph_matching_tools.io.graph_dataset import GraphDataset\n",
    "from graph_matching_tools.metrics import matching\n",
    "import matplotlib.pyplot as plt\n",
    "from graph_matching_tools.algorithms.multiway.hippi import hippi_multiway_matching\n",
    "from graph_matching_tools.algorithms.kernels.gaussian import create_gaussian_node_kernel\n",
    "from graph_matching_tools.algorithms.kernels.utils import create_full_node_affinity_matrix\n",
    "from graph_matching_tools.algorithms.multiway.stiefel import sparse_stiefel_manifold_sync\n",
    "from graph_matching_tools.algorithms.multiway import quickmatch\n",
    "from graph_matching_tools.algorithms.multiway import matcheig\n",
    "import tools.graph_processing as gp\n",
    "import scipy.io as sio"
   ]
  },
  {
   "cell_type": "code",
   "execution_count": null,
   "metadata": {},
   "outputs": [],
   "source": []
  },
  {
   "cell_type": "code",
   "execution_count": 2,
   "metadata": {},
   "outputs": [],
   "source": [
    "def get_permutation_matrix_from_dictionary(matching, g_sizes):\n",
    "    \"\"\"\n",
    "    Create the full permutation matrix from the matching result\n",
    "    :param matching: the matching result for each graph (nodes number, assignment)\n",
    "    :param g_sizes: the list of the size of the different graph\n",
    "    :return: the full permutation matrix\n",
    "    \"\"\"\n",
    "    f_size = int(np.sum(g_sizes))\n",
    "    res = np.zeros((f_size, f_size))\n",
    "\n",
    "    idx1 = 0\n",
    "    for i_g1 in range(len(g_sizes)):\n",
    "        idx2 = 0\n",
    "        for i_g2 in range(len(g_sizes)):\n",
    "            match = matching[\"{},{}\".format(i_g1, i_g2)]\n",
    "            for k in match:\n",
    "                res[idx1 + int(k), idx2 + match[k]] = 1\n",
    "            idx2 += g_sizes[i_g2]\n",
    "        idx1 += g_sizes[i_g1]\n",
    "        \n",
    "    np.fill_diagonal(res,1)\n",
    "    return res"
   ]
  },
  {
   "cell_type": "code",
   "execution_count": 3,
   "metadata": {},
   "outputs": [],
   "source": [
    "def remove_dummy_rowcol_X(bulk_X, graphs):\n",
    "    \n",
    "    dummy_mask = [list(nx.get_node_attributes(graph,'is_dummy').values()) for graph in graphs]\n",
    "    dummy_mask = sum(dummy_mask,[])\n",
    "    dummy_indexes = [i for i in range(len(dummy_mask)) if dummy_mask[i]==True]     \n",
    "    \n",
    "    bulk_X = np.delete(bulk_X,dummy_indexes,0) # delete the dummy rows\n",
    "    bulk_X = np.delete(bulk_X,dummy_indexes,1) # delete the dummy columns\n",
    "    \n",
    "    return bulk_X"
   ]
  },
  {
   "cell_type": "code",
   "execution_count": 4,
   "metadata": {},
   "outputs": [],
   "source": [
    "#path_to_graph_folder = '../data/simu_graph/NEW_SIMUS_JULY_11/'\n",
    "path_to_dummy_graphs_folder = '../data/Oasis_original_new_with_dummy/'"
   ]
  },
  {
   "cell_type": "code",
   "execution_count": 5,
   "metadata": {
    "scrolled": true
   },
   "outputs": [
    {
     "name": "stdout",
     "output_type": "stream",
     "text": [
      "X_KerGM shape (13837, 13837)\n",
      "P shape (13837, 13837)\n"
     ]
    }
   ],
   "source": [
    "sigma = 200\n",
    "\n",
    "udim = 101\n",
    "\n",
    "                \n",
    "#path_to_graphs = path_to_graph_folder + '/' + trial + '/' + folder+'/graphs/'\n",
    "path_to_dummy_graphs = path_to_dummy_graphs_folder +'/modified_graphs/'\n",
    "\n",
    "\n",
    "list_graphs_dummy = gp.load_graphs_in_list(path_to_dummy_graphs)\n",
    "sizes_dummy = [nx.number_of_nodes(g) for g in list_graphs_dummy]\n",
    "\n",
    "path_X_kergm = path_to_dummy_graphs_folder + '/X_kerGM.mat' \n",
    "knode = sio.loadmat(path_X_kergm)['full_assignment_mat']\n",
    "print('X_KerGM shape', knode.shape)\n",
    "\n",
    "P = matcheig.matcheig(knode, udim, sizes_dummy)\n",
    "\n",
    "X_MatchEig = {}\n",
    "X_MatchEig['X'] = P\n",
    "\n",
    "print('P shape', P.shape)\n",
    "\n",
    "#save with dummy\n",
    "sio.savemat(path_to_dummy_graphs_folder + '/' + '/X_MatchEig.mat',X_MatchEig,do_compression=True)\n"
   ]
  },
  {
   "cell_type": "code",
   "execution_count": null,
   "metadata": {},
   "outputs": [],
   "source": []
  },
  {
   "cell_type": "code",
   "execution_count": null,
   "metadata": {},
   "outputs": [],
   "source": []
  },
  {
   "cell_type": "code",
   "execution_count": null,
   "metadata": {},
   "outputs": [],
   "source": []
  }
 ],
 "metadata": {
  "kernelspec": {
   "display_name": "Python 3 (ipykernel)",
   "language": "python",
   "name": "python3"
  },
  "language_info": {
   "codemirror_mode": {
    "name": "ipython",
    "version": 3
   },
   "file_extension": ".py",
   "mimetype": "text/x-python",
   "name": "python",
   "nbconvert_exporter": "python",
   "pygments_lexer": "ipython3",
   "version": "3.8.0"
  }
 },
 "nbformat": 4,
 "nbformat_minor": 4
}
