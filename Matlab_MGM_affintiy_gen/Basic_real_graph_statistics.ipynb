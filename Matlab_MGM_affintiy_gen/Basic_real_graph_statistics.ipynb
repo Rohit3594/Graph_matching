{
 "cells": [
  {
   "cell_type": "code",
   "execution_count": 1,
   "metadata": {},
   "outputs": [],
   "source": [
    "import pickle as p\n",
    "import networkx as nx\n",
    "import numpy as np\n",
    "import scipy.io as sio\n",
    "import matplotlib.pyplot as plt\n",
    "import pickle\n",
    "import os"
   ]
  },
  {
   "cell_type": "code",
   "execution_count": 2,
   "metadata": {},
   "outputs": [],
   "source": [
    "path_result_mat = \"./data/OASIS_full_batch/\""
   ]
  },
  {
   "cell_type": "code",
   "execution_count": 3,
   "metadata": {},
   "outputs": [],
   "source": [
    "def remove_dummy_nodes(graph):\n",
    "    G = graph.copy()\n",
    "    to_remove = []\n",
    "    for (p, d) in G.nodes(data=True):\n",
    "        if d['is_dummy'] == True:\n",
    "            to_remove.append(p)\n",
    "    G.remove_nodes_from(to_remove)\n",
    "    return G"
   ]
  },
  {
   "cell_type": "code",
   "execution_count": 31,
   "metadata": {},
   "outputs": [],
   "source": [
    "sing_graph = p.load(open(\"./data/OASIS_full_batch/modified_graphs/graph_24.gpickle\", \"rb\" ))"
   ]
  },
  {
   "cell_type": "code",
   "execution_count": 30,
   "metadata": {
    "scrolled": true
   },
   "outputs": [],
   "source": [
    "is_dummy = []\n",
    "for i in range(134):\n",
    "    graph = p.load(open(\"./data/OASIS_full_batch/modified_graphs/graph_\"+str(i)+\".gpickle\",\"rb\"))\n",
    "    is_dummy.append(list(nx.get_node_attributes(graph,\"is_dummy\").values()))\n",
    "    \n",
    "is_dummy_vect = [val for sublist in is_dummy for val in sublist]"
   ]
  },
  {
   "cell_type": "code",
   "execution_count": 28,
   "metadata": {
    "scrolled": true
   },
   "outputs": [
    {
     "data": {
      "text/plain": [
       "array([   83,    84,    85, ..., 13531, 13532, 13533])"
      ]
     },
     "execution_count": 28,
     "metadata": {},
     "output_type": "execute_result"
    }
   ],
   "source": [
    "np.where(np.array(is_dummy_vect)==True)[0]"
   ]
  },
  {
   "cell_type": "code",
   "execution_count": null,
   "metadata": {},
   "outputs": [],
   "source": []
  },
  {
   "cell_type": "code",
   "execution_count": 21,
   "metadata": {},
   "outputs": [
    {
     "name": "stdout",
     "output_type": "stream",
     "text": [
      "83 0\n",
      "91 1\n",
      "92 5\n",
      "94 6\n",
      "95 18\n",
      "101 24\n",
      "101 41\n"
     ]
    }
   ],
   "source": [
    "# First select the graph with highest number nodes\n",
    "max_node = 0\n",
    "largest_graph = 0\n",
    "for i in range(134):\n",
    "    g = p.load(open(\"./data/OASIS_full_batch/modified_graphs/graph_\"+str(i)+\".gpickle\",\"rb\"))\n",
    "    g = remove_dummy_nodes(g)\n",
    "    if len(g.nodes()) >= max_node:\n",
    "        max_node = len(g.nodes())\n",
    "        largest_graph = g\n",
    "        print(max_node,i)\n",
    "        lar_graph_ind = i\n"
   ]
  },
  {
   "cell_type": "code",
   "execution_count": null,
   "metadata": {},
   "outputs": [],
   "source": []
  },
  {
   "cell_type": "code",
   "execution_count": 7,
   "metadata": {},
   "outputs": [],
   "source": [
    "x_mSync = sio.loadmat(path_result_mat+\"X_mSync.mat\")['X']"
   ]
  },
  {
   "cell_type": "code",
   "execution_count": 8,
   "metadata": {},
   "outputs": [],
   "source": [
    "x_mALS = sio.loadmat(path_result_mat+\"X_mALS.mat\")['X']"
   ]
  },
  {
   "cell_type": "code",
   "execution_count": null,
   "metadata": {
    "scrolled": false
   },
   "outputs": [],
   "source": []
  },
  {
   "cell_type": "code",
   "execution_count": 22,
   "metadata": {
    "scrolled": true
   },
   "outputs": [
    {
     "name": "stdout",
     "output_type": "stream",
     "text": [
      "0\n"
     ]
    }
   ],
   "source": [
    "matching_matrix = x_mSync\n",
    "counter = 0\n",
    "nb_graphs = 134\n",
    "nb_nodes = int(matching_matrix.shape[0]/nb_graphs)\n",
    "\n",
    "match_node_value = {k:[] for k in range(nb_graphs)}\n",
    "\n",
    "#graph_ref_num = lar_graph_ind\n",
    "\n",
    "for graph_num in range(nb_graphs):\n",
    "    \n",
    "    graph_ref_num = p.load(open(\"./data/OASIS_full_batch/modified_graphs/graph_\"+str(graph_num)+\".gpickle\",\"rb\"))\n",
    "\n",
    "    rscope = range(graph_num * nb_nodes, (graph_num + 1) * nb_nodes)\n",
    "\n",
    "    for i in range(nb_graphs-1):\n",
    "        \n",
    "        iscope = range(i * nb_nodes, (i+1)*nb_nodes)\n",
    "        Xri = np.array(matching_matrix[np.ix_(rscope, iscope)], dtype=int)\n",
    "        \n",
    "        graph = p.load(open(\"./data/OASIS_full_batch/modified_graphs/graph_\"+str(i)+\".gpickle\",\"rb\"))\n",
    "                   \n",
    "        for j in range(Xri.shape[0]):  \n",
    "            if graph.nodes[j]['is_dummy'] == False and len(np.where(Xri[j,:]==1)[0])!=0:                \n",
    "                \n",
    "                       #if graph_ref_num.nodes[int(np.where(Xri[j,:]==1)[0])]['is_dummy'] == False:\n",
    "                    \n",
    "                        if len(np.where(Xri[j,:]==1)[0])>1:\n",
    "                            \n",
    "                            counter+=1\n",
    "                       \n",
    "                               #match_node_value[int(np.where(Xri[j,:]==1)[0])].append(1)\n",
    "print(counter)\n",
    "\n"
   ]
  },
  {
   "cell_type": "code",
   "execution_count": 56,
   "metadata": {},
   "outputs": [],
   "source": [
    "indexes = np.where(matching_matrix[6,:]==1)[0]"
   ]
  },
  {
   "cell_type": "code",
   "execution_count": null,
   "metadata": {},
   "outputs": [],
   "source": []
  },
  {
   "cell_type": "code",
   "execution_count": 140,
   "metadata": {},
   "outputs": [],
   "source": [
    "matching_matrix = x_mALS\n",
    "nb_graphs = 134\n",
    "list_graphs = []\n",
    "for i in range(nb_graphs):\n",
    "    match_label_per_graph={}\n",
    "    \n",
    "    g = p.load(open(\"./data/OASIS_full_batch/modified_graphs/graph_\"+str(i)+\".gpickle\",\"rb\"))\n",
    "    nb_nodes = len(g.nodes)\n",
    "    scope = range(i * nb_nodes, (i + 1) * nb_nodes)\n",
    "    \n",
    "    for node_indx,ind in enumerate(scope):\n",
    "        match_indexes = np.where(matching_matrix[ind,:]==1)[0]\n",
    "        match_perc = (len(match_indexes) - len(set(match_indexes).intersection(np.where(np.array(is_dummy_vect)==True)[0])))/nb_graphs\n",
    "        match_label_per_graph[node_indx] = {'label_color':match_perc}\n",
    "        \n",
    "    nx.set_node_attributes(g, match_label_per_graph)\n",
    "    list_graphs.append(g)\n",
    "        "
   ]
  },
  {
   "cell_type": "code",
   "execution_count": 34,
   "metadata": {},
   "outputs": [],
   "source": [
    "test_scope = range(24 * 101, (24 + 1) * 101)"
   ]
  },
  {
   "cell_type": "code",
   "execution_count": 93,
   "metadata": {
    "scrolled": true
   },
   "outputs": [],
   "source": [
    "matching_matrix = x_mALS\n",
    "attr_sum = []\n",
    "large_grph_ind = 24\n",
    "large_grph = p.load(open(\"./data/OASIS_full_batch/modified_graphs/graph_\"+str(large_grph_ind)+\".gpickle\", \"rb\" ))\n",
    "nb_nodes = len(large_grph.nodes)\n",
    "row_scope = range(large_grph_ind * nb_nodes, (large_grph_ind + 1) * nb_nodes)\n",
    "\n",
    "for i in range(134):\n",
    "    grph = p.load(open(\"./data/OASIS_full_batch/modified_graphs/graph_\"+str(i)+\".gpickle\",\"rb\"))\n",
    "    nb_nodes = len(grph.nodes)\n",
    "    \n",
    "    col_scope = range(i * nb_nodes, (i + 1) * nb_nodes)\n",
    "    \n",
    "    perm_X = np.array(matching_matrix[np.ix_(row_scope, col_scope)], dtype=int)\n",
    "\n",
    "    for node_indx,ind in enumerate(row_scope):\n",
    "        match_indexes = np.where(perm_X[node_indx,:]==1)[0]\n",
    "        attr_sum.append(match_indexes)"
   ]
  },
  {
   "cell_type": "code",
   "execution_count": 94,
   "metadata": {},
   "outputs": [
    {
     "data": {
      "text/plain": [
       "13534"
      ]
     },
     "execution_count": 94,
     "metadata": {},
     "output_type": "execute_result"
    }
   ],
   "source": [
    "len(attr_sum)"
   ]
  },
  {
   "cell_type": "code",
   "execution_count": 90,
   "metadata": {},
   "outputs": [
    {
     "data": {
      "text/plain": [
       "0"
      ]
     },
     "execution_count": 90,
     "metadata": {},
     "output_type": "execute_result"
    }
   ],
   "source": [
    "len(attr_sum[0])"
   ]
  },
  {
   "cell_type": "code",
   "execution_count": 92,
   "metadata": {},
   "outputs": [
    {
     "data": {
      "text/plain": [
       "79"
      ]
     },
     "execution_count": 92,
     "metadata": {},
     "output_type": "execute_result"
    }
   ],
   "source": [
    "match_indexes[0]"
   ]
  },
  {
   "cell_type": "code",
   "execution_count": null,
   "metadata": {},
   "outputs": [],
   "source": []
  },
  {
   "cell_type": "code",
   "execution_count": null,
   "metadata": {},
   "outputs": [],
   "source": []
  },
  {
   "cell_type": "code",
   "execution_count": null,
   "metadata": {},
   "outputs": [],
   "source": []
  },
  {
   "cell_type": "code",
   "execution_count": 142,
   "metadata": {},
   "outputs": [],
   "source": [
    "match_list = list(nx.get_node_attributes(remove_dummy_nodes(list_graphs[0]),'label_color').values())"
   ]
  },
  {
   "cell_type": "code",
   "execution_count": 143,
   "metadata": {},
   "outputs": [
    {
     "data": {
      "image/png": "[encoded data removed]",
      "text/plain": [
       "<Figure size 432x288 with 1 Axes>"
      ]
     },
     "metadata": {
      "needs_background": "light"
     },
     "output_type": "display_data"
    }
   ],
   "source": [
    "plt.hist(match_list, density=False, bins=30)  # density=False would make counts\n",
    "plt.ylabel('Density')\n",
    "plt.xlabel('Data');"
   ]
  },
  {
   "cell_type": "code",
   "execution_count": 2,
   "metadata": {},
   "outputs": [],
   "source": [
    "pw_kergm = sio.loadmat('X_pairwise_kergm.mat')\n",
    "pw_gguess = sio.loadmat('X_pairwise_goodguess.mat')"
   ]
  },
  {
   "cell_type": "code",
   "execution_count": 5,
   "metadata": {},
   "outputs": [
    {
     "data": {
      "text/plain": [
       "(400, 400)"
      ]
     },
     "execution_count": 5,
     "metadata": {},
     "output_type": "execute_result"
    }
   ],
   "source": [
    "pw_gguess['full_assignment_mat'].shape"
   ]
  },
  {
   "cell_type": "code",
   "execution_count": 6,
   "metadata": {},
   "outputs": [
    {
     "data": {
      "text/plain": [
       "(400, 400)"
      ]
     },
     "execution_count": 6,
     "metadata": {},
     "output_type": "execute_result"
    }
   ],
   "source": [
    "pw_kergm['full_assignment_mat'].shape"
   ]
  },
  {
   "cell_type": "code",
   "execution_count": 10,
   "metadata": {},
   "outputs": [],
   "source": [
    "gr = nx.read_gpickle('graph_1.gpickle')"
   ]
  },
  {
   "cell_type": "code",
   "execution_count": 11,
   "metadata": {},
   "outputs": [
    {
     "data": {
      "text/plain": [
       "NodeView((0, 1, 2, 3, 4, 5, 6, 7, 8, 9, 10, 11, 12, 13, 14, 15, 16, 17, 18, 19, 20, 21, 22, 23, 24, 25, 26, 27, 28, 29))"
      ]
     },
     "execution_count": 11,
     "metadata": {},
     "output_type": "execute_result"
    }
   ],
   "source": [
    "gr.nodes()"
   ]
  },
  {
   "cell_type": "code",
   "execution_count": 24,
   "metadata": {},
   "outputs": [],
   "source": [
    "blk_diag = np.diagflat(np.ones(30*20))"
   ]
  },
  {
   "cell_type": "code",
   "execution_count": 28,
   "metadata": {},
   "outputs": [],
   "source": [
    "blk_diag_dict = {'full_assignment_mat':blk_diag}"
   ]
  },
  {
   "cell_type": "code",
   "execution_count": 29,
   "metadata": {},
   "outputs": [
    {
     "data": {
      "text/plain": [
       "{'full_assignment_mat': array([[1., 0., 0., ..., 0., 0., 0.],\n",
       "        [0., 1., 0., ..., 0., 0., 0.],\n",
       "        [0., 0., 1., ..., 0., 0., 0.],\n",
       "        ...,\n",
       "        [0., 0., 0., ..., 1., 0., 0.],\n",
       "        [0., 0., 0., ..., 0., 1., 0.],\n",
       "        [0., 0., 0., ..., 0., 0., 1.]])}"
      ]
     },
     "execution_count": 29,
     "metadata": {},
     "output_type": "execute_result"
    }
   ],
   "source": [
    "blk_diag_dict"
   ]
  },
  {
   "cell_type": "code",
   "execution_count": 37,
   "metadata": {},
   "outputs": [
    {
     "data": {
      "text/plain": [
       "(600, 600)"
      ]
     },
     "execution_count": 37,
     "metadata": {},
     "output_type": "execute_result"
    }
   ],
   "source": [
    "blk_diag.shape"
   ]
  },
  {
   "cell_type": "code",
   "execution_count": 31,
   "metadata": {},
   "outputs": [],
   "source": [
    "#sio.savemat('X_pairwise_block_diagonal.mat',blk_diag_dict)"
   ]
  },
  {
   "cell_type": "code",
   "execution_count": 39,
   "metadata": {},
   "outputs": [],
   "source": [
    "rand_bin_mat = np.mod(np.random.permutation(600*600).reshape(600,600),2)"
   ]
  },
  {
   "cell_type": "code",
   "execution_count": 41,
   "metadata": {},
   "outputs": [],
   "source": [
    "rand_mat_dict = {'full_assignment_mat':rand_bin_mat}"
   ]
  },
  {
   "cell_type": "code",
   "execution_count": 43,
   "metadata": {},
   "outputs": [],
   "source": [
    "#sio.savemat('X_pairwise_rand_bin.mat',rand_mat_dict)"
   ]
  },
  {
   "cell_type": "code",
   "execution_count": 48,
   "metadata": {},
   "outputs": [
    {
     "data": {
      "text/plain": [
       "array([[1., 0., 0., ..., 0., 0., 0.],\n",
       "       [0., 1., 0., ..., 0., 0., 0.],\n",
       "       [0., 0., 1., ..., 0., 0., 0.],\n",
       "       ...,\n",
       "       [0., 0., 0., ..., 1., 0., 0.],\n",
       "       [0., 0., 0., ..., 0., 1., 0.],\n",
       "       [0., 0., 0., ..., 0., 0., 1.]])"
      ]
     },
     "execution_count": 48,
     "metadata": {},
     "output_type": "execute_result"
    }
   ],
   "source": [
    "sio.loadmat('X_pairwise_block_diagonal.mat')[\"full_assignment_mat\"]"
   ]
  },
  {
   "cell_type": "code",
   "execution_count": 47,
   "metadata": {},
   "outputs": [
    {
     "data": {
      "text/plain": [
       "array([[1., 0., 0., ..., 0., 0., 0.],\n",
       "       [0., 1., 0., ..., 0., 0., 0.],\n",
       "       [0., 0., 1., ..., 0., 0., 0.],\n",
       "       ...,\n",
       "       [0., 0., 0., ..., 1., 0., 0.],\n",
       "       [0., 0., 0., ..., 0., 1., 0.],\n",
       "       [0., 0., 0., ..., 0., 0., 1.]])"
      ]
     },
     "execution_count": 47,
     "metadata": {},
     "output_type": "execute_result"
    }
   ],
   "source": [
    "blk_diag"
   ]
  },
  {
   "cell_type": "code",
   "execution_count": 51,
   "metadata": {},
   "outputs": [
    {
     "data": {
      "text/plain": [
       "[{'parameter_correspondence': {'noise': [100.0, 300.0, 500.0, 700.0, 900.0],\n",
       "   'outliers': [0.0]},\n",
       "  'KerGM': array([[[0.34333333]],\n",
       "  \n",
       "         [[0.83912281]],\n",
       "  \n",
       "         [[0.95421053]],\n",
       "  \n",
       "         [[0.98017544]],\n",
       "  \n",
       "         [[0.99210526]]]),\n",
       "  'mSync': array([[[0.21684211]],\n",
       "  \n",
       "         [[0.95140351]],\n",
       "  \n",
       "         [[1.        ]],\n",
       "  \n",
       "         [[1.        ]],\n",
       "  \n",
       "         [[1.        ]]]),\n",
       "  'Hippi': array([[[0.98666667]],\n",
       "  \n",
       "         [[0.99333333]],\n",
       "  \n",
       "         [[1.        ]],\n",
       "  \n",
       "         [[1.        ]],\n",
       "  \n",
       "         [[1.        ]]]),\n",
       "  'mALS': array([[[0.53157895]],\n",
       "  \n",
       "         [[0.88      ]],\n",
       "  \n",
       "         [[0.80035088]],\n",
       "  \n",
       "         [[0.80789474]],\n",
       "  \n",
       "         [[0.88368421]]])}]"
      ]
     },
     "execution_count": 51,
     "metadata": {},
     "output_type": "execute_result"
    }
   ],
   "source": [
    "Result_pairwise = pickle.load(open('Result_pairwise.pickle', \"rb\"))\n",
    "Result_pairwise"
   ]
  },
  {
   "cell_type": "code",
   "execution_count": 52,
   "metadata": {},
   "outputs": [
    {
     "data": {
      "text/plain": [
       "[{'parameter_correspondence': {'noise': [100.0, 300.0, 500.0, 700.0, 900.0],\n",
       "   'outliers': [0.0]},\n",
       "  'KerGM': array([[[0.34333333]],\n",
       "  \n",
       "         [[0.83912281]],\n",
       "  \n",
       "         [[0.95421053]],\n",
       "  \n",
       "         [[0.98017544]],\n",
       "  \n",
       "         [[0.99210526]]]),\n",
       "  'mSync': array([[[0.]],\n",
       "  \n",
       "         [[0.]],\n",
       "  \n",
       "         [[0.]],\n",
       "  \n",
       "         [[0.]],\n",
       "  \n",
       "         [[0.]]]),\n",
       "  'Hippi': array([[[0.98666667]],\n",
       "  \n",
       "         [[0.99333333]],\n",
       "  \n",
       "         [[1.        ]],\n",
       "  \n",
       "         [[1.        ]],\n",
       "  \n",
       "         [[1.        ]]]),\n",
       "  'mALS': array([[[0.00561404]],\n",
       "  \n",
       "         [[0.00526316]],\n",
       "  \n",
       "         [[0.00578947]],\n",
       "  \n",
       "         [[0.0045614 ]],\n",
       "  \n",
       "         [[0.00754386]]])}]"
      ]
     },
     "execution_count": 52,
     "metadata": {},
     "output_type": "execute_result"
    }
   ],
   "source": [
    "Result_pairwise_block = pickle.load(open('Result_pairwise_block_diagonal.pickle', \"rb\"))\n",
    "Result_pairwise_block"
   ]
  },
  {
   "cell_type": "code",
   "execution_count": 64,
   "metadata": {},
   "outputs": [
    {
     "data": {
      "text/plain": [
       "Text(0, 0.5, 'F1-Score')"
      ]
     },
     "execution_count": 64,
     "metadata": {},
     "output_type": "execute_result"
    },
    {
     "data": {
      "image/png": "[encoded data removed]",
      "text/plain": [
       "<Figure size 936x504 with 1 Axes>"
      ]
     },
     "metadata": {
      "needs_background": "light"
     },
     "output_type": "display_data"
    }
   ],
   "source": [
    "# Plot pairwise\n",
    "plt.figure(figsize=(13, 7))\n",
    "\n",
    "Noise = [100,300,500,700,900]\n",
    "KerGm = [0.3433,0.8391,0.9542,0.9801,0.9921]\n",
    "mSync = [0.2168,0.9514,1.0,1.0,1.0]\n",
    "Hippi = [0.9866,0.9933,1.0,1.0,1.0]\n",
    "mALS = [0.5315,0.88,0.8003,0.8078,0.8836]\n",
    "\n",
    "plt.plot(Noise,KerGm,label='KerGm')\n",
    "plt.plot(Noise,mSync,label='mSync')\n",
    "plt.plot(Noise,Hippi,label='Hippi')\n",
    "plt.plot(Noise,mALS,label='mALS')\n",
    "plt.legend(loc=\"lower right\")\n",
    "plt.xlabel('NOISE')\n",
    "plt.ylabel('F1-Score')"
   ]
  },
  {
   "cell_type": "code",
   "execution_count": 67,
   "metadata": {
    "scrolled": false
   },
   "outputs": [
    {
     "data": {
      "text/plain": [
       "Text(0, 0.5, 'F1-Score')"
      ]
     },
     "execution_count": 67,
     "metadata": {},
     "output_type": "execute_result"
    },
    {
     "data": {
      "image/png": "[encoded data removed]",
      "text/plain": [
       "<Figure size 936x504 with 1 Axes>"
      ]
     },
     "metadata": {
      "needs_background": "light"
     },
     "output_type": "display_data"
    }
   ],
   "source": [
    "plt.figure(figsize=(13, 7))\n",
    "mSync = [0.0,0.0,0.0,0.0,0.0]\n",
    "mALS = [0.0056,0.0052,0.0057,0.0045,0.0075]\n",
    "Hippi = [0.9866,0.9933,1.0,1.0,1.0]\n",
    "\n",
    "plt.plot(Noise,mSync,label='mSync')\n",
    "plt.plot(Noise,Hippi,label='Hippi')\n",
    "plt.plot(Noise,mALS,label='mALS')\n",
    "plt.legend(loc=\"lower right\")\n",
    "plt.xlabel('NOISE')\n",
    "plt.ylabel('F1-Score')"
   ]
  },
  {
   "cell_type": "code",
   "execution_count": null,
   "metadata": {},
   "outputs": [],
   "source": []
  },
  {
   "cell_type": "code",
   "execution_count": null,
   "metadata": {},
   "outputs": [],
   "source": [
    "path = '/home/rohit/PhD_Work/GM_my_version/Graph_matching/data/simu_graph/small_trials/0/noise_100,outliers_0/0/graphs/'"
   ]
  },
  {
   "cell_type": "code",
   "execution_count": 82,
   "metadata": {},
   "outputs": [],
   "source": [
    "rng = np.random.default_rng()\n",
    "\n",
    "u = rng.normal(size=(600,600))"
   ]
  },
  {
   "cell_type": "code",
   "execution_count": 83,
   "metadata": {},
   "outputs": [],
   "source": [
    "import scipy.optimize as sco\n",
    "\n",
    "def u_projector(v, sizes):\n",
    "    \"\"\"\n",
    "    Projections over a set of permutation (for each graph)\n",
    "\n",
    "    :param v: the current approximation matrix\n",
    "    :param sizes: the sizes of the different graphs\n",
    "    :return: the projected version of v\n",
    "    \"\"\"\n",
    "    u = np.zeros(v.shape)\n",
    "    index = 0\n",
    "    for size in sizes:\n",
    "        vi = v[index:index+size, :]\n",
    "        r, c = sco.linear_sum_assignment(-vi)\n",
    "        for i in range(r.shape[0]):\n",
    "            u[r[i]+index, c[i]] = 1\n",
    "        index += size\n",
    "    return u"
   ]
  },
  {
   "cell_type": "code",
   "execution_count": null,
   "metadata": {},
   "outputs": [],
   "source": []
  },
  {
   "cell_type": "code",
   "execution_count": 84,
   "metadata": {
    "scrolled": true
   },
   "outputs": [
    {
     "data": {
      "text/plain": [
       "['graph_13.gpickle',\n",
       " 'graph_8.gpickle',\n",
       " 'graph_0.gpickle',\n",
       " 'graph_2.gpickle',\n",
       " 'graph_16.gpickle',\n",
       " 'graph_9.gpickle',\n",
       " 'graph_1.gpickle',\n",
       " 'graph_15.gpickle',\n",
       " 'graph_18.gpickle',\n",
       " 'graph_10.gpickle',\n",
       " 'graph_7.gpickle',\n",
       " 'graph_11.gpickle',\n",
       " 'graph_3.gpickle',\n",
       " 'graph_19.gpickle',\n",
       " 'graph_6.gpickle',\n",
       " 'graph_5.gpickle',\n",
       " 'graph_4.gpickle',\n",
       " 'graph_14.gpickle',\n",
       " 'graph_17.gpickle',\n",
       " 'graph_12.gpickle']"
      ]
     },
     "execution_count": 84,
     "metadata": {},
     "output_type": "execute_result"
    }
   ],
   "source": [
    "os.listdir(path)"
   ]
  },
  {
   "cell_type": "code",
   "execution_count": 85,
   "metadata": {},
   "outputs": [],
   "source": [
    "all_graphs = []\n",
    "\n",
    "for g in os.listdir(path):\n",
    "    all_graphs.append(nx.read_gpickle(path+g))\n",
    "    \n",
    "sizes = [nx.number_of_nodes(gr) for gr in all_graphs]"
   ]
  },
  {
   "cell_type": "code",
   "execution_count": 89,
   "metadata": {},
   "outputs": [],
   "source": [
    "u = u_projector(u, sizes)\n",
    "\n",
    "u = {'full_assignment_mat':u}"
   ]
  },
  {
   "cell_type": "code",
   "execution_count": 90,
   "metadata": {},
   "outputs": [],
   "source": [
    "# sio.savemat('X_pairwise_rand_bin.mat',u)"
   ]
  },
  {
   "cell_type": "code",
   "execution_count": 88,
   "metadata": {},
   "outputs": [],
   "source": [
    "#np.nonzero(u)"
   ]
  },
  {
   "cell_type": "code",
   "execution_count": 9,
   "metadata": {},
   "outputs": [
    {
     "data": {
      "text/plain": [
       "[{'parameter_correspondence': {'noise': [100.0, 300.0, 500.0, 700.0, 900.0],\n",
       "   'outliers': [0.0]},\n",
       "  'KerGM': array([[[0.34333333]],\n",
       "  \n",
       "         [[0.83912281]],\n",
       "  \n",
       "         [[0.95421053]],\n",
       "  \n",
       "         [[0.98017544]],\n",
       "  \n",
       "         [[0.99210526]]]),\n",
       "  'mSync': array([[[0.]],\n",
       "  \n",
       "         [[0.]],\n",
       "  \n",
       "         [[0.]],\n",
       "  \n",
       "         [[0.]],\n",
       "  \n",
       "         [[0.]]]),\n",
       "  'Hippi': array([[[0.98666667]],\n",
       "  \n",
       "         [[0.99333333]],\n",
       "  \n",
       "         [[1.        ]],\n",
       "  \n",
       "         [[1.        ]],\n",
       "  \n",
       "         [[1.        ]]]),\n",
       "  'mALS': array([[[0.00578947]],\n",
       "  \n",
       "         [[0.0045614 ]],\n",
       "  \n",
       "         [[0.00649123]],\n",
       "  \n",
       "         [[0.00491228]],\n",
       "  \n",
       "         [[0.00631579]]])}]"
      ]
     },
     "execution_count": 9,
     "metadata": {},
     "output_type": "execute_result"
    }
   ],
   "source": [
    "Result_pairwise_random = pickle.load(open('Result_pairwise_random.pickle', \"rb\"))\n",
    "Result_pairwise_random"
   ]
  },
  {
   "cell_type": "code",
   "execution_count": null,
   "metadata": {},
   "outputs": [],
   "source": []
  },
  {
   "cell_type": "code",
   "execution_count": null,
   "metadata": {},
   "outputs": [],
   "source": []
  },
  {
   "cell_type": "code",
   "execution_count": 6,
   "metadata": {},
   "outputs": [
    {
     "data": {
      "text/plain": [
       "Text(0, 0.5, 'F1-Score')"
      ]
     },
     "execution_count": 6,
     "metadata": {},
     "output_type": "execute_result"
    },
    {
     "data": {
      "image/png": "[encoded data removed]",
      "text/plain": [
       "<Figure size 936x504 with 1 Axes>"
      ]
     },
     "metadata": {
      "needs_background": "light"
     },
     "output_type": "display_data"
    }
   ],
   "source": [
    "# Plot pairwise\n",
    "plt.figure(figsize=(13, 7))\n",
    "\n",
    "Noise = [100,300,500,700,900]\n",
    "mSync = [0.0,0.0,0.0,0.0,0.0]\n",
    "Hippi = [0.986,0.993,1.0,1.0,1.0]\n",
    "mALS = [0.0057,0.0045,0.0064,0.0049,0.0063]\n",
    "\n",
    "plt.plot(Noise,mSync,label='mSync')\n",
    "plt.plot(Noise,Hippi,label='Hippi')\n",
    "plt.plot(Noise,mALS,label='mALS')\n",
    "plt.legend(loc=\"lower right\")\n",
    "plt.xlabel('NOISE')\n",
    "plt.ylabel('F1-Score')"
   ]
  },
  {
   "cell_type": "code",
   "execution_count": 2,
   "metadata": {},
   "outputs": [],
   "source": [
    "full_node_affinity = np.load('Full_node_affinity.npy')"
   ]
  },
  {
   "cell_type": "code",
   "execution_count": 7,
   "metadata": {},
   "outputs": [
    {
     "data": {
      "text/plain": [
       "(600, 600)"
      ]
     },
     "execution_count": 7,
     "metadata": {},
     "output_type": "execute_result"
    }
   ],
   "source": [
    "full_node_affinity.shape"
   ]
  },
  {
   "cell_type": "code",
   "execution_count": 18,
   "metadata": {
    "scrolled": true
   },
   "outputs": [],
   "source": [
    "# sio.loadmat('X_affinity.mat')['full_assignment_mat']"
   ]
  },
  {
   "cell_type": "code",
   "execution_count": 19,
   "metadata": {},
   "outputs": [
    {
     "data": {
      "text/plain": [
       "[{'parameter_correspondence': {'noise': [100.0, 300.0, 500.0, 700.0, 900.0],\n",
       "   'outliers': [0.0]},\n",
       "  'Hippi': array([[[0.98666667]],\n",
       "  \n",
       "         [[0.99333333]],\n",
       "  \n",
       "         [[1.        ]],\n",
       "  \n",
       "         [[1.        ]],\n",
       "  \n",
       "         [[1.        ]]]),\n",
       "  'mALS': array([[[0.69578947]],\n",
       "  \n",
       "         [[0.81754386]],\n",
       "  \n",
       "         [[0.81947368]],\n",
       "  \n",
       "         [[0.86385965]],\n",
       "  \n",
       "         [[0.8577193 ]]])}]"
      ]
     },
     "execution_count": 19,
     "metadata": {},
     "output_type": "execute_result"
    }
   ],
   "source": [
    "Result_pairwise_affinity = pickle.load(open('Result_pairwise_affinity_and_random.pickle', \"rb\"))\n",
    "Result_pairwise_affinity"
   ]
  },
  {
   "cell_type": "code",
   "execution_count": 29,
   "metadata": {},
   "outputs": [
    {
     "data": {
      "text/plain": [
       "Text(0, 0.5, 'F1-Score')"
      ]
     },
     "execution_count": 29,
     "metadata": {},
     "output_type": "execute_result"
    },
    {
     "data": {
      "image/png": "[encoded data removed]",
      "text/plain": [
       "<Figure size 1080x648 with 1 Axes>"
      ]
     },
     "metadata": {
      "needs_background": "light"
     },
     "output_type": "display_data"
    }
   ],
   "source": [
    "# Plot pairwise\n",
    "import matplotlib\n",
    "plt.figure(figsize=(15, 9))\n",
    "matplotlib.rcParams.update({'font.size': 18})\n",
    "\n",
    "Noise = [100,300,500,700,900]\n",
    "mSync = [0.0,0.0,0.0,0.0,0.0]\n",
    "Hippi = [0.986,0.993,1.0,1.0,1.0]\n",
    "mALS = [0.695,0.817,0.819,0.863,0.85771]\n",
    "\n",
    "plt.plot(Noise,mSync,linewidth = 3,label='mSync')\n",
    "plt.plot(Noise,Hippi,linewidth = 3,label='Hippi')\n",
    "plt.plot(Noise,mALS,linewidth = 3,label='mALS')\n",
    "plt.legend(loc=\"lower right\")\n",
    "plt.xlabel('NOISE')\n",
    "plt.ylabel('F1-Score')"
   ]
  },
  {
   "cell_type": "code",
   "execution_count": 147,
   "metadata": {},
   "outputs": [
    {
     "data": {
      "text/plain": [
       "[{'parameter_correspondence': {'noise': [100.0, 300.0, 500.0, 700.0, 900.0],\n",
       "   'outliers': [0.0]},\n",
       "  'Kmeans': array([[[0.96070175]],\n",
       "  \n",
       "         [[0.99666667]],\n",
       "  \n",
       "         [[1.        ]],\n",
       "  \n",
       "         [[1.        ]],\n",
       "  \n",
       "         [[1.        ]]]),\n",
       "  'mSync': array([[[0.83210526]],\n",
       "  \n",
       "         [[0.93666667]],\n",
       "  \n",
       "         [[1.        ]],\n",
       "  \n",
       "         [[1.        ]],\n",
       "  \n",
       "         [[1.        ]]]),\n",
       "  'Hippi': array([[[0.98666667]],\n",
       "  \n",
       "         [[0.99333333]],\n",
       "  \n",
       "         [[1.        ]],\n",
       "  \n",
       "         [[1.        ]],\n",
       "  \n",
       "         [[1.        ]]]),\n",
       "  'mALS': array([[[0.89649123]],\n",
       "  \n",
       "         [[0.96666667]],\n",
       "  \n",
       "         [[1.        ]],\n",
       "  \n",
       "         [[1.        ]],\n",
       "  \n",
       "         [[1.        ]]])}]"
      ]
     },
     "execution_count": 147,
     "metadata": {},
     "output_type": "execute_result"
    }
   ],
   "source": [
    "Result_kmeans = pickle.load(open('Result_kmeans.pickle', \"rb\"))\n",
    "Result_kmeans"
   ]
  },
  {
   "cell_type": "code",
   "execution_count": null,
   "metadata": {},
   "outputs": [],
   "source": []
  },
  {
   "cell_type": "code",
   "execution_count": 151,
   "metadata": {},
   "outputs": [
    {
     "data": {
      "text/plain": [
       "Text(0, 0.5, 'F1-Score')"
      ]
     },
     "execution_count": 151,
     "metadata": {},
     "output_type": "execute_result"
    },
    {
     "data": {
      "image/png": "[encoded data removed]",
      "text/plain": [
       "<Figure size 1080x504 with 1 Axes>"
      ]
     },
     "metadata": {
      "needs_background": "light"
     },
     "output_type": "display_data"
    }
   ],
   "source": [
    "# Plot pairwise\n",
    "import matplotlib\n",
    "plt.figure(figsize=(15, 7))\n",
    "matplotlib.rcParams.update({'font.size': 18})\n",
    "\n",
    "Noise = [100,300,500,700,900]\n",
    "kmeans = [0.9607,0.9966,1. ,1. ,1. ]\n",
    "mSync = [0.8321,0.9366,1.,1.,1.]\n",
    "Hippi = [0.986,0.993,1.0,1.0,1.0]\n",
    "mALS = [0.896,0.9666,1.,1.,1.]\n",
    "\n",
    "plt.plot(Noise,kmeans,linewidth = 3,label='kmeans')\n",
    "plt.plot(Noise,mSync,linewidth = 3,label='mSync')\n",
    "plt.plot(Noise,Hippi,linewidth = 3,label='Hippi')\n",
    "plt.plot(Noise,mALS,linewidth = 3,label='mALS')\n",
    "plt.legend(loc=\"lower right\")\n",
    "plt.xlabel('NOISE')\n",
    "plt.ylabel('F1-Score')"
   ]
  },
  {
   "cell_type": "code",
   "execution_count": null,
   "metadata": {},
   "outputs": [],
   "source": []
  },
  {
   "cell_type": "code",
   "execution_count": null,
   "metadata": {},
   "outputs": [],
   "source": []
  },
  {
   "cell_type": "code",
   "execution_count": null,
   "metadata": {},
   "outputs": [],
   "source": []
  },
  {
   "cell_type": "code",
   "execution_count": null,
   "metadata": {},
   "outputs": [],
   "source": [
    "path_graph = '/home/rohit/PhD_Work/GM_my_version/Graph_matching/data/simu_graph/small_trials/0/noise_900,outliers_0/0/graphs/'\n",
    "\n",
    "all_graphs = os.listdir(path_graph)"
   ]
  },
  {
   "cell_type": "code",
   "execution_count": 137,
   "metadata": {},
   "outputs": [],
   "source": [
    "import re\n",
    "\n",
    "def sorted_alphanumeric(data):\n",
    "    convert = lambda text: int(text) if text.isdigit() else text.lower()\n",
    "    alphanum_key = lambda key: [ convert(c) for c in re.split('([0-9]+)', key) ] \n",
    "    return sorted(data, key=alphanum_key)\n",
    "\n",
    "\n",
    "graphs = []\n",
    "for data_file in sorted_alphanumeric(all_graphs):\n",
    "    graphs.append(data_file)"
   ]
  },
  {
   "cell_type": "code",
   "execution_count": null,
   "metadata": {},
   "outputs": [],
   "source": []
  },
  {
   "cell_type": "code",
   "execution_count": 138,
   "metadata": {
    "scrolled": true
   },
   "outputs": [],
   "source": [
    "all_coords = []\n",
    "for g in graphs:\n",
    "    graph = nx.read_gpickle(path_graph+g)\n",
    "    coords = np.array(list(nx.get_node_attributes(graph,'coord').values()))\n",
    "    all_coords.extend(coords)\n",
    "all_coords = np.array(all_coords)"
   ]
  },
  {
   "cell_type": "code",
   "execution_count": 139,
   "metadata": {},
   "outputs": [],
   "source": [
    "from sklearn.cluster import KMeans\n",
    "\n",
    "kmeans = KMeans(n_clusters=len(graph.nodes), random_state=0).fit(all_coords)"
   ]
  },
  {
   "cell_type": "code",
   "execution_count": 140,
   "metadata": {},
   "outputs": [],
   "source": [
    "def get_matching_from_labelling(nb_nodes, nb_graphs, clustering_labels, use_precision=False):\n",
    "    \"\"\"\n",
    "    Transform the labelling into a bulk matrix\n",
    "    that represent the matching.\n",
    "    \"\"\"\n",
    "\n",
    "    nb_tot_node = nb_graphs * nb_nodes\n",
    "\n",
    "    # initialise bulk_matrix\n",
    "    bulk_permutation_matrix = np.zeros((nb_tot_node,nb_tot_node))\n",
    "\n",
    "    # fill the matrix\n",
    "    for i in range(clustering_labels.shape[0]):\n",
    "        for j in range(i+1, clustering_labels.shape[0]):\n",
    "\n",
    "            if clustering_labels[i] == clustering_labels[j] and clustering_labels[i] != -1:\n",
    "                graph_i = i // nb_nodes\n",
    "                graph_j = j // nb_nodes\n",
    "                node_i = i % nb_nodes\n",
    "                node_j = j % nb_nodes\n",
    "\n",
    "                if graph_i != graph_j:\n",
    "\n",
    "                    bulk_permutation_matrix[graph_i * nb_nodes + node_i, graph_j * nb_nodes + node_j] = 1\n",
    "\n",
    "                    \n",
    "    bulk_permutation_matrix = bulk_permutation_matrix + bulk_permutation_matrix.T + np.eye(bulk_permutation_matrix.shape[0])\n",
    "    return bulk_permutation_matrix"
   ]
  },
  {
   "cell_type": "code",
   "execution_count": 141,
   "metadata": {},
   "outputs": [],
   "source": [
    "#kmeans.labels_"
   ]
  },
  {
   "cell_type": "code",
   "execution_count": 142,
   "metadata": {},
   "outputs": [],
   "source": [
    "perm_mat = get_matching_from_labelling(30,20,kmeans.labels_)"
   ]
  },
  {
   "cell_type": "code",
   "execution_count": 143,
   "metadata": {},
   "outputs": [],
   "source": [
    "# X_kmeans = {'full_assignment_mat':perm_mat}"
   ]
  },
  {
   "cell_type": "code",
   "execution_count": 145,
   "metadata": {},
   "outputs": [],
   "source": [
    "# sio.savemat('X_kmeans.mat',X_kmeans)"
   ]
  },
  {
   "cell_type": "code",
   "execution_count": null,
   "metadata": {},
   "outputs": [],
   "source": []
  },
  {
   "cell_type": "code",
   "execution_count": 68,
   "metadata": {},
   "outputs": [],
   "source": [
    "data_path = '/home/rohit/PhD_Work/GM_my_version/Graph_matching/data/simu_graph/test_with_dummy/1/noise_100,outliers_varied/0/'"
   ]
  },
  {
   "cell_type": "code",
   "execution_count": 77,
   "metadata": {},
   "outputs": [],
   "source": [
    "g1 = nx.read_gpickle(data_path + '/graphs/graph_00000.gpickle')\n",
    "g2 = nx.read_gpickle(data_path + '/graphs/graph_00001.gpickle')\n",
    "g6 = nx.read_gpickle(data_path + '/graphs/graph_00006.gpickle')"
   ]
  },
  {
   "cell_type": "code",
   "execution_count": 72,
   "metadata": {
    "scrolled": true
   },
   "outputs": [],
   "source": [
    "aff_1 = sio.loadmat(data_path + '/affinity/full_affinity_00000_00002.mat')"
   ]
  },
  {
   "cell_type": "code",
   "execution_count": 34,
   "metadata": {},
   "outputs": [],
   "source": [
    "all_graphs = [nx.read_gpickle(data_path + '/graphs/' + g) for g in np.sort(os.listdir(data_path + '/graphs'))]"
   ]
  },
  {
   "cell_type": "code",
   "execution_count": 37,
   "metadata": {},
   "outputs": [],
   "source": [
    "sizes = [nx.number_of_nodes(g) for g in all_graphs]"
   ]
  },
  {
   "cell_type": "code",
   "execution_count": 73,
   "metadata": {
    "scrolled": true
   },
   "outputs": [
    {
     "data": {
      "text/plain": [
       "(676, 676)"
      ]
     },
     "execution_count": 73,
     "metadata": {},
     "output_type": "execute_result"
    }
   ],
   "source": [
    "aff_1['full_affinity'].shape"
   ]
  },
  {
   "cell_type": "code",
   "execution_count": 70,
   "metadata": {
    "scrolled": false
   },
   "outputs": [
    {
     "data": {
      "text/plain": [
       "dict_keys(['__header__', '__version__', '__globals__', 'full_affinity'])"
      ]
     },
     "execution_count": 70,
     "metadata": {},
     "output_type": "execute_result"
    }
   ],
   "source": [
    "aff_1.keys()"
   ]
  },
  {
   "cell_type": "code",
   "execution_count": 64,
   "metadata": {},
   "outputs": [],
   "source": [
    "affinity_matrix = np.zeros((np.power(27, 2), np.power(27,2)))"
   ]
  },
  {
   "cell_type": "code",
   "execution_count": 67,
   "metadata": {
    "scrolled": true
   },
   "outputs": [
    {
     "data": {
      "text/plain": [
       "{'coord': array([ 10.98892599, -13.77475617, -98.43525587]),\n",
       " 'is_dummy': False,\n",
       " 'is_outlier': False}"
      ]
     },
     "execution_count": 67,
     "metadata": {},
     "output_type": "execute_result"
    }
   ],
   "source": [
    "g1.nodes[0]"
   ]
  },
  {
   "cell_type": "code",
   "execution_count": 104,
   "metadata": {
    "scrolled": true
   },
   "outputs": [
    {
     "data": {
      "text/plain": [
       "NodeView((0, 1, 2, 3, 4, 5, 6, 7, 8, 9, 10, 11, 12, 13, 14, 15, 16, 17, 18, 19, 20, 21, 22, 23, 24, 25))"
      ]
     },
     "execution_count": 104,
     "metadata": {},
     "output_type": "execute_result"
    }
   ],
   "source": [
    "g1.nodes"
   ]
  },
  {
   "cell_type": "code",
   "execution_count": 52,
   "metadata": {},
   "outputs": [
    {
     "name": "stdout",
     "output_type": "stream",
     "text": [
      "3\r",
      "5\r",
      "7\r",
      "9\r"
     ]
    }
   ],
   "source": [
    "# i = 1\n",
    "# while i < 10:\n",
    "#     i += 1\n",
    "#     if i%2 == 0:\n",
    "#         continue\n",
    "#     print(i,end='\\r')\n",
    "    "
   ]
  },
  {
   "cell_type": "code",
   "execution_count": 4,
   "metadata": {},
   "outputs": [],
   "source": [
    "path = '/home/rohit/PhD_Work/GM_my_version/Graph_matching/data/simu_graph/NEW_SIMUS_JULY_11/0/noise_1000,outliers_varied/graphs/'\n",
    "\n",
    "import os\n",
    "\n",
    "all_graphs = os.listdir(path)\n",
    "all_graphs = [nx.read_gpickle(path + g) for g in all_graphs]"
   ]
  },
  {
   "cell_type": "code",
   "execution_count": 5,
   "metadata": {},
   "outputs": [],
   "source": [
    "all_nodes = [nx.number_of_nodes(g) for g in all_graphs]"
   ]
  },
  {
   "cell_type": "code",
   "execution_count": 6,
   "metadata": {},
   "outputs": [
    {
     "data": {
      "text/plain": [
       "87.82481751824818"
      ]
     },
     "execution_count": 6,
     "metadata": {},
     "output_type": "execute_result"
    }
   ],
   "source": [
    "np.mean(all_nodes)"
   ]
  },
  {
   "cell_type": "code",
   "execution_count": 7,
   "metadata": {},
   "outputs": [
    {
     "data": {
      "text/plain": [
       "4.327636212261668"
      ]
     },
     "execution_count": 7,
     "metadata": {},
     "output_type": "execute_result"
    }
   ],
   "source": [
    "np.std(all_nodes)"
   ]
  },
  {
   "cell_type": "code",
   "execution_count": 5,
   "metadata": {
    "scrolled": false
   },
   "outputs": [
    {
     "data": {
      "text/plain": [
       "{'vertex_index': 1357,\n",
       " 'sphere_3dcoords': [6.501389026641846,\n",
       "  -93.98175048828125,\n",
       "  -33.54344177246094],\n",
       " 'sphere_coords': [-1.5017292499542236, 1.9128626585006714],\n",
       " 'basin_label': 307.0,\n",
       " 'basin_area': 447.01047,\n",
       " 'depth': -0.18439683,\n",
       " 'basin_thickness': 2.5869646072387695,\n",
       " 'ico100_7_vertex_index': 7574,\n",
       " 'label_neuroimage': 28,\n",
       " 'label_media': 90,\n",
       " 'sphere_3dcoords_noreg': array([ 17.402021, -91.770744, -35.71135 ], dtype=float32),\n",
       " 'ico100_7_vertex_index_noreg': 11492}"
      ]
     },
     "execution_count": 5,
     "metadata": {},
     "output_type": "execute_result"
    }
   ],
   "source": [
    "g_real = nx.read_gpickle('../data/Oasis_original_new/graph_0.gpickle')\n",
    "g_real.nodes.data()[0]"
   ]
  },
  {
   "cell_type": "markdown",
   "metadata": {},
   "source": [
    "### Mean real data: 88.27737226277372\n",
    "### STD real data: 4.72720025935832"
   ]
  },
  {
   "cell_type": "code",
   "execution_count": 9,
   "metadata": {},
   "outputs": [
    {
     "data": {
      "text/plain": [
       "1095.8"
      ]
     },
     "execution_count": 9,
     "metadata": {},
     "output_type": "execute_result"
    }
   ],
   "source": [
    "1.0958e+03"
   ]
  },
  {
   "cell_type": "code",
   "execution_count": 10,
   "metadata": {},
   "outputs": [
    {
     "data": {
      "text/plain": [
       "400000000"
      ]
     },
     "execution_count": 10,
     "metadata": {},
     "output_type": "execute_result"
    }
   ],
   "source": [
    "20000 * 20000"
   ]
  },
  {
   "cell_type": "code",
   "execution_count": null,
   "metadata": {},
   "outputs": [],
   "source": []
  }
 ],
 "metadata": {
  "kernelspec": {
   "display_name": "Python 3",
   "language": "python",
   "name": "python3"
  },
  "language_info": {
   "codemirror_mode": {
    "name": "ipython",
    "version": 3
   },
   "file_extension": ".py",
   "mimetype": "text/x-python",
   "name": "python",
   "nbconvert_exporter": "python",
   "pygments_lexer": "ipython3",
   "version": "3.8.0"
  }
 },
 "nbformat": 4,
 "nbformat_minor": 4
}
