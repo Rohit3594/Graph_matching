{
 "cells": [
  {
   "cell_type": "code",
   "execution_count": 1,
   "id": "26fdca4e",
   "metadata": {},
   "outputs": [],
   "source": [
    "import os\n",
    "import sys\n",
    "sys.path.append(\"/home/rohit/PhD_Work/GM_my_version/Graph_matching/\")\n",
    "from sklearn.cluster import KMeans\n",
    "import networkx as nx\n",
    "import numpy as np\n",
    "from graph_generation.load_graphs_and_create_metadata import dataset_metadata\n",
    "from graph_matching_tools.metrics import matching\n",
    "import matplotlib.pyplot as plt\n",
    "import scipy.io as sco\n",
    "import slam.io as sio\n",
    "import pickle\n",
    "import seaborn as sns\n",
    "import tools.graph_processing as gp\n",
    "import tools.graph_visu as gv\n",
    "from matplotlib.pyplot import figure\n",
    "import pickle\n",
    "import pandas as pd\n",
    "from torch_geometric.utils.convert import from_networkx\n",
    "import torch\n",
    "from torch_geometric.datasets import TUDataset\n",
    "from torch_geometric.loader import DataLoader\n",
    "from sklearn.preprocessing import OneHotEncoder\n",
    "from torch.nn import Linear\n",
    "import torch.nn as nn\n",
    "import torch.nn.functional as F\n",
    "from torch_geometric.nn import GCNConv\n",
    "from torch_geometric.nn import GATConv\n",
    "from torch_geometric.nn import global_mean_pool\n",
    "from torch_geometric.data import Data\n",
    "\n",
    "import plotly.express as px\n",
    "\n",
    "%matplotlib inline"
   ]
  },
  {
   "cell_type": "code",
   "execution_count": 2,
   "id": "89102ce7",
   "metadata": {},
   "outputs": [],
   "source": [
    "def graph_remove_dummy_nodes(graph):\n",
    "    nodes_dummy_true = [x for x,y in graph.nodes(data=True) if y['is_dummy']==True]\n",
    "    graph.remove_nodes_from(nodes_dummy_true)\n",
    "    #print(len(graph.nodes))"
   ]
  },
  {
   "cell_type": "code",
   "execution_count": 3,
   "id": "1bf1f6da",
   "metadata": {},
   "outputs": [],
   "source": [
    "path_to_labelled_graphs = '/home/rohit/PhD_Work/GM_my_version/Graph_matching/data/Oasis_original_new_with_dummy/labelled_graphs/'"
   ]
  },
  {
   "cell_type": "code",
   "execution_count": 4,
   "id": "1d05a3d7",
   "metadata": {},
   "outputs": [],
   "source": [
    "correspondence = pickle.load( open( \"graph_correspondence_new.pickle\", \"rb\" ))\n",
    "Oasis_phen = pd.read_excel(\"/home/rohit/PhD_Work/GM_my_version/Graph_matching/data/OASIS_phenotype.ods\", engine=\"odf\")"
   ]
  },
  {
   "cell_type": "code",
   "execution_count": 5,
   "id": "5adb827f",
   "metadata": {},
   "outputs": [],
   "source": [
    "# Correspondence between sulcal graphs(OASIS) and gender. \n",
    "#Oasis_phen[['Subject','M/F']]\n",
    "oasis_ids = Oasis_phen['Subject'].to_list()\n",
    "gender = Oasis_phen['M/F'].to_list()\n",
    "\n",
    "gender_corresp = []\n",
    "\n",
    "for corr in correspondence:\n",
    "    corr_id = corr[0].split('_lh')\n",
    "    \n",
    "    for o_id, gen in zip(oasis_ids, gender):\n",
    "        if o_id == corr_id[0]:\n",
    "            gender_corresp.append([o_id,corr[1],gen])\n",
    "            \n",
    "gender_corresp = np.array(gender_corresp)"
   ]
  },
  {
   "cell_type": "code",
   "execution_count": 6,
   "id": "cecb1540",
   "metadata": {
    "scrolled": true
   },
   "outputs": [
    {
     "data": {
      "text/plain": [
       "array(['F', 'M', 'M', 'F', 'F', 'M', 'F', 'F', 'F', 'F', 'M', 'M', 'F',\n",
       "       'F', 'F', 'M', 'F', 'M', 'F', 'M', 'M', 'M', 'M', 'F', 'M', 'F',\n",
       "       'M', 'F', 'F', 'M', 'M', 'F', 'F', 'F', 'F', 'F', 'M', 'M', 'F',\n",
       "       'F', 'F', 'M', 'M', 'M', 'M', 'M', 'M', 'M', 'M', 'M', 'F', 'F',\n",
       "       'F', 'M', 'M', 'F', 'M', 'F', 'M', 'M', 'F', 'F', 'M', 'M', 'F',\n",
       "       'M', 'F', 'F', 'F', 'M', 'F', 'F', 'F', 'F', 'M', 'F', 'F', 'F',\n",
       "       'M', 'M', 'M', 'F', 'M', 'F', 'M', 'M', 'M', 'F', 'M', 'F', 'F',\n",
       "       'F', 'M', 'M', 'M', 'M', 'M', 'F', 'M', 'F', 'F', 'M', 'F', 'F',\n",
       "       'M', 'F', 'M', 'F', 'M', 'M', 'F', 'M', 'F', 'F', 'M', 'F', 'M',\n",
       "       'F', 'M', 'M', 'M', 'F', 'F', 'M', 'M', 'M', 'F', 'M', 'F', 'F',\n",
       "       'M', 'F', 'M', 'F', 'F', 'F', 'M'], dtype='<U19')"
      ]
     },
     "execution_count": 6,
     "metadata": {},
     "output_type": "execute_result"
    }
   ],
   "source": [
    "gender_corresp[:,2]"
   ]
  },
  {
   "cell_type": "code",
   "execution_count": 7,
   "id": "70587278",
   "metadata": {
    "scrolled": true
   },
   "outputs": [
    {
     "data": {
      "text/plain": [
       "{'F': 69, 'M': 68}"
      ]
     },
     "execution_count": 7,
     "metadata": {},
     "output_type": "execute_result"
    }
   ],
   "source": [
    "unique, counts = np.unique(gender_corresp[:,2], return_counts=True)\n",
    "dict(zip(unique, counts))"
   ]
  },
  {
   "cell_type": "code",
   "execution_count": 8,
   "id": "3fbacbcc",
   "metadata": {},
   "outputs": [],
   "source": [
    "# Create graph level labels (here gender)\n",
    "onehot = OneHotEncoder(drop='first')\n",
    "graph_labels = onehot.fit_transform(np.array(gender_corresp)[:,2].reshape(-1,1)).toarray()"
   ]
  },
  {
   "cell_type": "code",
   "execution_count": null,
   "id": "3a103ccc",
   "metadata": {},
   "outputs": [],
   "source": []
  },
  {
   "cell_type": "code",
   "execution_count": 9,
   "id": "1f7368d1",
   "metadata": {},
   "outputs": [],
   "source": [
    "# Create pair of graphs \n",
    "\n",
    "list_graphs = gp.load_graphs_in_list(path_to_labelled_graphs)\n",
    "\n",
    "pos_pairs = []\n",
    "neg_pairs = []\n",
    "\n",
    "#sulcal_dataset = []\n",
    "\n",
    "for g1, gen1 in zip(list_graphs, graph_labels):\n",
    "\n",
    "    for g2, gen2 in zip(list_graphs, graph_labels):\n",
    "        \n",
    "        \n",
    "        graph_remove_dummy_nodes(g1)\n",
    "        g1.remove_edges_from(nx.selfloop_edges(g1)) \n",
    "        \n",
    "        graph_remove_dummy_nodes(g2)\n",
    "        g2.remove_edges_from(nx.selfloop_edges(g2))\n",
    "        \n",
    "        if g1 != g2:\n",
    "            \n",
    "            \n",
    "            attr_coords_g1 = np.array(list(nx.get_node_attributes(g1,'sphere_3dcoords').values()))\n",
    "            attr_basin_area_g1 = np.array(list(nx.get_node_attributes(g1,'basin_area').values())).reshape([len(g1),1])\n",
    "            attr_basin_thickness_g1 = np.array(list(nx.get_node_attributes(g1,'basin_thickness').values())).reshape([len(g1),1])\n",
    "            attr_depth_g1 = np.array(list(nx.get_node_attributes(g1,'depth').values())).reshape([len(g1),1])\n",
    "            \n",
    "            attr_concat_g1 = np.concatenate((attr_coords_g1,attr_basin_area_g1,attr_basin_thickness_g1,attr_depth_g1),axis = 1)\n",
    "            \n",
    "            \n",
    "            \n",
    "            attr_coords_g2 = np.array(list(nx.get_node_attributes(g2,'sphere_3dcoords').values()))\n",
    "            attr_basin_area_g2 = np.array(list(nx.get_node_attributes(g2,'basin_area').values())).reshape([len(g2),1])\n",
    "            attr_basin_thickness_g2 = np.array(list(nx.get_node_attributes(g2,'basin_thickness').values())).reshape([len(g2),1])\n",
    "            attr_depth_g2 = np.array(list(nx.get_node_attributes(g2,'depth').values())).reshape([len(g2),1])\n",
    "            \n",
    "            attr_concat_g2 = np.concatenate((attr_coords_g2,attr_basin_area_g2,attr_basin_thickness_g2,attr_depth_g2),axis = 1)\n",
    "            \n",
    "            \n",
    "            x1 = torch.tensor(attr_concat_g1,dtype=torch.float)\n",
    "            \n",
    "            #x1 = torch.tensor(nx.adjacency_matrix(g1).todense(),dtype=torch.float) #adj row\n",
    "            #y1 = torch.tensor(gen1,dtype=torch.long) # graph label\n",
    "            edge_index_g1 = torch.tensor(list(g1.edges))\n",
    "            \n",
    "            \n",
    "            x2 = torch.tensor(attr_concat_g2,dtype=torch.float)\n",
    "            #x2 = torch.tensor(nx.adjacency_matrix(g2).todense(),dtype=torch.float) #adj row\n",
    "            #y2 = torch.tensor(gen2,dtype=torch.long)\n",
    "            edge_index_g2 = torch.tensor(list(g2.edges))\n",
    "            \n",
    "            \n",
    "            # y here is pairwise label\n",
    "            \n",
    "            if gen1 == gen2:\n",
    "                \n",
    "                pos_pairs.append((Data(x=x1, y= torch.tensor([1],dtype=torch.long) , edge_index=edge_index_g1.t().contiguous()),\n",
    "                                Data(x=x2, y= torch.tensor([1],dtype=torch.long) , edge_index=edge_index_g2.t().contiguous())))  # positive pairs\n",
    "\n",
    "                \n",
    "            else:\n",
    "                \n",
    "                neg_pairs.append((Data(x=x1, y= torch.tensor([0],dtype=torch.long) , edge_index=edge_index_g1.t().contiguous()),\n",
    "                                Data(x=x2, y= torch.tensor([0],dtype=torch.long) , edge_index=edge_index_g2.t().contiguous()))) # positive pairs\n",
    "                \n",
    "\n",
    "                \n",
    "                \n",
    "                #sulcal_dataset.append(from_networkx(g))"
   ]
  },
  {
   "cell_type": "code",
   "execution_count": null,
   "id": "02504761",
   "metadata": {},
   "outputs": [],
   "source": [
    "#sulcal_dataset = pos_pairs + neg_pairs"
   ]
  },
  {
   "cell_type": "code",
   "execution_count": 10,
   "id": "4bd0dca5",
   "metadata": {},
   "outputs": [],
   "source": [
    "train_dataset = pos_pairs[:5000] + neg_pairs[:5000]\n",
    "test_dataset = pos_pairs[5000:] + neg_pairs[5000:]"
   ]
  },
  {
   "cell_type": "code",
   "execution_count": 11,
   "id": "2e556466",
   "metadata": {},
   "outputs": [],
   "source": [
    "# nx.number_of_nodes(list_graphs[0]),nx.number_of_nodes(list_graphs[1])\n",
    "\n",
    "# nx.number_of_edges(list_graphs[0]),nx.number_of_edges(list_graphs[1])"
   ]
  },
  {
   "cell_type": "code",
   "execution_count": null,
   "id": "f63c0237",
   "metadata": {},
   "outputs": [],
   "source": []
  },
  {
   "cell_type": "code",
   "execution_count": 12,
   "id": "9814a7a2",
   "metadata": {},
   "outputs": [],
   "source": [
    "train_loader = DataLoader(train_dataset, batch_size=128, shuffle=True)\n",
    "test_loader = DataLoader(test_dataset, batch_size=128, shuffle=True)"
   ]
  },
  {
   "cell_type": "code",
   "execution_count": null,
   "id": "05dbe3fb",
   "metadata": {},
   "outputs": [],
   "source": []
  },
  {
   "cell_type": "code",
   "execution_count": 15,
   "id": "0d6771a4",
   "metadata": {},
   "outputs": [
    {
     "data": {
      "text/plain": [
       "6"
      ]
     },
     "execution_count": 15,
     "metadata": {},
     "output_type": "execute_result"
    }
   ],
   "source": [
    "num_node_features = train_dataset[0][0].num_features\n",
    "num_node_features"
   ]
  },
  {
   "cell_type": "code",
   "execution_count": null,
   "id": "70869a90",
   "metadata": {},
   "outputs": [],
   "source": [
    "# # Create GNN Model\n",
    "\n",
    "# class GCN(torch.nn.Module):\n",
    "#     def __init__(self, hidden_channels):\n",
    "#         super(GCN, self).__init__()\n",
    "#         torch.manual_seed(12345)\n",
    "        \n",
    "#         self.embedding_dim = 32\n",
    "        \n",
    "#         self.conv1 = GCNConv(num_node_features, hidden_channels)\n",
    "#         self.conv2 = GCNConv(hidden_channels, hidden_channels)\n",
    "#         self.conv3 = GCNConv(hidden_channels, self.embedding_dim)\n",
    "# #         self.lin = Linear(hidden_channels * 2, 1)\n",
    "# #         self.sigmoid = nn.Sigmoid()\n",
    "\n",
    "#     def forward(self, x, edge_index, batch):\n",
    "#         # 1. Obtain node embeddings \n",
    "#         x = self.conv1(x, edge_index)\n",
    "#         x = x.relu()\n",
    "#         x = self.conv2(x, edge_index)\n",
    "#         x = x.relu()\n",
    "#         emb = self.conv3(x, edge_index)\n",
    "\n",
    "#         # 2. Readout layer\n",
    "#         g_emb = global_mean_pool(emb, batch)  # [batch_size, hidden_channels]\n",
    "\n",
    "        \n",
    "#         return g_emb, emb\n",
    "        \n",
    "\n",
    "# model = GCN(hidden_channels=32)\n",
    "# print(model)"
   ]
  },
  {
   "cell_type": "code",
   "execution_count": 16,
   "id": "85f36440",
   "metadata": {},
   "outputs": [
    {
     "name": "stdout",
     "output_type": "stream",
     "text": [
      "GAT(\n",
      "  (conv1): GATConv(6, 32, heads=2)\n",
      "  (conv2): GATConv(64, 32, heads=1)\n",
      "  (conv3): GATConv(32, 8, heads=1)\n",
      ")\n"
     ]
    }
   ],
   "source": [
    "# Create GNN Model\n",
    "\n",
    "class GAT(torch.nn.Module):\n",
    "    def __init__(self, hidden_channels):        \n",
    "        super(GAT, self).__init__()\n",
    "        torch.manual_seed(12345)\n",
    "        self.in_head = 2\n",
    "        self.out_head = 1\n",
    "        \n",
    "        self.emb_dim = 8\n",
    "        \n",
    "        self.conv1 = GATConv(num_node_features, hidden_channels, heads=self.in_head)\n",
    "        self.conv2 = GATConv(hidden_channels*self.in_head, hidden_channels,concat=False)\n",
    "        self.conv3 = GATConv(hidden_channels, self.emb_dim, concat=False, dropout=0.6)\n",
    "        \n",
    "\n",
    "    def forward(self, x, edge_index, batch):\n",
    "        x = self.conv1(x, edge_index)\n",
    "        x = x.relu()\n",
    "        x = self.conv2(x, edge_index)\n",
    "        x = x.relu()\n",
    "        emb = self.conv3(x, edge_index)\n",
    "\n",
    "        # 2. Readout layer\n",
    "        g_emb = global_mean_pool(emb, batch)  # [batch_size, hidden_channels] TopKPooling\n",
    "        #g_emb = TopKPooling(emb, batch)\n",
    "\n",
    "        # 3. Apply a final classifier\n",
    "#         x = F.dropout(x, p=0.5, training=self.training)\n",
    "#         x = self.lin(x)\n",
    "        \n",
    "        return g_emb, emb\n",
    "\n",
    "model = GAT(hidden_channels=32)\n",
    "print(model)"
   ]
  },
  {
   "cell_type": "code",
   "execution_count": null,
   "id": "85fca04a",
   "metadata": {},
   "outputs": [],
   "source": [
    "# def criterion(dist, label, margin: float = 1.0):\n",
    "#     \"\"\"\n",
    "#     Computes Contrastive Loss\n",
    "#     \"\"\"\n",
    "\n",
    "#     dist = torch.nn.functional.pairwise_distance(x1, x2)\n",
    "    \n",
    "#     dist = torch.sigmoid(dist)\n",
    "    \n",
    "#     #dist = dist.argmax(dim=1)\n",
    "\n",
    "#     loss = (1 - label) * torch.pow(dist, 2) + (label) * torch.pow(torch.clamp(margin - dist, min=0.0), 2)\n",
    "#     loss = torch.mean(loss)\n",
    "\n",
    "#     return loss"
   ]
  },
  {
   "cell_type": "code",
   "execution_count": 17,
   "id": "87a324db",
   "metadata": {},
   "outputs": [],
   "source": [
    "def criterion(x1, x2, label, margin: float = 1.0):\n",
    "    \"\"\"\n",
    "    Computes Contrastive Loss\n",
    "    \"\"\"\n",
    "\n",
    "    dist = torch.nn.functional.pairwise_distance(x1, x2)\n",
    "    #dist = torch.sigmoid(dist)\n",
    "\n",
    "    loss = (1 - label) * torch.pow(dist, 2) + (label) * torch.pow(torch.clamp(margin - dist, min=0.0), 2)\n",
    "    loss = torch.mean(loss)\n",
    "\n",
    "    return loss"
   ]
  },
  {
   "cell_type": "code",
   "execution_count": null,
   "id": "356cd7c1",
   "metadata": {},
   "outputs": [],
   "source": []
  },
  {
   "cell_type": "code",
   "execution_count": 18,
   "id": "a680e0be",
   "metadata": {},
   "outputs": [],
   "source": [
    "optimizer = torch.optim.Adam(model.parameters(), lr=0.01)\n",
    "#criterion = torch.nn.CrossEntropyLoss()\n",
    "\n",
    "def train():\n",
    "    model.train()\n",
    "    \n",
    "    for data in train_loader:# Iterate in batches over the training dataset.\n",
    "        \n",
    "        g_emb_g1, node_emb_g1 = model(data[0].x,data[0].edge_index,data[0].batch)\n",
    "        g_emb_g2, node_emb_g2 = model(data[1].x,data[1].edge_index,data[1].batch)\n",
    "        \n",
    "        #loss = criterion(out, data[0].y)\n",
    "        loss = criterion(g_emb_g1,g_emb_g2, data[0].y) #custom loss\n",
    "        \n",
    "        loss.backward() \n",
    "        optimizer.step()\n",
    "        optimizer.zero_grad()\n",
    "\n",
    "def test(loader):\n",
    "    model.eval()\n",
    "    loss = 0\n",
    "    \n",
    "    with torch.no_grad():\n",
    "        \n",
    "        for data in loader:\n",
    "        \n",
    "            g_emb_g1, node_emb_g1 = model(data[0].x,data[0].edge_index,data[0].batch)\n",
    "            g_emb_g2, node_emb_g2 = model(data[1].x,data[1].edge_index,data[1].batch)\n",
    "            #pred = out.argmax(dim=1)\n",
    "            #correct += int((pred == data[0].y).sum())\n",
    "\n",
    "            loss += criterion(g_emb_g1,g_emb_g2, data[0].y)\n",
    "    return loss\n",
    "        \n",
    "    #return correct / len(loader.dataset)  # Derive ratio of correct predictions.\n",
    "            \n",
    "            #loss += criterion(g1_emb,g2_emb, data[0].y)"
   ]
  },
  {
   "cell_type": "code",
   "execution_count": 19,
   "id": "5eb20c92",
   "metadata": {
    "scrolled": true
   },
   "outputs": [
    {
     "name": "stdout",
     "output_type": "stream",
     "text": [
      "Epoch: 001, Train loss: 69.6460, Test loss: 66.2426\n",
      "Epoch: 002, Train loss: 33.4529, Test loss: 32.5344\n",
      "Epoch: 003, Train loss: 22.7827, Test loss: 21.4238\n",
      "Epoch: 004, Train loss: 21.4615, Test loss: 19.3809\n",
      "Epoch: 005, Train loss: 22.3423, Test loss: 20.3100\n",
      "Epoch: 006, Train loss: 21.5044, Test loss: 18.6872\n",
      "Epoch: 007, Train loss: 21.3429, Test loss: 18.6079\n",
      "Epoch: 008, Train loss: 21.7405, Test loss: 19.1434\n",
      "Epoch: 009, Train loss: 22.6223, Test loss: 20.2803\n",
      "Epoch: 010, Train loss: 21.7027, Test loss: 18.9863\n",
      "Epoch: 011, Train loss: 22.0482, Test loss: 19.5764\n",
      "Epoch: 012, Train loss: 28.7294, Test loss: 26.7400\n",
      "Epoch: 013, Train loss: 21.5524, Test loss: 18.5405\n",
      "Epoch: 014, Train loss: 21.5466, Test loss: 18.6892\n",
      "Epoch: 015, Train loss: 21.4157, Test loss: 18.5268\n",
      "Epoch: 016, Train loss: 31.3396, Test loss: 28.7304\n",
      "Epoch: 017, Train loss: 22.2602, Test loss: 19.6750\n",
      "Epoch: 018, Train loss: 21.8753, Test loss: 18.4287\n",
      "Epoch: 019, Train loss: 42.6517, Test loss: 40.3610\n",
      "Epoch: 020, Train loss: 21.8447, Test loss: 19.1423\n",
      "Epoch: 021, Train loss: 33.9853, Test loss: 31.9601\n",
      "Epoch: 022, Train loss: 37.2322, Test loss: 35.0101\n",
      "Epoch: 023, Train loss: 21.9979, Test loss: 19.5113\n",
      "Epoch: 024, Train loss: 52.5222, Test loss: 49.4313\n",
      "Epoch: 025, Train loss: 22.2355, Test loss: 19.4096\n",
      "Epoch: 026, Train loss: 22.7845, Test loss: 19.9031\n",
      "Epoch: 027, Train loss: 22.3642, Test loss: 19.0441\n",
      "Epoch: 028, Train loss: 45.0592, Test loss: 45.9399\n",
      "Epoch: 029, Train loss: 21.8420, Test loss: 18.7152\n",
      "Epoch: 030, Train loss: 21.6108, Test loss: 18.6879\n",
      "Epoch: 031, Train loss: 26.6691, Test loss: 24.7182\n",
      "Epoch: 032, Train loss: 21.7710, Test loss: 18.7932\n",
      "Epoch: 033, Train loss: 21.5067, Test loss: 18.4426\n",
      "Epoch: 034, Train loss: 22.4153, Test loss: 20.0293\n",
      "Epoch: 035, Train loss: 21.4747, Test loss: 18.6201\n",
      "Epoch: 036, Train loss: 21.7659, Test loss: 19.0840\n",
      "Epoch: 037, Train loss: 21.7915, Test loss: 18.9383\n",
      "Epoch: 038, Train loss: 25.9124, Test loss: 23.9386\n",
      "Epoch: 039, Train loss: 21.6090, Test loss: 18.7204\n",
      "Epoch: 040, Train loss: 22.9992, Test loss: 20.3756\n",
      "Epoch: 041, Train loss: 21.8020, Test loss: 18.9390\n",
      "Epoch: 042, Train loss: 21.4610, Test loss: 18.8367\n",
      "Epoch: 043, Train loss: 21.5307, Test loss: 18.4862\n",
      "Epoch: 044, Train loss: 22.8431, Test loss: 20.2834\n",
      "Epoch: 045, Train loss: 22.0204, Test loss: 18.9721\n",
      "Epoch: 046, Train loss: 21.6879, Test loss: 19.0367\n",
      "Epoch: 047, Train loss: 22.3960, Test loss: 19.2798\n",
      "Epoch: 048, Train loss: 21.8466, Test loss: 19.1271\n",
      "Epoch: 049, Train loss: 22.0553, Test loss: 18.6851\n",
      "Epoch: 050, Train loss: 23.0018, Test loss: 20.9425\n",
      "Epoch: 051, Train loss: 22.1465, Test loss: 18.9466\n",
      "Epoch: 052, Train loss: 32.0456, Test loss: 28.8938\n",
      "Epoch: 053, Train loss: 22.2911, Test loss: 19.2328\n",
      "Epoch: 054, Train loss: 37.5103, Test loss: 37.2042\n",
      "Epoch: 055, Train loss: 28.5897, Test loss: 26.9472\n",
      "Epoch: 056, Train loss: 21.4233, Test loss: 18.3971\n",
      "Epoch: 057, Train loss: 23.3230, Test loss: 21.0221\n",
      "Epoch: 058, Train loss: 21.9834, Test loss: 19.0294\n",
      "Epoch: 059, Train loss: 23.2569, Test loss: 20.8565\n",
      "Epoch: 060, Train loss: 22.1946, Test loss: 19.3538\n",
      "Epoch: 061, Train loss: 27.0383, Test loss: 26.0222\n",
      "Epoch: 062, Train loss: 23.3835, Test loss: 20.9305\n",
      "Epoch: 063, Train loss: 25.4731, Test loss: 23.9985\n",
      "Epoch: 064, Train loss: 21.6375, Test loss: 18.7308\n",
      "Epoch: 065, Train loss: 21.8955, Test loss: 19.0154\n",
      "Epoch: 066, Train loss: 23.1809, Test loss: 21.0698\n",
      "Epoch: 067, Train loss: 22.9942, Test loss: 20.2897\n",
      "Epoch: 068, Train loss: 23.7201, Test loss: 21.0104\n",
      "Epoch: 069, Train loss: 21.8356, Test loss: 19.1765\n",
      "Epoch: 070, Train loss: 21.7461, Test loss: 18.8843\n",
      "Epoch: 071, Train loss: 21.8346, Test loss: 18.8934\n",
      "Epoch: 072, Train loss: 21.2021, Test loss: 18.3774\n",
      "Epoch: 073, Train loss: 22.1467, Test loss: 19.3593\n",
      "Epoch: 074, Train loss: 21.2826, Test loss: 18.7728\n",
      "Epoch: 075, Train loss: 25.5736, Test loss: 24.0178\n",
      "Epoch: 076, Train loss: 21.9312, Test loss: 18.9520\n",
      "Epoch: 077, Train loss: 23.1300, Test loss: 20.4109\n",
      "Epoch: 078, Train loss: 21.8055, Test loss: 18.8970\n",
      "Epoch: 079, Train loss: 23.7220, Test loss: 21.7573\n",
      "Epoch: 080, Train loss: 21.8803, Test loss: 18.7453\n",
      "Epoch: 081, Train loss: 22.0531, Test loss: 18.9418\n",
      "Epoch: 082, Train loss: 21.4854, Test loss: 18.4688\n",
      "Epoch: 083, Train loss: 21.7922, Test loss: 19.1137\n",
      "Epoch: 084, Train loss: 21.6800, Test loss: 18.8852\n",
      "Epoch: 085, Train loss: 21.6344, Test loss: 19.2203\n",
      "Epoch: 086, Train loss: 21.9845, Test loss: 19.0171\n",
      "Epoch: 087, Train loss: 21.7799, Test loss: 19.0540\n",
      "Epoch: 088, Train loss: 21.9384, Test loss: 19.2153\n",
      "Epoch: 089, Train loss: 21.4644, Test loss: 19.0149\n",
      "Epoch: 090, Train loss: 21.4537, Test loss: 18.6883\n",
      "Epoch: 091, Train loss: 21.9406, Test loss: 19.2387\n",
      "Epoch: 092, Train loss: 21.7823, Test loss: 19.1107\n",
      "Epoch: 093, Train loss: 22.0137, Test loss: 18.8661\n",
      "Epoch: 094, Train loss: 22.2058, Test loss: 19.3824\n",
      "Epoch: 095, Train loss: 22.4903, Test loss: 20.1288\n",
      "Epoch: 096, Train loss: 21.5263, Test loss: 18.5486\n",
      "Epoch: 097, Train loss: 21.3787, Test loss: 18.7994\n",
      "Epoch: 098, Train loss: 21.1068, Test loss: 18.4269\n",
      "Epoch: 099, Train loss: 21.1517, Test loss: 18.7376\n"
     ]
    }
   ],
   "source": [
    "train_curve = []\n",
    "test_curve = []\n",
    "for epoch in range(1,100):\n",
    "    \n",
    "    train()\n",
    "    \n",
    "    train_acc = test(train_loader)\n",
    "    train_curve.append(train_acc)\n",
    "    \n",
    "    test_acc = test(test_loader)\n",
    "    test_curve.append(test_acc)\n",
    "        \n",
    "    print(f'Epoch: {epoch:03d}, Train loss: {train_acc:.4f}, Test loss: {test_acc:.4f}')"
   ]
  },
  {
   "cell_type": "code",
   "execution_count": null,
   "id": "68fbbdc4",
   "metadata": {},
   "outputs": [],
   "source": []
  },
  {
   "cell_type": "markdown",
   "id": "8981454c",
   "metadata": {},
   "source": [
    "# Loss curve"
   ]
  },
  {
   "cell_type": "code",
   "execution_count": 20,
   "id": "53cefab8",
   "metadata": {},
   "outputs": [],
   "source": [
    "x_axis = np.arange(0,99,1)"
   ]
  },
  {
   "cell_type": "code",
   "execution_count": 21,
   "id": "61ab2a7e",
   "metadata": {},
   "outputs": [
    {
     "data": {
      "text/plain": [
       "Text(0, 0.5, 'Train / Test Loss')"
      ]
     },
     "execution_count": 21,
     "metadata": {},
     "output_type": "execute_result"
    },
    {
     "data": {
      "image/png": "[encoded data removed]",
      "text/plain": [
       "<Figure size 640x480 with 1 Axes>"
      ]
     },
     "metadata": {},
     "output_type": "display_data"
    }
   ],
   "source": [
    "plt.plot(x_axis,train_curve)\n",
    "plt.plot(x_axis,test_curve)\n",
    "plt.xlabel('Epoch')\n",
    "plt.ylabel('Train / Test Loss')"
   ]
  },
  {
   "cell_type": "markdown",
   "id": "6e97ef6e",
   "metadata": {},
   "source": [
    "# Graph embeddings"
   ]
  },
  {
   "cell_type": "code",
   "execution_count": 25,
   "id": "07d0df71",
   "metadata": {},
   "outputs": [],
   "source": [
    "list_graphs = gp.load_graphs_in_list(path_to_labelled_graphs)\n",
    "\n",
    "sulcal_dataset = []\n",
    "\n",
    "for i,g in enumerate(list_graphs):\n",
    "    graph_remove_dummy_nodes(g) # remove dummy nodes\n",
    "    g.remove_edges_from(nx.selfloop_edges(g)) # remove self loop edges\n",
    "    \n",
    "    attr_coords_g = np.array(list(nx.get_node_attributes(g,'sphere_3dcoords').values()))\n",
    "    attr_basin_area_g = np.array(list(nx.get_node_attributes(g,'basin_area').values())).reshape([len(g),1])\n",
    "    attr_basin_thickness_g = np.array(list(nx.get_node_attributes(g,'basin_thickness').values())).reshape([len(g),1])\n",
    "    attr_depth_g = np.array(list(nx.get_node_attributes(g,'depth').values())).reshape([len(g),1])\n",
    "        \n",
    "    attr_concat_g = np.concatenate((attr_coords_g,attr_basin_area_g,attr_basin_thickness_g,attr_depth_g),axis = 1)\n",
    "    \n",
    "    x = torch.tensor(attr_concat_g,dtype=torch.float)\n",
    "    #x = torch.tensor(nx.adjacency_matrix(g).todense(),dtype=torch.float)\n",
    "    y = torch.tensor(graph_labels[i],dtype=torch.long)\n",
    "    edge_index = torch.tensor(list(g.edges))\n",
    "    \n",
    "    sulcal_dataset.append(Data(x=x, y=y, edge_index=edge_index.t().contiguous()))\n",
    "    "
   ]
  },
  {
   "cell_type": "code",
   "execution_count": 26,
   "id": "374ebec8",
   "metadata": {},
   "outputs": [],
   "source": [
    "real_emb = []\n",
    "  \n",
    "all_graph = DataLoader(sulcal_dataset, batch_size=len(sulcal_dataset), shuffle=False)\n",
    "\n",
    "for data in all_graph:\n",
    "    graph_emb,node_emb = model(data.x, data.edge_index, data.batch)\n",
    "    \n",
    "node_emb = node_emb.detach().numpy()\n",
    "graph_emb = graph_emb.detach().numpy()\n"
   ]
  },
  {
   "cell_type": "code",
   "execution_count": 27,
   "id": "e01b795f",
   "metadata": {},
   "outputs": [
    {
     "data": {
      "text/plain": [
       "(137, 2)"
      ]
     },
     "execution_count": 27,
     "metadata": {},
     "output_type": "execute_result"
    }
   ],
   "source": [
    "from sklearn.manifold import TSNE\n",
    "import pandas as pd\n",
    "\n",
    "n_components = 2\n",
    "tsne = TSNE(n_components)\n",
    "\n",
    "\n",
    "tsne_graph = tsne.fit_transform(graph_emb)\n",
    "tsne_graph.shape"
   ]
  },
  {
   "cell_type": "code",
   "execution_count": 28,
   "id": "db77d253",
   "metadata": {},
   "outputs": [
    {
     "data": {
      "text/plain": [
       "<matplotlib.legend.Legend at 0x7fea63f18430>"
      ]
     },
     "execution_count": 28,
     "metadata": {},
     "output_type": "execute_result"
    },
    {
     "data": {
      "image/png": "[encoded data removed]",
      "text/plain": [
       "<Figure size 640x480 with 1 Axes>"
      ]
     },
     "metadata": {},
     "output_type": "display_data"
    }
   ],
   "source": [
    "#subj_labels_lst = np.arange(0,137,1)\n",
    "graph_labels_lst = [lab[0] for lab in graph_labels]\n",
    "tsne_graph_df = pd.DataFrame({'tsne_1': tsne_graph[:,0], 'tsne_2': tsne_graph[:,1], 'label':graph_labels_lst})\n",
    "fig, ax = plt.subplots(1)\n",
    "sns.scatterplot(x='tsne_1', y='tsne_2', hue='label', data=tsne_graph_df, ax=ax,s=20)\n",
    "lim = (tsne_graph_df.min()-5, tsne_graph_df.max()+5)\n",
    "#ax.set_xlim(lim)\n",
    "#ax.set_ylim(lim)\n",
    "#ax.set_aspect('equal')\n",
    "ax.legend(bbox_to_anchor=(1.05, 1), loc=2, borderaxespad=0.0)"
   ]
  },
  {
   "cell_type": "code",
   "execution_count": null,
   "id": "ac559ae3",
   "metadata": {},
   "outputs": [],
   "source": []
  },
  {
   "cell_type": "code",
   "execution_count": null,
   "id": "3614ae05",
   "metadata": {},
   "outputs": [],
   "source": []
  },
  {
   "cell_type": "markdown",
   "id": "85168568",
   "metadata": {},
   "source": [
    "# Node embeddings"
   ]
  },
  {
   "cell_type": "code",
   "execution_count": null,
   "id": "4d434533",
   "metadata": {},
   "outputs": [],
   "source": [
    "# gender label for each graph\n",
    "\n",
    "pit_labels = []\n",
    "for i,g in enumerate(list_graphs):\n",
    "    size_g = nx.number_of_nodes(g)\n",
    "    pit_labels.extend(list(graph_labels[i]) * size_g)"
   ]
  },
  {
   "cell_type": "code",
   "execution_count": null,
   "id": "49679ab8",
   "metadata": {},
   "outputs": [],
   "source": [
    "from sklearn.manifold import TSNE\n",
    "import pandas as pd\n",
    "\n",
    "n_components = 2\n",
    "tsne = TSNE(n_components)\n",
    "tsne_result = tsne.fit_transform(node_emb)\n",
    "tsne_result.shape"
   ]
  },
  {
   "cell_type": "code",
   "execution_count": null,
   "id": "00969282",
   "metadata": {},
   "outputs": [],
   "source": [
    "sns.set(rc={'figure.figsize':(15,11)})\n",
    "#sns.set(rc={'axes.facecolor':'#DCE8F4'})\n",
    "\n",
    "tsne_result_df = pd.DataFrame({'tsne_1': tsne_result[:,0], 'tsne_2': tsne_result[:,1], 'label': pit_labels})\n",
    "fig, ax = plt.subplots(1)\n",
    "sns.scatterplot(x='tsne_1', y='tsne_2', hue='label', data=tsne_result_df, ax=ax,s=30)\n",
    "lim = (tsne_result.min()-5, tsne_result.max()+5)\n",
    "ax.set_xlim(lim)\n",
    "ax.set_ylim(lim)\n",
    "#ax.set_aspect('equal')\n",
    "ax.legend(bbox_to_anchor=(1.05, 1), loc=2, borderaxespad=0.0)\n"
   ]
  },
  {
   "cell_type": "code",
   "execution_count": null,
   "id": "c3963fe5",
   "metadata": {},
   "outputs": [],
   "source": []
  },
  {
   "cell_type": "code",
   "execution_count": null,
   "id": "ef90bab3",
   "metadata": {},
   "outputs": [],
   "source": []
  },
  {
   "cell_type": "code",
   "execution_count": null,
   "id": "f9a317f5",
   "metadata": {},
   "outputs": [],
   "source": []
  },
  {
   "cell_type": "code",
   "execution_count": null,
   "id": "936d3213",
   "metadata": {},
   "outputs": [],
   "source": [
    "n_components = 3\n",
    "tsne2 = TSNE(n_components)\n",
    "\n",
    "tsne_graph = tsne2.fit_transform(graph_emb)\n",
    "tsne_graph.shape\n",
    "\n",
    "\n",
    "tsne_graph_3d = pd.DataFrame({'tsne_1': tsne_graph[:,0], 'tsne_2': tsne_graph[:,1], 'tsne_3': tsne_graph[:,2], 'label':graph_labels_lst})\n",
    "\n",
    "\n",
    "fig = px.scatter_3d(tsne_graph_3d, x = 'tsne_1',y = 'tsne_2',z = 'tsne_3',color='label')\n",
    "fig.update_traces(marker={'size': 4})\n",
    "\n",
    "\n",
    "fig.show()"
   ]
  },
  {
   "cell_type": "markdown",
   "id": "92c12d8e",
   "metadata": {},
   "source": [
    "## Classification on graph embeddings"
   ]
  },
  {
   "cell_type": "code",
   "execution_count": 29,
   "id": "20bd4bee",
   "metadata": {},
   "outputs": [],
   "source": [
    "from sklearn.linear_model import LogisticRegression\n",
    "from sklearn.pipeline import make_pipeline\n",
    "from sklearn.preprocessing import StandardScaler\n",
    "from sklearn.svm import SVC"
   ]
  },
  {
   "cell_type": "code",
   "execution_count": 30,
   "id": "3054405e",
   "metadata": {},
   "outputs": [
    {
     "data": {
      "text/html": [
       "<style>#sk-container-id-1 {color: black;background-color: white;}#sk-container-id-1 pre{padding: 0;}#sk-container-id-1 div.sk-toggleable {background-color: white;}#sk-container-id-1 label.sk-toggleable__label {cursor: pointer;display: block;width: 100%;margin-bottom: 0;padding: 0.3em;box-sizing: border-box;text-align: center;}#sk-container-id-1 label.sk-toggleable__label-arrow:before {content: \"▸\";float: left;margin-right: 0.25em;color: #696969;}#sk-container-id-1 label.sk-toggleable__label-arrow:hover:before {color: black;}#sk-container-id-1 div.sk-estimator:hover label.sk-toggleable__label-arrow:before {color: black;}#sk-container-id-1 div.sk-toggleable__content {max-height: 0;max-width: 0;overflow: hidden;text-align: left;background-color: #f0f8ff;}#sk-container-id-1 div.sk-toggleable__content pre {margin: 0.2em;color: black;border-radius: 0.25em;background-color: #f0f8ff;}#sk-container-id-1 input.sk-toggleable__control:checked~div.sk-toggleable__content {max-height: 200px;max-width: 100%;overflow: auto;}#sk-container-id-1 input.sk-toggleable__control:checked~label.sk-toggleable__label-arrow:before {content: \"▾\";}#sk-container-id-1 div.sk-estimator input.sk-toggleable__control:checked~label.sk-toggleable__label {background-color: #d4ebff;}#sk-container-id-1 div.sk-label input.sk-toggleable__control:checked~label.sk-toggleable__label {background-color: #d4ebff;}#sk-container-id-1 input.sk-hidden--visually {border: 0;clip: rect(1px 1px 1px 1px);clip: rect(1px, 1px, 1px, 1px);height: 1px;margin: -1px;overflow: hidden;padding: 0;position: absolute;width: 1px;}#sk-container-id-1 div.sk-estimator {font-family: monospace;background-color: #f0f8ff;border: 1px dotted black;border-radius: 0.25em;box-sizing: border-box;margin-bottom: 0.5em;}#sk-container-id-1 div.sk-estimator:hover {background-color: #d4ebff;}#sk-container-id-1 div.sk-parallel-item::after {content: \"\";width: 100%;border-bottom: 1px solid gray;flex-grow: 1;}#sk-container-id-1 div.sk-label:hover label.sk-toggleable__label {background-color: #d4ebff;}#sk-container-id-1 div.sk-serial::before {content: \"\";position: absolute;border-left: 1px solid gray;box-sizing: border-box;top: 0;bottom: 0;left: 50%;z-index: 0;}#sk-container-id-1 div.sk-serial {display: flex;flex-direction: column;align-items: center;background-color: white;padding-right: 0.2em;padding-left: 0.2em;position: relative;}#sk-container-id-1 div.sk-item {position: relative;z-index: 1;}#sk-container-id-1 div.sk-parallel {display: flex;align-items: stretch;justify-content: center;background-color: white;position: relative;}#sk-container-id-1 div.sk-item::before, #sk-container-id-1 div.sk-parallel-item::before {content: \"\";position: absolute;border-left: 1px solid gray;box-sizing: border-box;top: 0;bottom: 0;left: 50%;z-index: -1;}#sk-container-id-1 div.sk-parallel-item {display: flex;flex-direction: column;z-index: 1;position: relative;background-color: white;}#sk-container-id-1 div.sk-parallel-item:first-child::after {align-self: flex-end;width: 50%;}#sk-container-id-1 div.sk-parallel-item:last-child::after {align-self: flex-start;width: 50%;}#sk-container-id-1 div.sk-parallel-item:only-child::after {width: 0;}#sk-container-id-1 div.sk-dashed-wrapped {border: 1px dashed gray;margin: 0 0.4em 0.5em 0.4em;box-sizing: border-box;padding-bottom: 0.4em;background-color: white;}#sk-container-id-1 div.sk-label label {font-family: monospace;font-weight: bold;display: inline-block;line-height: 1.2em;}#sk-container-id-1 div.sk-label-container {text-align: center;}#sk-container-id-1 div.sk-container {/* jupyter's `normalize.less` sets `[hidden] { display: none; }` but bootstrap.min.css set `[hidden] { display: none !important; }` so we also need the `!important` here to be able to override the default hidden behavior on the sphinx rendered scikit-learn.org. See: https://github.com/scikit-learn/scikit-learn/issues/21755 */display: inline-block !important;position: relative;}#sk-container-id-1 div.sk-text-repr-fallback {display: none;}</style><div id=\"sk-container-id-1\" class=\"sk-top-container\"><div class=\"sk-text-repr-fallback\"><pre>LogisticRegression(random_state=0)</pre><b>In a Jupyter environment, please rerun this cell to show the HTML representation or trust the notebook. <br />On GitHub, the HTML representation is unable to render, please try loading this page with nbviewer.org.</b></div><div class=\"sk-container\" hidden><div class=\"sk-item\"><div class=\"sk-estimator sk-toggleable\"><input class=\"sk-toggleable__control sk-hidden--visually\" id=\"sk-estimator-id-1\" type=\"checkbox\" checked><label for=\"sk-estimator-id-1\" class=\"sk-toggleable__label sk-toggleable__label-arrow\">LogisticRegression</label><div class=\"sk-toggleable__content\"><pre>LogisticRegression(random_state=0)</pre></div></div></div></div></div>"
      ],
      "text/plain": [
       "LogisticRegression(random_state=0)"
      ]
     },
     "execution_count": 30,
     "metadata": {},
     "output_type": "execute_result"
    }
   ],
   "source": [
    "clf = LogisticRegression(random_state=0)\n",
    "clf.fit(graph_emb[:70], graph_labels_lst[:70])"
   ]
  },
  {
   "cell_type": "code",
   "execution_count": 31,
   "id": "8d0417a3",
   "metadata": {},
   "outputs": [
    {
     "data": {
      "text/plain": [
       "0.6142857142857143"
      ]
     },
     "execution_count": 31,
     "metadata": {},
     "output_type": "execute_result"
    }
   ],
   "source": [
    "clf.score(graph_emb[:70], graph_labels_lst[:70])"
   ]
  },
  {
   "cell_type": "code",
   "execution_count": 32,
   "id": "05771950",
   "metadata": {},
   "outputs": [
    {
     "data": {
      "text/plain": [
       "0.40298507462686567"
      ]
     },
     "execution_count": 32,
     "metadata": {},
     "output_type": "execute_result"
    }
   ],
   "source": [
    "clf.score(graph_emb[70:], graph_labels_lst[70:]) #test set"
   ]
  },
  {
   "cell_type": "code",
   "execution_count": 33,
   "id": "29a6456b",
   "metadata": {},
   "outputs": [],
   "source": [
    "clf_svm = SVC(gamma='auto',kernel='rbf')"
   ]
  },
  {
   "cell_type": "code",
   "execution_count": 34,
   "id": "6e7958c3",
   "metadata": {
    "scrolled": false
   },
   "outputs": [
    {
     "data": {
      "text/html": [
       "<style>#sk-container-id-2 {color: black;background-color: white;}#sk-container-id-2 pre{padding: 0;}#sk-container-id-2 div.sk-toggleable {background-color: white;}#sk-container-id-2 label.sk-toggleable__label {cursor: pointer;display: block;width: 100%;margin-bottom: 0;padding: 0.3em;box-sizing: border-box;text-align: center;}#sk-container-id-2 label.sk-toggleable__label-arrow:before {content: \"▸\";float: left;margin-right: 0.25em;color: #696969;}#sk-container-id-2 label.sk-toggleable__label-arrow:hover:before {color: black;}#sk-container-id-2 div.sk-estimator:hover label.sk-toggleable__label-arrow:before {color: black;}#sk-container-id-2 div.sk-toggleable__content {max-height: 0;max-width: 0;overflow: hidden;text-align: left;background-color: #f0f8ff;}#sk-container-id-2 div.sk-toggleable__content pre {margin: 0.2em;color: black;border-radius: 0.25em;background-color: #f0f8ff;}#sk-container-id-2 input.sk-toggleable__control:checked~div.sk-toggleable__content {max-height: 200px;max-width: 100%;overflow: auto;}#sk-container-id-2 input.sk-toggleable__control:checked~label.sk-toggleable__label-arrow:before {content: \"▾\";}#sk-container-id-2 div.sk-estimator input.sk-toggleable__control:checked~label.sk-toggleable__label {background-color: #d4ebff;}#sk-container-id-2 div.sk-label input.sk-toggleable__control:checked~label.sk-toggleable__label {background-color: #d4ebff;}#sk-container-id-2 input.sk-hidden--visually {border: 0;clip: rect(1px 1px 1px 1px);clip: rect(1px, 1px, 1px, 1px);height: 1px;margin: -1px;overflow: hidden;padding: 0;position: absolute;width: 1px;}#sk-container-id-2 div.sk-estimator {font-family: monospace;background-color: #f0f8ff;border: 1px dotted black;border-radius: 0.25em;box-sizing: border-box;margin-bottom: 0.5em;}#sk-container-id-2 div.sk-estimator:hover {background-color: #d4ebff;}#sk-container-id-2 div.sk-parallel-item::after {content: \"\";width: 100%;border-bottom: 1px solid gray;flex-grow: 1;}#sk-container-id-2 div.sk-label:hover label.sk-toggleable__label {background-color: #d4ebff;}#sk-container-id-2 div.sk-serial::before {content: \"\";position: absolute;border-left: 1px solid gray;box-sizing: border-box;top: 0;bottom: 0;left: 50%;z-index: 0;}#sk-container-id-2 div.sk-serial {display: flex;flex-direction: column;align-items: center;background-color: white;padding-right: 0.2em;padding-left: 0.2em;position: relative;}#sk-container-id-2 div.sk-item {position: relative;z-index: 1;}#sk-container-id-2 div.sk-parallel {display: flex;align-items: stretch;justify-content: center;background-color: white;position: relative;}#sk-container-id-2 div.sk-item::before, #sk-container-id-2 div.sk-parallel-item::before {content: \"\";position: absolute;border-left: 1px solid gray;box-sizing: border-box;top: 0;bottom: 0;left: 50%;z-index: -1;}#sk-container-id-2 div.sk-parallel-item {display: flex;flex-direction: column;z-index: 1;position: relative;background-color: white;}#sk-container-id-2 div.sk-parallel-item:first-child::after {align-self: flex-end;width: 50%;}#sk-container-id-2 div.sk-parallel-item:last-child::after {align-self: flex-start;width: 50%;}#sk-container-id-2 div.sk-parallel-item:only-child::after {width: 0;}#sk-container-id-2 div.sk-dashed-wrapped {border: 1px dashed gray;margin: 0 0.4em 0.5em 0.4em;box-sizing: border-box;padding-bottom: 0.4em;background-color: white;}#sk-container-id-2 div.sk-label label {font-family: monospace;font-weight: bold;display: inline-block;line-height: 1.2em;}#sk-container-id-2 div.sk-label-container {text-align: center;}#sk-container-id-2 div.sk-container {/* jupyter's `normalize.less` sets `[hidden] { display: none; }` but bootstrap.min.css set `[hidden] { display: none !important; }` so we also need the `!important` here to be able to override the default hidden behavior on the sphinx rendered scikit-learn.org. See: https://github.com/scikit-learn/scikit-learn/issues/21755 */display: inline-block !important;position: relative;}#sk-container-id-2 div.sk-text-repr-fallback {display: none;}</style><div id=\"sk-container-id-2\" class=\"sk-top-container\"><div class=\"sk-text-repr-fallback\"><pre>SVC(gamma=&#x27;auto&#x27;)</pre><b>In a Jupyter environment, please rerun this cell to show the HTML representation or trust the notebook. <br />On GitHub, the HTML representation is unable to render, please try loading this page with nbviewer.org.</b></div><div class=\"sk-container\" hidden><div class=\"sk-item\"><div class=\"sk-estimator sk-toggleable\"><input class=\"sk-toggleable__control sk-hidden--visually\" id=\"sk-estimator-id-2\" type=\"checkbox\" checked><label for=\"sk-estimator-id-2\" class=\"sk-toggleable__label sk-toggleable__label-arrow\">SVC</label><div class=\"sk-toggleable__content\"><pre>SVC(gamma=&#x27;auto&#x27;)</pre></div></div></div></div></div>"
      ],
      "text/plain": [
       "SVC(gamma='auto')"
      ]
     },
     "execution_count": 34,
     "metadata": {},
     "output_type": "execute_result"
    }
   ],
   "source": [
    "clf_svm.fit(graph_emb[:70], graph_labels_lst[:70])"
   ]
  },
  {
   "cell_type": "code",
   "execution_count": 35,
   "id": "d85b49be",
   "metadata": {},
   "outputs": [
    {
     "data": {
      "text/plain": [
       "0.3880597014925373"
      ]
     },
     "execution_count": 35,
     "metadata": {},
     "output_type": "execute_result"
    }
   ],
   "source": [
    "clf_svm.score(graph_emb[70:],graph_labels_lst[70:]) #test set"
   ]
  },
  {
   "cell_type": "code",
   "execution_count": null,
   "id": "745e60d1",
   "metadata": {},
   "outputs": [],
   "source": []
  }
 ],
 "metadata": {
  "kernelspec": {
   "display_name": "Python 3 (ipykernel)",
   "language": "python",
   "name": "python3"
  },
  "language_info": {
   "codemirror_mode": {
    "name": "ipython",
    "version": 3
   },
   "file_extension": ".py",
   "mimetype": "text/x-python",
   "name": "python",
   "nbconvert_exporter": "python",
   "pygments_lexer": "ipython3",
   "version": "3.8.0"
  }
 },
 "nbformat": 4,
 "nbformat_minor": 5
}
