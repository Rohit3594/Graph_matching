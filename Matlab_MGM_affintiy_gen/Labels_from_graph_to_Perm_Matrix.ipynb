{
 "cells": [
  {
   "cell_type": "code",
   "execution_count": 1,
   "metadata": {},
   "outputs": [],
   "source": [
    "import os\n",
    "import sys\n",
    "sys.path.append(\"/home/rohit/PhD_Work/GM_my_version/Graph_matching/\")\n",
    "from sklearn.cluster import KMeans\n",
    "import networkx as nx\n",
    "import numpy as np\n",
    "from graph_generation.load_graphs_and_create_metadata import dataset_metadata\n",
    "from graph_matching_tools.metrics import matching\n",
    "import matplotlib.pyplot as plt\n",
    "import scipy.io as sio\n",
    "import tools.graph_processing as gp"
   ]
  },
  {
   "cell_type": "code",
   "execution_count": 2,
   "metadata": {},
   "outputs": [],
   "source": [
    "def create_perm_from_labels(labels):\n",
    "    U = np.zeros((len(labels),len(set(labels))))\n",
    "    \n",
    "    for node,label in zip(range(U.shape[0]),labels):\n",
    "        U[node,label] = 1\n",
    "        \n",
    "    return U @ U.T"
   ]
  },
  {
   "cell_type": "code",
   "execution_count": 3,
   "metadata": {},
   "outputs": [],
   "source": [
    "path_to_graph_folder = '/home/rohit/PhD_Work/GM_my_version/Graph_matching/data/Oasis_original_new_renamed/modified_graphs/'"
   ]
  },
  {
   "cell_type": "code",
   "execution_count": 4,
   "metadata": {},
   "outputs": [],
   "source": [
    "list_graphs = gp.load_graphs_in_list(path_to_graph_folder)"
   ]
  },
  {
   "cell_type": "code",
   "execution_count": 5,
   "metadata": {},
   "outputs": [],
   "source": [
    "# labels neuroimage\n",
    "labels_neuroimage = []\n",
    "for g in list_graphs:\n",
    "    labels_neuroimage.extend(list(nx.get_node_attributes(g, 'label_neuroimage').values()))"
   ]
  },
  {
   "cell_type": "code",
   "execution_count": 7,
   "metadata": {
    "scrolled": true
   },
   "outputs": [
    {
     "data": {
      "text/plain": [
       "12094"
      ]
     },
     "execution_count": 7,
     "metadata": {},
     "output_type": "execute_result"
    }
   ],
   "source": [
    "len(labels_neuroimage)"
   ]
  },
  {
   "cell_type": "code",
   "execution_count": 8,
   "metadata": {},
   "outputs": [],
   "source": [
    "keys_neuroimg = {i:labels_neuroimage[i] for i in range(len(set(labels_neuroimage)))} # Create a dict of size set(labels_neuroimage)\n",
    "\n",
    "keys_neuroimg = list(keys_neuroimg.keys()) # Extract the keys\n",
    "\n",
    "set_neuroimg = list(set(labels_neuroimage)) # Set of unique labels in labels_neuroimage"
   ]
  },
  {
   "cell_type": "code",
   "execution_count": 11,
   "metadata": {},
   "outputs": [],
   "source": [
    "# Creating a relabelled list\n",
    "\n",
    "relabeled_neuroimg  = []\n",
    "for i in labels_neuroimage: \n",
    "    if i in set_neuroimg:   # check if the correponding i label is in set_neuroimage\n",
    "        \n",
    "        idx = set_neuroimg.index(i)  # take the index of i at set_neuroimage\n",
    "        \n",
    "        relabeled_neuroimg.append(keys_neuroimg[idx]) # making the relabeled list"
   ]
  },
  {
   "cell_type": "code",
   "execution_count": null,
   "metadata": {},
   "outputs": [],
   "source": []
  },
  {
   "cell_type": "code",
   "execution_count": 28,
   "metadata": {},
   "outputs": [
    {
     "name": "stdout",
     "output_type": "stream",
     "text": [
      "649\n",
      "2659\n",
      "4445\n",
      "5058\n",
      "9292\n"
     ]
    }
   ],
   "source": [
    "for i in range(len(labels_neuroimage)):\n",
    "    \n",
    "    if labels_neuroimage[i] == 329:\n",
    "        print(i)"
   ]
  },
  {
   "cell_type": "code",
   "execution_count": 30,
   "metadata": {},
   "outputs": [
    {
     "name": "stdout",
     "output_type": "stream",
     "text": [
      "649\n",
      "2659\n",
      "4445\n",
      "5058\n",
      "9292\n"
     ]
    }
   ],
   "source": [
    "for i in range(len(relabeled_neuroimg)):\n",
    "    \n",
    "    if relabeled_neuroimg[i] == 104:\n",
    "        print(i)"
   ]
  },
  {
   "cell_type": "code",
   "execution_count": null,
   "metadata": {},
   "outputs": [],
   "source": []
  },
  {
   "cell_type": "code",
   "execution_count": 26,
   "metadata": {},
   "outputs": [
    {
     "data": {
      "text/plain": [
       "329"
      ]
     },
     "execution_count": 26,
     "metadata": {},
     "output_type": "execute_result"
    }
   ],
   "source": [
    "labels_neuroimage[649]"
   ]
  },
  {
   "cell_type": "code",
   "execution_count": null,
   "metadata": {
    "scrolled": true
   },
   "outputs": [],
   "source": [
    "X_neuroimage = create_perm_from_labels(np.array(relabeled_neuroimg,dtype='int32'))"
   ]
  },
  {
   "cell_type": "code",
   "execution_count": null,
   "metadata": {},
   "outputs": [],
   "source": [
    "X_neuroimage_dict = {}\n",
    "X_neuroimage_dict['full_assignment_mat'] = X_neuroimage\n",
    "\n",
    "sio.savemat(path_to_graph_folder + '/X_neuroimage.mat',X_neuroimage_dict,do_compression='True')"
   ]
  },
  {
   "cell_type": "code",
   "execution_count": null,
   "metadata": {},
   "outputs": [],
   "source": []
  },
  {
   "cell_type": "code",
   "execution_count": null,
   "metadata": {},
   "outputs": [],
   "source": [
    "# labels media\n",
    "labels_media = []\n",
    "for g in list_graphs:\n",
    "    labels_media.extend(list(nx.get_node_attributes(g, 'label_media').values()))"
   ]
  },
  {
   "cell_type": "code",
   "execution_count": null,
   "metadata": {},
   "outputs": [],
   "source": [
    "keys_media = {i:labels_media[i] for i in range(len(set(labels_media)))}\n",
    "keys_media = list(keys_media.keys())\n",
    "set_media = list(set(labels_media))"
   ]
  },
  {
   "cell_type": "code",
   "execution_count": null,
   "metadata": {},
   "outputs": [],
   "source": [
    "relabeled_media  = []\n",
    "for i in labels_media:\n",
    "    if i in set_media:\n",
    "        idx = set_media.index(i)\n",
    "        relabeled_media.append(keys_media[idx])"
   ]
  },
  {
   "cell_type": "code",
   "execution_count": null,
   "metadata": {},
   "outputs": [],
   "source": [
    "X_media = create_perm_from_labels(labels_media)"
   ]
  },
  {
   "cell_type": "code",
   "execution_count": null,
   "metadata": {},
   "outputs": [],
   "source": [
    "X_media_dict = {}\n",
    "X_media_dict['full_assignment_mat'] = X_media\n",
    "\n",
    "sio.savemat(path_to_graph_folder + '/X_media.mat', X_media_dict, do_compression='True')"
   ]
  },
  {
   "cell_type": "code",
   "execution_count": null,
   "metadata": {},
   "outputs": [],
   "source": []
  },
  {
   "cell_type": "code",
   "execution_count": null,
   "metadata": {},
   "outputs": [],
   "source": [
    "import pickle\n",
    "pickle.load(open('graph_correspondence.pickle', \"rb\"))"
   ]
  },
  {
   "cell_type": "code",
   "execution_count": null,
   "metadata": {},
   "outputs": [],
   "source": []
  }
 ],
 "metadata": {
  "kernelspec": {
   "display_name": "Python 3",
   "language": "python",
   "name": "python3"
  },
  "language_info": {
   "codemirror_mode": {
    "name": "ipython",
    "version": 3
   },
   "file_extension": ".py",
   "mimetype": "text/x-python",
   "name": "python",
   "nbconvert_exporter": "python",
   "pygments_lexer": "ipython3",
   "version": "3.8.0"
  }
 },
 "nbformat": 4,
 "nbformat_minor": 4
}
