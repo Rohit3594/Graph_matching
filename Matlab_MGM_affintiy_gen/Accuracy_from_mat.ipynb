{
 "cells": [
  {
   "cell_type": "code",
   "execution_count": 10,
   "metadata": {},
   "outputs": [],
   "source": [
    "import os\n",
    "import sys\n",
    "sys.path.append(\"/home/rohit/PhD_Work/GM_my_version/Graph_matching/\")\n",
    "from sklearn.cluster import KMeans\n",
    "import networkx as nx\n",
    "import numpy as np\n",
    "from graph_generation.load_graphs_and_create_metadata import dataset_metadata\n",
    "from graph_matching_tools.metrics import matching\n",
    "import matplotlib.pyplot as plt\n",
    "import scipy.io as sio"
   ]
  },
  {
   "cell_type": "code",
   "execution_count": 11,
   "metadata": {},
   "outputs": [],
   "source": [
    "path_to_graph_folder = '/home/rohit/PhD_Work/GM_my_version/Graph_matching/data/simu_graph/simu_test_single_noise/'\n",
    "path_to_dummy_graph_folder = '/home/rohit/PhD_Work/GM_my_version/Graph_matching/data/simu_graph/simu_with_dummy/'"
   ]
  },
  {
   "cell_type": "code",
   "execution_count": 13,
   "metadata": {},
   "outputs": [],
   "source": [
    "def get_permutation_matrix_from_dictionary(matching, g_sizes):\n",
    "    \"\"\"\n",
    "    Create the full permutation matrix from the matching result\n",
    "    :param matching: the matching result for each graph (nodes number, assignment)\n",
    "    :param g_sizes: the list of the size of the different graph\n",
    "    :return: the full permutation matrix\n",
    "    \"\"\"\n",
    "    f_size = int(np.sum(g_sizes))\n",
    "    res = np.zeros((f_size, f_size))\n",
    "\n",
    "    idx1 = 0\n",
    "    for i_g1 in range(len(g_sizes)):\n",
    "        idx2 = 0\n",
    "        for i_g2 in range(len(g_sizes)):\n",
    "            match = matching[\"{},{}\".format(i_g1, i_g2)]\n",
    "            for k in match:\n",
    "                res[idx1 + int(k), idx2 + match[k]] = 1\n",
    "            idx2 += g_sizes[i_g2]\n",
    "        idx1 += g_sizes[i_g1]\n",
    "        \n",
    "    np.fill_diagonal(res,1)\n",
    "    return res"
   ]
  },
  {
   "cell_type": "code",
   "execution_count": null,
   "metadata": {},
   "outputs": [],
   "source": []
  },
  {
   "cell_type": "code",
   "execution_count": 16,
   "metadata": {
    "scrolled": true
   },
   "outputs": [
    {
     "name": "stdout",
     "output_type": "stream",
     "text": [
      "trial:  0.0\n",
      "Noise folder:  noise_100,outliers_varied\n",
      "res shape:  (11434, 11434)\n",
      "X shape:  (11434, 11434)\n",
      "Noise folder:  noise_400,outliers_varied\n",
      "res shape:  (11361, 11361)\n",
      "X shape:  (11361, 11361)\n",
      "Noise folder:  noise_700,outliers_varied\n",
      "res shape:  (11279, 11279)\n",
      "X shape:  (11279, 11279)\n",
      "Noise folder:  noise_1300,outliers_varied\n",
      "res shape:  (11432, 11432)\n",
      "X shape:  (11432, 11432)\n",
      "Noise folder:  noise_1000,outliers_varied\n",
      "res shape:  (11318, 11318)\n",
      "X shape:  (11318, 11318)\n",
      "trial:  0.1\n",
      "Noise folder:  noise_100,outliers_varied\n",
      "res shape:  (11337, 11337)\n",
      "X shape:  (11337, 11337)\n",
      "Noise folder:  noise_400,outliers_varied\n",
      "res shape:  (11406, 11406)\n",
      "X shape:  (11406, 11406)\n",
      "Noise folder:  noise_700,outliers_varied\n",
      "res shape:  (11169, 11169)\n",
      "X shape:  (11169, 11169)\n",
      "Noise folder:  noise_1300,outliers_varied\n",
      "res shape:  (11248, 11248)\n",
      "X shape:  (11248, 11248)\n",
      "Noise folder:  noise_1000,outliers_varied\n",
      "res shape:  (11358, 11358)\n",
      "X shape:  (11358, 11358)\n",
      "trial:  0.2\n",
      "Noise folder:  noise_100,outliers_varied\n",
      "res shape:  (11427, 11427)\n",
      "X shape:  (11427, 11427)\n",
      "Noise folder:  noise_400,outliers_varied\n",
      "res shape:  (11323, 11323)\n",
      "X shape:  (11323, 11323)\n",
      "Noise folder:  noise_700,outliers_varied\n",
      "res shape:  (11333, 11333)\n",
      "X shape:  (11333, 11333)\n",
      "Noise folder:  noise_1300,outliers_varied\n",
      "res shape:  (11292, 11292)\n",
      "X shape:  (11292, 11292)\n",
      "Noise folder:  noise_1000,outliers_varied\n",
      "res shape:  (11262, 11262)\n",
      "X shape:  (11262, 11262)\n",
      "trial:  0.3\n",
      "Noise folder:  noise_100,outliers_varied\n",
      "res shape:  (11350, 11350)\n",
      "X shape:  (11350, 11350)\n",
      "Noise folder:  noise_400,outliers_varied\n",
      "res shape:  (11344, 11344)\n",
      "X shape:  (11344, 11344)\n",
      "Noise folder:  noise_700,outliers_varied\n",
      "res shape:  (11218, 11218)\n",
      "X shape:  (11218, 11218)\n",
      "Noise folder:  noise_1300,outliers_varied\n",
      "res shape:  (11229, 11229)\n",
      "X shape:  (11229, 11229)\n",
      "Noise folder:  noise_1000,outliers_varied\n",
      "res shape:  (11363, 11363)\n",
      "X shape:  (11363, 11363)\n",
      "trial:  0.4\n",
      "Noise folder:  noise_100,outliers_varied\n",
      "res shape:  (11461, 11461)\n",
      "X shape:  (11461, 11461)\n",
      "Noise folder:  noise_400,outliers_varied\n",
      "res shape:  (11388, 11388)\n",
      "X shape:  (11388, 11388)\n",
      "Noise folder:  noise_700,outliers_varied\n",
      "res shape:  (11338, 11338)\n",
      "X shape:  (11338, 11338)\n",
      "Noise folder:  noise_1300,outliers_varied\n",
      "res shape:  (11222, 11222)\n",
      "X shape:  (11222, 11222)\n",
      "Noise folder:  noise_1000,outliers_varied\n",
      "res shape:  (11335, 11335)\n",
      "X shape:  (11335, 11335)\n",
      "trial:  0.5\n",
      "Noise folder:  noise_100,outliers_varied\n",
      "res shape:  (11421, 11421)\n",
      "X shape:  (11421, 11421)\n",
      "Noise folder:  noise_400,outliers_varied\n",
      "res shape:  (11450, 11450)\n",
      "X shape:  (11450, 11450)\n",
      "Noise folder:  noise_700,outliers_varied\n",
      "res shape:  (11422, 11422)\n",
      "X shape:  (11422, 11422)\n",
      "Noise folder:  noise_1300,outliers_varied\n",
      "res shape:  (11242, 11242)\n",
      "X shape:  (11242, 11242)\n",
      "Noise folder:  noise_1000,outliers_varied\n",
      "res shape:  (11351, 11351)\n",
      "X shape:  (11351, 11351)\n",
      "trial:  0.6\n",
      "Noise folder:  noise_100,outliers_varied\n",
      "res shape:  (11287, 11287)\n",
      "X shape:  (11287, 11287)\n",
      "Noise folder:  noise_400,outliers_varied\n",
      "res shape:  (11484, 11484)\n",
      "X shape:  (11484, 11484)\n",
      "Noise folder:  noise_700,outliers_varied\n",
      "res shape:  (11378, 11378)\n",
      "X shape:  (11378, 11378)\n",
      "Noise folder:  noise_1300,outliers_varied\n",
      "res shape:  (11331, 11331)\n",
      "X shape:  (11331, 11331)\n",
      "Noise folder:  noise_1000,outliers_varied\n",
      "res shape:  (11160, 11160)\n",
      "X shape:  (11160, 11160)\n",
      "trial:  0.7\n",
      "Noise folder:  noise_100,outliers_varied\n",
      "res shape:  (11434, 11434)\n",
      "X shape:  (11434, 11434)\n",
      "Noise folder:  noise_400,outliers_varied\n",
      "res shape:  (11361, 11361)\n",
      "X shape:  (11361, 11361)\n",
      "Noise folder:  noise_700,outliers_varied\n",
      "res shape:  (11279, 11279)\n",
      "X shape:  (11279, 11279)\n",
      "Noise folder:  noise_1300,outliers_varied\n",
      "res shape:  (11432, 11432)\n",
      "X shape:  (11432, 11432)\n",
      "Noise folder:  noise_1000,outliers_varied\n",
      "res shape:  (11318, 11318)\n",
      "X shape:  (11318, 11318)\n",
      "trial:  0.8\n",
      "Noise folder:  noise_100,outliers_varied\n",
      "res shape:  (11337, 11337)\n",
      "X shape:  (11337, 11337)\n",
      "Noise folder:  noise_400,outliers_varied\n",
      "res shape:  (11406, 11406)\n",
      "X shape:  (11406, 11406)\n",
      "Noise folder:  noise_700,outliers_varied\n",
      "res shape:  (11169, 11169)\n",
      "X shape:  (11169, 11169)\n",
      "Noise folder:  noise_1300,outliers_varied\n",
      "res shape:  (11248, 11248)\n",
      "X shape:  (11248, 11248)\n",
      "Noise folder:  noise_1000,outliers_varied\n",
      "res shape:  (11358, 11358)\n",
      "X shape:  (11358, 11358)\n",
      "trial:  0.9\n",
      "Noise folder:  noise_100,outliers_varied\n",
      "res shape:  (11427, 11427)\n",
      "X shape:  (11427, 11427)\n",
      "Noise folder:  noise_400,outliers_varied\n",
      "res shape:  (11323, 11323)\n",
      "X shape:  (11323, 11323)\n",
      "Noise folder:  noise_700,outliers_varied\n",
      "res shape:  (11333, 11333)\n",
      "X shape:  (11333, 11333)\n",
      "Noise folder:  noise_1300,outliers_varied\n",
      "res shape:  (11292, 11292)\n",
      "X shape:  (11292, 11292)\n",
      "Noise folder:  noise_1000,outliers_varied\n",
      "res shape:  (11262, 11262)\n",
      "X shape:  (11262, 11262)\n"
     ]
    }
   ],
   "source": [
    "trials = np.sort(os.listdir(path_to_graph_folder))\n",
    "\n",
    "\n",
    "scores = {100:[],400:[],700:[],1000:[],1300:[]}\n",
    "prec_scores = {100:[],400:[],700:[],1000:[],1300:[]}\n",
    "rec_scores = {100:[],400:[],700:[],1000:[],1300:[]}\n",
    "\n",
    "for trial in trials:\n",
    "    print('trial: ', trial)\n",
    "    \n",
    "    all_files = os.listdir(path_to_graph_folder+trial)\n",
    "    \n",
    "    for folder in all_files:\n",
    "        \n",
    "        if os.path.isdir(path_to_graph_folder+trial+'/'+ folder):\n",
    "            \n",
    "            print('Noise folder: ',folder)\n",
    "            \n",
    "            path_to_graphs = path_to_graph_folder + '/' + trial + '/' + folder+'/graphs/'\n",
    "            path_to_dummy_graphs = path_to_dummy_graph_folder + '/' + trial +'/' + folder + '/0/graphs/'\n",
    "            path_to_groundtruth_ref = path_to_graph_folder + '/' + trial +'/' + folder + '/permutation_to_ref_graph.gpickle'\n",
    "            path_to_groundtruth  = path_to_graph_folder + '/' + trial + '/' + folder + '/ground_truth.gpickle'\n",
    "            \n",
    "            if os.path.exists(path_to_graph_folder + '/' + trial + '/' + folder +'/X_mALS.mat'):\n",
    "                              \n",
    "            \n",
    "                noise = folder.split(',')[0].split('_')[1]\n",
    "\n",
    "                graph_meta = dataset_metadata(path_to_graphs, path_to_groundtruth_ref)\n",
    "                ground_truth =  nx.read_gpickle(path_to_groundtruth)   \n",
    "                res = get_permutation_matrix_from_dictionary(ground_truth, graph_meta.sizes)\n",
    "\n",
    "\n",
    "                all_dummy_graphs = [nx.read_gpickle(path_to_dummy_graphs+'/'+g) for g in np.sort(os.listdir(path_to_dummy_graphs))]\n",
    "                X_msync = sio.loadmat(path_to_graph_folder + '/' + trial + '/' + folder +'/X_mALS.mat')['X']            \n",
    "                dummy_mask = [list(nx.get_node_attributes(graph,'is_dummy').values()) for graph in all_dummy_graphs]\n",
    "                dummy_mask = sum(dummy_mask,[])\n",
    "                dummy_indexes = [i for i in range(len(dummy_mask)) if dummy_mask[i]==True]            \n",
    "                X_msync = np.delete(X_msync,dummy_indexes,0) # delete the dummy rows\n",
    "                X_msync = np.delete(X_msync,dummy_indexes,1) # delete the dummy columns\n",
    "\n",
    "\n",
    "                print('res shape: ',res.shape)\n",
    "                print('X shape: ',X_msync.shape)\n",
    "\n",
    "    #             X_init_0 = {}            \n",
    "    #             X_init_0['X'] = np.zeros(X_msync.shape)\n",
    "\n",
    "                #sio.savemat(path_to_dummy_graph_folder + '/' + trial + '/' + '/' + folder + '/0/X_init_0.mat',X_init_0)\n",
    "\n",
    "                f1, prec, rec = matching.compute_f1score(X_msync,res)\n",
    "\n",
    "                scores[int(noise)].append(f1)\n",
    "                prec_scores[int(noise)].append(prec)\n",
    "                rec_scores[int(noise)].append(rec)"
   ]
  },
  {
   "cell_type": "code",
   "execution_count": 15,
   "metadata": {},
   "outputs": [
    {
     "data": {
      "text/plain": [
       "{100: [], 400: [], 700: [], 1000: [], 1300: []}"
      ]
     },
     "execution_count": 15,
     "metadata": {},
     "output_type": "execute_result"
    }
   ],
   "source": [
    "scores"
   ]
  },
  {
   "cell_type": "code",
   "execution_count": 17,
   "metadata": {},
   "outputs": [],
   "source": [
    "# mALS_score"
   ]
  },
  {
   "cell_type": "code",
   "execution_count": null,
   "metadata": {},
   "outputs": [],
   "source": [
    "nx.write_gpickle(scores,'mALS_score_init_0'+'.gpickle')\n",
    "nx.write_gpickle(prec_scores,'mALS_score_init_0_prec_scores'+'.gpickle')\n",
    "nx.write_gpickle(rec_scores,'mALS_score_init_0_rec_scores'+'.gpickle')"
   ]
  },
  {
   "cell_type": "code",
   "execution_count": null,
   "metadata": {},
   "outputs": [],
   "source": [
    "scores"
   ]
  },
  {
   "cell_type": "code",
   "execution_count": null,
   "metadata": {
    "scrolled": true
   },
   "outputs": [],
   "source": [
    "prec_scores"
   ]
  },
  {
   "cell_type": "code",
   "execution_count": null,
   "metadata": {},
   "outputs": [],
   "source": [
    "rec_scores"
   ]
  },
  {
   "cell_type": "code",
   "execution_count": null,
   "metadata": {},
   "outputs": [],
   "source": [
    "# # CAO for two trials\n",
    "\n",
    "# scores_selected = {100: [0.07575848754205779,\n",
    "#   0.07814004910410795],\n",
    "#  400: [0.3610063028572132, 0.3843341603488669],\n",
    "#  1000: [0.6272369172851308,\n",
    "#   0.6457353013735544],\n",
    "#  1300: [0.7557834176288084,\n",
    "#   0.7515356692225564]}"
   ]
  },
  {
   "cell_type": "code",
   "execution_count": null,
   "metadata": {},
   "outputs": [],
   "source": [
    "# CAO for two trials prec scores\n",
    "\n",
    "CAO_prec = {100: [0.06940255491618295,\n",
    "  0.08012665815255075],\n",
    " 400: [0.33249761899362795, 0.35625069398376574],\n",
    " 1000: [0.6172584181139315,\n",
    "  0.5847887618063963],\n",
    " 1300: [0.7009452776744259,\n",
    "  0.6994513562888791,\n",
    "  0.7219446167567614]}"
   ]
  },
  {
   "cell_type": "code",
   "execution_count": null,
   "metadata": {},
   "outputs": [],
   "source": [
    "CAO_rec = {100: [0.08223609723609723,\n",
    "  0.09426311196571033],\n",
    " 400: [0.394862188291054, 0.41722420711995695],\n",
    " 1000: [0.7230928714145982,\n",
    "  0.6913494371020555],\n",
    " 1300: [0.8199302973202821,\n",
    "  0.8120009329062546]}"
   ]
  },
  {
   "cell_type": "code",
   "execution_count": 7,
   "metadata": {},
   "outputs": [],
   "source": [
    "def score_mean_std(scores):\n",
    "    \n",
    "    avg_scores = []\n",
    "    std_scores = []\n",
    "\n",
    "    for keys,values in scores.items():\n",
    "        avg_scores.append(np.mean(values))\n",
    "        std_scores.append(np.std(values))\n",
    "        \n",
    "    return np.array(avg_scores), np.array(std_scores)"
   ]
  },
  {
   "cell_type": "code",
   "execution_count": 4,
   "metadata": {},
   "outputs": [],
   "source": [
    "# k_70 = nx.read_gpickle('kmeans_score_k_70.gpickle')\n",
    "# k_90 = nx.read_gpickle('kmeans_score_k_90.gpickle')\n",
    "# k_110 = nx.read_gpickle('kmeans_score_k_110.gpickle')\n",
    "# kergm_scores = nx.read_gpickle('kerGM_scores.gpickle')\n",
    "# m_Sync_scores = nx.read_gpickle('mSync_scores.gpickle')\n",
    "mALS_score = nx.read_gpickle('mALS_score.gpickle')"
   ]
  },
  {
   "cell_type": "code",
   "execution_count": 9,
   "metadata": {},
   "outputs": [],
   "source": [
    "# Precision Scores\n",
    "\n",
    "# k_70_prec = nx.read_gpickle('kmeans_rec_score_k_70.gpickle')\n",
    "# k_90_prec = nx.read_gpickle('kmeans_rec_score_k_90.gpickle')\n",
    "# k_110_prec = nx.read_gpickle('kmeans_rec_score_k_110.gpickle')\n",
    "# kergm_scores_prec = nx.read_gpickle('KerGM_rec_scores.gpickle')\n",
    "# m_Sync_scores_prec = nx.read_gpickle('mSync_rec_scores.gpickle')\n",
    "# m_Sync_kmeans_scores_prec = nx.read_gpickle('mSync_kmeans_rec_scores.gpickle')\n",
    "# mALS_score_rec = nx.read_gpickle('mALS_rec_scores.gpickle')\n",
    "# HiPPi_score_prec = nx.read_gpickle('Hippi_kmeans_rec_scores.gpickle')"
   ]
  },
  {
   "cell_type": "code",
   "execution_count": 8,
   "metadata": {},
   "outputs": [],
   "source": [
    "# k_70_mean, k_70_std  = score_mean_std(k_70)\n",
    "# k_90_mean, k_90_std  = score_mean_std(k_90)\n",
    "# k_110_mean, k_110_std = score_mean_std(k_110)\n",
    "# kergm_mean, kergm_std = score_mean_std(kergm_scores)\n",
    "# msync_mean, msync_std = score_mean_std(m_Sync_scores)\n",
    "mALS_mean, mALS_std = score_mean_std(mALS_score)\n",
    "# msync_kmeans_mean, msync_kmeans_std = score_mean_std(scores)\n",
    "# mALS_kmeans_mean, mALS_kmeans_std = score_mean_std(scores)"
   ]
  },
  {
   "cell_type": "code",
   "execution_count": null,
   "metadata": {},
   "outputs": [],
   "source": []
  },
  {
   "cell_type": "code",
   "execution_count": null,
   "metadata": {},
   "outputs": [],
   "source": [
    "# k_70_mean, k_70_std  = score_mean_std(k_70_prec)\n",
    "# k_90_mean, k_90_std  = score_mean_std(k_90_prec)\n",
    "# k_110_mean, k_110_std = score_mean_std(k_110_prec)\n",
    "# kergm_mean, kergm_std = score_mean_std(kergm_scores_prec)\n",
    "# msync_mean, msync_std = score_mean_std(m_Sync_scores_prec)\n",
    "# mALS_mean, mALS_std = score_mean_std(mALS_score_prec)\n",
    "# msync_kmeans_mean, msync_kmeans_std = score_mean_std(m_Sync_kmeans_scores_prec)\n",
    "# Hippi_mean, Hippi_std = score_mean_std(HiPPi_score_prec)"
   ]
  },
  {
   "cell_type": "code",
   "execution_count": null,
   "metadata": {},
   "outputs": [],
   "source": [
    "CAO_mean, CAO_std = score_mean_std(CAO_rec)"
   ]
  },
  {
   "cell_type": "code",
   "execution_count": null,
   "metadata": {},
   "outputs": [],
   "source": []
  },
  {
   "cell_type": "code",
   "execution_count": 9,
   "metadata": {
    "scrolled": false
   },
   "outputs": [
    {
     "data": {
      "image/png": "[encoded data removed]",
      "text/plain": [
       "<Figure size 1152x648 with 1 Axes>"
      ]
     },
     "metadata": {
      "needs_background": "light"
     },
     "output_type": "display_data"
    }
   ],
   "source": [
    "fig = plt.figure(figsize=(16, 9))\n",
    "\n",
    "# plt.plot(list(k_70_prec.keys()), k_70_mean ,label = 'kmeans k = 70')\n",
    "# plt.fill_between(list(k_70_prec.keys()), k_70_mean-k_70_std, k_70_mean + k_70_std, alpha=0.2)\n",
    "\n",
    "# plt.plot(list(k_90_prec.keys()), k_90_mean ,label = 'kmeans k = 90')\n",
    "# plt.fill_between(list(k_90_prec.keys()), k_90_mean - k_90_std, k_90_mean + k_90_std, alpha=0.2)\n",
    "\n",
    "# plt.plot(list(k_110_prec.keys()), k_110_mean ,label = 'kmeans k = 110')\n",
    "# plt.fill_between(list(k_110_prec.keys()), k_110_mean - k_110_std, k_110_mean + k_110_std, alpha=0.2)\n",
    "\n",
    "# plt.plot(list(kergm_scores_prec.keys()), kergm_mean ,label = 'KerGM')\n",
    "# plt.fill_between(list(kergm_scores_prec.keys()), kergm_mean - kergm_std, kergm_mean + kergm_std, alpha=0.2)\n",
    "\n",
    "# plt.plot(list(m_Sync_scores_prec.keys()), msync_mean ,label = 'mSync')\n",
    "# plt.fill_between(list(m_Sync_scores_prec.keys()), msync_mean - msync_std, msync_mean + msync_std, alpha=0.2)\n",
    "\n",
    "plt.plot(list(mALS_score.keys()), mALS_mean ,label = 'mALS')\n",
    "plt.fill_between(list(mALS_score.keys()), mALS_mean - mALS_std, mALS_mean + mALS_std, alpha=0.2)\n",
    "\n",
    "# plt.plot(list(mALS_score_prec.keys()), msync_kmeans_mean ,label = 'mSync kmeans')\n",
    "# plt.fill_between(list(m_Sync_scores_prec.keys()), msync_kmeans_mean - msync_kmeans_std, msync_kmeans_mean + msync_kmeans_std, alpha=0.2)\n",
    "\n",
    "# plt.plot(list(CAO_prec.keys()), CAO_mean ,label = 'CAO')\n",
    "# plt.fill_between(list(CAO_prec.keys()), CAO_mean - CAO_std, CAO_mean + CAO_std, alpha=0.2)\n",
    "\n",
    "# plt.plot(list(HiPPi_score_prec.keys()), Hippi_mean ,label = 'HiPPi')\n",
    "# plt.fill_between(list(HiPPi_score_prec.keys()), Hippi_mean - Hippi_std, Hippi_mean + Hippi_std, alpha=0.2)\n",
    "\n",
    "# plt.plot(list(scores.keys()), mALS_kmeans_mean ,label = 'mALS_kmeans')\n",
    "# plt.fill_between(list(scores.keys()), mALS_kmeans_mean - mALS_kmeans_std, mALS_kmeans_mean + mALS_kmeans_std, alpha=0.2)\n",
    "\n",
    "plt.xlabel('kappa',fontweight=\"bold\",fontsize=18)\n",
    "plt.ylabel('F1 score',fontweight=\"bold\",fontsize=18)\n",
    "plt.legend(loc = 'lower left')\n",
    "plt.title('F1 CURVE',fontweight=\"bold\",fontsize=18)\n",
    "plt.gca().yaxis.grid(True)\n",
    "plt.gca().invert_xaxis()\n",
    "plt.legend(loc=3, prop={'size': 15})\n",
    "plt.show()\n",
    "#fig.savefig('Scores Kmeans_Kergm_mSync.png')"
   ]
  },
  {
   "cell_type": "code",
   "execution_count": null,
   "metadata": {},
   "outputs": [],
   "source": []
  },
  {
   "cell_type": "code",
   "execution_count": null,
   "metadata": {
    "scrolled": false
   },
   "outputs": [],
   "source": [
    "fig = plt.figure(figsize=(16, 9))\n",
    "plt.plot(list(scores.keys()), list(scores.values()) ,label = 'mALS')\n",
    "plt.xlabel('kappa',fontweight=\"bold\",fontsize=18)\n",
    "plt.ylabel('F1 score mALS',fontweight=\"bold\",fontsize=18)\n",
    "plt.legend(loc = 'lower left')\n",
    "plt.title('F1 CURVE, pSelect = 50%',fontweight=\"bold\",fontsize=18)\n",
    "plt.gca().yaxis.grid(True)\n",
    "plt.gca().invert_xaxis()\n",
    "plt.legend(loc=3, prop={'size': 15})\n",
    "plt.show()"
   ]
  },
  {
   "cell_type": "code",
   "execution_count": null,
   "metadata": {},
   "outputs": [],
   "source": [
    "fig = plt.figure(figsize=(16, 9))\n",
    "plt.plot(list(scores.keys()), list(prec_scores.values()) ,label = 'CAO-C')\n",
    "plt.xlabel('kappa',fontweight=\"bold\",fontsize=18)\n",
    "plt.ylabel('Prec score',fontweight=\"bold\",fontsize=18)\n",
    "plt.legend(loc = 'lower left')\n",
    "plt.title('Precision CURVE',fontweight=\"bold\",fontsize=18)\n",
    "plt.gca().yaxis.grid(True)\n",
    "plt.gca().invert_xaxis()\n",
    "plt.legend(loc=3, prop={'size': 15})\n",
    "plt.show()"
   ]
  },
  {
   "cell_type": "code",
   "execution_count": null,
   "metadata": {
    "scrolled": false
   },
   "outputs": [],
   "source": [
    "fig = plt.figure(figsize=(16, 9))\n",
    "plt.plot(list(scores.keys()), list(rec_scores.values()) ,label = 'CAO-C')\n",
    "plt.xlabel('kappa',fontweight=\"bold\",fontsize=18)\n",
    "plt.ylabel('Rec score',fontweight=\"bold\",fontsize=18)\n",
    "plt.legend(loc = 'lower left')\n",
    "plt.title('Recall CURVE',fontweight=\"bold\",fontsize=18)\n",
    "plt.gca().yaxis.grid(True)\n",
    "plt.gca().invert_xaxis()\n",
    "plt.legend(loc=3, prop={'size': 15})\n",
    "plt.show()"
   ]
  },
  {
   "cell_type": "code",
   "execution_count": null,
   "metadata": {},
   "outputs": [],
   "source": []
  },
  {
   "cell_type": "code",
   "execution_count": null,
   "metadata": {},
   "outputs": [],
   "source": []
  },
  {
   "cell_type": "code",
   "execution_count": null,
   "metadata": {},
   "outputs": [],
   "source": []
  },
  {
   "cell_type": "code",
   "execution_count": null,
   "metadata": {},
   "outputs": [],
   "source": []
  }
 ],
 "metadata": {
  "kernelspec": {
   "display_name": "Python 3",
   "language": "python",
   "name": "python3"
  },
  "language_info": {
   "codemirror_mode": {
    "name": "ipython",
    "version": 3
   },
   "file_extension": ".py",
   "mimetype": "text/x-python",
   "name": "python",
   "nbconvert_exporter": "python",
   "pygments_lexer": "ipython3",
   "version": "3.8.0"
  }
 },
 "nbformat": 4,
 "nbformat_minor": 4
}
