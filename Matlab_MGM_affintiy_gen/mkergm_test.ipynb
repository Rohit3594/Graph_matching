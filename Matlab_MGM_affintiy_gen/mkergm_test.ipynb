{
 "cells": [
  {
   "cell_type": "code",
   "execution_count": 1,
   "metadata": {},
   "outputs": [],
   "source": [
    "import os\n",
    "import sys\n",
    "sys.path.append(\"/home/rohit/PhD_Work/GM_my_version/Graph_matching/\")\n",
    "from sklearn.cluster import KMeans\n",
    "import networkx as nx\n",
    "import numpy as np\n",
    "from graph_generation.load_graphs_and_create_metadata import dataset_metadata\n",
    "from graph_matching_tools.metrics import matching\n",
    "from graph_matching_tools.io.graph_dataset import GraphDataset\n",
    "from graph_matching_tools import *\n",
    "import matplotlib.pyplot as plt\n",
    "import tools.graph_processing as gp\n",
    "import scipy.io as sio\n",
    "import graph_matching_tools.algorithms.kernels.gaussian as gaussian\n",
    "import graph_matching_tools.algorithms.multiway.mkergm as mkergm\n",
    "import graph_matching_tools.algorithms.multiway.matcheig as matcheig\n",
    "import graph_matching_tools.algorithms.multiway.msync as msync\n",
    "import graph_matching_tools.algorithms.kernels.linear as lin_kern\n",
    "import graph_matching_tools.utils.permutations as permut\n",
    "import graph_matching_tools.algorithms.kernels.utils as kutils\n",
    "import graph_matching_tools.utils.utils as utils\n",
    "import graph_matching_tools.algorithms.kernels.rff as rff\n",
    "#import graph_matching_tools.metrics.matching as metrics\n",
    "from graph_matching_tools.metrics import matching"
   ]
  },
  {
   "cell_type": "code",
   "execution_count": 2,
   "metadata": {},
   "outputs": [],
   "source": [
    "def get_permutation_matrix_from_dictionary(matching, g_sizes):\n",
    "    \"\"\"\n",
    "    Create the full permutation matrix from the matching result\n",
    "    :param matching: the matching result for each graph (nodes number, assignment)\n",
    "    :param g_sizes: the list of the size of the different graph\n",
    "    :return: the full permutation matrix\n",
    "    \"\"\"\n",
    "    f_size = int(np.sum(g_sizes))\n",
    "    res = np.zeros((f_size, f_size))\n",
    "\n",
    "    idx1 = 0\n",
    "    for i_g1 in range(len(g_sizes)):\n",
    "        idx2 = 0\n",
    "        for i_g2 in range(len(g_sizes)):\n",
    "            match = matching[\"{},{}\".format(i_g1, i_g2)]\n",
    "            for k in match:\n",
    "                res[idx1 + int(k), idx2 + match[k]] = 1\n",
    "            idx2 += g_sizes[i_g2]\n",
    "        idx1 += g_sizes[i_g1]\n",
    "        \n",
    "    np.fill_diagonal(res,1)\n",
    "    return res"
   ]
  },
  {
   "cell_type": "code",
   "execution_count": 3,
   "metadata": {},
   "outputs": [],
   "source": [
    "path_to_graph_folder = '../data/simu_graph/test_small_set//0/noise_1000,outliers_varied/graphs/'\n",
    "path_to_groundtruth_ref = '../data/simu_graph/test_small_set/0/noise_1000,outliers_varied/permutation_to_ref_graph.gpickle'\n",
    "path_to_groundtruth = '../data/simu_graph/test_small_set/0/noise_1000,outliers_varied/ground_truth.gpickle'\n",
    "path_to_graph_folder_dummy = '../data/simu_graph/test_small_set_dummy//0/noise_1000,outliers_varied/0/graphs/'"
   ]
  },
  {
   "cell_type": "code",
   "execution_count": 4,
   "metadata": {},
   "outputs": [],
   "source": [
    "graph_meta = GraphDataset(path_to_graph_folder, path_to_groundtruth_ref)"
   ]
  },
  {
   "cell_type": "code",
   "execution_count": 5,
   "metadata": {},
   "outputs": [],
   "source": [
    "#list_graphs_dummy = gp.load_graphs_in_list(path_to_graph_folder_dummy)"
   ]
  },
  {
   "cell_type": "code",
   "execution_count": 6,
   "metadata": {},
   "outputs": [],
   "source": [
    "all_graphs = graph_meta.list_graphs\n",
    "g_sizes = graph_meta.sizes\n",
    "#g_dummy_sizes = [nx.number_of_nodes(g) for g in list_graphs_dummy]\n",
    "full_size = int(np.sum(g_sizes))"
   ]
  },
  {
   "cell_type": "code",
   "execution_count": 7,
   "metadata": {},
   "outputs": [],
   "source": [
    "node_kernel = gaussian.create_gaussian_node_kernel(10, \"coord\")\n",
    "knode = kutils.create_full_node_affinity_matrix(all_graphs, node_kernel)\n",
    "\n",
    "vectors, offsets = rff.create_random_vectors(1, 100, 0.15)\n",
    "full_size = knode.shape[0]\n",
    "phi = np.zeros((100, full_size, full_size))\n",
    "index = 0\n",
    "for i in range(len(all_graphs)):\n",
    "    g_phi = rff.compute_phi(all_graphs[i], \"geodesic_distance\", vectors, offsets)\n",
    "    phi[:, index : index + g_sizes[i], index : index + g_sizes[i]] = g_phi\n",
    "    index += g_sizes[i]"
   ]
  },
  {
   "cell_type": "code",
   "execution_count": 33,
   "metadata": {},
   "outputs": [
    {
     "ename": "AttributeError",
     "evalue": "'float' object has no attribute 'T'",
     "output_type": "error",
     "traceback": [
      "\u001b[0;31m---------------------------------------------------------------------------\u001b[0m",
      "\u001b[0;31mAttributeError\u001b[0m                            Traceback (most recent call last)",
      "Cell \u001b[0;32mIn[33], line 2\u001b[0m\n\u001b[1;32m      1\u001b[0m data \u001b[38;5;241m=\u001b[39m \u001b[38;5;241m10.0\u001b[39m\n\u001b[0;32m----> 2\u001b[0m np\u001b[38;5;241m.\u001b[39msqrt(\u001b[38;5;241m2\u001b[39m \u001b[38;5;241m/\u001b[39m vectors\u001b[38;5;241m.\u001b[39mshape[\u001b[38;5;241m1\u001b[39m]) \u001b[38;5;241m*\u001b[39m np\u001b[38;5;241m.\u001b[39mcos(np\u001b[38;5;241m.\u001b[39mdot(\u001b[43mdata\u001b[49m\u001b[38;5;241;43m.\u001b[39;49m\u001b[43mT\u001b[49m, vectors) \u001b[38;5;241m+\u001b[39m offsets)\n",
      "\u001b[0;31mAttributeError\u001b[0m: 'float' object has no attribute 'T'"
     ]
    }
   ],
   "source": [
    "data = 10.0\n",
    "np.sqrt(2 / vectors.shape[1]) * np.cos(np.dot(data.T, vectors) + offsets)"
   ]
  },
  {
   "cell_type": "code",
   "execution_count": null,
   "metadata": {
    "scrolled": false
   },
   "outputs": [],
   "source": [
    "# phi = np.zeros((1, full_size, full_size)) # data_dimension \n",
    "# index = 0\n",
    "\n",
    "# for i in range(len(graph_meta.list_graphs)):\n",
    "#     g_phi = np.zeros((1, g_sizes[i] , g_sizes[i])) \n",
    "#     for u, v, data in graph_meta.list_graphs[i].edges.data(\"geodesic_distance\"):\n",
    "#         g_phi[:, u, v] = data\n",
    "#         g_phi[:, v, u] = data\n",
    "#     phi[:, index:index + g_sizes[i], index:index + g_sizes[i]] = g_phi\n",
    "#     index += g_sizes[i]"
   ]
  },
  {
   "cell_type": "code",
   "execution_count": 13,
   "metadata": {},
   "outputs": [
    {
     "data": {
      "text/plain": [
       "{'coord': array([ 51.51622912, -83.93188167, -17.36425571]),\n",
       " 'is_dummy': False,\n",
       " 'is_outlier': False}"
      ]
     },
     "execution_count": 13,
     "metadata": {},
     "output_type": "execute_result"
    }
   ],
   "source": [
    "graph_meta.list_graphs[0].nodes.data()[0]"
   ]
  },
  {
   "cell_type": "code",
   "execution_count": null,
   "metadata": {},
   "outputs": [],
   "source": []
  },
  {
   "cell_type": "code",
   "execution_count": 14,
   "metadata": {},
   "outputs": [],
   "source": [
    "x_init = np.ones(knode.shape) / knode.shape[0]\n",
    "#x_init = res_kmeans"
   ]
  },
  {
   "cell_type": "code",
   "execution_count": 15,
   "metadata": {
    "scrolled": true
   },
   "outputs": [],
   "source": [
    "norm_knode = np.median(g_sizes)\n",
    "knode /= norm_knode"
   ]
  },
  {
   "cell_type": "code",
   "execution_count": 16,
   "metadata": {},
   "outputs": [],
   "source": [
    "gradient = mkergm.create_gradient(phi, knode)"
   ]
  },
  {
   "cell_type": "code",
   "execution_count": 17,
   "metadata": {},
   "outputs": [],
   "source": [
    "rank = max(graph_meta.sizes)\n",
    "m_res = mkergm.mkergm(gradient, g_sizes, rank, iterations=50, init = x_init, projection_method = 'matcheig')"
   ]
  },
  {
   "cell_type": "code",
   "execution_count": null,
   "metadata": {},
   "outputs": [],
   "source": []
  },
  {
   "cell_type": "code",
   "execution_count": null,
   "metadata": {},
   "outputs": [],
   "source": [
    "# Scores"
   ]
  },
  {
   "cell_type": "code",
   "execution_count": 18,
   "metadata": {
    "scrolled": true
   },
   "outputs": [
    {
     "name": "stdout",
     "output_type": "stream",
     "text": [
      "res shape :  (804, 804)\n"
     ]
    }
   ],
   "source": [
    "ground_truth =  nx.read_gpickle(path_to_groundtruth)\n",
    "res = get_permutation_matrix_from_dictionary(ground_truth, graph_meta.sizes)\n",
    "print('res shape : ',res.shape)"
   ]
  },
  {
   "cell_type": "code",
   "execution_count": 19,
   "metadata": {},
   "outputs": [],
   "source": [
    "# # Remove dummy nodes from X matrix\n",
    "\n",
    "X_mkergm = m_res\n",
    "\n",
    "# dummy_mask = [list(nx.get_node_attributes(graph,'is_dummy').values()) for graph in list_graphs_dummy]\n",
    "# dummy_mask = sum(dummy_mask,[])\n",
    "# dummy_indexes = [i for i in range(len(dummy_mask)) if dummy_mask[i]==True]   \n",
    "\n",
    "# X_mkergm = np.delete(X_mkergm,dummy_indexes,0) # delete the dummy rows\n",
    "# X_mkergm = np.delete(X_mkergm,dummy_indexes,1) # delete the dummy columns\n"
   ]
  },
  {
   "cell_type": "code",
   "execution_count": 20,
   "metadata": {
    "scrolled": false
   },
   "outputs": [
    {
     "data": {
      "text/plain": [
       "(804, 804)"
      ]
     },
     "execution_count": 20,
     "metadata": {},
     "output_type": "execute_result"
    }
   ],
   "source": [
    "X_mkergm.shape"
   ]
  },
  {
   "cell_type": "code",
   "execution_count": 21,
   "metadata": {},
   "outputs": [
    {
     "data": {
      "text/plain": [
       "(0.7135048231511254, 0.6320136713187127, 0.8191214470284238)"
      ]
     },
     "execution_count": 21,
     "metadata": {},
     "output_type": "execute_result"
    }
   ],
   "source": [
    "f1, prec, rec = matching.compute_f1score(X_mkergm,res)\n",
    "f1,prec,rec"
   ]
  },
  {
   "cell_type": "code",
   "execution_count": 28,
   "metadata": {
    "scrolled": true
   },
   "outputs": [],
   "source": [
    "m_res_matcheig = matcheig.matcheig(knode, rank, g_sizes)"
   ]
  },
  {
   "cell_type": "code",
   "execution_count": 29,
   "metadata": {},
   "outputs": [
    {
     "data": {
      "text/plain": [
       "(0.8495176848874598, 0.7524921674736542, 0.9752676264304171)"
      ]
     },
     "execution_count": 29,
     "metadata": {},
     "output_type": "execute_result"
    }
   ],
   "source": [
    "f1, prec, rec = matching.compute_f1score(m_res_matcheig,res)\n",
    "f1,prec,rec"
   ]
  },
  {
   "cell_type": "code",
   "execution_count": null,
   "metadata": {},
   "outputs": [],
   "source": [
    "u_nodes = msync.msync(knode, g_sizes, rank, lambda x: 0)\n",
    "m_res_msync = u_nodes @ u_nodes.T"
   ]
  },
  {
   "cell_type": "code",
   "execution_count": null,
   "metadata": {},
   "outputs": [],
   "source": [
    "f1, prec, rec = matching.compute_f1score(m_res_msync,res)\n",
    "f1,prec,rec"
   ]
  },
  {
   "cell_type": "markdown",
   "metadata": {},
   "source": [
    "### Test with Kmeans"
   ]
  },
  {
   "cell_type": "code",
   "execution_count": 22,
   "metadata": {},
   "outputs": [],
   "source": [
    "def get_all_coords(list_graphs):\n",
    "    all_coords = []\n",
    "    for g in list_graphs:\n",
    "        coords = np.array(list(nx.get_node_attributes(g,'coord').values()))\n",
    "        all_coords.extend(coords)\n",
    "    all_coords = np.array(all_coords)\n",
    "    \n",
    "    return all_coords"
   ]
  },
  {
   "cell_type": "code",
   "execution_count": 23,
   "metadata": {},
   "outputs": [],
   "source": [
    "def create_perm_from_labels(labels):\n",
    "    U = np.zeros((len(labels),len(set(labels))))\n",
    "    \n",
    "    for node,label in zip(range(U.shape[0]),labels):\n",
    "        U[node,label] = 1\n",
    "        \n",
    "    return U @ U.T,U"
   ]
  },
  {
   "cell_type": "code",
   "execution_count": 24,
   "metadata": {},
   "outputs": [],
   "source": [
    "def get_labels_from_k_means(k, coords):\n",
    "    \n",
    "    kmeans = KMeans(n_clusters=k, random_state=0).fit(coords)\n",
    "    \n",
    "    return kmeans.labels_"
   ]
  },
  {
   "cell_type": "code",
   "execution_count": 25,
   "metadata": {},
   "outputs": [
    {
     "name": "stderr",
     "output_type": "stream",
     "text": [
      "/home/rohit/anaconda3/envs/Slam_python_3.8/lib/python3.8/site-packages/sklearn/cluster/_kmeans.py:870: FutureWarning: The default value of `n_init` will change from 10 to 'auto' in 1.4. Set the value of `n_init` explicitly to suppress the warning\n",
      "  warnings.warn(\n"
     ]
    }
   ],
   "source": [
    "k = max(graph_meta.sizes)\n",
    "all_coords = get_all_coords(graph_meta.list_graphs)\n",
    "kmeans_labels = get_labels_from_k_means(k, all_coords)"
   ]
  },
  {
   "cell_type": "code",
   "execution_count": 26,
   "metadata": {},
   "outputs": [],
   "source": [
    "res_kmeans,U_kmeans = create_perm_from_labels(kmeans_labels)"
   ]
  },
  {
   "cell_type": "code",
   "execution_count": 27,
   "metadata": {},
   "outputs": [
    {
     "data": {
      "text/plain": [
       "(0.8338782500389226, 0.721055465805062, 0.9885566629752677)"
      ]
     },
     "execution_count": 27,
     "metadata": {},
     "output_type": "execute_result"
    }
   ],
   "source": [
    "f1_kmeans, prec_kmeans, rec_kmeans = matching.compute_f1score(res_kmeans,res)\n",
    "f1_kmeans, prec_kmeans, rec_kmeans"
   ]
  },
  {
   "cell_type": "code",
   "execution_count": null,
   "metadata": {},
   "outputs": [],
   "source": []
  },
  {
   "cell_type": "code",
   "execution_count": 46,
   "metadata": {},
   "outputs": [
    {
     "data": {
      "text/plain": [
       "array([-5. , -4.5, -4. , -3.5, -3. , -2.5, -2. , -1.5, -1. , -0.5,  0. ,\n",
       "        0.5,  1. ,  1.5,  2. ,  2.5,  3. ,  3.5,  4. ,  4.5])"
      ]
     },
     "execution_count": 46,
     "metadata": {},
     "output_type": "execute_result"
    }
   ],
   "source": [
    "np.arange(-5, 5, 10/20)"
   ]
  },
  {
   "cell_type": "code",
   "execution_count": 43,
   "metadata": {},
   "outputs": [
    {
     "data": {
      "text/plain": [
       "array([0. , 0.1, 0.2, 0.3, 0.4, 0.5, 0.6, 0.7, 0.8, 0.9, 1. ])"
      ]
     },
     "execution_count": 43,
     "metadata": {},
     "output_type": "execute_result"
    }
   ],
   "source": [
    "np.linspace(0,1,11)"
   ]
  },
  {
   "cell_type": "code",
   "execution_count": null,
   "metadata": {},
   "outputs": [],
   "source": []
  }
 ],
 "metadata": {
  "kernelspec": {
   "display_name": "Python 3 (ipykernel)",
   "language": "python",
   "name": "python3"
  },
  "language_info": {
   "codemirror_mode": {
    "name": "ipython",
    "version": 3
   },
   "file_extension": ".py",
   "mimetype": "text/x-python",
   "name": "python",
   "nbconvert_exporter": "python",
   "pygments_lexer": "ipython3",
   "version": "3.8.0"
  }
 },
 "nbformat": 4,
 "nbformat_minor": 4
}
