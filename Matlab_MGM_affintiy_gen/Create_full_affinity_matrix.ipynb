{
 "cells": [
  {
   "cell_type": "code",
   "execution_count": 1,
   "metadata": {},
   "outputs": [],
   "source": [
    "import numpy as np\n",
    "import scipy.io as sio\n",
    "import networkx as nx\n",
    "import os\n",
    "from graph_matching_tools.algorithms.kernels.gaussian import create_gaussian_node_kernel\n",
    "from graph_matching_tools.algorithms.kernels.utils import create_full_node_affinity_matrix"
   ]
  },
  {
   "cell_type": "code",
   "execution_count": 2,
   "metadata": {},
   "outputs": [],
   "source": [
    "path_to_dummy_graphs_folder = '/home/rohit/PhD_Work/GM_my_version/Graph_matching/data/simu_graph/test_with_dummy/'"
   ]
  },
  {
   "cell_type": "code",
   "execution_count": 4,
   "metadata": {
    "scrolled": false
   },
   "outputs": [
    {
     "name": "stdout",
     "output_type": "stream",
     "text": [
      "trial:  0\n",
      "Noise folder:  noise_100,outliers_varied\n",
      "Noise folder:  noise_400,outliers_varied\n",
      "Noise folder:  noise_700,outliers_varied\n",
      "Noise folder:  noise_1300,outliers_varied\n",
      "Noise folder:  noise_1000,outliers_varied\n",
      "trial:  1\n",
      "Noise folder:  noise_100,outliers_varied\n",
      "Noise folder:  noise_400,outliers_varied\n",
      "Noise folder:  noise_700,outliers_varied\n",
      "Noise folder:  noise_1300,outliers_varied\n",
      "Noise folder:  noise_1000,outliers_varied\n",
      "trial:  2\n",
      "Noise folder:  noise_100,outliers_varied\n",
      "Noise folder:  noise_400,outliers_varied\n",
      "Noise folder:  noise_700,outliers_varied\n",
      "Noise folder:  noise_1300,outliers_varied\n",
      "Noise folder:  noise_1000,outliers_varied\n",
      "trial:  3\n",
      "Noise folder:  noise_100,outliers_varied\n",
      "Noise folder:  noise_400,outliers_varied\n",
      "Noise folder:  noise_700,outliers_varied\n",
      "Noise folder:  noise_1300,outliers_varied\n",
      "Noise folder:  noise_1000,outliers_varied\n"
     ]
    }
   ],
   "source": [
    "\n",
    "trials = np.sort(os.listdir(path_to_dummy_graphs_folder))\n",
    "\n",
    "sigma = 200\n",
    "\n",
    "for trial in trials:\n",
    "    \n",
    "    if float(trial) >= 0.0:\n",
    "        \n",
    "        print('trial: ', trial)\n",
    "\n",
    "        all_files = os.listdir(path_to_dummy_graphs_folder+trial)\n",
    "\n",
    "        for folder in all_files:\n",
    "\n",
    "            if os.path.isdir(path_to_dummy_graphs_folder+trial+'/'+ folder):\n",
    "\n",
    "                print('Noise folder: ',folder)\n",
    "\n",
    "                path_to_dummy_graphs = path_to_dummy_graphs_folder + '/' + trial + '/' + folder+'/0/graphs/'\n",
    "\n",
    "    \n",
    "                graphs = [nx.read_gpickle(path_to_dummy_graphs + graph) for graph in np.sort(os.listdir(path_to_dummy_graphs))]\n",
    "                sizes = [nx.number_of_nodes(graph) for graph in graphs]\n",
    "            \n",
    "                full_affinity = {}\n",
    "                node_kernel = create_gaussian_node_kernel(sigma,'coord')\n",
    "                full_affinity['full_affinity'] = create_full_node_affinity_matrix(graphs, node_kernel)\n",
    "                \n",
    "                sio.savemat(path_to_dummy_graphs_folder + '/' + trial + '/' + '/' + folder + '/0/full_affinity.mat',full_affinity)\n"
   ]
  },
  {
   "cell_type": "code",
   "execution_count": 5,
   "metadata": {},
   "outputs": [],
   "source": [
    "aff_path = '/home/rohit/PhD_Work/GM_my_version/Graph_matching/data/simu_graph/simu_test_single_noise/0.0/noise_100,outliers_varied/'"
   ]
  },
  {
   "cell_type": "code",
   "execution_count": 8,
   "metadata": {
    "scrolled": false
   },
   "outputs": [],
   "source": [
    "full_affinity = sio.loadmat(aff_path + 'full_affinity.mat')"
   ]
  },
  {
   "cell_type": "code",
   "execution_count": 29,
   "metadata": {
    "scrolled": true
   },
   "outputs": [
    {
     "data": {
      "text/plain": [
       "(13132, 13132)"
      ]
     },
     "execution_count": 29,
     "metadata": {},
     "output_type": "execute_result"
    }
   ],
   "source": [
    "full_affinity['full_affinity'].shape"
   ]
  },
  {
   "cell_type": "code",
   "execution_count": 31,
   "metadata": {},
   "outputs": [],
   "source": [
    "test_X = sio.loadmat('testX.mat')"
   ]
  },
  {
   "cell_type": "markdown",
   "metadata": {},
   "source": [
    "# Rename real graphs"
   ]
  },
  {
   "cell_type": "code",
   "execution_count": 24,
   "metadata": {},
   "outputs": [],
   "source": [
    "import os\n",
    "import networkx as nx"
   ]
  },
  {
   "cell_type": "code",
   "execution_count": 25,
   "metadata": {},
   "outputs": [],
   "source": [
    "path_to_graphs = '/home/rohit/PhD_Work/GM_my_version/Graph_matching/data/OASIS_full_batch/modified_graphs/'\n",
    "path_to_save = '/home/rohit/PhD_Work/GM_my_version/Graph_matching/data/Oasis_full_batch_renamed/modified_graphs/'"
   ]
  },
  {
   "cell_type": "code",
   "execution_count": 27,
   "metadata": {
    "scrolled": true
   },
   "outputs": [
    {
     "name": "stdout",
     "output_type": "stream",
     "text": [
      "58\n",
      "108\n",
      "73\n",
      "41\n",
      "13\n",
      "129\n",
      "68\n",
      "28\n",
      "36\n",
      "27\n",
      "66\n",
      "37\n",
      "25\n",
      "75\n",
      "121\n",
      "67\n",
      "117\n",
      "96\n",
      "85\n",
      "112\n",
      "8\n",
      "0\n",
      "26\n",
      "93\n",
      "64\n",
      "55\n",
      "115\n",
      "20\n",
      "49\n",
      "79\n",
      "52\n",
      "34\n",
      "2\n",
      "82\n",
      "105\n",
      "118\n",
      "78\n",
      "98\n",
      "114\n",
      "16\n",
      "61\n",
      "110\n",
      "102\n",
      "101\n",
      "69\n",
      "44\n",
      "21\n",
      "9\n",
      "31\n",
      "1\n",
      "53\n",
      "70\n",
      "119\n",
      "104\n",
      "124\n",
      "15\n",
      "133\n",
      "18\n",
      "32\n",
      "65\n",
      "99\n",
      "92\n",
      "56\n",
      "100\n",
      "10\n",
      "7\n",
      "80\n",
      "33\n",
      "95\n",
      "62\n",
      "38\n",
      "11\n",
      "39\n",
      "3\n",
      "40\n",
      "111\n",
      "77\n",
      "81\n",
      "74\n",
      "126\n",
      "43\n",
      "113\n",
      "59\n",
      "19\n",
      "125\n",
      "106\n",
      "45\n",
      "6\n",
      "51\n",
      "30\n",
      "84\n",
      "24\n",
      "47\n",
      "103\n",
      "130\n",
      "35\n",
      "63\n",
      "107\n",
      "54\n",
      "91\n",
      "22\n",
      "57\n",
      "5\n",
      "116\n",
      "76\n",
      "29\n",
      "122\n",
      "127\n",
      "50\n",
      "120\n",
      "89\n",
      "4\n",
      "132\n",
      "14\n",
      "17\n",
      "72\n",
      "71\n",
      "12\n",
      "48\n",
      "90\n",
      "97\n",
      "86\n",
      "42\n",
      "109\n",
      "88\n",
      "123\n",
      "46\n",
      "83\n",
      "94\n",
      "87\n",
      "23\n",
      "128\n",
      "60\n",
      "131\n"
     ]
    }
   ],
   "source": [
    "all_graphs = os.listdir(path_to_graphs)\n",
    "\n",
    "\n",
    "for graph in all_graphs:\n",
    "    \n",
    "    renamed_graph = nx.read_gpickle(path_to_graphs+\"/\"+graph)\n",
    "    \n",
    "    graph_num = int(graph.split('.')[0].split('_')[1])   \n",
    "    \n",
    "    print(graph_num)\n",
    "                \n",
    "    nx.write_gpickle(renamed_graph, path_to_save + \"/graph_{:05d}\".format(graph_num) + \".gpickle\")"
   ]
  },
  {
   "cell_type": "code",
   "execution_count": null,
   "metadata": {},
   "outputs": [],
   "source": [
    "nx.write_gpickle(renamed_graph, os.path.join(path_parameters_folder, \"graphs\",\"graph_{:05d}\".format(graph_num) + \".gpickle\"))"
   ]
  },
  {
   "cell_type": "code",
   "execution_count": 16,
   "metadata": {},
   "outputs": [
    {
     "data": {
      "text/plain": [
       "58"
      ]
     },
     "execution_count": 16,
     "metadata": {},
     "output_type": "execute_result"
    }
   ],
   "source": [
    "int(all_graphs[0].split('.')[0].split('_')[1])"
   ]
  },
  {
   "cell_type": "code",
   "execution_count": null,
   "metadata": {},
   "outputs": [],
   "source": []
  }
 ],
 "metadata": {
  "kernelspec": {
   "display_name": "Python 3",
   "language": "python",
   "name": "python3"
  },
  "language_info": {
   "codemirror_mode": {
    "name": "ipython",
    "version": 3
   },
   "file_extension": ".py",
   "mimetype": "text/x-python",
   "name": "python",
   "nbconvert_exporter": "python",
   "pygments_lexer": "ipython3",
   "version": "3.8.0"
  }
 },
 "nbformat": 4,
 "nbformat_minor": 4
}
