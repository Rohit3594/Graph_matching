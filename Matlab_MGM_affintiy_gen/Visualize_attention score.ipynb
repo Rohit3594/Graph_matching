{
 "cells": [
  {
   "cell_type": "code",
   "execution_count": 1,
   "id": "942e692f",
   "metadata": {},
   "outputs": [],
   "source": [
    "import os\n",
    "import sys\n",
    "sys.path.append(\"/home/rohit/PhD_Work/GM_my_version/Graph_matching/\")\n",
    "from sklearn.cluster import KMeans\n",
    "import networkx as nx\n",
    "import numpy as np\n",
    "from graph_generation.load_graphs_and_create_metadata import dataset_metadata\n",
    "from graph_matching_tools.metrics import matching\n",
    "import matplotlib.pyplot as plt\n",
    "import scipy.io as sco\n",
    "import slam.io as sio\n",
    "from scipy.special import softmax\n",
    "import pickle\n",
    "from scipy.stats import betabinom\n",
    "import seaborn as sns\n",
    "import tools.graph_processing as gp\n",
    "import tools.graph_visu as gv\n",
    "from matplotlib.pyplot import figure\n",
    "import pickle\n",
    "import pandas as pd\n",
    "from torch_geometric.utils.convert import from_networkx\n",
    "import torch\n",
    "from torch_geometric.datasets import TUDataset\n",
    "from torch_geometric.loader import DataLoader\n",
    "from torch.nn.functional import one_hot\n",
    "from sklearn.preprocessing import OneHotEncoder\n",
    "from torch.nn import Linear\n",
    "import torch.nn.functional as F\n",
    "import torch_geometric as pyg\n",
    "from torch_geometric.nn import GCNConv\n",
    "from torch_geometric.nn import GATConv\n",
    "from torch_geometric.nn import global_mean_pool\n",
    "from torch_geometric.nn import TopKPooling\n",
    "from torch_geometric.data import Data\n",
    "%matplotlib inline"
   ]
  },
  {
   "cell_type": "code",
   "execution_count": null,
   "id": "73d5103b",
   "metadata": {},
   "outputs": [],
   "source": []
  },
  {
   "cell_type": "code",
   "execution_count": 2,
   "id": "2fe0f775",
   "metadata": {},
   "outputs": [],
   "source": [
    "file_template_mesh = '../data/template_mesh/lh.OASIS_testGrp_average_inflated.gii'\n",
    "file_mesh = '../data/example_individual_OASIS_0061/lh.white.gii'\n",
    "file_basins = '../data/example_individual_OASIS_0061/alpha0.03_an0_dn20_r1.5_L_area50FilteredTexture.gii'\n",
    "file_graph = '../data/example_individual_OASIS_0061/OAS1_0061_lh_pitgraph.gpickle'\n",
    "\n",
    "path_to_labelled_graphs = '../data/Oasis_original_new_with_dummy/labelled_graphs/'\n",
    "\n",
    "list_graphs = gp.load_graphs_in_list(path_to_labelled_graphs)\n",
    "\n",
    "attn_mat_all = pickle.load(open( \"attn_mat_list.pickle\", \"rb\" ))"
   ]
  },
  {
   "cell_type": "code",
   "execution_count": 3,
   "id": "b83cad25",
   "metadata": {},
   "outputs": [],
   "source": [
    "for i,g in enumerate(list_graphs):\n",
    "\n",
    "    attn_mat = attn_mat_all[i]\n",
    "    edge_attn_dict = {}\n",
    "    \n",
    "    for edge in g.edges:\n",
    "        \n",
    "        edge_attn_dict[edge] = {\"attn_weight\":attn_mat[edge[0],edge[1]]}\n",
    "    \n",
    "    nx.set_edge_attributes(g, edge_attn_dict)"
   ]
  },
  {
   "cell_type": "code",
   "execution_count": null,
   "id": "0d609082",
   "metadata": {},
   "outputs": [],
   "source": []
  },
  {
   "cell_type": "code",
   "execution_count": 4,
   "id": "cccbe6d7",
   "metadata": {},
   "outputs": [],
   "source": [
    "# graph = list_graphs[0]\n",
    "\n",
    "# template_mesh = gv.reg_mesh(sio.load_mesh(file_template_mesh))\n",
    "\n",
    "# # plot the mesh with basin texture\n",
    "# vb_sc3 = gv.visbrain_plot(template_mesh, caption='Visu on template mesh')\n",
    "# # process the graph\n",
    "# # 1 remove potential dummy nodes (which are not connected by any edge and have no coordinate)\n",
    "# gp.remove_dummy_nodes(graph)\n",
    "# # 2 compute nodes coordinates in 3D by retrieving the mesh vertex corresponding to each graph node, based on the\n",
    "# # corresponding node attribute\n",
    "# nodes_coords = gp.graph_nodes_to_coords(graph, 'ico100_7_vertex_index', template_mesh)\n",
    "# # 3 eventually compute a mask for masking some part of the graph\n",
    "# #mask_slice_coord = -15\n",
    "# #nodes_mask = nodes_coords[:, 2] > mask_slice_coord\n",
    "# # 4 create the objects for visualization of the graph and add these to the figure\n",
    "# s_obj3, c_obj3, node_cb_obj3 = gv.show_graph(graph, nodes_coords, node_color_attribute='basin_thickness',\n",
    "#                                             edge_color_attribute='attn_weight')\n",
    "\n",
    "# vb_sc3.add_to_subplot(c_obj3)\n",
    "# vb_sc3.add_to_subplot(s_obj3)\n",
    "# visb_sc_shape = gv.get_visb_sc_shape(vb_sc3)\n",
    "# vb_sc3.add_to_subplot(node_cb_obj3, row=visb_sc_shape[0] - 1, col=visb_sc_shape[1] + 1, width_max=200)\n",
    "\n",
    "# # show the plot on the screen\n",
    "# vb_sc3.preview()"
   ]
  },
  {
   "cell_type": "code",
   "execution_count": null,
   "id": "693386fa",
   "metadata": {},
   "outputs": [],
   "source": []
  },
  {
   "cell_type": "code",
   "execution_count": 5,
   "id": "ab7772bd",
   "metadata": {},
   "outputs": [],
   "source": [
    "average_attn = {}\n",
    "\n",
    "for g in list_graphs:\n",
    "    \n",
    "    gp.remove_dummy_nodes(g)\n",
    "    \n",
    "    for node in g.nodes:\n",
    "        \n",
    "        avg_attn_node = []\n",
    "        \n",
    "        for edge in g.edges(node):\n",
    "            avg_attn_node.append(g.get_edge_data(edge[0],edge[1])['attn_weight'])\n",
    "            \n",
    "        average_attn[node] = {'average_attn':np.mean(avg_attn_node)}\n",
    "        \n",
    "    nx.set_node_attributes(g, average_attn)"
   ]
  },
  {
   "cell_type": "code",
   "execution_count": null,
   "id": "315791e6",
   "metadata": {
    "scrolled": true
   },
   "outputs": [],
   "source": [
    "# # Remove edges based on attention threshold\n",
    "\n",
    "# deg_attn = {}\n",
    "# for g in list_graphs:    \n",
    "#     for edge in g.edges:\n",
    "        \n",
    "#         if nx.get_edge_attributes(g,'attn_weight')[edge] < 0.5: # threshold attn_weights             \n",
    "#             g.remove_edge(edge[0],edge[1])\n",
    "            \n",
    "#     deg_attn = dict(g.degree)\n",
    "            \n",
    "#     nx.set_node_attributes(g, deg_attn,'deg_attn')"
   ]
  },
  {
   "cell_type": "code",
   "execution_count": null,
   "id": "a2180c4e",
   "metadata": {},
   "outputs": [],
   "source": []
  },
  {
   "cell_type": "code",
   "execution_count": null,
   "id": "539464c7",
   "metadata": {},
   "outputs": [],
   "source": []
  },
  {
   "cell_type": "code",
   "execution_count": null,
   "id": "209b6a23",
   "metadata": {
    "scrolled": true
   },
   "outputs": [],
   "source": [
    "#list(dict(list_graphs[0].degree).values())"
   ]
  },
  {
   "cell_type": "code",
   "execution_count": null,
   "id": "101c8c9d",
   "metadata": {
    "scrolled": true
   },
   "outputs": [],
   "source": [
    "# all_degree = []\n",
    "# for g in list_graphs:\n",
    "#     all_degree.extend(list(dict(g.degree).values()))"
   ]
  },
  {
   "cell_type": "code",
   "execution_count": null,
   "id": "e580ddd4",
   "metadata": {},
   "outputs": [],
   "source": []
  },
  {
   "cell_type": "code",
   "execution_count": 10,
   "id": "c586951a",
   "metadata": {},
   "outputs": [],
   "source": [
    "all_avg_attn = []\n",
    "for g in list_graphs:\n",
    "    all_avg_attn.extend(list(nx.get_node_attributes(g,'average_attn').values()))"
   ]
  },
  {
   "cell_type": "code",
   "execution_count": null,
   "id": "80887637",
   "metadata": {},
   "outputs": [],
   "source": []
  },
  {
   "cell_type": "code",
   "execution_count": null,
   "id": "9508c4eb",
   "metadata": {},
   "outputs": [],
   "source": []
  }
 ],
 "metadata": {
  "kernelspec": {
   "display_name": "Python 3 (ipykernel)",
   "language": "python",
   "name": "python3"
  },
  "language_info": {
   "codemirror_mode": {
    "name": "ipython",
    "version": 3
   },
   "file_extension": ".py",
   "mimetype": "text/x-python",
   "name": "python",
   "nbconvert_exporter": "python",
   "pygments_lexer": "ipython3",
   "version": "3.8.0"
  }
 },
 "nbformat": 4,
 "nbformat_minor": 5
}
