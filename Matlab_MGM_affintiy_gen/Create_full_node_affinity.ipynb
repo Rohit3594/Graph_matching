{
 "cells": [
  {
   "cell_type": "code",
   "execution_count": 1,
   "metadata": {},
   "outputs": [],
   "source": [
    "import os\n",
    "import sys\n",
    "sys.path.append(\"/home/rohit/PhD_Work/GM_my_version/Graph_matching/\")\n",
    "from sklearn.cluster import KMeans\n",
    "import networkx as nx\n",
    "import numpy as np\n",
    "from graph_matching_tools.io.graph_dataset import GraphDataset\n",
    "from graph_matching_tools.metrics import matching\n",
    "import matplotlib.pyplot as plt\n",
    "from graph_matching_tools.algorithms.multiway.hippi import hippi_multiway_matching\n",
    "from graph_matching_tools.algorithms.kernels.gaussian import create_gaussian_node_kernel\n",
    "from graph_matching_tools.algorithms.kernels.utils import create_full_node_affinity_matrix\n",
    "from graph_matching_tools.algorithms.multiway.stiefel import sparse_stiefel_manifold_sync"
   ]
  },
  {
   "cell_type": "code",
   "execution_count": 2,
   "metadata": {},
   "outputs": [],
   "source": [
    "path_to_graph_folder = '/home/rohit/PhD_Work/GM_my_version/Graph_matching/data/simu_graph/simu_test_single_noise/'\n",
    "path_to_dummy_graphs_folder = '/home/rohit/PhD_Work/GM_my_version/Graph_matching/data/simu_graph/test_with_dummy/'"
   ]
  },
  {
   "cell_type": "code",
   "execution_count": null,
   "metadata": {},
   "outputs": [],
   "source": [
    "trials = np.sort(os.listdir(path_to_graph_folder))\n",
    "\n",
    "for trial in trials:\n",
    "    \n",
    "    if float(trial) <= 0.3:\n",
    "        \n",
    "        print('trial: ', trial)\n",
    "\n",
    "        all_files = os.listdir(path_to_graph_folder+trial)\n",
    "\n",
    "        for folder in all_files:\n",
    "\n",
    "            if os.path.isdir(path_to_graph_folder+trial+'/'+ folder):\n",
    "\n",
    "                print('Noise folder: ',folder)\n",
    "                \n",
    "#                 path_to_dummy_graphs = path_to_dummy_graphs_folder + '/' + trial + '/' + folder+'/0/graphs/'\n",
    "                path_to_graphs = path_to_graph_folder + '/' + trial + '/' + folder+'/graphs/'\n",
    "                path_to_groundtruth_ref = path_to_graph_folder + '/' + trial +'/' + folder + '/permutation_to_ref_graph.gpickle'\n",
    "                path_to_groundtruth  = path_to_graph_folder + '/' + trial + '/' + folder + '/ground_truth.gpickle'\n",
    "            \n",
    "        \n",
    "                noise = folder.split(',')[0].split('_')[1]\n",
    "                \n",
    "                if exists(path_to_graph_folder + '/' + trial + '/' + folder +'/X_HiPPi.mat'):   \n",
    "                    continue\n",
    "            \n",
    "            \n",
    "                graph_meta = GraphDataset(path_to_graphs, path_to_groundtruth_ref)\n",
    "                ground_truth =  nx.read_gpickle(path_to_groundtruth)\n",
    "\n",
    "        \n",
    "                res = get_permutation_matrix_from_dictionary(ground_truth, graph_meta.sizes)\n",
    "                \n",
    "                node_kernel = create_gaussian_node_kernel(sigma,'coord')\n",
    "                knode = create_full_node_affinity_matrix(graph_meta.list_graphs, node_kernel)\n",
    "                \n",
    "\n",
    "\n",
    "                sio.savemat(path_to_graph_folder + '/' + trial + '/' + folder + '/X_HiPPi.mat',HiPPi_X)"
   ]
  }
 ],
 "metadata": {
  "kernelspec": {
   "display_name": "Python 3",
   "language": "python",
   "name": "python3"
  },
  "language_info": {
   "codemirror_mode": {
    "name": "ipython",
    "version": 3
   },
   "file_extension": ".py",
   "mimetype": "text/x-python",
   "name": "python",
   "nbconvert_exporter": "python",
   "pygments_lexer": "ipython3",
   "version": "3.8.0"
  }
 },
 "nbformat": 4,
 "nbformat_minor": 5
}
