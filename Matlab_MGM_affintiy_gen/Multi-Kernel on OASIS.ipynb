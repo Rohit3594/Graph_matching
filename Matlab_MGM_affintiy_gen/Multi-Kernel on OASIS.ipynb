{
 "cells": [
  {
   "cell_type": "markdown",
   "id": "b93e4aec",
   "metadata": {},
   "source": [
    "## MKL Example "
   ]
  },
  {
   "cell_type": "code",
   "execution_count": 1,
   "id": "34c9f7c6",
   "metadata": {},
   "outputs": [],
   "source": [
    "import os\n",
    "from torch_geometric.datasets import TUDataset\n",
    "import os.path as osp\n",
    "from torch_geometric.loader import DenseDataLoader\n",
    "from torch_geometric.nn import DenseSAGEConv, dense_diff_pool,dense_mincut_pool\n",
    "import torch_geometric.transforms as T\n",
    "from sklearn.model_selection import KFold\n",
    "\n",
    "import sys\n",
    "sys.path.append(\"/home/rohit/PhD_Work/GM_my_version/Graph_matching/\")\n",
    "from sklearn.cluster import KMeans\n",
    "import networkx as nx\n",
    "import numpy as np\n",
    "from graph_generation.load_graphs_and_create_metadata import dataset_metadata\n",
    "from graph_matching_tools.metrics import matching\n",
    "import matplotlib.pyplot as plt\n",
    "import scipy.io as sco\n",
    "import slam.io as sio\n",
    "from scipy.special import softmax\n",
    "import pickle\n",
    "from scipy.stats import betabinom\n",
    "import seaborn as sns\n",
    "import tools.graph_processing as gp\n",
    "import tools.graph_visu as gv\n",
    "from matplotlib.pyplot import figure\n",
    "import pandas as pd\n",
    "import random\n",
    "from torch_geometric.utils.convert import from_networkx\n",
    "import torch\n",
    "from torch_geometric.datasets import TUDataset\n",
    "from torch_geometric.loader import DataLoader\n",
    "from torch.nn.functional import one_hot\n",
    "from sklearn.preprocessing import OneHotEncoder\n",
    "from torch.nn import Linear\n",
    "import torch.nn.functional as F\n",
    "from math import ceil\n",
    "import torch_geometric as pyg\n",
    "from torch_geometric.nn import GCNConv\n",
    "from torch_geometric.nn import GATConv\n",
    "from torch_geometric.nn import global_mean_pool\n",
    "from torch_geometric.nn import TopKPooling\n",
    "from torch_geometric.data import Data\n",
    "from torch_geometric.loader import DenseDataLoader\n",
    "from torch.nn.utils.rnn import pad_sequence\n",
    "from torch_geometric.utils import to_dense_batch, to_dense_adj\n",
    "from torch_geometric.nn import GCNConv, DenseGraphConv\n",
    "%matplotlib inline"
   ]
  },
  {
   "cell_type": "code",
   "execution_count": null,
   "id": "bb2e85c9",
   "metadata": {},
   "outputs": [],
   "source": []
  },
  {
   "cell_type": "code",
   "execution_count": null,
   "id": "3872a233",
   "metadata": {
    "scrolled": true
   },
   "outputs": [],
   "source": [
    "#load data\n",
    "print ('loading \\'iris\\' dataset...', end='')\n",
    "from sklearn.datasets import load_iris as load\n",
    "ds = load()\n",
    "X,Y = ds.data, ds.target\n",
    "print ('done')"
   ]
  },
  {
   "cell_type": "code",
   "execution_count": null,
   "id": "03e14a9e",
   "metadata": {},
   "outputs": [],
   "source": [
    "X"
   ]
  },
  {
   "cell_type": "code",
   "execution_count": null,
   "id": "23840134",
   "metadata": {},
   "outputs": [],
   "source": [
    "print ('preprocessing data...', end='')\n",
    "from MKLpy.preprocessing import normalization, rescale_01\n",
    "X = rescale_01(X)\t#feature scaling in [0,1]\n",
    "X = normalization(X) #||X_i||_2^2 = 1"
   ]
  },
  {
   "cell_type": "code",
   "execution_count": null,
   "id": "32857094",
   "metadata": {},
   "outputs": [],
   "source": [
    "from sklearn.model_selection import train_test_split\n",
    "Xtr,Xte,Ytr,Yte = train_test_split(X,Y, test_size=.3, random_state=42, shuffle=True)\n",
    "print ('done')"
   ]
  },
  {
   "cell_type": "code",
   "execution_count": null,
   "id": "d0dea560",
   "metadata": {},
   "outputs": [],
   "source": [
    "print ('computing Homogeneous Polynomial Kernels...', end='')\n",
    "from MKLpy.metrics import pairwise\n",
    "KLtr = [pairwise.homogeneous_polynomial_kernel(Xtr, degree=d) for d in range(11)]\n",
    "KLte = [pairwise.homogeneous_polynomial_kernel(Xte,Xtr, degree=d) for d in range(11)]\n",
    "print('done')"
   ]
  },
  {
   "cell_type": "code",
   "execution_count": null,
   "id": "68c8008c",
   "metadata": {},
   "outputs": [],
   "source": [
    "from MKLpy.algorithms import AverageMKL, EasyMKL"
   ]
  },
  {
   "cell_type": "code",
   "execution_count": null,
   "id": "ec303620",
   "metadata": {},
   "outputs": [],
   "source": [
    "print ('training EasyMKL with one-vs-all multiclass strategy...', end='')\n",
    "from sklearn.svm import SVC\n",
    "base_learner = SVC(C=0.1)\n",
    "clf = EasyMKL(lam=0.1, multiclass_strategy='ova', learner=base_learner).fit(KLtr,Ytr)\n",
    "from MKLpy.multiclass import OneVsRestMKLClassifier, OneVsOneMKLClassifier\n",
    "print ('done')\n",
    "print ('the combination weights are:')\n",
    "for sol in clf.solution:\n",
    "\tprint ('(%d vs all): ' % sol, clf.solution[sol].weights)"
   ]
  },
  {
   "cell_type": "code",
   "execution_count": null,
   "id": "18eebddd",
   "metadata": {},
   "outputs": [],
   "source": [
    "from sklearn.metrics import accuracy_score, roc_auc_score\n",
    "import numpy as np\n",
    "y_pred = clf.predict(KLte)\t\t\t\t\t#predictions\n",
    "y_score = clf.decision_function(KLte)\t\t#rank\n",
    "accuracy = accuracy_score(Yte, y_pred)\n",
    "print ('Accuracy score: %.3f' % (accuracy))"
   ]
  },
  {
   "cell_type": "markdown",
   "id": "f74fcdae",
   "metadata": {},
   "source": [
    "## SVM On OASIS Dataset"
   ]
  },
  {
   "cell_type": "code",
   "execution_count": 2,
   "id": "94794907",
   "metadata": {},
   "outputs": [],
   "source": [
    "def graph_remove_dummy_nodes(graph):\n",
    "    nodes_dummy_true = [x for x,y in graph.nodes(data=True) if y['is_dummy']==True]\n",
    "    graph.remove_nodes_from(nodes_dummy_true)\n",
    "    #print(len(graph.nodes))"
   ]
  },
  {
   "cell_type": "code",
   "execution_count": 3,
   "id": "1c733e8e",
   "metadata": {
    "scrolled": true
   },
   "outputs": [],
   "source": [
    "path_to_labelled_graphs = '/home/rohit/PhD_Work/GM_my_version/Graph_matching/data/Oasis_original_new_with_dummy/modified_graphs//'\n",
    "\n",
    "correspondence = pickle.load( open( \"graph_correspondence_new.pickle\", \"rb\" ))\n",
    "\n",
    "#Oasis_phen = pd.read_excel(\"/home/rohit/PhD_Work/GM_my_version/Graph_matching/data/OASIS_phenotype.ods\", engine=\"odf\")"
   ]
  },
  {
   "cell_type": "code",
   "execution_count": 4,
   "id": "ac86b4e9",
   "metadata": {},
   "outputs": [],
   "source": [
    "gender_corresp = pickle.load(open( \"gender_correspondence.pickle\", \"rb\" ))"
   ]
  },
  {
   "cell_type": "code",
   "execution_count": 5,
   "id": "3e13f342",
   "metadata": {},
   "outputs": [],
   "source": [
    "# Create graph level labels (here gender)\n",
    "onehot = OneHotEncoder(drop='first')\n",
    "graph_labels = onehot.fit_transform(np.array(gender_corresp)[:,2].reshape(-1,1)).toarray()\n",
    "graph_labels = np.array([a[0] for a in graph_labels]) # Convet to 1D array"
   ]
  },
  {
   "cell_type": "code",
   "execution_count": 6,
   "id": "ba419d9b",
   "metadata": {},
   "outputs": [],
   "source": [
    "list_graphs = gp.load_graphs_in_list(path_to_labelled_graphs)"
   ]
  },
  {
   "cell_type": "code",
   "execution_count": 7,
   "id": "8dcfdebf",
   "metadata": {},
   "outputs": [],
   "source": [
    "def avg_coords(graph):    \n",
    "    all_coords = list(nx.get_node_attributes(graph,'sphere_3dcoords').values())\n",
    "    return np.mean(all_coords, axis = 0)"
   ]
  },
  {
   "cell_type": "code",
   "execution_count": 8,
   "id": "a0d5e93a",
   "metadata": {},
   "outputs": [],
   "source": [
    "all_graphs_avg_coords = np.array([avg_coords(graph) for graph in list_graphs])"
   ]
  },
  {
   "cell_type": "code",
   "execution_count": null,
   "id": "bc620e95",
   "metadata": {},
   "outputs": [],
   "source": []
  },
  {
   "cell_type": "code",
   "execution_count": 40,
   "id": "655044a8",
   "metadata": {},
   "outputs": [],
   "source": [
    "# CROSS VALIDATION SKLEARN\n",
    "\n",
    "from sklearn.model_selection import cross_val_score, cross_validate\n",
    "import numpy as np\n",
    "from sklearn.pipeline import make_pipeline\n",
    "from sklearn.preprocessing import StandardScaler\n",
    "from sklearn.svm import SVC"
   ]
  },
  {
   "cell_type": "code",
   "execution_count": 41,
   "id": "d3a07cd4",
   "metadata": {},
   "outputs": [],
   "source": [
    "splits=KFold(n_splits=8,shuffle=True,random_state=42)"
   ]
  },
  {
   "cell_type": "code",
   "execution_count": 56,
   "id": "d5559358",
   "metadata": {},
   "outputs": [],
   "source": [
    "clf_svm = SVC(gamma='auto',kernel='linear')\n",
    "scores = cross_val_score(clf_svm, all_graphs_avg_coords, graph_labels, cv=splits.split(np.arange(len(list_graphs))))"
   ]
  },
  {
   "cell_type": "code",
   "execution_count": 57,
   "id": "d2949cb9",
   "metadata": {},
   "outputs": [
    {
     "data": {
      "text/plain": [
       "array([0.77777778, 0.52941176, 0.58823529, 0.35294118, 0.52941176,\n",
       "       0.35294118, 0.47058824, 0.64705882])"
      ]
     },
     "execution_count": 57,
     "metadata": {},
     "output_type": "execute_result"
    }
   ],
   "source": [
    "scores"
   ]
  },
  {
   "cell_type": "code",
   "execution_count": 58,
   "id": "c82e448f",
   "metadata": {},
   "outputs": [
    {
     "data": {
      "image/png": "[encoded data removed]",
      "text/plain": [
       "<Figure size 1100x600 with 1 Axes>"
      ]
     },
     "metadata": {},
     "output_type": "display_data"
    }
   ],
   "source": [
    "sns.set(rc={'figure.figsize':(11,6)})\n",
    "\n",
    "kfold = np.arange(0,8,1)\n",
    "\n",
    "plt.plot(kfold,scores,'--o',markersize = 10,label = 'Test best_accuracy')\n",
    "\n",
    "plt.legend(loc = 'lower right', prop={'size': 10})\n",
    "plt.xlabel('Folds',fontweight=\"bold\",fontsize=20)\n",
    "plt.ylabel('Accuracy',fontweight=\"bold\",fontsize=20)\n",
    "\n",
    "plt.xticks(fontsize=10)\n",
    "plt.yticks(np.arange(0,1.1,0.1),fontsize=10)\n",
    "\n",
    "plt.show()"
   ]
  },
  {
   "cell_type": "code",
   "execution_count": null,
   "id": "17d04b30",
   "metadata": {},
   "outputs": [],
   "source": []
  },
  {
   "cell_type": "code",
   "execution_count": null,
   "id": "6d133f90",
   "metadata": {},
   "outputs": [],
   "source": []
  }
 ],
 "metadata": {
  "kernelspec": {
   "display_name": "Python 3 (ipykernel)",
   "language": "python",
   "name": "python3"
  },
  "language_info": {
   "codemirror_mode": {
    "name": "ipython",
    "version": 3
   },
   "file_extension": ".py",
   "mimetype": "text/x-python",
   "name": "python",
   "nbconvert_exporter": "python",
   "pygments_lexer": "ipython3",
   "version": "3.8.0"
  }
 },
 "nbformat": 4,
 "nbformat_minor": 5
}
