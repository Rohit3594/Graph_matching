{
 "cells": [
  {
   "cell_type": "code",
   "execution_count": 23,
   "metadata": {},
   "outputs": [],
   "source": [
    "import networkx as nx\n",
    "import numpy as np\n",
    "import os\n",
    "import pickle"
   ]
  },
  {
   "cell_type": "code",
   "execution_count": 24,
   "metadata": {},
   "outputs": [],
   "source": [
    "#path_old_batch = './OASIS_full_batch/modified_graphs/'\n",
    "path_new_batch = '../data/OASIS_graphs_both_hemi/OASIS_left/'\n",
    "path_to_save = '../data/Oasis_original_new_with_dummy_LH/'"
   ]
  },
  {
   "cell_type": "code",
   "execution_count": 25,
   "metadata": {},
   "outputs": [],
   "source": [
    "#old_graphs = [nx.read_gpickle(path_old_batch + graph) for graph in os.listdir(path_old_batch)]\n",
    "new_graphs = [nx.read_gpickle(path_new_batch + graph) for graph in os.listdir(path_new_batch)]\n",
    "new_graph_sizes = [nx.number_of_nodes(g) for g in new_graphs]"
   ]
  },
  {
   "cell_type": "code",
   "execution_count": 26,
   "metadata": {},
   "outputs": [],
   "source": [
    "# old_graphs[0].nodes.data()"
   ]
  },
  {
   "cell_type": "code",
   "execution_count": 27,
   "metadata": {},
   "outputs": [],
   "source": [
    "def get_geodesic_distance_sphere(coord_a, coord_b, radius):\n",
    "    ''' \n",
    "    Return the geodesic distance of two 3D vectors on a sphere\n",
    "    '''\n",
    "    return radius * np.arccos(np.clip(np.dot(coord_a, coord_b) / np.power(radius,2),-1,1))"
   ]
  },
  {
   "cell_type": "code",
   "execution_count": 28,
   "metadata": {},
   "outputs": [],
   "source": [
    "def add_geodesic_distance_on_edges(graph):\n",
    "    \"\"\"\n",
    "    Compute the geodesic distance represented by each edge\n",
    "    and add it as attribute in the graph\n",
    "    \"\"\"\n",
    "\n",
    "    # initialise the dict for atttributes on edges\n",
    "    edges_attributes = {}\n",
    "\n",
    "    # Fill the dictionnary with the geodesic_distance\n",
    "    for edge in graph.edges:\n",
    "        geodesic_distance = get_geodesic_distance_sphere(graph.nodes[edge[0]][\"sphere_3dcoords\"],\n",
    "                                                         graph.nodes[edge[1]][\"sphere_3dcoords\"],\n",
    "                                                         radius=100)\n",
    "\n",
    "        edges_attributes[edge] = {\"geodesic_distance\": geodesic_distance}\n",
    "\n",
    "    nx.set_edge_attributes(graph, edges_attributes)"
   ]
  },
  {
   "cell_type": "code",
   "execution_count": 29,
   "metadata": {},
   "outputs": [],
   "source": [
    "def add_id_on_edges(graph):\n",
    "    \"\"\"\n",
    "    Add an Id information on edge (integer)\n",
    "    \"\"\"\n",
    "\n",
    "    # initialise the dict for atttributes on edges\n",
    "    edges_attributes = {}\n",
    "\n",
    "    # Fill the dictionnary with the geodesic_distance\n",
    "    for i, edge in enumerate(graph.edges):\n",
    "        edges_attributes[edge] = {\"id\": i}\n",
    "\n",
    "    nx.set_edge_attributes(graph, edges_attributes)\n",
    "    "
   ]
  },
  {
   "cell_type": "code",
   "execution_count": 30,
   "metadata": {},
   "outputs": [],
   "source": [
    "def transform_3d_coordinates_into_ndarray(graph):\n",
    "    \"\"\"\n",
    "    Transform the node attribute sphere_3dcoord from a list to a ndarray\n",
    "    \"\"\"\n",
    "    # initialise the dict for atttributes on edges\n",
    "    nodes_attributes = {}\n",
    "\n",
    "    # Fill the dictionnary with the nd_array attribute\n",
    "    for node in graph.nodes:\n",
    "        nodes_attributes[node] = {\"sphere_3dcoords\": np.array(graph.nodes[node][\"sphere_3dcoords\"])}\n",
    "\n",
    "    nx.set_node_attributes(graph, nodes_attributes)"
   ]
  },
  {
   "cell_type": "code",
   "execution_count": 31,
   "metadata": {},
   "outputs": [],
   "source": [
    "def dummy_for_visu(g,max_size):\n",
    "    len_g = len(g.nodes)\n",
    "    num_nodes_add = max_size - len_g\n",
    "    \n",
    "    \n",
    "    dummy_dict = {}\n",
    "    for i in range(nx.number_of_nodes(g)):\n",
    "        dummy_dict[i] = {'is_dummy':False}\n",
    "        \n",
    "    nx.set_node_attributes(g,dummy_dict)    \n",
    "        \n",
    "    if num_nodes_add > 0.:\n",
    "        for i in range(num_nodes_add):\n",
    "            g.add_node(len_g+i,is_dummy = True)"
   ]
  },
  {
   "cell_type": "code",
   "execution_count": 32,
   "metadata": {},
   "outputs": [],
   "source": [
    "all_graphs_name = os.listdir(path_new_batch)"
   ]
  },
  {
   "cell_type": "code",
   "execution_count": 33,
   "metadata": {},
   "outputs": [],
   "source": [
    "# Process graphs\n",
    "\n",
    "corresp_lh =  pickle.load(open('graph_correspondence_new.pickle','rb')) \n",
    "\n",
    "corresp_both = []\n",
    "\n",
    "# Transform the 3d attributes into ndarray\n",
    "for graph in new_graphs:\n",
    "    transform_3d_coordinates_into_ndarray(graph)\n",
    "\n",
    "# Calculate the geodesic distance for each node and add the id information\n",
    "for i,graph_name in enumerate(all_graphs_name):\n",
    "    \n",
    "    graph = nx.read_gpickle(path_new_batch + graph_name)    \n",
    "    add_geodesic_distance_on_edges(graph)\n",
    "    add_id_on_edges(graph)\n",
    "    \n",
    "    max_size = max(new_graph_sizes)\n",
    "    dummy_for_visu(graph,max_size)\n",
    "    \n",
    "    for g,cor in corresp_lh:\n",
    "        if graph_name.split('_lh')[0] == g.split('_lh')[0]:\n",
    "            corresp_both.append((g,graph_name,cor))\n",
    "            \n",
    "            nx.write_gpickle(graph, os.path.join(path_to_save, \"modified_graphs\", cor + \".gpickle\"))\n",
    "\n",
    "            \n",
    "#pickle.dump(corresp_both,open('corresp_both_hemi.pickle','wb'))\n",
    "\n",
    "\n",
    "# for i,graph in enumerate(new_graphs):\n",
    "    \n",
    "#     graph_num = int(all_graphs_name[i].split('_')[1].split('.')[0])\n",
    "    \n",
    "#     max_size = max(new_graph_sizes)\n",
    "#     dummy_for_visu(graph,max_size)\n",
    "\n",
    "#     nx.write_gpickle(graph, os.path.join(path_to_save, \"modified_graphs\",\"graph_{:05d}\".format(graph_num) + \".gpickle\"))\n",
    "                   \n",
    "    "
   ]
  },
  {
   "cell_type": "code",
   "execution_count": null,
   "metadata": {},
   "outputs": [],
   "source": []
  },
  {
   "cell_type": "code",
   "execution_count": null,
   "metadata": {},
   "outputs": [],
   "source": [
    "lh_corresp[5][0].split('_lh')[0]"
   ]
  },
  {
   "cell_type": "code",
   "execution_count": null,
   "metadata": {},
   "outputs": [],
   "source": [
    "all_graphs_name[0].split('_rh')[0]"
   ]
  },
  {
   "cell_type": "code",
   "execution_count": null,
   "metadata": {},
   "outputs": [],
   "source": []
  },
  {
   "cell_type": "code",
   "execution_count": null,
   "metadata": {},
   "outputs": [],
   "source": []
  }
 ],
 "metadata": {
  "kernelspec": {
   "display_name": "Python 3 (ipykernel)",
   "language": "python",
   "name": "python3"
  },
  "language_info": {
   "codemirror_mode": {
    "name": "ipython",
    "version": 3
   },
   "file_extension": ".py",
   "mimetype": "text/x-python",
   "name": "python",
   "nbconvert_exporter": "python",
   "pygments_lexer": "ipython3",
   "version": "3.8.0"
  }
 },
 "nbformat": 4,
 "nbformat_minor": 4
}
