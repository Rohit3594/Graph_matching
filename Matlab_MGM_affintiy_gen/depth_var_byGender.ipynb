{
 "cells": [
  {
   "cell_type": "code",
   "execution_count": 1,
   "metadata": {},
   "outputs": [],
   "source": [
    "import os\n",
    "import sys\n",
    "sys.path.append(\"/home/rohit/PhD_Work/GM_my_version/Graph_matching/\")\n",
    "from sklearn.cluster import KMeans\n",
    "import networkx as nx\n",
    "import numpy as np\n",
    "from graph_generation.load_graphs_and_create_metadata import dataset_metadata\n",
    "from graph_matching_tools.metrics import matching\n",
    "import matplotlib.pyplot as plt\n",
    "import scipy.io as sio\n",
    "import tools.graph_processing as gp\n",
    "import scipy.stats as stats\n",
    "import math"
   ]
  },
  {
   "cell_type": "code",
   "execution_count": 2,
   "metadata": {},
   "outputs": [],
   "source": [
    "path_to_labelled_graphs = '../data/Oasis_original_new_with_dummy/labelled_graphs'\n",
    "path_ro_correspondence = 'gender_correspondence.pickle'"
   ]
  },
  {
   "cell_type": "code",
   "execution_count": 3,
   "metadata": {},
   "outputs": [],
   "source": [
    "def create_clusters_lists_with_label_gender(list_graphs,gender_corresp,label_attribute=\"label_dbscan\"):\n",
    "\n",
    "    result_dict = {}\n",
    "    label_depths = {}\n",
    "    label_gender = {}\n",
    "\n",
    "    for i_graph, graph in enumerate(list_graphs):\n",
    "        for node in graph.nodes:\n",
    "            if not graph.nodes[node][\"is_dummy\"]:\n",
    "                label_cluster = graph.nodes[node][label_attribute]\n",
    "                \n",
    "                if label_cluster in result_dict:\n",
    "                    \n",
    "                    #retrieve depth of the corresponding label in that graph\n",
    "                    depth_value = graph.nodes[node]['depth']\n",
    "                    \n",
    "                    result_dict[label_cluster].append((i_graph, node))\n",
    "                    label_depths[label_cluster].append(depth_value)\n",
    "                    label_gender[label_cluster].append(gender_corresp[i_graph])\n",
    "                    \n",
    "                else:\n",
    "                    #retrieve depth of the corresponding label in that graph\n",
    "                    depth_value = graph.nodes[node]['depth']\n",
    "                    \n",
    "                    result_dict[label_cluster] = [(i_graph, node)]\n",
    "                    label_depths[label_cluster] = [depth_value]\n",
    "                    label_gender[label_cluster] = [gender_corresp[i_graph]]\n",
    "\n",
    "\n",
    "    return result_dict,label_depths,label_gender"
   ]
  },
  {
   "cell_type": "code",
   "execution_count": 4,
   "metadata": {},
   "outputs": [],
   "source": [
    "labeled_graphs = gp.load_graphs_in_list(path_to_labelled_graphs)\n",
    "gender_corresp = np.array(nx.read_gpickle(path_ro_correspondence))[:,2]# gender correp list"
   ]
  },
  {
   "cell_type": "code",
   "execution_count": 5,
   "metadata": {},
   "outputs": [],
   "source": [
    "def seperate_groups_by_label(label_gender,label_depths):\n",
    "    \n",
    "    # Separate groups by label\n",
    "    \n",
    "    label_gen_sep = []\n",
    "    for key in label_gender.keys():\n",
    "        M = []\n",
    "        F = []\n",
    "        for i in range(len(label_gender[key])):\n",
    "\n",
    "            if label_gender[key][i] == 'F':\n",
    "\n",
    "                F.append(label_depths[key][i])\n",
    "            else:\n",
    "                M.append(label_depths[key][i])\n",
    "                \n",
    "         # 1st list M, 2nd F\n",
    "        \n",
    "        label_gen_sep.append([M,F])\n",
    "        \n",
    "    return label_gen_sep\n",
    "    "
   ]
  },
  {
   "cell_type": "code",
   "execution_count": 17,
   "metadata": {},
   "outputs": [],
   "source": [
    "def calculate_tstats_and_pvalues(corresp ,method = 'labelling_mALS'):\n",
    "    \n",
    "    # get labeled groups and depths    \n",
    "    result_dict,label_depths,label_gender = create_clusters_lists_with_label_gender(labeled_graphs,corresp,method)\n",
    "    \n",
    "    # depth seperated by groups\n",
    "    label_gen_sep = seperate_groups_by_label(label_gender,label_depths)\n",
    "    \n",
    "    t_stats = {}\n",
    "\n",
    "    for key,lst in zip(label_gender.keys(),label_gen_sep):\n",
    "\n",
    "        res = stats.ttest_ind(a=lst[0], b=lst[1], equal_var=True)\n",
    "\n",
    "        t_stats[key] = [res[0],res[1]]\n",
    "        \n",
    "    return t_stats,label_gen_sep"
   ]
  },
  {
   "cell_type": "code",
   "execution_count": 18,
   "metadata": {
    "scrolled": true
   },
   "outputs": [],
   "source": [
    "# calculate_tstats_and_pvalues(gender_corresp, 'labelling_mSync')"
   ]
  },
  {
   "cell_type": "code",
   "execution_count": 19,
   "metadata": {
    "scrolled": true
   },
   "outputs": [],
   "source": [
    "# calculate_tstats_and_pvalues(gender_corresp, 'labelling_MatchEig')"
   ]
  },
  {
   "cell_type": "code",
   "execution_count": 20,
   "metadata": {
    "scrolled": true
   },
   "outputs": [],
   "source": [
    "t_stats,label_gen_sep = calculate_tstats_and_pvalues(gender_corresp, 'labelling_mALS')"
   ]
  },
  {
   "cell_type": "code",
   "execution_count": 9,
   "metadata": {},
   "outputs": [],
   "source": [
    "# result_dict,label_depths,label_gender = create_clusters_lists_with_label_gender(labeled_graphs,gender_corresp,'labelling_mALS')"
   ]
  },
  {
   "cell_type": "code",
   "execution_count": null,
   "metadata": {},
   "outputs": [],
   "source": []
  },
  {
   "cell_type": "code",
   "execution_count": 107,
   "metadata": {},
   "outputs": [
    {
     "data": {
      "text/plain": [
       "Text(0.5, 0, 'Blue Male / Orange Female (t-value:1.4427523855949944)')"
      ]
     },
     "execution_count": 107,
     "metadata": {},
     "output_type": "execute_result"
    },
    {
     "data": {
      "image/png": "[encoded data removed]",
      "text/plain": [
       "<Figure size 700x700 with 1 Axes>"
      ]
     },
     "metadata": {},
     "output_type": "display_data"
    }
   ],
   "source": [
    "fig = plt.figure(figsize=(7, 7))\n",
    "\n",
    "label = 41\n",
    "\n",
    "Males = label_gen_sep[label][0] \n",
    "Females = label_gen_sep[label][1]\n",
    "\n",
    "x0 = np.zeros(len(Males))\n",
    "x1 = np.ones(len(Females))\n",
    "\n",
    "t_stat_values =  list(t_stats.values())\n",
    "\n",
    "plt.scatter(x0,Males) # M\n",
    "plt.scatter(x1, Females)  # F\n",
    "plt.xticks(np.arange(-2, 4, 1.0))\n",
    "\n",
    "plt.ylabel('depth')\n",
    "plt.xlabel('Blue Male / Orange Female (t-value:'+ str(t_stat_values[label][0])+ ')')"
   ]
  },
  {
   "cell_type": "code",
   "execution_count": null,
   "metadata": {},
   "outputs": [],
   "source": []
  },
  {
   "cell_type": "code",
   "execution_count": 87,
   "metadata": {
    "scrolled": true
   },
   "outputs": [
    {
     "data": {
      "text/plain": [
       "{0.6726961301647116: [-0.9393205500309549, 0.35281295936829393],\n",
       " 0.3119287115852154: [-1.44107245676289, 0.15378245368357538],\n",
       " -0.1: [-1.7981280518084264, 0.07224421166239267],\n",
       " 0.8893209701421761: [-1.7039740411943542, 0.09236691937837412],\n",
       " 0.055688767098739926: [0.558259915184414, 0.5776345606562069],\n",
       " 0.6164804022678066: [0.6588713130945588, 0.5113187568232636],\n",
       " 0.5614567581322376: [-0.7126778979108633, 0.47758203659844667],\n",
       " 0.7943269487351451: [0.9360865602275951, 0.3515533307185369],\n",
       " 0.48756164187770873: [-1.1160933933987816, 0.267682220926069],\n",
       " 0.8123777065116572: [-0.5689294812347238, 0.5704087589139389],\n",
       " 0.676948807071108: [1.2390929376625963, 0.21969951429831175],\n",
       " 0.879479847512742: [0.5872884821216837, 0.5580693016068246],\n",
       " 0.5376379964782969: [-1.363298686457699, 0.17509175858469317],\n",
       " 0.28967332925889594: [0.3514605529101189, 0.7258118561264489],\n",
       " 0.956799027313698: [1.117657239640099, 0.26594602871587897],\n",
       " 0.5231860053967116: [0.8506075203708285, 0.39652773410851416],\n",
       " 0.4138627359340204: [-3.4209722028572638, 0.0008578832580812442],\n",
       " 0.10724284164059948: [-0.15064707445348607, 0.8804912698298482],\n",
       " 0.14089778101056666: [0.8426342302404436, 0.40109555814258224],\n",
       " 0.47202666338410043: [-0.5408658165055626, 0.5898149793873817],\n",
       " 0.4268140228599365: [0.4764223706432692, 0.6345494298668011],\n",
       " 0.14530038512270013: [-0.8649253936837119, 0.38886489841009775],\n",
       " 0.934420173068373: [-2.237706212809277, 0.026955705000585698],\n",
       " 0.34624582944718796: [-1.5207124790772701, 0.13204338145561748],\n",
       " 0.7463879013047687: [-0.5715769895121975, 0.568559008235334],\n",
       " 0.08808419206999264: [-0.8693893692457094, 0.3867161416306918],\n",
       " 0.1394140629535513: [0.9135481448605092, 0.3625829925255243],\n",
       " 0.9902420032915399: [-0.677331204394186, 0.49961790526416094],\n",
       " 0.534174322248884: [-0.17209986769551733, 0.8636186635715113],\n",
       " 0.9071235831731352: [0.4887350680885593, 0.6258341940586436],\n",
       " 0.24494498841631557: [0.1773035895159457, 0.8595376576119705],\n",
       " 0.7657930259099077: [-0.09555492612977758, 0.9240200827459],\n",
       " 0.5368599111426033: [-1.7157938069931047, 0.08912123758161476],\n",
       " 0.4460225454143416: [-0.6604492712335506, 0.5102863292115492],\n",
       " 0.3019544616116996: [0.15842599848031863, 0.8743596356322632],\n",
       " 0.2290953849906645: [-1.0181612556822652, 0.3105219301913359],\n",
       " 0.7861212181430697: [-1.3304266584417608, 0.1857248697481743],\n",
       " 0.27715177457401047: [0.009730482273624433, 0.9922614876928474],\n",
       " 0.06349959819046481: [0.5782955483788123, 0.564042523391479],\n",
       " 0.955910484172013: [-0.36945225194425513, 0.7128457823581397],\n",
       " 0.0: [0.25706685308735744, 0.7976831155947882],\n",
       " 0.6093380977809489: [1.4427523855949944, 0.15342668499434867],\n",
       " 0.35503221519170775: [-1.2654761428854924, 0.20825865391701887],\n",
       " 0.7730051500052968: [0.3017018531715805, 0.7634489937209173],\n",
       " 0.5623443251351721: [0.14421381716217382, 0.8855466930602426],\n",
       " 1.0: [0.9380347506715997, 0.3516991023653454],\n",
       " 0.22561907233321718: [0.3885795552518751, 0.6986194263568022],\n",
       " 0.4904633684411054: [-0.31488550121114256, 0.753467596751063],\n",
       " 0.608295042150185: [-0.6396696793413041, 0.5235770057598366],\n",
       " 0.764854879506974: [-2.597145893385105, 0.0104918892290172],\n",
       " 0.9702167223254132: [-0.11008925912869588, 0.9125487260535279],\n",
       " 0.08118982682579304: [-1.1326470798632167, 0.2594797184943735],\n",
       " 0.9344016778078349: [0.024187732677654693, 0.9807402386920177],\n",
       " 0.39066571686653706: [-0.9843111703008861, 0.3278579716109279],\n",
       " 0.8167641658026126: [0.23824121208780555, 0.8120552505152989],\n",
       " 0.707629310384688: [-1.8097826362879745, 0.07289653617498146],\n",
       " 0.5425592128334914: [1.3850100408072394, 0.16895742014095366],\n",
       " 0.5535483773851051: [-1.7994815772188804, 0.07562099710828768],\n",
       " 0.8382450751488123: [-0.4666900391421297, 0.6415212497425875],\n",
       " 0.7081975515768597: [-3.2502361003688733, 0.0014558185271762137],\n",
       " 0.8305795602916209: [-1.2813991361826367, 0.2060844400702873],\n",
       " 0.3857945500991911: [-0.4135576195272325, 0.6802777087689099],\n",
       " 0.8680123749733232: [-1.4796565116618785, 0.14134759827142848],\n",
       " 0.5301811569669129: [1.3093487780596251, 0.19549252023482588],\n",
       " 0.17641746649249612: [0.09834809816679684, 0.9218109421773139],\n",
       " 0.5749843329730525: [-1.005776576708563, 0.3167105653596694],\n",
       " 0.15377990979039424: [0.06468552568501995, 0.9485417957409501],\n",
       " 0.6147761153849434: [-3.2709618070341793, 0.001695259295721479],\n",
       " 0.6793413231488838: [-0.18559740773731215, 0.8532896920269595],\n",
       " 0.44038949271918654: [0.3611922990239316, 0.7188116899006116],\n",
       " 0.9124754436884563: [-2.1362204252710204, 0.03520460165142886],\n",
       " 0.33796376576810866: [-0.27045140193697487, 0.7873107468630366],\n",
       " 0.7351996815116135: [-1.8500107942368844, 0.0669016616416496],\n",
       " 0.05871240825451698: [-1.2972400208305177, 0.197504009839514],\n",
       " 0.6731787537133088: [0.647521862155763, 0.518808269611714],\n",
       " 0.9275145565406794: [-0.9981306342409364, 0.3205107096723956],\n",
       " 0.789121765911036: [-0.40137432450363925, 0.6889525681292379],\n",
       " 0.0018084511626994162: [-0.1389270328694398, 0.8897844426601952],\n",
       " 0.3721867135339994: [-0.25397389932342007, 0.8000886949431887],\n",
       " 0.29875172147206247: [-0.12559736674134628, 0.9005979765359111],\n",
       " 0.0010185494105509091: [-2.0149263714962578, 0.05084322491505223],\n",
       " 0.24084452493536163: [0.1210947917433134, 0.9070186992571558],\n",
       " 0.8591421507706923: [nan, nan]}"
      ]
     },
     "execution_count": 87,
     "metadata": {},
     "output_type": "execute_result"
    }
   ],
   "source": [
    "t_stats"
   ]
  },
  {
   "cell_type": "code",
   "execution_count": 15,
   "metadata": {},
   "outputs": [],
   "source": [
    "# def drop_nan(t_stat_dict):\n",
    "    \n",
    "#     drop_k = []\n",
    "#     for k in t_stat_dict.keys():\n",
    "#         if math.isnan(t_stat_dict[k][0]):\n",
    "#             drop_k.append(k)\n",
    "\n",
    "#     for k in drop_k:\n",
    "#         t_stat_dict.pop(k)\n",
    "    \n",
    "#     return np.array(list(t_stat_dict.values()))"
   ]
  },
  {
   "cell_type": "code",
   "execution_count": null,
   "metadata": {},
   "outputs": [],
   "source": []
  },
  {
   "cell_type": "code",
   "execution_count": null,
   "metadata": {},
   "outputs": [],
   "source": []
  },
  {
   "cell_type": "code",
   "execution_count": null,
   "metadata": {},
   "outputs": [],
   "source": []
  }
 ],
 "metadata": {
  "kernelspec": {
   "display_name": "Python 3 (ipykernel)",
   "language": "python",
   "name": "python3"
  },
  "language_info": {
   "codemirror_mode": {
    "name": "ipython",
    "version": 3
   },
   "file_extension": ".py",
   "mimetype": "text/x-python",
   "name": "python",
   "nbconvert_exporter": "python",
   "pygments_lexer": "ipython3",
   "version": "3.8.0"
  }
 },
 "nbformat": 4,
 "nbformat_minor": 4
}
