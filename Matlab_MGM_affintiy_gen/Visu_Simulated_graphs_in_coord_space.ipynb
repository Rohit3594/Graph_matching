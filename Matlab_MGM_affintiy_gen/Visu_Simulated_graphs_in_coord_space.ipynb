{
 "cells": [
  {
   "cell_type": "code",
   "execution_count": 22,
   "id": "6edd8a84",
   "metadata": {},
   "outputs": [],
   "source": [
    "import os\n",
    "import sys\n",
    "sys.path.append(\"/home/rohit/PhD_Work/GM_my_version/Graph_matching/\")\n",
    "from sklearn.datasets import load_iris\n",
    "from sklearn.linear_model import LogisticRegression\n",
    "from sklearn.ensemble import RandomForestClassifier\n",
    "from sklearn.svm import SVC\n",
    "from sklearn.model_selection import train_test_split\n",
    "from sklearn.manifold import TSNE\n",
    "import pandas as pd\n",
    "import numpy as np\n",
    "import matplotlib.pyplot as plt\n",
    "import scipy.io as sco\n",
    "import pickle\n",
    "import seaborn as sns\n",
    "import tools.graph_processing as gp\n",
    "import tools.graph_visu as gv\n",
    "from matplotlib.pyplot import figure"
   ]
  },
  {
   "cell_type": "code",
   "execution_count": 3,
   "id": "2a998d82",
   "metadata": {},
   "outputs": [],
   "source": [
    "n_components = 2\n",
    "tsne = TSNE(n_components)"
   ]
  },
  {
   "cell_type": "code",
   "execution_count": 5,
   "id": "ac8e2840",
   "metadata": {},
   "outputs": [],
   "source": [
    "path_trials = '..//data/simu_graph/simu_genders/'\n",
    "path_sub_dir = '/noise_50,outliers_varied/graphs/'\n",
    "all_trials = np.sort(list(map(int,os.listdir(path_trials)))) # all trials"
   ]
  },
  {
   "cell_type": "code",
   "execution_count": null,
   "id": "a2e2b735",
   "metadata": {},
   "outputs": [],
   "source": []
  },
  {
   "cell_type": "code",
   "execution_count": null,
   "id": "ec2ef2ae",
   "metadata": {},
   "outputs": [],
   "source": [
    "for trial in all_trials:\n",
    "    main_fo"
   ]
  },
  {
   "cell_type": "code",
   "execution_count": null,
   "id": "6ea76f0a",
   "metadata": {},
   "outputs": [],
   "source": [
    "real_emb = []\n",
    "  \n",
    "all_graph = DataLoader(sulcal_eval_set, batch_size= len(sulcal_eval_set), shuffle=False)\n",
    "\n",
    "for data in all_graph:\n",
    "    prob,g_emb,out_emb,attn_weights = model(data.x, data.edge_index, data.batch)\n",
    "    \n",
    "out_emb = out_emb.detach().numpy()\n",
    "g_emb = g_emb.detach().numpy()"
   ]
  },
  {
   "cell_type": "code",
   "execution_count": null,
   "id": "e17ae45a",
   "metadata": {},
   "outputs": [],
   "source": [
    "avg_feature_coords = []\n",
    "\n",
    "for d in sulcal_eval_set:\n",
    "    avg_feature_coords.append(np.mean(d.x.detach().numpy(),axis=0))\n",
    "    \n",
    "avg_feature_coords = np.array(avg_feature_coords)"
   ]
  }
 ],
 "metadata": {
  "kernelspec": {
   "display_name": "Python 3 (ipykernel)",
   "language": "python",
   "name": "python3"
  },
  "language_info": {
   "codemirror_mode": {
    "name": "ipython",
    "version": 3
   },
   "file_extension": ".py",
   "mimetype": "text/x-python",
   "name": "python",
   "nbconvert_exporter": "python",
   "pygments_lexer": "ipython3",
   "version": "3.8.0"
  }
 },
 "nbformat": 4,
 "nbformat_minor": 5
}
