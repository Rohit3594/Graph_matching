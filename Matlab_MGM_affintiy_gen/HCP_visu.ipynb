{
 "cells": [
  {
   "cell_type": "code",
   "execution_count": 1,
   "id": "5c5ecdda",
   "metadata": {},
   "outputs": [],
   "source": [
    "import os\n",
    "import sys\n",
    "sys.path.append(\"/home/rohit/PhD_Work/GM_my_version/Graph_matching/\")\n",
    "from sklearn.datasets import load_iris\n",
    "from sklearn.linear_model import LogisticRegression\n",
    "from sklearn.ensemble import RandomForestClassifier\n",
    "from sklearn.svm import SVC\n",
    "from sklearn.model_selection import train_test_split\n",
    "from sklearn.manifold import TSNE\n",
    "import pandas as pd\n",
    "import numpy as np\n",
    "import matplotlib.pyplot as plt\n",
    "import scipy.io as sco\n",
    "import pickle\n",
    "import seaborn as sns\n",
    "import tools.graph_processing as gp\n",
    "import tools.graph_visu as gv\n",
    "from matplotlib.pyplot import figure"
   ]
  },
  {
   "cell_type": "code",
   "execution_count": 2,
   "id": "681afdd0",
   "metadata": {},
   "outputs": [],
   "source": [
    "path_hcp = '../data/HCP/modified_graphs_left/'"
   ]
  },
  {
   "cell_type": "code",
   "execution_count": 3,
   "id": "39c565de",
   "metadata": {},
   "outputs": [],
   "source": [
    "list_graphs = gp.load_graphs_in_list(path_hcp)"
   ]
  },
  {
   "cell_type": "code",
   "execution_count": 4,
   "id": "e8b34509",
   "metadata": {},
   "outputs": [
    {
     "data": {
      "text/plain": [
       "{'vertex_index': 5027,\n",
       " 'sphere_3dcoords': array([ 66.21050262, -74.74449921,  -5.42493296]),\n",
       " 'sphere_coords': [-0.8458685278892517, 1.6250723600387573],\n",
       " 'basin_label': 272,\n",
       " 'basin_vertex_number': 1300,\n",
       " 'Glasser2016_vertex_index': 24890,\n",
       " 'pit_thickness': 1.8726999,\n",
       " 'pit_depth': 1.1470816,\n",
       " 'basin_area': 753.59045,\n",
       " 'basin_mean_depth': -0.38771808,\n",
       " 'basin_var_depth': 0.4445661,\n",
       " 'basin_mean_thickness': 2.1457834,\n",
       " 'basin_int_curvature': 365.2331,\n",
       " 'is_dummy': False}"
      ]
     },
     "execution_count": 4,
     "metadata": {},
     "output_type": "execute_result"
    }
   ],
   "source": [
    "list_graphs[0].nodes.data()[0]"
   ]
  },
  {
   "cell_type": "code",
   "execution_count": 41,
   "id": "8bb6a7b1",
   "metadata": {},
   "outputs": [
    {
     "data": {
      "text/plain": [
       "[272, 121, 7, 117, 295, 239, 33, 35, 346, 87]"
      ]
     },
     "execution_count": 41,
     "metadata": {},
     "output_type": "execute_result"
    }
   ],
   "source": [
    "list(nx.get_node_attributes(list_graphs[0],'basin_label').values())[:10]"
   ]
  },
  {
   "cell_type": "code",
   "execution_count": 42,
   "id": "538d8be7",
   "metadata": {},
   "outputs": [
    {
     "data": {
      "text/plain": [
       "[272, 121, 7, 117, 295, 239, 33, 35, 346, 87]"
      ]
     },
     "execution_count": 42,
     "metadata": {},
     "output_type": "execute_result"
    }
   ],
   "source": [
    "list(nx.get_node_attributes(list_graphs[0],'basin_area').values())[:10]"
   ]
  },
  {
   "cell_type": "code",
   "execution_count": null,
   "id": "96d04b15",
   "metadata": {},
   "outputs": [],
   "source": []
  },
  {
   "cell_type": "code",
   "execution_count": 48,
   "id": "e9989acd",
   "metadata": {},
   "outputs": [],
   "source": [
    "path_oasis = '../data/Oasis_original_new_with_dummy_LH/modified_graphs/'"
   ]
  },
  {
   "cell_type": "code",
   "execution_count": 52,
   "id": "3e220211",
   "metadata": {},
   "outputs": [],
   "source": [
    "list_graphs_oasis = gp.load_graphs_in_list(path_oasis)"
   ]
  },
  {
   "cell_type": "code",
   "execution_count": 55,
   "id": "22947b5c",
   "metadata": {},
   "outputs": [
    {
     "data": {
      "text/plain": [
       "[307.0, 398.0, 385.0, 291.0, 233.0]"
      ]
     },
     "execution_count": 55,
     "metadata": {},
     "output_type": "execute_result"
    }
   ],
   "source": [
    "list(nx.get_node_attributes(list_graphs_oasis[0],'basin_label').values())[:5]"
   ]
  },
  {
   "cell_type": "code",
   "execution_count": 56,
   "id": "ab1e2bfd",
   "metadata": {},
   "outputs": [
    {
     "data": {
      "text/plain": [
       "[447.01047, 52.090145, 70.82912, 103.30072, 987.5092]"
      ]
     },
     "execution_count": 56,
     "metadata": {},
     "output_type": "execute_result"
    }
   ],
   "source": [
    "list(nx.get_node_attributes(list_graphs_oasis[0],'basin_area').values())[:5]"
   ]
  },
  {
   "cell_type": "code",
   "execution_count": null,
   "id": "d79f2f25",
   "metadata": {},
   "outputs": [],
   "source": []
  }
 ],
 "metadata": {
  "kernelspec": {
   "display_name": "Python 3 (ipykernel)",
   "language": "python",
   "name": "python3"
  },
  "language_info": {
   "codemirror_mode": {
    "name": "ipython",
    "version": 3
   },
   "file_extension": ".py",
   "mimetype": "text/x-python",
   "name": "python",
   "nbconvert_exporter": "python",
   "pygments_lexer": "ipython3",
   "version": "3.8.0"
  }
 },
 "nbformat": 4,
 "nbformat_minor": 5
}
