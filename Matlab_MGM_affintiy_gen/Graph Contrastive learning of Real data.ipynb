{
 "cells": [
  {
   "cell_type": "code",
   "execution_count": 3,
   "id": "26fdca4e",
   "metadata": {},
   "outputs": [],
   "source": [
    "import os\n",
    "import sys\n",
    "sys.path.append(\"/home/rohit/PhD_Work/GM_my_version/Graph_matching/\")\n",
    "from sklearn.cluster import KMeans\n",
    "import networkx as nx\n",
    "import numpy as np\n",
    "from graph_generation.load_graphs_and_create_metadata import dataset_metadata\n",
    "from graph_matching_tools.metrics import matching\n",
    "import matplotlib.pyplot as plt\n",
    "import scipy.io as sco\n",
    "import slam.io as sio\n",
    "import pickle\n",
    "import seaborn as sns\n",
    "import tools.graph_processing as gp\n",
    "import tools.graph_visu as gv\n",
    "from matplotlib.pyplot import figure\n",
    "import pickle\n",
    "import pandas as pd\n",
    "from torch_geometric.utils.convert import from_networkx\n",
    "import torch\n",
    "from torch_geometric.datasets import TUDataset\n",
    "from torch_geometric.loader import DataLoader\n",
    "from sklearn.preprocessing import OneHotEncoder\n",
    "from torch.nn import Linear\n",
    "import torch.nn as nn\n",
    "import torch.nn.functional as F\n",
    "from torch_geometric.nn import GCNConv\n",
    "from torch_geometric.nn import GATConv\n",
    "from torch_geometric.nn import global_mean_pool\n",
    "from torch_geometric.data import Data\n",
    "%matplotlib inline"
   ]
  },
  {
   "cell_type": "code",
   "execution_count": 4,
   "id": "89102ce7",
   "metadata": {},
   "outputs": [],
   "source": [
    "def graph_remove_dummy_nodes(graph):\n",
    "    nodes_dummy_true = [x for x,y in graph.nodes(data=True) if y['is_dummy']==True]\n",
    "    graph.remove_nodes_from(nodes_dummy_true)\n",
    "    #print(len(graph.nodes))"
   ]
  },
  {
   "cell_type": "code",
   "execution_count": 5,
   "id": "1bf1f6da",
   "metadata": {},
   "outputs": [],
   "source": [
    "path_to_labelled_graphs = '/home/rohit/PhD_Work/GM_my_version/Graph_matching/data/Oasis_original_new_with_dummy/labelled_graphs/'"
   ]
  },
  {
   "cell_type": "code",
   "execution_count": 6,
   "id": "1d05a3d7",
   "metadata": {},
   "outputs": [],
   "source": [
    "correspondence = pickle.load( open( \"graph_correspondence_new.pickle\", \"rb\" ))\n",
    "Oasis_phen = pd.read_excel(\"/home/rohit/PhD_Work/GM_my_version/Graph_matching/data/OASIS_phenotype.ods\", engine=\"odf\")"
   ]
  },
  {
   "cell_type": "code",
   "execution_count": 7,
   "id": "5adb827f",
   "metadata": {},
   "outputs": [],
   "source": [
    "# Correspondence between sulcal graphs(OASIS) and gender. \n",
    "#Oasis_phen[['Subject','M/F']]\n",
    "oasis_ids = Oasis_phen['Subject'].to_list()\n",
    "gender = Oasis_phen['M/F'].to_list()\n",
    "\n",
    "gender_corresp = []\n",
    "\n",
    "for corr in correspondence:\n",
    "    corr_id = corr[0].split('_lh')\n",
    "    \n",
    "    for o_id, gen in zip(oasis_ids, gender):\n",
    "        if o_id == corr_id[0]:\n",
    "            gender_corresp.append([o_id,corr[1],gen])\n",
    "            \n",
    "gender_corresp = np.array(gender_corresp)"
   ]
  },
  {
   "cell_type": "code",
   "execution_count": null,
   "id": "cecb1540",
   "metadata": {
    "scrolled": true
   },
   "outputs": [],
   "source": []
  },
  {
   "cell_type": "code",
   "execution_count": 8,
   "id": "70587278",
   "metadata": {
    "scrolled": true
   },
   "outputs": [
    {
     "data": {
      "text/plain": [
       "{'F': 69, 'M': 68}"
      ]
     },
     "execution_count": 8,
     "metadata": {},
     "output_type": "execute_result"
    }
   ],
   "source": [
    "unique, counts = np.unique(gender_corresp[:,2], return_counts=True)\n",
    "dict(zip(unique, counts))"
   ]
  },
  {
   "cell_type": "code",
   "execution_count": 8,
   "id": "3fbacbcc",
   "metadata": {},
   "outputs": [],
   "source": [
    "# Create graph level labels (here gender)\n",
    "onehot = OneHotEncoder(drop='first')\n",
    "graph_labels = onehot.fit_transform(np.array(gender_corresp)[:,2].reshape(-1,1)).toarray()"
   ]
  },
  {
   "cell_type": "code",
   "execution_count": null,
   "id": "3a103ccc",
   "metadata": {},
   "outputs": [],
   "source": []
  },
  {
   "cell_type": "code",
   "execution_count": 9,
   "id": "1f7368d1",
   "metadata": {},
   "outputs": [
    {
     "name": "stderr",
     "output_type": "stream",
     "text": [
      "/tmp/ipykernel_127812/2159190382.py:24: UserWarning: Creating a tensor from a list of numpy.ndarrays is extremely slow. Please consider converting the list to a single numpy.ndarray with numpy.array() before converting to a tensor. (Triggered internally at /opt/conda/conda-bld/pytorch_1670525491394/work/torch/csrc/utils/tensor_new.cpp:230.)\n",
      "  x1 = torch.tensor(list(nx.get_node_attributes(g1,'sphere_3dcoords').values()),dtype=torch.float) #attr\n"
     ]
    }
   ],
   "source": [
    "# Create pair of graphs \n",
    "\n",
    "list_graphs = gp.load_graphs_in_list(path_to_labelled_graphs)\n",
    "\n",
    "pos_pairs = []\n",
    "neg_pairs = []\n",
    "\n",
    "#sulcal_dataset = []\n",
    "\n",
    "for g1, gen1 in zip(list_graphs, graph_labels):\n",
    "\n",
    "    for g2, gen2 in zip(list_graphs, graph_labels):\n",
    "        \n",
    "        \n",
    "        graph_remove_dummy_nodes(g1)\n",
    "        g1.remove_edges_from(nx.selfloop_edges(g1)) \n",
    "        \n",
    "        graph_remove_dummy_nodes(g2)\n",
    "        g2.remove_edges_from(nx.selfloop_edges(g2))\n",
    "        \n",
    "        if g1 != g2:\n",
    "            \n",
    "            \n",
    "            x1 = torch.tensor(list(nx.get_node_attributes(g1,'sphere_3dcoords').values()),dtype=torch.float) #attr\n",
    "            #x1 = torch.tensor(nx.adjacency_matrix(g1).todense(),dtype=torch.float) #adj row\n",
    "            #y1 = torch.tensor(gen1,dtype=torch.long) # graph label\n",
    "            edge_index_g1 = torch.tensor(list(g1.edges))\n",
    "            \n",
    "            \n",
    "            x2 = torch.tensor(list(nx.get_node_attributes(g2,'sphere_3dcoords').values()),dtype=torch.float)\n",
    "            #x2 = torch.tensor(nx.adjacency_matrix(g2).todense(),dtype=torch.float) #adj row\n",
    "            #y2 = torch.tensor(gen2,dtype=torch.long)\n",
    "            edge_index_g2 = torch.tensor(list(g2.edges))\n",
    "            \n",
    "            \n",
    "            # y here is pairwise label\n",
    "            \n",
    "            if gen1 == gen2:\n",
    "                \n",
    "                pos_pairs.append((Data(x=x1, y= torch.tensor([1],dtype=torch.long) , edge_index=edge_index_g1.t().contiguous()),\n",
    "                                Data(x=x2, y= torch.tensor([1],dtype=torch.long) , edge_index=edge_index_g2.t().contiguous())))  # positive pairs\n",
    "\n",
    "                \n",
    "            else:\n",
    "                \n",
    "                neg_pairs.append((Data(x=x1, y= torch.tensor([0],dtype=torch.long) , edge_index=edge_index_g1.t().contiguous()),\n",
    "                                Data(x=x2, y= torch.tensor([0],dtype=torch.long) , edge_index=edge_index_g2.t().contiguous()))) # negative pairs\n",
    "                \n",
    "\n",
    "                \n",
    "                \n",
    "                #sulcal_dataset.append(from_networkx(g))"
   ]
  },
  {
   "cell_type": "code",
   "execution_count": 10,
   "id": "02504761",
   "metadata": {},
   "outputs": [],
   "source": [
    "#sulcal_dataset = pos_pairs + neg_pairs"
   ]
  },
  {
   "cell_type": "code",
   "execution_count": 11,
   "id": "ca61336e",
   "metadata": {},
   "outputs": [],
   "source": [
    "train_dataset = pos_pairs[:5000] + neg_pairs[:5000]\n",
    "test_dataset = pos_pairs[5000:] + neg_pairs[5000:]"
   ]
  },
  {
   "cell_type": "code",
   "execution_count": 12,
   "id": "dd1c6f0a",
   "metadata": {},
   "outputs": [],
   "source": [
    "# nx.number_of_nodes(list_graphs[0]),nx.number_of_nodes(list_graphs[1])\n",
    "\n",
    "# nx.number_of_edges(list_graphs[0]),nx.number_of_edges(list_graphs[1])"
   ]
  },
  {
   "cell_type": "code",
   "execution_count": null,
   "id": "d4becef1",
   "metadata": {},
   "outputs": [],
   "source": []
  },
  {
   "cell_type": "code",
   "execution_count": 13,
   "id": "9814a7a2",
   "metadata": {},
   "outputs": [],
   "source": [
    "train_loader = DataLoader(train_dataset, batch_size=512, shuffle=True)\n",
    "test_loader = DataLoader(test_dataset, batch_size=512, shuffle=True)"
   ]
  },
  {
   "cell_type": "code",
   "execution_count": null,
   "id": "05dbe3fb",
   "metadata": {},
   "outputs": [],
   "source": []
  },
  {
   "cell_type": "code",
   "execution_count": 14,
   "id": "ec024baa",
   "metadata": {},
   "outputs": [
    {
     "data": {
      "text/plain": [
       "3"
      ]
     },
     "execution_count": 14,
     "metadata": {},
     "output_type": "execute_result"
    }
   ],
   "source": [
    "num_node_features = train_dataset[0][0].num_features\n",
    "num_node_features"
   ]
  },
  {
   "cell_type": "code",
   "execution_count": 15,
   "id": "70869a90",
   "metadata": {},
   "outputs": [
    {
     "name": "stdout",
     "output_type": "stream",
     "text": [
      "GCN(\n",
      "  (conv1): GCNConv(3, 32)\n",
      "  (conv2): GCNConv(32, 32)\n",
      "  (conv3): GCNConv(32, 16)\n",
      ")\n"
     ]
    }
   ],
   "source": [
    "# Create GNN Model\n",
    "\n",
    "class GCN(torch.nn.Module):\n",
    "    def __init__(self, hidden_channels):\n",
    "        super(GCN, self).__init__()\n",
    "        torch.manual_seed(12345)\n",
    "        \n",
    "        self.embedding_dim = 16\n",
    "        \n",
    "        self.conv1 = GCNConv(num_node_features, hidden_channels)\n",
    "        self.conv2 = GCNConv(hidden_channels, self.embedding_dim *2)\n",
    "        self.conv3 = GCNConv(hidden_channels, self.embedding_dim)\n",
    "#         self.lin = Linear(hidden_channels * 2, 1)\n",
    "#         self.sigmoid = nn.Sigmoid()\n",
    "\n",
    "    def forward(self, x, edge_index, batch):\n",
    "        # 1. Obtain node embeddings \n",
    "        x = self.conv1(x, edge_index)\n",
    "        x = x.relu()\n",
    "        x = self.conv2(x, edge_index)\n",
    "        x = x.relu()\n",
    "        emb = self.conv3(x, edge_index)\n",
    "\n",
    "        # 2. Readout layer\n",
    "        g_emb = global_mean_pool(emb, batch)  # [batch_size, hidden_channels]\n",
    "\n",
    "        \n",
    "        return g_emb, emb\n",
    "        \n",
    "\n",
    "model = GCN(hidden_channels=32)\n",
    "print(model)"
   ]
  },
  {
   "cell_type": "code",
   "execution_count": 16,
   "id": "ea3efe00",
   "metadata": {},
   "outputs": [],
   "source": [
    "# # Create GNN Model\n",
    "\n",
    "# class GAT(torch.nn.Module):\n",
    "#     def __init__(self, hidden_channels):        \n",
    "#         super(GAT, self).__init__()\n",
    "#         torch.manual_seed(12345)\n",
    "#         self.in_head = 2\n",
    "#         self.out_head = 1\n",
    "        \n",
    "        \n",
    "#         self.conv1 = GATConv(num_node_features, hidden_channels, heads=self.in_head)\n",
    "#         self.conv2 = GATConv(hidden_channels*self.in_head, hidden_channels, concat=False, dropout=0.6)\n",
    "        \n",
    "\n",
    "#     def forward(self, x, edge_index, batch):\n",
    "#         # 1. Obtain node embeddings \n",
    "#         x = self.conv1(x, edge_index)\n",
    "#         x = x.relu()\n",
    "#         emb = self.conv2(x, edge_index)\n",
    "\n",
    "#         # 2. Readout layer\n",
    "#         g_emb = global_mean_pool(emb, batch)  # [batch_size, hidden_channels]\n",
    "\n",
    "#         # 3. Apply a final classifier\n",
    "# #         x = F.dropout(x, p=0.5, training=self.training)\n",
    "# #         x = self.lin(x)\n",
    "        \n",
    "#         return g_emb, emb\n",
    "\n",
    "# model = GAT(hidden_channels=64)\n",
    "# print(model)"
   ]
  },
  {
   "cell_type": "code",
   "execution_count": 17,
   "id": "7ba9a657",
   "metadata": {},
   "outputs": [],
   "source": [
    "# def criterion(dist, label, margin: float = 1.0):\n",
    "#     \"\"\"\n",
    "#     Computes Contrastive Loss\n",
    "#     \"\"\"\n",
    "\n",
    "#     dist = torch.nn.functional.pairwise_distance(x1, x2)\n",
    "    \n",
    "#     dist = torch.sigmoid(dist)\n",
    "    \n",
    "#     #dist = dist.argmax(dim=1)\n",
    "\n",
    "#     loss = (1 - label) * torch.pow(dist, 2) + (label) * torch.pow(torch.clamp(margin - dist, min=0.0), 2)\n",
    "#     loss = torch.mean(loss)\n",
    "\n",
    "#     return loss"
   ]
  },
  {
   "cell_type": "code",
   "execution_count": 18,
   "id": "87a324db",
   "metadata": {},
   "outputs": [],
   "source": [
    "def criterion(x1, x2, label, margin: float = 1.0):\n",
    "    \"\"\"\n",
    "    Computes Contrastive Loss\n",
    "    \"\"\"\n",
    "\n",
    "    dist = torch.nn.functional.pairwise_distance(x1, x2)\n",
    "    #dist = torch.sigmoid(dist)\n",
    "\n",
    "    loss = (1 - label) * torch.pow(dist, 2) + (label) * torch.pow(torch.clamp(margin - dist, min=0.0), 2)\n",
    "    loss = torch.mean(loss)\n",
    "\n",
    "    return loss"
   ]
  },
  {
   "cell_type": "code",
   "execution_count": null,
   "id": "81c7049a",
   "metadata": {},
   "outputs": [],
   "source": []
  },
  {
   "cell_type": "code",
   "execution_count": 19,
   "id": "a680e0be",
   "metadata": {},
   "outputs": [],
   "source": [
    "optimizer = torch.optim.SGD(model.parameters(), lr=0.01)\n",
    "#criterion = torch.nn.CrossEntropyLoss()\n",
    "\n",
    "def train():\n",
    "    model.train()\n",
    "    \n",
    "    for data in train_loader:# Iterate in batches over the training dataset.\n",
    "        \n",
    "        g_emb_g1, node_emb_g1 = model(data[0].x,data[0].edge_index,data[0].batch)\n",
    "        g_emb_g2, node_emb_g2 = model(data[1].x,data[1].edge_index,data[1].batch)\n",
    "        \n",
    "        #loss = criterion(out, data[0].y)\n",
    "        loss = criterion(g_emb_g1,g_emb_g2, data[0].y) #custom loss\n",
    "        \n",
    "        loss.backward() \n",
    "        optimizer.step()\n",
    "        optimizer.zero_grad()\n",
    "\n",
    "def test(loader):\n",
    "    model.eval()\n",
    "    loss = 0\n",
    "    \n",
    "    with torch.no_grad():\n",
    "        \n",
    "        for data in loader:\n",
    "        \n",
    "            g_emb_g1, node_emb_g1 = model(data[0].x,data[0].edge_index,data[0].batch)\n",
    "            g_emb_g2, node_emb_g2 = model(data[1].x,data[1].edge_index,data[1].batch)\n",
    "            #pred = out.argmax(dim=1)\n",
    "            #correct += int((pred == data[0].y).sum())\n",
    "\n",
    "            loss += criterion(g_emb_g1,g_emb_g2, data[0].y)\n",
    "    return loss\n",
    "        \n",
    "    #return correct / len(loader.dataset)  # Derive ratio of correct predictions.\n",
    "            \n",
    "            #loss += criterion(g1_emb,g2_emb, data[0].y)"
   ]
  },
  {
   "cell_type": "code",
   "execution_count": 20,
   "id": "5eb20c92",
   "metadata": {
    "scrolled": true
   },
   "outputs": [
    {
     "name": "stdout",
     "output_type": "stream",
     "text": [
      "Epoch: 001, Train loss: 9.1690, Test loss: 8.0474\n",
      "Epoch: 002, Train loss: 6.1340, Test loss: 5.4608\n",
      "Epoch: 003, Train loss: 5.5586, Test loss: 4.8866\n",
      "Epoch: 004, Train loss: 5.3530, Test loss: 4.7067\n",
      "Epoch: 005, Train loss: 5.2769, Test loss: 4.6187\n",
      "Epoch: 006, Train loss: 5.2219, Test loss: 4.5628\n",
      "Epoch: 007, Train loss: 5.2043, Test loss: 4.5473\n",
      "Epoch: 008, Train loss: 5.1819, Test loss: 4.5314\n",
      "Epoch: 009, Train loss: 5.1660, Test loss: 4.5214\n",
      "Epoch: 010, Train loss: 5.1546, Test loss: 4.5060\n",
      "Epoch: 011, Train loss: 5.1536, Test loss: 4.4900\n",
      "Epoch: 012, Train loss: 5.1420, Test loss: 4.4822\n",
      "Epoch: 013, Train loss: 5.1383, Test loss: 4.4825\n",
      "Epoch: 014, Train loss: 5.1388, Test loss: 4.4828\n",
      "Epoch: 015, Train loss: 5.1349, Test loss: 4.4783\n",
      "Epoch: 016, Train loss: 5.1285, Test loss: 4.4697\n",
      "Epoch: 017, Train loss: 5.1201, Test loss: 4.4714\n",
      "Epoch: 018, Train loss: 5.1195, Test loss: 4.4711\n",
      "Epoch: 019, Train loss: 5.1133, Test loss: 4.4648\n",
      "Epoch: 020, Train loss: 5.1089, Test loss: 4.4685\n",
      "Epoch: 021, Train loss: 5.1085, Test loss: 4.4625\n",
      "Epoch: 022, Train loss: 5.1026, Test loss: 4.4602\n",
      "Epoch: 023, Train loss: 5.1040, Test loss: 4.4636\n",
      "Epoch: 024, Train loss: 5.1049, Test loss: 4.4627\n",
      "Epoch: 025, Train loss: 5.1036, Test loss: 4.4710\n",
      "Epoch: 026, Train loss: 5.0995, Test loss: 4.4547\n",
      "Epoch: 027, Train loss: 5.0958, Test loss: 4.4619\n",
      "Epoch: 028, Train loss: 5.0958, Test loss: 4.4673\n",
      "Epoch: 029, Train loss: 5.0913, Test loss: 4.4620\n",
      "Epoch: 030, Train loss: 5.0926, Test loss: 4.4557\n",
      "Epoch: 031, Train loss: 5.0893, Test loss: 4.4599\n",
      "Epoch: 032, Train loss: 5.0913, Test loss: 4.4568\n",
      "Epoch: 033, Train loss: 5.0873, Test loss: 4.4583\n",
      "Epoch: 034, Train loss: 5.0917, Test loss: 4.4547\n",
      "Epoch: 035, Train loss: 5.0883, Test loss: 4.4547\n",
      "Epoch: 036, Train loss: 5.0866, Test loss: 4.4554\n",
      "Epoch: 037, Train loss: 5.0817, Test loss: 4.4534\n",
      "Epoch: 038, Train loss: 5.0826, Test loss: 4.4544\n",
      "Epoch: 039, Train loss: 5.0821, Test loss: 4.4603\n",
      "Epoch: 040, Train loss: 5.0819, Test loss: 4.4509\n",
      "Epoch: 041, Train loss: 5.0782, Test loss: 4.4517\n",
      "Epoch: 042, Train loss: 5.0769, Test loss: 4.4520\n",
      "Epoch: 043, Train loss: 5.0737, Test loss: 4.4438\n",
      "Epoch: 044, Train loss: 5.0746, Test loss: 4.4486\n",
      "Epoch: 045, Train loss: 5.0775, Test loss: 4.4522\n",
      "Epoch: 046, Train loss: 5.0758, Test loss: 4.4521\n",
      "Epoch: 047, Train loss: 5.0776, Test loss: 4.4512\n",
      "Epoch: 048, Train loss: 5.0723, Test loss: 4.4505\n",
      "Epoch: 049, Train loss: 5.0753, Test loss: 4.4446\n",
      "Epoch: 050, Train loss: 5.0695, Test loss: 4.4530\n",
      "Epoch: 051, Train loss: 5.0710, Test loss: 4.4438\n",
      "Epoch: 052, Train loss: 5.0688, Test loss: 4.4457\n",
      "Epoch: 053, Train loss: 5.0647, Test loss: 4.4425\n",
      "Epoch: 054, Train loss: 5.0698, Test loss: 4.4489\n",
      "Epoch: 055, Train loss: 5.0720, Test loss: 4.4489\n",
      "Epoch: 056, Train loss: 5.0703, Test loss: 4.4472\n",
      "Epoch: 057, Train loss: 5.0685, Test loss: 4.4492\n",
      "Epoch: 058, Train loss: 5.0692, Test loss: 4.4535\n",
      "Epoch: 059, Train loss: 5.0654, Test loss: 4.4471\n",
      "Epoch: 060, Train loss: 5.0608, Test loss: 4.4469\n",
      "Epoch: 061, Train loss: 5.0687, Test loss: 4.4620\n",
      "Epoch: 062, Train loss: 5.0661, Test loss: 4.4448\n",
      "Epoch: 063, Train loss: 5.0640, Test loss: 4.4469\n",
      "Epoch: 064, Train loss: 5.0624, Test loss: 4.4509\n",
      "Epoch: 065, Train loss: 5.0551, Test loss: 4.4503\n",
      "Epoch: 066, Train loss: 5.0600, Test loss: 4.4487\n",
      "Epoch: 067, Train loss: 5.0616, Test loss: 4.4481\n",
      "Epoch: 068, Train loss: 5.0602, Test loss: 4.4426\n",
      "Epoch: 069, Train loss: 5.0547, Test loss: 4.4502\n",
      "Epoch: 070, Train loss: 5.0586, Test loss: 4.4424\n",
      "Epoch: 071, Train loss: 5.0593, Test loss: 4.4466\n",
      "Epoch: 072, Train loss: 5.0635, Test loss: 4.4637\n",
      "Epoch: 073, Train loss: 5.0633, Test loss: 4.4493\n",
      "Epoch: 074, Train loss: 5.0571, Test loss: 4.4438\n",
      "Epoch: 075, Train loss: 5.0647, Test loss: 4.4476\n",
      "Epoch: 076, Train loss: 5.0601, Test loss: 4.4358\n",
      "Epoch: 077, Train loss: 5.0621, Test loss: 4.4387\n",
      "Epoch: 078, Train loss: 5.0575, Test loss: 4.4545\n",
      "Epoch: 079, Train loss: 5.0584, Test loss: 4.4495\n",
      "Epoch: 080, Train loss: 5.0556, Test loss: 4.4454\n",
      "Epoch: 081, Train loss: 5.0528, Test loss: 4.4426\n",
      "Epoch: 082, Train loss: 5.0538, Test loss: 4.4491\n",
      "Epoch: 083, Train loss: 5.0581, Test loss: 4.4406\n",
      "Epoch: 084, Train loss: 5.0566, Test loss: 4.4412\n",
      "Epoch: 085, Train loss: 5.0530, Test loss: 4.4432\n",
      "Epoch: 086, Train loss: 5.0622, Test loss: 4.4327\n",
      "Epoch: 087, Train loss: 5.0599, Test loss: 4.4437\n",
      "Epoch: 088, Train loss: 5.0545, Test loss: 4.4546\n",
      "Epoch: 089, Train loss: 5.0500, Test loss: 4.4380\n",
      "Epoch: 090, Train loss: 5.0548, Test loss: 4.4552\n",
      "Epoch: 091, Train loss: 5.0559, Test loss: 4.4469\n",
      "Epoch: 092, Train loss: 5.0519, Test loss: 4.4400\n",
      "Epoch: 093, Train loss: 5.0510, Test loss: 4.4488\n",
      "Epoch: 094, Train loss: 5.0534, Test loss: 4.4520\n",
      "Epoch: 095, Train loss: 5.0516, Test loss: 4.4489\n",
      "Epoch: 096, Train loss: 5.0565, Test loss: 4.4382\n",
      "Epoch: 097, Train loss: 5.0524, Test loss: 4.4534\n",
      "Epoch: 098, Train loss: 5.0513, Test loss: 4.4379\n",
      "Epoch: 099, Train loss: 5.0495, Test loss: 4.4391\n"
     ]
    }
   ],
   "source": [
    "train_curve = []\n",
    "test_curve = []\n",
    "for epoch in range(1,100):\n",
    "    \n",
    "    train()\n",
    "    \n",
    "    train_acc = test(train_loader)\n",
    "    train_curve.append(train_acc)\n",
    "    \n",
    "    test_acc = test(test_loader)\n",
    "    test_curve.append(test_acc)\n",
    "        \n",
    "    print(f'Epoch: {epoch:03d}, Train loss: {train_acc:.4f}, Test loss: {test_acc:.4f}')"
   ]
  },
  {
   "cell_type": "code",
   "execution_count": null,
   "id": "de68da1d",
   "metadata": {},
   "outputs": [],
   "source": []
  },
  {
   "cell_type": "markdown",
   "id": "912e5b03",
   "metadata": {},
   "source": [
    "# Loss curve"
   ]
  },
  {
   "cell_type": "code",
   "execution_count": 23,
   "id": "53cefab8",
   "metadata": {},
   "outputs": [],
   "source": [
    "x_axis = np.arange(0,99,1)"
   ]
  },
  {
   "cell_type": "code",
   "execution_count": 24,
   "id": "e5e425f2",
   "metadata": {},
   "outputs": [
    {
     "data": {
      "text/plain": [
       "Text(0, 0.5, 'Train / Test Loss')"
      ]
     },
     "execution_count": 24,
     "metadata": {},
     "output_type": "execute_result"
    },
    {
     "data": {
      "image/png": "[encoded data removed]",
      "text/plain": [
       "<Figure size 640x480 with 1 Axes>"
      ]
     },
     "metadata": {},
     "output_type": "display_data"
    }
   ],
   "source": [
    "plt.plot(x_axis,train_curve)\n",
    "plt.plot(x_axis,test_curve)\n",
    "plt.xlabel('Epoch')\n",
    "plt.ylabel('Train / Test Loss')"
   ]
  },
  {
   "cell_type": "code",
   "execution_count": 25,
   "id": "5e41754a",
   "metadata": {},
   "outputs": [],
   "source": [
    "sulcal_dataset = []\n",
    "\n",
    "for i,g in enumerate(list_graphs):\n",
    "    graph_remove_dummy_nodes(g) # remove dummy nodes\n",
    "    g.remove_edges_from(nx.selfloop_edges(g)) # remove self loop edges\n",
    "    \n",
    "    x = torch.tensor(list(nx.get_node_attributes(g,'sphere_3dcoords').values()),dtype=torch.float)\n",
    "    #x = torch.tensor(nx.adjacency_matrix(g).todense(),dtype=torch.float)\n",
    "    y = torch.tensor(graph_labels[i],dtype=torch.long)\n",
    "    edge_index = torch.tensor(list(g.edges))\n",
    "    \n",
    "    sulcal_dataset.append(Data(x=x, y=y, edge_index=edge_index.t().contiguous()))\n",
    "    "
   ]
  },
  {
   "cell_type": "code",
   "execution_count": 26,
   "id": "a1554b87",
   "metadata": {},
   "outputs": [],
   "source": [
    "all_graph = DataLoader(sulcal_dataset, batch_size=len(sulcal_dataset), shuffle=False)\n",
    "\n",
    "for data in all_graph:\n",
    "    graph_emb,node_emb = model(data.x, data.edge_index, data.batch)\n",
    "    \n",
    "node_emb = node_emb.detach().numpy()\n",
    "graph_emb = graph_emb.detach().numpy()\n"
   ]
  },
  {
   "cell_type": "code",
   "execution_count": 27,
   "id": "005abdfb",
   "metadata": {},
   "outputs": [
    {
     "data": {
      "text/plain": [
       "(137, 2)"
      ]
     },
     "execution_count": 27,
     "metadata": {},
     "output_type": "execute_result"
    }
   ],
   "source": [
    "from sklearn.manifold import TSNE\n",
    "import pandas as pd\n",
    "\n",
    "n_components = 2\n",
    "tsne = TSNE(n_components)\n",
    "\n",
    "tsne_graph = tsne.fit_transform(graph_emb)\n",
    "tsne_graph.shape"
   ]
  },
  {
   "cell_type": "code",
   "execution_count": 29,
   "id": "14e03021",
   "metadata": {},
   "outputs": [
    {
     "data": {
      "text/plain": [
       "<matplotlib.legend.Legend at 0x7fd2a47ab070>"
      ]
     },
     "execution_count": 29,
     "metadata": {},
     "output_type": "execute_result"
    },
    {
     "data": {
      "image/png": "[encoded data removed]",
      "text/plain": [
       "<Figure size 640x480 with 1 Axes>"
      ]
     },
     "metadata": {},
     "output_type": "display_data"
    }
   ],
   "source": [
    "#subj_labels_lst = np.arange(0,137,1)\n",
    "graph_labels_lst = [lab[0] for lab in graph_labels]\n",
    "tsne_graph_df = pd.DataFrame({'tsne_1': tsne_graph[:,0], 'tsne_2': tsne_graph[:,1], 'label':graph_labels_lst})\n",
    "fig, ax = plt.subplots(1)\n",
    "sns.scatterplot(x='tsne_1', y='tsne_2', hue='label', data=tsne_graph_df, ax=ax,s=30)\n",
    "lim = (tsne_graph_df.min()-5, tsne_graph_df.max()+5)\n",
    "#ax.set_xlim(lim)\n",
    "#ax.set_ylim(lim)\n",
    "#ax.set_aspect('equal')\n",
    "ax.legend(bbox_to_anchor=(1.05, 1), loc=2, borderaxespad=0.0)"
   ]
  },
  {
   "cell_type": "markdown",
   "id": "8286d378",
   "metadata": {},
   "source": [
    "## Classification on graph embeddings"
   ]
  },
  {
   "cell_type": "code",
   "execution_count": 43,
   "id": "409cf3d9",
   "metadata": {},
   "outputs": [],
   "source": [
    "from sklearn.linear_model import LogisticRegression\n",
    "from sklearn.pipeline import make_pipeline\n",
    "from sklearn.preprocessing import StandardScaler\n",
    "from sklearn.svm import SVC"
   ]
  },
  {
   "cell_type": "code",
   "execution_count": 61,
   "id": "66193ca6",
   "metadata": {},
   "outputs": [
    {
     "data": {
      "text/html": [
       "<style>#sk-container-id-6 {color: black;background-color: white;}#sk-container-id-6 pre{padding: 0;}#sk-container-id-6 div.sk-toggleable {background-color: white;}#sk-container-id-6 label.sk-toggleable__label {cursor: pointer;display: block;width: 100%;margin-bottom: 0;padding: 0.3em;box-sizing: border-box;text-align: center;}#sk-container-id-6 label.sk-toggleable__label-arrow:before {content: \"▸\";float: left;margin-right: 0.25em;color: #696969;}#sk-container-id-6 label.sk-toggleable__label-arrow:hover:before {color: black;}#sk-container-id-6 div.sk-estimator:hover label.sk-toggleable__label-arrow:before {color: black;}#sk-container-id-6 div.sk-toggleable__content {max-height: 0;max-width: 0;overflow: hidden;text-align: left;background-color: #f0f8ff;}#sk-container-id-6 div.sk-toggleable__content pre {margin: 0.2em;color: black;border-radius: 0.25em;background-color: #f0f8ff;}#sk-container-id-6 input.sk-toggleable__control:checked~div.sk-toggleable__content {max-height: 200px;max-width: 100%;overflow: auto;}#sk-container-id-6 input.sk-toggleable__control:checked~label.sk-toggleable__label-arrow:before {content: \"▾\";}#sk-container-id-6 div.sk-estimator input.sk-toggleable__control:checked~label.sk-toggleable__label {background-color: #d4ebff;}#sk-container-id-6 div.sk-label input.sk-toggleable__control:checked~label.sk-toggleable__label {background-color: #d4ebff;}#sk-container-id-6 input.sk-hidden--visually {border: 0;clip: rect(1px 1px 1px 1px);clip: rect(1px, 1px, 1px, 1px);height: 1px;margin: -1px;overflow: hidden;padding: 0;position: absolute;width: 1px;}#sk-container-id-6 div.sk-estimator {font-family: monospace;background-color: #f0f8ff;border: 1px dotted black;border-radius: 0.25em;box-sizing: border-box;margin-bottom: 0.5em;}#sk-container-id-6 div.sk-estimator:hover {background-color: #d4ebff;}#sk-container-id-6 div.sk-parallel-item::after {content: \"\";width: 100%;border-bottom: 1px solid gray;flex-grow: 1;}#sk-container-id-6 div.sk-label:hover label.sk-toggleable__label {background-color: #d4ebff;}#sk-container-id-6 div.sk-serial::before {content: \"\";position: absolute;border-left: 1px solid gray;box-sizing: border-box;top: 0;bottom: 0;left: 50%;z-index: 0;}#sk-container-id-6 div.sk-serial {display: flex;flex-direction: column;align-items: center;background-color: white;padding-right: 0.2em;padding-left: 0.2em;position: relative;}#sk-container-id-6 div.sk-item {position: relative;z-index: 1;}#sk-container-id-6 div.sk-parallel {display: flex;align-items: stretch;justify-content: center;background-color: white;position: relative;}#sk-container-id-6 div.sk-item::before, #sk-container-id-6 div.sk-parallel-item::before {content: \"\";position: absolute;border-left: 1px solid gray;box-sizing: border-box;top: 0;bottom: 0;left: 50%;z-index: -1;}#sk-container-id-6 div.sk-parallel-item {display: flex;flex-direction: column;z-index: 1;position: relative;background-color: white;}#sk-container-id-6 div.sk-parallel-item:first-child::after {align-self: flex-end;width: 50%;}#sk-container-id-6 div.sk-parallel-item:last-child::after {align-self: flex-start;width: 50%;}#sk-container-id-6 div.sk-parallel-item:only-child::after {width: 0;}#sk-container-id-6 div.sk-dashed-wrapped {border: 1px dashed gray;margin: 0 0.4em 0.5em 0.4em;box-sizing: border-box;padding-bottom: 0.4em;background-color: white;}#sk-container-id-6 div.sk-label label {font-family: monospace;font-weight: bold;display: inline-block;line-height: 1.2em;}#sk-container-id-6 div.sk-label-container {text-align: center;}#sk-container-id-6 div.sk-container {/* jupyter's `normalize.less` sets `[hidden] { display: none; }` but bootstrap.min.css set `[hidden] { display: none !important; }` so we also need the `!important` here to be able to override the default hidden behavior on the sphinx rendered scikit-learn.org. See: https://github.com/scikit-learn/scikit-learn/issues/21755 */display: inline-block !important;position: relative;}#sk-container-id-6 div.sk-text-repr-fallback {display: none;}</style><div id=\"sk-container-id-6\" class=\"sk-top-container\"><div class=\"sk-text-repr-fallback\"><pre>LogisticRegression(random_state=0)</pre><b>In a Jupyter environment, please rerun this cell to show the HTML representation or trust the notebook. <br />On GitHub, the HTML representation is unable to render, please try loading this page with nbviewer.org.</b></div><div class=\"sk-container\" hidden><div class=\"sk-item\"><div class=\"sk-estimator sk-toggleable\"><input class=\"sk-toggleable__control sk-hidden--visually\" id=\"sk-estimator-id-6\" type=\"checkbox\" checked><label for=\"sk-estimator-id-6\" class=\"sk-toggleable__label sk-toggleable__label-arrow\">LogisticRegression</label><div class=\"sk-toggleable__content\"><pre>LogisticRegression(random_state=0)</pre></div></div></div></div></div>"
      ],
      "text/plain": [
       "LogisticRegression(random_state=0)"
      ]
     },
     "execution_count": 61,
     "metadata": {},
     "output_type": "execute_result"
    }
   ],
   "source": [
    "clf = LogisticRegression(random_state=0)\n",
    "clf.fit(graph_emb[:100], graph_labels_lst[:100])"
   ]
  },
  {
   "cell_type": "code",
   "execution_count": 39,
   "id": "b8872e0e",
   "metadata": {},
   "outputs": [
    {
     "data": {
      "text/plain": [
       "0.2972972972972973"
      ]
     },
     "execution_count": 39,
     "metadata": {},
     "output_type": "execute_result"
    }
   ],
   "source": [
    "clf.score(graph_emb[100:], graph_labels_lst[100:])"
   ]
  },
  {
   "cell_type": "code",
   "execution_count": 56,
   "id": "512bf8f0",
   "metadata": {},
   "outputs": [],
   "source": [
    "clf_svm = SVC(gamma='auto',kernel='rbf')"
   ]
  },
  {
   "cell_type": "code",
   "execution_count": 57,
   "id": "608994a3",
   "metadata": {
    "scrolled": true
   },
   "outputs": [
    {
     "data": {
      "text/html": [
       "<style>#sk-container-id-5 {color: black;background-color: white;}#sk-container-id-5 pre{padding: 0;}#sk-container-id-5 div.sk-toggleable {background-color: white;}#sk-container-id-5 label.sk-toggleable__label {cursor: pointer;display: block;width: 100%;margin-bottom: 0;padding: 0.3em;box-sizing: border-box;text-align: center;}#sk-container-id-5 label.sk-toggleable__label-arrow:before {content: \"▸\";float: left;margin-right: 0.25em;color: #696969;}#sk-container-id-5 label.sk-toggleable__label-arrow:hover:before {color: black;}#sk-container-id-5 div.sk-estimator:hover label.sk-toggleable__label-arrow:before {color: black;}#sk-container-id-5 div.sk-toggleable__content {max-height: 0;max-width: 0;overflow: hidden;text-align: left;background-color: #f0f8ff;}#sk-container-id-5 div.sk-toggleable__content pre {margin: 0.2em;color: black;border-radius: 0.25em;background-color: #f0f8ff;}#sk-container-id-5 input.sk-toggleable__control:checked~div.sk-toggleable__content {max-height: 200px;max-width: 100%;overflow: auto;}#sk-container-id-5 input.sk-toggleable__control:checked~label.sk-toggleable__label-arrow:before {content: \"▾\";}#sk-container-id-5 div.sk-estimator input.sk-toggleable__control:checked~label.sk-toggleable__label {background-color: #d4ebff;}#sk-container-id-5 div.sk-label input.sk-toggleable__control:checked~label.sk-toggleable__label {background-color: #d4ebff;}#sk-container-id-5 input.sk-hidden--visually {border: 0;clip: rect(1px 1px 1px 1px);clip: rect(1px, 1px, 1px, 1px);height: 1px;margin: -1px;overflow: hidden;padding: 0;position: absolute;width: 1px;}#sk-container-id-5 div.sk-estimator {font-family: monospace;background-color: #f0f8ff;border: 1px dotted black;border-radius: 0.25em;box-sizing: border-box;margin-bottom: 0.5em;}#sk-container-id-5 div.sk-estimator:hover {background-color: #d4ebff;}#sk-container-id-5 div.sk-parallel-item::after {content: \"\";width: 100%;border-bottom: 1px solid gray;flex-grow: 1;}#sk-container-id-5 div.sk-label:hover label.sk-toggleable__label {background-color: #d4ebff;}#sk-container-id-5 div.sk-serial::before {content: \"\";position: absolute;border-left: 1px solid gray;box-sizing: border-box;top: 0;bottom: 0;left: 50%;z-index: 0;}#sk-container-id-5 div.sk-serial {display: flex;flex-direction: column;align-items: center;background-color: white;padding-right: 0.2em;padding-left: 0.2em;position: relative;}#sk-container-id-5 div.sk-item {position: relative;z-index: 1;}#sk-container-id-5 div.sk-parallel {display: flex;align-items: stretch;justify-content: center;background-color: white;position: relative;}#sk-container-id-5 div.sk-item::before, #sk-container-id-5 div.sk-parallel-item::before {content: \"\";position: absolute;border-left: 1px solid gray;box-sizing: border-box;top: 0;bottom: 0;left: 50%;z-index: -1;}#sk-container-id-5 div.sk-parallel-item {display: flex;flex-direction: column;z-index: 1;position: relative;background-color: white;}#sk-container-id-5 div.sk-parallel-item:first-child::after {align-self: flex-end;width: 50%;}#sk-container-id-5 div.sk-parallel-item:last-child::after {align-self: flex-start;width: 50%;}#sk-container-id-5 div.sk-parallel-item:only-child::after {width: 0;}#sk-container-id-5 div.sk-dashed-wrapped {border: 1px dashed gray;margin: 0 0.4em 0.5em 0.4em;box-sizing: border-box;padding-bottom: 0.4em;background-color: white;}#sk-container-id-5 div.sk-label label {font-family: monospace;font-weight: bold;display: inline-block;line-height: 1.2em;}#sk-container-id-5 div.sk-label-container {text-align: center;}#sk-container-id-5 div.sk-container {/* jupyter's `normalize.less` sets `[hidden] { display: none; }` but bootstrap.min.css set `[hidden] { display: none !important; }` so we also need the `!important` here to be able to override the default hidden behavior on the sphinx rendered scikit-learn.org. See: https://github.com/scikit-learn/scikit-learn/issues/21755 */display: inline-block !important;position: relative;}#sk-container-id-5 div.sk-text-repr-fallback {display: none;}</style><div id=\"sk-container-id-5\" class=\"sk-top-container\"><div class=\"sk-text-repr-fallback\"><pre>SVC(gamma=&#x27;auto&#x27;)</pre><b>In a Jupyter environment, please rerun this cell to show the HTML representation or trust the notebook. <br />On GitHub, the HTML representation is unable to render, please try loading this page with nbviewer.org.</b></div><div class=\"sk-container\" hidden><div class=\"sk-item\"><div class=\"sk-estimator sk-toggleable\"><input class=\"sk-toggleable__control sk-hidden--visually\" id=\"sk-estimator-id-5\" type=\"checkbox\" checked><label for=\"sk-estimator-id-5\" class=\"sk-toggleable__label sk-toggleable__label-arrow\">SVC</label><div class=\"sk-toggleable__content\"><pre>SVC(gamma=&#x27;auto&#x27;)</pre></div></div></div></div></div>"
      ],
      "text/plain": [
       "SVC(gamma='auto')"
      ]
     },
     "execution_count": 57,
     "metadata": {},
     "output_type": "execute_result"
    }
   ],
   "source": [
    "clf_svm.fit(graph_emb[:100], graph_labels_lst[:100])"
   ]
  },
  {
   "cell_type": "code",
   "execution_count": 59,
   "id": "b68927d1",
   "metadata": {},
   "outputs": [
    {
     "data": {
      "text/plain": [
       "0.54"
      ]
     },
     "execution_count": 59,
     "metadata": {},
     "output_type": "execute_result"
    }
   ],
   "source": [
    "clf_svm.score(graph_emb[:100],graph_labels_lst[:100])"
   ]
  },
  {
   "cell_type": "code",
   "execution_count": null,
   "id": "4fc090c8",
   "metadata": {},
   "outputs": [],
   "source": []
  },
  {
   "cell_type": "code",
   "execution_count": 60,
   "id": "1aa9b091",
   "metadata": {},
   "outputs": [],
   "source": [
    "# import plotly.express as px\n",
    "\n",
    "# n_components = 3\n",
    "# tsne2 = TSNE(n_components)\n",
    "\n",
    "# tsne_graph = tsne2.fit_transform(graph_emb)\n",
    "# tsne_graph.shape\n",
    "\n",
    "\n",
    "# tsne_graph_3d = pd.DataFrame({'tsne_1': tsne_graph[:,0], 'tsne_2': tsne_graph[:,1], 'tsne_3': tsne_graph[:,2], 'label':graph_labels_lst})\n",
    "\n",
    "\n",
    "# fig = px.scatter_3d(tsne_graph_3d, x = 'tsne_1',y = 'tsne_2',z = 'tsne_3',color='label')\n",
    "# fig.update_traces(marker={'size': 5})\n",
    "\n",
    "\n",
    "# fig.show()"
   ]
  },
  {
   "cell_type": "code",
   "execution_count": null,
   "id": "e0924b08",
   "metadata": {},
   "outputs": [],
   "source": []
  },
  {
   "cell_type": "code",
   "execution_count": null,
   "id": "ead9c7e9",
   "metadata": {},
   "outputs": [],
   "source": []
  },
  {
   "cell_type": "code",
   "execution_count": null,
   "id": "aadbfeb1",
   "metadata": {},
   "outputs": [],
   "source": [
    "# v1 = torch.randn(3,4)\n",
    "# v2 = torch.randn(3,4)\n",
    "# dist = torch.nn.PairwiseDistance(p=2)\n",
    "# pdist1 = torch.nn.functional.pairwise_distance(v1,v2)\n",
    "\n",
    "# pdist1,torch.sigmoid(pdist1)"
   ]
  },
  {
   "cell_type": "code",
   "execution_count": null,
   "id": "817db436",
   "metadata": {},
   "outputs": [],
   "source": []
  },
  {
   "cell_type": "code",
   "execution_count": null,
   "id": "a5a5cbd2",
   "metadata": {},
   "outputs": [],
   "source": [
    "# margin: float = 1.0\n",
    "# dst = np.arange(0,9,0.5)\n",
    "\n",
    "# lss_false = torch.pow(torch.clamp(margin - torch.tensor(dst), min=0.0), 2)\n",
    "# lss_true = torch.pow(torch.tensor(dst), 2)"
   ]
  },
  {
   "cell_type": "code",
   "execution_count": null,
   "id": "ad7f4965",
   "metadata": {
    "scrolled": false
   },
   "outputs": [],
   "source": [
    "# lss_true"
   ]
  },
  {
   "cell_type": "code",
   "execution_count": null,
   "id": "390debd9",
   "metadata": {},
   "outputs": [],
   "source": [
    "# lss_false"
   ]
  },
  {
   "cell_type": "code",
   "execution_count": null,
   "id": "d6d95517",
   "metadata": {
    "scrolled": false
   },
   "outputs": [],
   "source": [
    "dst"
   ]
  },
  {
   "cell_type": "code",
   "execution_count": null,
   "id": "3489dba4",
   "metadata": {},
   "outputs": [],
   "source": []
  },
  {
   "cell_type": "code",
   "execution_count": null,
   "id": "293e1abf",
   "metadata": {},
   "outputs": [],
   "source": []
  }
 ],
 "metadata": {
  "kernelspec": {
   "display_name": "Python 3 (ipykernel)",
   "language": "python",
   "name": "python3"
  },
  "language_info": {
   "codemirror_mode": {
    "name": "ipython",
    "version": 3
   },
   "file_extension": ".py",
   "mimetype": "text/x-python",
   "name": "python",
   "nbconvert_exporter": "python",
   "pygments_lexer": "ipython3",
   "version": "3.8.0"
  }
 },
 "nbformat": 4,
 "nbformat_minor": 5
}
