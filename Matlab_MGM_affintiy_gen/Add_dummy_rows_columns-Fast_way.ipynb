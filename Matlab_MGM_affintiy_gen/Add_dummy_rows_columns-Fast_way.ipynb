{
 "cells": [
  {
   "cell_type": "code",
   "execution_count": 1,
   "metadata": {},
   "outputs": [],
   "source": [
    "import os\n",
    "import sys\n",
    "sys.path.append(\"/home/rohit/PhD_Work/GM_my_version/Graph_matching/\")\n",
    "from sklearn.cluster import KMeans\n",
    "import networkx as nx\n",
    "import numpy as np\n",
    "from graph_generation.load_graphs_and_create_metadata import dataset_metadata\n",
    "from graph_matching_tools.metrics import matching\n",
    "import matplotlib.pyplot as plt\n",
    "import scipy.io as sio"
   ]
  },
  {
   "cell_type": "code",
   "execution_count": 2,
   "metadata": {},
   "outputs": [],
   "source": [
    "path_to_graph_folder = '/home/rohit/PhD_Work/GM_my_version/Graph_matching/data/simu_graph/simu_test_single_noise/'\n",
    "path_to_dummy_graph_folder = '/home/rohit/PhD_Work/GM_my_version/Graph_matching/data/simu_graph/simu_with_dummy/'"
   ]
  },
  {
   "cell_type": "code",
   "execution_count": null,
   "metadata": {},
   "outputs": [],
   "source": []
  },
  {
   "cell_type": "code",
   "execution_count": 3,
   "metadata": {},
   "outputs": [],
   "source": [
    "def insert_at(arr, output_size, indices):\n",
    "    \"\"\"\n",
    "    Insert zeros at specific indices over whole dimensions, e.g. rows and/or columns and/or channels.\n",
    "    You need to specify indices for each dimension, or leave a dimension untouched by specifying\n",
    "    `...` for it. The following assertion should hold:\n",
    "\n",
    "            `assert len(output_size) == len(indices) == len(arr.shape)`\n",
    "\n",
    "    :param arr: The array to insert zeros into\n",
    "    :param output_size: The size of the array after insertion is completed\n",
    "    :param indices: The indices where zeros should be inserted, per dimension. For each dimension, you can\n",
    "                specify: - an int\n",
    "                         - a tuple of ints\n",
    "                         - a generator yielding ints (such as `range`)\n",
    "                         - Ellipsis (=...)\n",
    "    :return: An array of shape `output_size` with the content of arr and zeros inserted at the given indices.\n",
    "\"\"\"\n",
    "    # assert len(output_size) == len(indices) == len(arr.shape)\n",
    "    result = np.zeros(output_size)\n",
    "    existing_indices = [np.setdiff1d(np.arange(axis_size), axis_indices,assume_unique=True)\n",
    "                        for axis_size, axis_indices in zip(output_size, indices)]\n",
    "    result[np.ix_(*existing_indices)] = arr\n",
    "    return result"
   ]
  },
  {
   "cell_type": "code",
   "execution_count": 4,
   "metadata": {},
   "outputs": [],
   "source": [
    "def get_output_size( input_size, len_idx):\n",
    "    \"\"\"\n",
    "    :param input_size: INT, for exemple just 5\n",
    "    :param len_idx:\n",
    "    :return:\n",
    "    \"\"\"\n",
    "    print(input_size)\n",
    "    print(len_idx)\n",
    "    ouput_size = input_size + len_idx\n",
    "    return  ouput_size"
   ]
  },
  {
   "cell_type": "code",
   "execution_count": 5,
   "metadata": {
    "scrolled": false
   },
   "outputs": [
    {
     "name": "stdout",
     "output_type": "stream",
     "text": [
      "trial:  0.9\n",
      "Noise folder:  noise_100,outliers_varied\n",
      "sizes dummy:  13534\n",
      "X kmeans shape before dummy:  (11427, 11427)\n",
      "X kmeans shape after dummy:  (13534, 13534)\n",
      "Noise folder:  noise_400,outliers_varied\n",
      "sizes dummy:  12730\n",
      "X kmeans shape before dummy:  (11323, 11323)\n",
      "X kmeans shape after dummy:  (12730, 12730)\n",
      "Noise folder:  noise_700,outliers_varied\n",
      "sizes dummy:  13266\n",
      "X kmeans shape before dummy:  (11333, 11333)\n",
      "X kmeans shape after dummy:  (13266, 13266)\n",
      "Noise folder:  noise_1300,outliers_varied\n",
      "sizes dummy:  13266\n",
      "X kmeans shape before dummy:  (11292, 11292)\n",
      "X kmeans shape after dummy:  (13266, 13266)\n",
      "Noise folder:  noise_1000,outliers_varied\n",
      "sizes dummy:  12998\n",
      "X kmeans shape before dummy:  (11262, 11262)\n",
      "X kmeans shape after dummy:  (12998, 12998)\n"
     ]
    }
   ],
   "source": [
    "trials = np.sort(os.listdir(path_to_graph_folder))\n",
    "\n",
    "\n",
    "scores = {100:[],400:[],700:[],1000:[],1300:[]}\n",
    "\n",
    "for trial in trials:\n",
    "    print('trial: ', trial)\n",
    "    \n",
    "    all_files = os.listdir(path_to_graph_folder+trial)\n",
    "    \n",
    "    for folder in all_files:\n",
    "        \n",
    "        if os.path.isdir(path_to_graph_folder+trial+'/'+ folder):\n",
    "            \n",
    "            print('Noise folder: ',folder)\n",
    "            \n",
    "            path_to_graphs = path_to_graph_folder + '/' + trial + '/' + folder+'/graphs/'\n",
    "            path_to_dummy_graphs = path_to_dummy_graph_folder + '/' + trial +'/' + folder + '/0/graphs/'\n",
    "            path_to_groundtruth_ref = path_to_graph_folder + '/' + trial +'/' + folder + '/permutation_to_ref_graph.gpickle'\n",
    "            path_to_groundtruth  = path_to_graph_folder + '/' + trial + '/' + folder + '/ground_truth.gpickle'\n",
    "            \n",
    "            noise = folder.split(',')[0].split('_')[1]\n",
    "            \n",
    "            graph_meta = dataset_metadata(path_to_graphs, path_to_groundtruth_ref)\n",
    "            \n",
    "            all_dummy_graphs = [nx.read_gpickle(path_to_dummy_graphs+'/'+g) for g in np.sort(os.listdir(path_to_dummy_graphs))]\n",
    "            \n",
    "            sizes_dummy = [nx.number_of_nodes(g) for g in all_dummy_graphs]\n",
    "            \n",
    "            print('sizes dummy: ', sum(sizes_dummy))\n",
    "                       \n",
    "            X_kmeans = sio.loadmat(path_to_graph_folder + '/' + trial + '/' + folder +'/X_kmeans.mat')['full_assignment_mat']   \n",
    "            dummy_mask = [list(nx.get_node_attributes(graph,'is_dummy').values()) for graph in all_dummy_graphs]\n",
    "            dummy_mask = sum(dummy_mask,[])\n",
    "            dummy_indexes = [i for i in range(len(dummy_mask)) if dummy_mask[i]==True] \n",
    "            \n",
    "            print('X kmeans shape before dummy: ', X_kmeans.shape) \n",
    "            \n",
    "            X_kmeans = insert_at(X_kmeans, (sum(sizes_dummy), sum(sizes_dummy)), (dummy_indexes, dummy_indexes))\n",
    "            \n",
    "            print('X kmeans shape after dummy: ',X_kmeans.shape)\n",
    "            \n",
    "            kmeans_X = {}\n",
    "            kmeans_X['full_assignment_mat'] = X_kmeans\n",
    "            \n",
    "            sio.savemat(path_to_graph_folder + '/' + trial + '/' + folder + '/X_kmeans_dummy.mat',kmeans_X)"
   ]
  },
  {
   "cell_type": "code",
   "execution_count": null,
   "metadata": {
    "scrolled": true
   },
   "outputs": [],
   "source": []
  },
  {
   "cell_type": "code",
   "execution_count": null,
   "metadata": {
    "scrolled": true
   },
   "outputs": [],
   "source": []
  },
  {
   "cell_type": "code",
   "execution_count": null,
   "metadata": {},
   "outputs": [],
   "source": []
  },
  {
   "cell_type": "code",
   "execution_count": null,
   "metadata": {},
   "outputs": [],
   "source": []
  },
  {
   "cell_type": "code",
   "execution_count": null,
   "metadata": {},
   "outputs": [],
   "source": []
  },
  {
   "cell_type": "code",
   "execution_count": null,
   "metadata": {},
   "outputs": [],
   "source": []
  },
  {
   "cell_type": "code",
   "execution_count": null,
   "metadata": {},
   "outputs": [],
   "source": []
  },
  {
   "cell_type": "code",
   "execution_count": null,
   "metadata": {},
   "outputs": [],
   "source": []
  }
 ],
 "metadata": {
  "kernelspec": {
   "display_name": "Python 3 (ipykernel)",
   "language": "python",
   "name": "python3"
  },
  "language_info": {
   "codemirror_mode": {
    "name": "ipython",
    "version": 3
   },
   "file_extension": ".py",
   "mimetype": "text/x-python",
   "name": "python",
   "nbconvert_exporter": "python",
   "pygments_lexer": "ipython3",
   "version": "3.8.0"
  }
 },
 "nbformat": 4,
 "nbformat_minor": 4
}
