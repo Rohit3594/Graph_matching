{
 "cells": [
  {
   "cell_type": "code",
   "execution_count": 16,
   "metadata": {},
   "outputs": [],
   "source": [
    "import os\n",
    "import sys\n",
    "sys.path.append(\"/home/rohit/PhD_Work/GM_my_version/Graph_matching/\")\n",
    "from sklearn.cluster import KMeans\n",
    "import networkx as nx\n",
    "import numpy as np\n",
    "from graph_generation.load_graphs_and_create_metadata import dataset_metadata\n",
    "from graph_matching_tools.metrics import matching\n",
    "import matplotlib.pyplot as plt\n",
    "import scipy.io as sio"
   ]
  },
  {
   "cell_type": "code",
   "execution_count": 17,
   "metadata": {},
   "outputs": [],
   "source": [
    "path_to_graph_folder = '/home/rohit/PhD_Work/GM_my_version/Graph_matching/data/simu_graph/NEW_SIMUS_JULY_11/'\n",
    "path_to_dummy_graph_folder = '/home/rohit/PhD_Work/GM_my_version/Graph_matching/data/simu_graph/NEW_SIMUS_JULY_11_with_dummy/'"
   ]
  },
  {
   "cell_type": "code",
   "execution_count": null,
   "metadata": {},
   "outputs": [],
   "source": []
  },
  {
   "cell_type": "code",
   "execution_count": 18,
   "metadata": {},
   "outputs": [
    {
     "data": {
      "text/plain": [
       "array(['0', '1', '2', '3', '4', '5', '6', '7', '8', '9'], dtype='<U1')"
      ]
     },
     "execution_count": 18,
     "metadata": {},
     "output_type": "execute_result"
    }
   ],
   "source": [
    "trials = np.sort(os.listdir(path_to_graph_folder))\n",
    "trials"
   ]
  },
  {
   "cell_type": "code",
   "execution_count": null,
   "metadata": {
    "scrolled": true
   },
   "outputs": [
    {
     "name": "stdout",
     "output_type": "stream",
     "text": [
      "trial:  0\n",
      "X_Match_eig shape (13563, 13563)\n",
      "X_Match_eig shape (13700, 13700)\n",
      "X_Match_eig shape (14111, 14111)\n",
      "X_Match_eig shape (13837, 13837)\n",
      "trial:  1\n",
      "X_Match_eig shape (13289, 13289)\n",
      "X_Match_eig shape (13152, 13152)\n",
      "X_Match_eig shape (13837, 13837)\n",
      "X_Match_eig shape (13426, 13426)\n",
      "trial:  2\n",
      "X_Match_eig shape (13837, 13837)\n",
      "X_Match_eig shape (13563, 13563)\n",
      "X_Match_eig shape (13974, 13974)\n",
      "X_Match_eig shape (13289, 13289)\n",
      "trial:  3\n",
      "X_Match_eig shape (13700, 13700)\n",
      "X_Match_eig shape (13563, 13563)\n",
      "X_Match_eig shape (13426, 13426)\n"
     ]
    }
   ],
   "source": [
    "\n",
    "for trial in trials:\n",
    "    print('trial: ', trial)\n",
    "    \n",
    "    all_files = os.listdir(path_to_graph_folder+trial)\n",
    "    \n",
    "    for folder in all_files:\n",
    "        \n",
    "        \n",
    "        if os.path.isdir(path_to_graph_folder+trial+'/'+ folder):\n",
    "            \n",
    "            path_to_X_mat = path_to_graph_folder + '/' + trial + '/' + folder\n",
    "            path_X_matcheig = path_to_X_mat + '/X_MatchEig.mat' \n",
    "            \n",
    "            X_mat = sio.loadmat(path_X_matcheig)['X']\n",
    "            X_MatchEig = {}\n",
    "            X_MatchEig['X'] = X_mat\n",
    "            \n",
    "            print('X_Match_eig shape', X_MatchEig['X'].shape)\n",
    "            \n",
    "            #save with dummy\n",
    "            sio.savemat(path_to_graph_folder + '/' + trial + '/' + folder + '/X_MatchEig.mat',X_MatchEig,do_compression=True)\n",
    "            \n",
    "            "
   ]
  },
  {
   "cell_type": "code",
   "execution_count": null,
   "metadata": {},
   "outputs": [],
   "source": []
  }
 ],
 "metadata": {
  "kernelspec": {
   "display_name": "Python 3 (ipykernel)",
   "language": "python",
   "name": "python3"
  },
  "language_info": {
   "codemirror_mode": {
    "name": "ipython",
    "version": 3
   },
   "file_extension": ".py",
   "mimetype": "text/x-python",
   "name": "python",
   "nbconvert_exporter": "python",
   "pygments_lexer": "ipython3",
   "version": "3.8.0"
  }
 },
 "nbformat": 4,
 "nbformat_minor": 4
}
