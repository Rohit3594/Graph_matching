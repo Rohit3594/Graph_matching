{
 "cells": [
  {
   "cell_type": "markdown",
   "metadata": {},
   "source": [
    "# Kmeans on spherical coordinates"
   ]
  },
  {
   "cell_type": "code",
   "execution_count": null,
   "metadata": {},
   "outputs": [],
   "source": [
    "import os\n",
    "import sys\n",
    "sys.path.append(\"/home/rohit/PhD_Work/GM_my_version/Graph_matching/\")\n",
    "from sklearn.cluster import KMeans\n",
    "import networkx as nx\n",
    "import numpy as np\n",
    "from graph_generation.load_graphs_and_create_metadata import dataset_metadata\n",
    "from graph_matching_tools.metrics import matching\n",
    "import matplotlib.pyplot as plt\n",
    "import scipy.io as sio"
   ]
  },
  {
   "cell_type": "code",
   "execution_count": null,
   "metadata": {},
   "outputs": [],
   "source": []
  },
  {
   "cell_type": "code",
   "execution_count": null,
   "metadata": {},
   "outputs": [],
   "source": [
    "path_to_graph_folder = '/home/rohit/PhD_Work/GM_my_version/Graph_matching/data/simu_graph/test_without_outliers/'"
   ]
  },
  {
   "cell_type": "code",
   "execution_count": null,
   "metadata": {},
   "outputs": [],
   "source": [
    "def get_permutation_matrix_from_dictionary(matching, g_sizes):\n",
    "    \"\"\"\n",
    "    Create the full permutation matrix from the matching result\n",
    "    :param matching: the matching result for each graph (nodes number, assignment)\n",
    "    :param g_sizes: the list of the size of the different graph\n",
    "    :return: the full permutation matrix\n",
    "    \"\"\"\n",
    "    f_size = int(np.sum(g_sizes))\n",
    "    res = np.zeros((f_size, f_size))\n",
    "\n",
    "    idx1 = 0\n",
    "    for i_g1 in range(len(g_sizes)):\n",
    "        idx2 = 0\n",
    "        for i_g2 in range(len(g_sizes)):\n",
    "            match = matching[\"{},{}\".format(i_g1, i_g2)]\n",
    "            for k in match:\n",
    "                res[idx1 + int(k), idx2 + match[k]] = 1\n",
    "            idx2 += g_sizes[i_g2]\n",
    "        idx1 += g_sizes[i_g1]\n",
    "        \n",
    "    np.fill_diagonal(res,1)\n",
    "    return res"
   ]
  },
  {
   "cell_type": "code",
   "execution_count": null,
   "metadata": {},
   "outputs": [],
   "source": [
    "def get_all_coords(list_graphs):\n",
    "    all_coords = []\n",
    "    for g in list_graphs:\n",
    "        coords = np.array(list(nx.get_node_attributes(g,'coord').values()))\n",
    "        all_coords.extend(coords)\n",
    "    all_coords = np.array(all_coords)\n",
    "    \n",
    "    return all_coords"
   ]
  },
  {
   "cell_type": "code",
   "execution_count": null,
   "metadata": {},
   "outputs": [],
   "source": [
    "def create_perm_from_labels(labels):\n",
    "    U = np.zeros((len(labels),len(set(labels))))\n",
    "    \n",
    "    for node,label in zip(range(U.shape[0]),labels):\n",
    "        U[node,label] = 1\n",
    "        \n",
    "    return U @ U.T,U"
   ]
  },
  {
   "cell_type": "code",
   "execution_count": null,
   "metadata": {},
   "outputs": [],
   "source": [
    "def get_labels_from_k_means(k, coords):\n",
    "    \n",
    "    kmeans = KMeans(n_clusters=k, random_state=0).fit(coords)\n",
    "    \n",
    "    return kmeans.labels_"
   ]
  },
  {
   "cell_type": "code",
   "execution_count": null,
   "metadata": {},
   "outputs": [],
   "source": []
  },
  {
   "cell_type": "code",
   "execution_count": null,
   "metadata": {
    "scrolled": false
   },
   "outputs": [],
   "source": [
    "trials = np.sort(os.listdir(path_to_graph_folder))\n",
    "\n",
    "k = 30\n",
    "\n",
    "scores = {100:[],400:[],700:[],1000:[],1300:[]}\n",
    "\n",
    "for trial in trials:\n",
    "    print('trial: ', trial)\n",
    "    \n",
    "    all_files = os.listdir(path_to_graph_folder+trial)\n",
    "    \n",
    "    for folder in all_files:\n",
    "        \n",
    "        if os.path.isdir(path_to_graph_folder+trial+'/'+ folder):\n",
    "            \n",
    "            print('Noise folder: ',folder)\n",
    "            \n",
    "            path_to_graphs = path_to_graph_folder + '/' + trial + '/' + folder+'/graphs/'\n",
    "            path_to_groundtruth_ref = path_to_graph_folder + '/' + trial +'/' + folder + '/permutation_to_ref_graph.gpickle'\n",
    "            path_to_groundtruth  = path_to_graph_folder + '/' + trial + '/' + folder + '/ground_truth.gpickle'\n",
    "            \n",
    "            \n",
    "            noise = folder.split(',')[0].split('_')[1]\n",
    "            \n",
    "\n",
    "            graph_meta = dataset_metadata(path_to_graphs, path_to_groundtruth_ref)\n",
    "            all_coords = get_all_coords(graph_meta.list_graphs)\n",
    "            ground_truth =  nx.read_gpickle(path_to_groundtruth)   \n",
    "            res = get_permutation_matrix_from_dictionary(ground_truth, graph_meta.sizes)            \n",
    "            \n",
    "            kmeans_labels = get_labels_from_k_means(k, all_coords)\n",
    "            \n",
    "            P,U = create_perm_from_labels(kmeans_labels)\n",
    "            \n",
    "            kmeans_X = {}\n",
    "            kmeans_X['full_assignment_mat'] = P\n",
    "            kmeans_X['U'] = U\n",
    "            \n",
    "            sio.savemat(path_to_graph_folder + '/' + trial + '/' + folder + '/X_kmeans.mat',kmeans_X)\n",
    "            \n",
    "            f1, prec, rec = matching.compute_f1score(P,res)\n",
    "            \n",
    "            scores[int(noise)].append(f1)"
   ]
  },
  {
   "cell_type": "code",
   "execution_count": null,
   "metadata": {
    "scrolled": true
   },
   "outputs": [],
   "source": [
    "f1, prec, rec"
   ]
  },
  {
   "cell_type": "code",
   "execution_count": null,
   "metadata": {
    "scrolled": false
   },
   "outputs": [],
   "source": [
    "scores"
   ]
  },
  {
   "cell_type": "code",
   "execution_count": null,
   "metadata": {},
   "outputs": [],
   "source": [
    "# nx.write_gpickle(scores,'kmeans_score_k_'+ str(k) +'.gpickle')"
   ]
  },
  {
   "cell_type": "code",
   "execution_count": null,
   "metadata": {},
   "outputs": [],
   "source": [
    "# k_70 = nx.read_gpickle('kmeans_score_k_70.gpickle')\n",
    "# k_90 = nx.read_gpickle('kmeans_score_k_90.gpickle')\n",
    "# k_110 = nx.read_gpickle('kmeans_score_k_110.gpickle')"
   ]
  },
  {
   "cell_type": "code",
   "execution_count": null,
   "metadata": {
    "scrolled": false
   },
   "outputs": [],
   "source": [
    "def score_mean_std(scores):\n",
    "    \n",
    "    avg_scores = []\n",
    "    std_scores = []\n",
    "\n",
    "    for keys,values in scores.items():\n",
    "        avg_scores.append(np.mean(values))\n",
    "        std_scores.append(np.std(values))\n",
    "        \n",
    "    return np.array(avg_scores), np.array(std_scores)"
   ]
  },
  {
   "cell_type": "code",
   "execution_count": null,
   "metadata": {},
   "outputs": [],
   "source": [
    "# k_70_mean, k_70_std  = score_mean_std(k_70)\n",
    "# k_90_mean, k_90_std  = score_mean_std(k_90)\n",
    "# k_110_mean, k_110_std = score_mean_std(k_110)"
   ]
  },
  {
   "cell_type": "code",
   "execution_count": null,
   "metadata": {},
   "outputs": [],
   "source": []
  },
  {
   "cell_type": "code",
   "execution_count": null,
   "metadata": {},
   "outputs": [],
   "source": []
  },
  {
   "cell_type": "code",
   "execution_count": null,
   "metadata": {},
   "outputs": [],
   "source": [
    "plt.figure(figsize=(14, 8))\n",
    "\n",
    "plt.plot(list(k_70.keys()), k_70_mean ,label = 'k = 70')\n",
    "plt.fill_between(list(k_70.keys()), k_70_mean-k_70_std, k_70_mean + k_70_std, alpha=0.2)\n",
    "\n",
    "\n",
    "plt.plot(list(k_90.keys()), k_90_mean ,label = 'k = 90')\n",
    "plt.fill_between(list(k_90.keys()), k_90_mean - k_90_std, k_90_mean + k_90_std, alpha=0.2)\n",
    "\n",
    "\n",
    "plt.plot(list(k_110.keys()), k_110_mean ,label = 'k = 110')\n",
    "plt.fill_between(list(k_110.keys()), k_110_mean - k_110_std, k_110_mean + k_110_std, alpha=0.2)\n",
    "\n",
    "\n",
    "plt.xlabel('kappa',fontweight=\"bold\")\n",
    "plt.ylabel('F1 score',fontweight=\"bold\")\n",
    "plt.legend(loc = 'lower left')\n",
    "plt.title('kmeans on simultion for different kappa values',fontweight=\"bold\")\n",
    "plt.gca().yaxis.grid(True)\n",
    "plt.gca().invert_xaxis()\n",
    "plt.show()"
   ]
  },
  {
   "cell_type": "code",
   "execution_count": null,
   "metadata": {},
   "outputs": [],
   "source": [
    "mat_0 = np.zeros((5,5))"
   ]
  },
  {
   "cell_type": "code",
   "execution_count": null,
   "metadata": {},
   "outputs": [],
   "source": [
    "mat_0[0,3] = 1\n",
    "mat_0[1,3] = 1\n",
    "mat_0[3,3] = 1"
   ]
  },
  {
   "cell_type": "code",
   "execution_count": null,
   "metadata": {},
   "outputs": [],
   "source": [
    "np.fill_diagonal(mat_0,1)"
   ]
  },
  {
   "cell_type": "code",
   "execution_count": null,
   "metadata": {},
   "outputs": [],
   "source": []
  },
  {
   "cell_type": "code",
   "execution_count": null,
   "metadata": {},
   "outputs": [],
   "source": []
  }
 ],
 "metadata": {
  "kernelspec": {
   "display_name": "Python 3",
   "language": "python",
   "name": "python3"
  },
  "language_info": {
   "codemirror_mode": {
    "name": "ipython",
    "version": 3
   },
   "file_extension": ".py",
   "mimetype": "text/x-python",
   "name": "python",
   "nbconvert_exporter": "python",
   "pygments_lexer": "ipython3",
   "version": "3.8.0"
  }
 },
 "nbformat": 4,
 "nbformat_minor": 4
}
