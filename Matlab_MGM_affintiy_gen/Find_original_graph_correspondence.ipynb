{
 "cells": [
  {
   "cell_type": "code",
   "execution_count": 1,
   "metadata": {},
   "outputs": [],
   "source": [
    "import os\n",
    "import sys\n",
    "sys.path.append(\"/home/rohit/PhD_Work/GM_my_version/Graph_matching/\")\n",
    "from sklearn.cluster import KMeans\n",
    "import networkx as nx\n",
    "import numpy as np\n",
    "from graph_generation.load_graphs_and_create_metadata import dataset_metadata\n",
    "from graph_matching_tools.metrics import matching\n",
    "import matplotlib.pyplot as plt\n",
    "import scipy.io as sio\n",
    "import pickle"
   ]
  },
  {
   "cell_type": "code",
   "execution_count": 2,
   "metadata": {},
   "outputs": [],
   "source": [
    "# corr_dict = pickle.load(open('correspondence_dict.pickle','rb'))\n",
    "# corr_dict"
   ]
  },
  {
   "cell_type": "code",
   "execution_count": 3,
   "metadata": {},
   "outputs": [],
   "source": [
    "def graph_remove_dummy_true(graph):\n",
    "    nodes_dummy_true = [x for x,y in graph.nodes(data=True) if y['is_dummy']==True]\n",
    "    graph.remove_nodes_from(nodes_dummy_true)\n",
    "    return graph"
   ]
  },
  {
   "cell_type": "code",
   "execution_count": 23,
   "metadata": {},
   "outputs": [],
   "source": [
    "path_to_original_graph_folder = '/home/rohit/PhD_Work/GM_my_version/Graph_matching/data/OASIS_labelled_pits_graphs/'\n",
    "path_to_oasis_full_batch = '/home/rohit/PhD_Work/GM_my_version/Graph_matching/data/OASIS_full_batch/modified_graphs/'\n",
    "path_to_save = '/home/rohit/PhD_Work/GM_my_version/Graph_matching/data/Oasis_original_graphs/'"
   ]
  },
  {
   "cell_type": "code",
   "execution_count": 5,
   "metadata": {
    "scrolled": true
   },
   "outputs": [],
   "source": [
    "oasis_original =  os.listdir(path_to_original_graph_folder)\n",
    "oasis_processed =  os.listdir(path_to_oasis_full_batch)"
   ]
  },
  {
   "cell_type": "code",
   "execution_count": 6,
   "metadata": {},
   "outputs": [],
   "source": [
    "correspondence = False\n",
    "node_alignment_list = []\n",
    "graph_alignment_list = []\n",
    "\n",
    "for i in oasis_original:\n",
    "    for j in oasis_processed:\n",
    "        \n",
    "        graph_i = nx.read_gpickle(path_to_original_graph_folder + i)\n",
    "        graph_j = nx.read_gpickle(path_to_oasis_full_batch + j)\n",
    "        \n",
    "        graph_remove_dummy_true(graph_j)\n",
    "        \n",
    "        if nx.number_of_nodes(graph_i) == nx.number_of_nodes(graph_j):\n",
    "            \n",
    "            counter = 0\n",
    "                       \n",
    "            for node_i, node_j in zip(graph_i,graph_j):\n",
    "                \n",
    "                if np.linalg.norm(graph_i.nodes[node_i]['sphere_3dcoords'] - graph_j.nodes[node_j]['sphere_3dcoords']) == 0. and graph_i.nodes[node_i]['vertex_index'] == graph_j.nodes[node_j]['vertex_index']:\n",
    "                    \n",
    "                    counter += 1\n",
    "                    \n",
    "            if len(graph_i) == counter:\n",
    "                \n",
    "                graph_alignment_list.append((i,j))\n",
    "                break\n",
    "                    \n",
    "                    \n",
    "        "
   ]
  },
  {
   "cell_type": "code",
   "execution_count": 12,
   "metadata": {},
   "outputs": [],
   "source": [
    "# pickle.dump(graph_alignment_list,open('graph_correspondence.pickle','wb'))"
   ]
  },
  {
   "cell_type": "code",
   "execution_count": 26,
   "metadata": {
    "scrolled": true
   },
   "outputs": [],
   "source": [
    "# for i,j in graph_alignment_list:\n",
    "    \n",
    "#     graph = nx.read_gpickle(path_to_original_graph_folder + i)\n",
    "    \n",
    "#     nx.write_gpickle(graph, path_to_save + j)\n",
    "#     print(i,'<-- saved as -->',j)"
   ]
  },
  {
   "cell_type": "code",
   "execution_count": 28,
   "metadata": {
    "scrolled": false
   },
   "outputs": [
    {
     "data": {
      "text/plain": [
       "{'vertex_index': 1057,\n",
       " 'sphere_3dcoords': [1.145402431488037,\n",
       "  -89.50767517089844,\n",
       "  -44.57650375366211],\n",
       " 'sphere_coords': [-1.5580003261566162, 2.032824993133545],\n",
       " 'basin_label': 391.0,\n",
       " 'basin_area': 172.33763,\n",
       " 'depth': 0.5382677,\n",
       " 'basin_thickness': 2.2415552139282227,\n",
       " 'ico100_7_vertex_index': 20273,\n",
       " 'label_neuroimage': 98,\n",
       " 'label_media': 61,\n",
       " 'sphere_3dcoords_noreg': array([ 10.458102, -84.889435, -51.811306], dtype=float32),\n",
       " 'ico100_7_vertex_index_noreg': 10331}"
      ]
     },
     "execution_count": 28,
     "metadata": {},
     "output_type": "execute_result"
    }
   ],
   "source": [
    "graph.nodes[0]"
   ]
  },
  {
   "cell_type": "code",
   "execution_count": null,
   "metadata": {},
   "outputs": [],
   "source": []
  },
  {
   "cell_type": "code",
   "execution_count": null,
   "metadata": {},
   "outputs": [],
   "source": [
    "# {'vertex_index': 1357,\n",
    "#  'sphere_3dcoords': [6.501389026641846,\n",
    "#   -93.98175048828125,\n",
    "#   -33.54344177246094],\n",
    "#  'sphere_coords': [-1.5017292499542236, 1.9128626585006714],\n",
    "#  'basin_label': 307.0,\n",
    "#  'basin_area': 447.01047,\n",
    "#  'depth': -0.18439683,\n",
    "#  'basin_thickness': 2.5869646072387695,\n",
    "#  'ico100_7_vertex_index': 7574,\n",
    "#  'label_neuroimage': 28,\n",
    "#  'label_media': 90,\n",
    "#  'sphere_3dcoords_noreg': array([ 17.402021, -91.770744, -35.71135 ], dtype=float32),\n",
    "#  'ico100_7_vertex_index_noreg': 11492}\n",
    "\n",
    "\n",
    "\n",
    "\n",
    "# {'vertex_index': 1366,\n",
    "#  'sphere_3dcoords': array([ 12.83329487, -94.31278229, -30.66602516]),\n",
    "#  'sphere_coords': [-1.435555338859558, 1.8824785947799683],\n",
    "#  'basin_label': 305.0,\n",
    "#  'basin_area': 238.1902,\n",
    "#  'depth': 0.17180969,\n",
    "#  'basin_thickness': 2.525979518890381,\n",
    "#  'ico100_7_vertex_index': 3821,\n",
    "#  'is_dummy': False,\n",
    "#  'label_dbscan': 0}"
   ]
  }
 ],
 "metadata": {
  "kernelspec": {
   "display_name": "Python 3",
   "language": "python",
   "name": "python3"
  },
  "language_info": {
   "codemirror_mode": {
    "name": "ipython",
    "version": 3
   },
   "file_extension": ".py",
   "mimetype": "text/x-python",
   "name": "python",
   "nbconvert_exporter": "python",
   "pygments_lexer": "ipython3",
   "version": "3.8.0"
  }
 },
 "nbformat": 4,
 "nbformat_minor": 4
}
