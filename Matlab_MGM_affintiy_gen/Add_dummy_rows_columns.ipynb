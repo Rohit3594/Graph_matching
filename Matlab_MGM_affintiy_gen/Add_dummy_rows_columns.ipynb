{
 "cells": [
  {
   "cell_type": "code",
   "execution_count": 1,
   "metadata": {},
   "outputs": [],
   "source": [
    "import os\n",
    "import sys\n",
    "sys.path.append(\"/home/rohit/PhD_Work/GM_my_version/Graph_matching/\")\n",
    "from sklearn.cluster import KMeans\n",
    "import networkx as nx\n",
    "import numpy as np\n",
    "from graph_generation.load_graphs_and_create_metadata import dataset_metadata\n",
    "from graph_matching_tools.metrics import matching\n",
    "import matplotlib.pyplot as plt\n",
    "import scipy.io as sio"
   ]
  },
  {
   "cell_type": "code",
   "execution_count": 2,
   "metadata": {},
   "outputs": [],
   "source": [
    "path_to_graph_folder = '/home/rohit/PhD_Work/GM_my_version/Graph_matching/data/simu_graph/simu_test_single_noise/'\n",
    "path_to_dummy_graph_folder = '/home/rohit/PhD_Work/GM_my_version/Graph_matching/data/simu_graph/simu_with_dummy/'"
   ]
  },
  {
   "cell_type": "code",
   "execution_count": null,
   "metadata": {},
   "outputs": [
    {
     "name": "stdout",
     "output_type": "stream",
     "text": [
      "trial:  0.0\n",
      "Noise folder:  noise_100,outliers_varied\n",
      "sizes dummy:  13132\n",
      "X kmeans shape before dummy:  (11434, 11434)\n",
      "X kmeans shape after dummy:  (13132, 13132)\n",
      "Noise folder:  noise_400,outliers_varied\n",
      "sizes dummy:  13400\n",
      "X kmeans shape before dummy:  (11361, 11361)\n",
      "X kmeans shape after dummy:  (13400, 13400)\n",
      "Noise folder:  noise_700,outliers_varied\n",
      "sizes dummy:  13266\n",
      "X kmeans shape before dummy:  (11279, 11279)\n",
      "X kmeans shape after dummy:  (13266, 13266)\n",
      "Noise folder:  noise_1300,outliers_varied\n",
      "sizes dummy:  13534\n",
      "X kmeans shape before dummy:  (11432, 11432)\n",
      "X kmeans shape after dummy:  (13534, 13534)\n",
      "Noise folder:  noise_1000,outliers_varied\n",
      "sizes dummy:  13400\n",
      "X kmeans shape before dummy:  (11318, 11318)\n",
      "X kmeans shape after dummy:  (13400, 13400)\n",
      "trial:  0.1\n",
      "Noise folder:  noise_100,outliers_varied\n",
      "sizes dummy:  12864\n",
      "X kmeans shape before dummy:  (11337, 11337)\n",
      "X kmeans shape after dummy:  (12864, 12864)\n",
      "Noise folder:  noise_400,outliers_varied\n",
      "sizes dummy:  13132\n",
      "X kmeans shape before dummy:  (11406, 11406)\n",
      "X kmeans shape after dummy:  (13132, 13132)\n",
      "Noise folder:  noise_700,outliers_varied\n",
      "sizes dummy:  12596\n",
      "X kmeans shape before dummy:  (11169, 11169)\n",
      "X kmeans shape after dummy:  (12596, 12596)\n",
      "Noise folder:  noise_1300,outliers_varied\n",
      "sizes dummy:  12864\n",
      "X kmeans shape before dummy:  (11248, 11248)\n",
      "X kmeans shape after dummy:  (12864, 12864)\n",
      "Noise folder:  noise_1000,outliers_varied\n",
      "sizes dummy:  12864\n",
      "X kmeans shape before dummy:  (11358, 11358)\n",
      "X kmeans shape after dummy:  (12864, 12864)\n",
      "trial:  0.2\n",
      "Noise folder:  noise_100,outliers_varied\n",
      "sizes dummy:  13534\n",
      "X kmeans shape before dummy:  (11427, 11427)\n",
      "X kmeans shape after dummy:  (13534, 13534)\n",
      "Noise folder:  noise_400,outliers_varied\n",
      "sizes dummy:  12730\n",
      "X kmeans shape before dummy:  (11323, 11323)\n",
      "X kmeans shape after dummy:  (12730, 12730)\n",
      "Noise folder:  noise_700,outliers_varied\n",
      "sizes dummy:  13266\n",
      "X kmeans shape before dummy:  (11333, 11333)\n",
      "X kmeans shape after dummy:  (13266, 13266)\n",
      "Noise folder:  noise_1300,outliers_varied\n",
      "sizes dummy:  13266\n",
      "X kmeans shape before dummy:  (11292, 11292)\n",
      "X kmeans shape after dummy:  (13266, 13266)\n",
      "Noise folder:  noise_1000,outliers_varied\n",
      "sizes dummy:  12998\n",
      "X kmeans shape before dummy:  (11262, 11262)\n"
     ]
    }
   ],
   "source": [
    "trials = np.sort(os.listdir(path_to_graph_folder))\n",
    "\n",
    "\n",
    "scores = {100:[],400:[],700:[],1000:[],1300:[]}\n",
    "\n",
    "for trial in trials:\n",
    "    print('trial: ', trial)\n",
    "    \n",
    "    all_files = os.listdir(path_to_graph_folder+trial)\n",
    "    \n",
    "    for folder in all_files:\n",
    "        \n",
    "        if os.path.isdir(path_to_graph_folder+trial+'/'+ folder):\n",
    "            \n",
    "            print('Noise folder: ',folder)\n",
    "            \n",
    "            path_to_graphs = path_to_graph_folder + '/' + trial + '/' + folder+'/graphs/'\n",
    "            path_to_dummy_graphs = path_to_dummy_graph_folder + '/' + trial +'/' + folder + '/0/graphs/'\n",
    "            path_to_groundtruth_ref = path_to_graph_folder + '/' + trial +'/' + folder + '/permutation_to_ref_graph.gpickle'\n",
    "            path_to_groundtruth  = path_to_graph_folder + '/' + trial + '/' + folder + '/ground_truth.gpickle'\n",
    "            \n",
    "            noise = folder.split(',')[0].split('_')[1]\n",
    "            \n",
    "            graph_meta = dataset_metadata(path_to_graphs, path_to_groundtruth_ref)\n",
    "            \n",
    "            all_dummy_graphs = [nx.read_gpickle(path_to_dummy_graphs+'/'+g) for g in np.sort(os.listdir(path_to_dummy_graphs))]\n",
    "            \n",
    "            sizes_dummy = [nx.number_of_nodes(g) for g in all_dummy_graphs]\n",
    "            \n",
    "            print('sizes dummy: ', sum(sizes_dummy))\n",
    "                       \n",
    "            X_kmeans = sio.loadmat(path_to_graph_folder + '/' + trial + '/' + folder +'/X_kmeans.mat')['full_assignment_mat']   \n",
    "            dummy_mask = [list(nx.get_node_attributes(graph,'is_dummy').values()) for graph in all_dummy_graphs]\n",
    "            dummy_mask = sum(dummy_mask,[])\n",
    "            dummy_indexes = [i for i in range(len(dummy_mask)) if dummy_mask[i]==True] \n",
    "            \n",
    "            print('X kmeans shape before dummy: ', X_kmeans.shape) \n",
    "            \n",
    "            for index in dummy_indexes:\n",
    "                \n",
    "                X_kmeans = np.insert(X_kmeans, index, 0., axis = 0) # add the dummy rows\n",
    "                X_kmeans = np.insert(X_kmeans, index, 0., axis = 1) # add the dummy columns\n",
    "                \n",
    "            print('X kmeans shape after dummy: ',X_kmeans.shape)\n",
    "            \n",
    "            kmeans_X = {}\n",
    "            kmeans_X['full_assignment_mat'] = X_kmeans\n",
    "            \n",
    "            sio.savemat(path_to_graph_folder + '/' + trial + '/' + folder + '/X_kmeans_dummy.mat',kmeans_X)\n"
   ]
  },
  {
   "cell_type": "code",
   "execution_count": null,
   "metadata": {
    "scrolled": true
   },
   "outputs": [],
   "source": []
  },
  {
   "cell_type": "code",
   "execution_count": null,
   "metadata": {
    "scrolled": true
   },
   "outputs": [],
   "source": [
    "# graph_meta.sizes"
   ]
  },
  {
   "cell_type": "code",
   "execution_count": null,
   "metadata": {},
   "outputs": [],
   "source": []
  },
  {
   "cell_type": "code",
   "execution_count": null,
   "metadata": {},
   "outputs": [],
   "source": []
  },
  {
   "cell_type": "code",
   "execution_count": null,
   "metadata": {},
   "outputs": [],
   "source": []
  },
  {
   "cell_type": "code",
   "execution_count": null,
   "metadata": {},
   "outputs": [],
   "source": []
  },
  {
   "cell_type": "code",
   "execution_count": null,
   "metadata": {},
   "outputs": [],
   "source": []
  },
  {
   "cell_type": "code",
   "execution_count": null,
   "metadata": {},
   "outputs": [],
   "source": []
  }
 ],
 "metadata": {
  "kernelspec": {
   "display_name": "Python 3",
   "language": "python",
   "name": "python3"
  },
  "language_info": {
   "codemirror_mode": {
    "name": "ipython",
    "version": 3
   },
   "file_extension": ".py",
   "mimetype": "text/x-python",
   "name": "python",
   "nbconvert_exporter": "python",
   "pygments_lexer": "ipython3",
   "version": "3.8.0"
  }
 },
 "nbformat": 4,
 "nbformat_minor": 4
}
