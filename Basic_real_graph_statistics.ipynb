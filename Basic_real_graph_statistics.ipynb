{
 "cells": [
  {
   "cell_type": "code",
   "execution_count": 2,
   "metadata": {},
   "outputs": [],
   "source": [
    "import pickle as p\n",
    "import networkx as nx\n",
    "import numpy as np"
   ]
  },
  {
   "cell_type": "code",
   "execution_count": 32,
   "metadata": {},
   "outputs": [],
   "source": [
    "sing_graph = p.load(open(\"./data/OASIS_full_batch/modified_graphs/graph_0.gpickle\", \"rb\" ))"
   ]
  },
  {
   "cell_type": "code",
   "execution_count": null,
   "metadata": {},
   "outputs": [],
   "source": []
  },
  {
   "cell_type": "code",
   "execution_count": null,
   "metadata": {},
   "outputs": [],
   "source": [
    "# Generate the graph\n",
    "# g, adj, protS, dict_s = getGraph_fairwalk(sizes=sizes, probs=probs, choice=method)\n",
    "# nx.set_node_attributes(g,dict_s,'sensitive_attr')\n",
    "# attr_comm = [{i for i in dict_s if dict_s[i]==0},{i for i in dict_s if dict_s[i]==1}] #communities on basis of attribute\n",
    "\n",
    "# dens.append(nx.density(g))\n",
    "# assort.append(nx.algorithms.assortativity.degree_pearson_correlation_coefficient(g)) #Compute degree assortativity of graph.\n",
    "# assort_attributes.append(nx.attribute_assortativity_coefficient(g, 'sensitive_attr')) # assortavity with attributes\n",
    "# clustering.append(nx.algorithms.cluster.average_clustering(g))\n",
    "# modularity.append(nx.algorithms.community.modularity(g,attr_comm))"
   ]
  },
  {
   "cell_type": "code",
   "execution_count": null,
   "metadata": {},
   "outputs": [],
   "source": [
    "nx.density(sing_graph)"
   ]
  },
  {
   "cell_type": "code",
   "execution_count": null,
   "metadata": {},
   "outputs": [],
   "source": [
    "nx.algorithms.cluster.average_clustering(sing_graph)"
   ]
  },
  {
   "cell_type": "code",
   "execution_count": null,
   "metadata": {},
   "outputs": [],
   "source": [
    "#nx.attribute_assortativity_coefficient(sing_graph,'')"
   ]
  },
  {
   "cell_type": "code",
   "execution_count": null,
   "metadata": {
    "scrolled": true
   },
   "outputs": [],
   "source": [
    "sing_graph.nodes.data()"
   ]
  },
  {
   "cell_type": "code",
   "execution_count": 33,
   "metadata": {},
   "outputs": [],
   "source": [
    "def remove_dummy_nodes(graph):\n",
    "    G = graph.copy()\n",
    "    to_remove = []\n",
    "    for (p, d) in G.nodes(data=True):\n",
    "        if d['is_dummy'] == True:\n",
    "            to_remove.append(p)\n",
    "    G.remove_nodes_from(to_remove)\n",
    "    return G"
   ]
  },
  {
   "cell_type": "code",
   "execution_count": 34,
   "metadata": {},
   "outputs": [],
   "source": [
    "# g = sing_graph"
   ]
  },
  {
   "cell_type": "code",
   "execution_count": 35,
   "metadata": {},
   "outputs": [],
   "source": [
    "real_graph = remove_dummy_nodes(sing_graph)"
   ]
  },
  {
   "cell_type": "code",
   "execution_count": 36,
   "metadata": {
    "scrolled": true
   },
   "outputs": [
    {
     "data": {
      "text/plain": [
       "NodeView((0, 1, 2, 3, 4, 5, 6, 7, 8, 9, 10, 11, 12, 13, 14, 15, 16, 17, 18, 19, 20, 21, 22, 23, 24, 25, 26, 27, 28, 29, 30, 31, 32, 33, 34, 35, 36, 37, 38, 39, 40, 41, 42, 43, 44, 45, 46, 47, 48, 49, 50, 51, 52, 53, 54, 55, 56, 57, 58, 59, 60, 61, 62, 63, 64, 65, 66, 67, 68, 69, 70, 71, 72, 73, 74, 75, 76, 77, 78, 79, 80, 81, 82))"
      ]
     },
     "execution_count": 36,
     "metadata": {},
     "output_type": "execute_result"
    }
   ],
   "source": [
    "real_graph.nodes"
   ]
  },
  {
   "cell_type": "code",
   "execution_count": 38,
   "metadata": {},
   "outputs": [
    {
     "data": {
      "text/plain": [
       "NodeView((0, 1, 2, 3, 4, 5, 6, 7, 8, 9, 10, 11, 12, 13, 14, 15, 16, 17, 18, 19, 20, 21, 22, 23, 24, 25, 26, 27, 28, 29, 30, 31, 32, 33, 34, 35, 36, 37, 38, 39, 40, 41, 42, 43, 44, 45, 46, 47, 48, 49, 50, 51, 52, 53, 54, 55, 56, 57, 58, 59, 60, 61, 62, 63, 64, 65, 66, 67, 68, 69, 70, 71, 72, 73, 74, 75, 76, 77, 78, 79, 80, 81, 82, 83, 84, 85, 86, 87, 88, 89, 90, 91, 92, 93, 94, 95, 96, 97, 98, 99, 100))"
      ]
     },
     "execution_count": 38,
     "metadata": {},
     "output_type": "execute_result"
    }
   ],
   "source": [
    "sing_graph.nodes"
   ]
  },
  {
   "cell_type": "code",
   "execution_count": null,
   "metadata": {},
   "outputs": [],
   "source": []
  },
  {
   "cell_type": "code",
   "execution_count": 10,
   "metadata": {},
   "outputs": [],
   "source": [
    "ground_truth = np.load(\"ground_truth.npy\")"
   ]
  },
  {
   "cell_type": "code",
   "execution_count": 36,
   "metadata": {},
   "outputs": [],
   "source": [
    "gtpm = np.zeros((1, 89), dtype=int)"
   ]
  },
  {
   "cell_type": "code",
   "execution_count": 39,
   "metadata": {},
   "outputs": [],
   "source": [
    "gtpm[0,:] = ground_truth[0][0]"
   ]
  },
  {
   "cell_type": "code",
   "execution_count": 47,
   "metadata": {
    "scrolled": true
   },
   "outputs": [
    {
     "data": {
      "text/plain": [
       "array([84, 68, 80, 23,  9, 42, 28, 33, 32, 75, 17, 41, 12, 24, 65, 29, 30,\n",
       "       43, 13,  7, 88, 27, 56, 21,  6, 16, 48, 63, 15, 14, 37, 59, 38, 18,\n",
       "       52, 83, 31, 22, 69, 73, 46, 44, 54, 62, 36, 64, 55,  5, 86, 82,  2,\n",
       "        8, 49, 71, 78, 47, 50, 57, 51, 72, 77, 87, 67, 25,  3, 26, 19, 11,\n",
       "        0, 79, 35,  1, 85, 10, 40, 53, 66, 60,  4, 70, 45, 81, 20, 74, 34,\n",
       "       61, 39, 58, 76])"
      ]
     },
     "execution_count": 47,
     "metadata": {},
     "output_type": "execute_result"
    }
   ],
   "source": [
    "ground_truth[2][1]"
   ]
  },
  {
   "cell_type": "code",
   "execution_count": null,
   "metadata": {},
   "outputs": [],
   "source": []
  },
  {
   "cell_type": "code",
   "execution_count": 51,
   "metadata": {},
   "outputs": [
    {
     "data": {
      "text/plain": [
       "array([34,  0, 45, 21, 75, 54, 15, 18, 38, 53, 43, 44, 12,  6, 26, 14, 37,\n",
       "       62, 24, 33, 76, 63, 50, 27, 28, 30, 86, 25, 29, 65, 22, 72, 69, 13,\n",
       "       49, 74, 59, 56, 79, 10, 55, 36, 78, 67, 31,  3, 47, 42, 39, 20, 80,\n",
       "       32, 82,  1,  4,  5,  2, 57,  8, 85, 60, 58, 11, 16, 23, 48,  7, 41,\n",
       "       84, 70, 83, 68, 61, 17, 46, 71, 19, 77,  9, 35, 64, 81, 88, 40, 52,\n",
       "       87, 73, 51, 66])"
      ]
     },
     "execution_count": 51,
     "metadata": {},
     "output_type": "execute_result"
    }
   ],
   "source": [
    "perm_mat_1 = ground_truth[1][2]\n",
    "perm_mat_2 = ground_truth[2][1]\n",
    "\n",
    "result_perm = np.zeros((perm_mat_1.shape[0],), dtype=int)\n",
    "\n",
    "for node_reference, node_noisy_1 in enumerate(perm_mat_1):\n",
    "    # get the corresponding node in the second graph\n",
    "    node_noisy_2 = perm_mat_2[node_reference]\n",
    "\n",
    "    # Fill the result\n",
    "    result_perm[node_noisy_1] = node_noisy_2\n",
    "\n",
    "result_perm"
   ]
  },
  {
   "cell_type": "code",
   "execution_count": 80,
   "metadata": {},
   "outputs": [
    {
     "data": {
      "text/plain": [
       "array([68, 71, 50, 64, 78, 47, 24, 19, 51,  4, 73, 67, 12, 18, 29, 28, 25,\n",
       "       10, 33, 66, 82, 23, 37,  3, 13, 63, 65, 21,  6, 15, 16, 36,  8,  7,\n",
       "       84, 70, 44, 30, 32, 86, 74, 11,  5, 17, 41, 80, 40, 55, 26, 52, 56,\n",
       "       58, 34, 75, 42, 46, 22, 57, 87, 31, 77, 85, 43, 27, 45, 14, 76, 62,\n",
       "        1, 38, 79, 53, 59, 39, 83,  9, 88, 60, 54, 69,  2, 81, 49, 35,  0,\n",
       "       72, 48, 61, 20])"
      ]
     },
     "execution_count": 80,
     "metadata": {},
     "output_type": "execute_result"
    }
   ],
   "source": [
    "perm_mat_1"
   ]
  },
  {
   "cell_type": "code",
   "execution_count": 77,
   "metadata": {},
   "outputs": [
    {
     "data": {
      "text/plain": [
       "array([84, 68, 80, 23,  9, 42, 28, 33, 32, 75, 17, 41, 12, 24, 65, 29, 30,\n",
       "       43, 13,  7, 88, 27, 56, 21,  6, 16, 48, 63, 15, 14, 37, 59, 38, 18,\n",
       "       52, 83, 31, 22, 69, 73, 46, 44, 54, 62, 36, 64, 55,  5, 86, 82,  2,\n",
       "        8, 49, 71, 78, 47, 50, 57, 51, 72, 77, 87, 67, 25,  3, 26, 19, 11,\n",
       "        0, 79, 35,  1, 85, 10, 40, 53, 66, 60,  4, 70, 45, 81, 20, 74, 34,\n",
       "       61, 39, 58, 76])"
      ]
     },
     "execution_count": 77,
     "metadata": {},
     "output_type": "execute_result"
    }
   ],
   "source": [
    "perm_mat_2"
   ]
  },
  {
   "cell_type": "code",
   "execution_count": 81,
   "metadata": {},
   "outputs": [
    {
     "data": {
      "text/plain": [
       "array([34,  0, 45, 21, 75, 54, 15, 18, 38, 53, 43, 44, 12,  6, 26, 14, 37,\n",
       "       62, 24, 33, 76, 63, 50, 27, 28, 30, 86, 25, 29, 65, 22, 72, 69, 13,\n",
       "       49, 74, 59, 56, 79, 10, 55, 36, 78, 67, 31,  3, 47, 42, 39, 20, 80,\n",
       "       32, 82,  1,  4,  5,  2, 57,  8, 85, 60, 58, 11, 16, 23, 48,  7, 41,\n",
       "       84, 70, 83, 68, 61, 17, 46, 71, 19, 77,  9, 35, 64, 81, 88, 40, 52,\n",
       "       87, 73, 51, 66])"
      ]
     },
     "execution_count": 81,
     "metadata": {},
     "output_type": "execute_result"
    }
   ],
   "source": [
    "result_perm"
   ]
  },
  {
   "cell_type": "code",
   "execution_count": 82,
   "metadata": {},
   "outputs": [],
   "source": [
    "import scipy.io as sio"
   ]
  },
  {
   "cell_type": "code",
   "execution_count": 83,
   "metadata": {},
   "outputs": [],
   "source": [
    "affi_0_1 = sio.loadmat('affinity_0_1.mat')"
   ]
  },
  {
   "cell_type": "code",
   "execution_count": 87,
   "metadata": {},
   "outputs": [
    {
     "data": {
      "text/plain": [
       "(261, 261)"
      ]
     },
     "execution_count": 87,
     "metadata": {},
     "output_type": "execute_result"
    }
   ],
   "source": [
    "affi_0_1['kE12'].shape"
   ]
  },
  {
   "cell_type": "code",
   "execution_count": 91,
   "metadata": {},
   "outputs": [],
   "source": [
    "#affi_0_1"
   ]
  },
  {
   "cell_type": "code",
   "execution_count": 92,
   "metadata": {},
   "outputs": [],
   "source": [
    "per_mat = np.load(\"noise_1000,outliers_0/ground_truth.npy\")"
   ]
  },
  {
   "cell_type": "code",
   "execution_count": 100,
   "metadata": {},
   "outputs": [
    {
     "data": {
      "text/plain": [
       "array([ 6,  7,  1, 19, 10,  3, 15, 13, 12, 18,  2,  0,  9,  5, 14,  4, 11,\n",
       "       17,  8, 16])"
      ]
     },
     "execution_count": 100,
     "metadata": {},
     "output_type": "execute_result"
    }
   ],
   "source": [
    "per_mat[0][2]"
   ]
  },
  {
   "cell_type": "code",
   "execution_count": 104,
   "metadata": {},
   "outputs": [
    {
     "data": {
      "text/plain": [
       "array([11,  2, 10,  5, 15, 13,  0,  1, 18, 12,  4, 16,  8,  7, 14,  6, 19,\n",
       "       17,  9,  3])"
      ]
     },
     "execution_count": 104,
     "metadata": {},
     "output_type": "execute_result"
    }
   ],
   "source": [
    "per_mat[2][0]"
   ]
  },
  {
   "cell_type": "code",
   "execution_count": null,
   "metadata": {},
   "outputs": [],
   "source": []
  },
  {
   "cell_type": "code",
   "execution_count": 5,
   "metadata": {},
   "outputs": [],
   "source": [
    "e = np.array(list(range(0, 0, 5)))"
   ]
  },
  {
   "cell_type": "code",
   "execution_count": 6,
   "metadata": {},
   "outputs": [
    {
     "data": {
      "text/plain": [
       "array([], dtype=float64)"
      ]
     },
     "execution_count": 6,
     "metadata": {},
     "output_type": "execute_result"
    }
   ],
   "source": [
    "e"
   ]
  },
  {
   "cell_type": "code",
   "execution_count": null,
   "metadata": {},
   "outputs": [],
   "source": []
  },
  {
   "cell_type": "code",
   "execution_count": 12,
   "metadata": {},
   "outputs": [],
   "source": [
    "g = nx.read_gpickle(\"graph_25.gpickle\")"
   ]
  },
  {
   "cell_type": "code",
   "execution_count": 13,
   "metadata": {},
   "outputs": [
    {
     "data": {
      "text/plain": [
       "72"
      ]
     },
     "execution_count": 13,
     "metadata": {},
     "output_type": "execute_result"
    }
   ],
   "source": [
    "len(g.nodes())"
   ]
  },
  {
   "cell_type": "code",
   "execution_count": 15,
   "metadata": {},
   "outputs": [
    {
     "data": {
      "text/plain": [
       "NodeView((0, 1, 2, 3, 4, 5, 6, 7, 8, 9, 10, 11, 12, 13, 14, 15, 16, 17, 18, 19, 20, 21, 22, 23, 24, 25, 26, 27, 28, 29, 30, 31, 32, 33, 34, 35, 36, 37, 38, 39, 40, 41, 42, 43, 44, 45, 46, 47, 48, 49, 50, 51, 52, 53, 54, 55, 56, 57, 58, 59, 60, 61, 62, 63, 64, 65, 66, 67, 68, 69, 70, 71))"
      ]
     },
     "execution_count": 15,
     "metadata": {},
     "output_type": "execute_result"
    }
   ],
   "source": [
    "g.nodes()"
   ]
  },
  {
   "cell_type": "code",
   "execution_count": null,
   "metadata": {},
   "outputs": [],
   "source": []
  }
 ],
 "metadata": {
  "kernelspec": {
   "display_name": "Python 3",
   "language": "python",
   "name": "python3"
  },
  "language_info": {
   "codemirror_mode": {
    "name": "ipython",
    "version": 3
   },
   "file_extension": ".py",
   "mimetype": "text/x-python",
   "name": "python",
   "nbconvert_exporter": "python",
   "pygments_lexer": "ipython3",
   "version": "3.8.3"
  }
 },
 "nbformat": 4,
 "nbformat_minor": 4
}
