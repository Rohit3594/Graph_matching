{
 "cells": [
  {
   "cell_type": "code",
   "execution_count": 23,
   "metadata": {},
   "outputs": [],
   "source": [
    "import pickle as p\n",
    "import networkx as nx\n",
    "import numpy as np\n",
    "import scipy.io as sio"
   ]
  },
  {
   "cell_type": "code",
   "execution_count": 24,
   "metadata": {},
   "outputs": [],
   "source": [
    "path_result_mat = \"./data/OASIS_full_batch/\""
   ]
  },
  {
   "cell_type": "code",
   "execution_count": 25,
   "metadata": {},
   "outputs": [],
   "source": [
    "def remove_dummy_nodes(graph):\n",
    "    G = graph.copy()\n",
    "    to_remove = []\n",
    "    for (p, d) in G.nodes(data=True):\n",
    "        if d['is_dummy'] == True:\n",
    "            to_remove.append(p)\n",
    "    G.remove_nodes_from(to_remove)\n",
    "    return G"
   ]
  },
  {
   "cell_type": "code",
   "execution_count": 26,
   "metadata": {},
   "outputs": [],
   "source": [
    "sing_graph = p.load(open(\"./data/OASIS_full_batch/modified_graphs/graph_24.gpickle\", \"rb\" ))"
   ]
  },
  {
   "cell_type": "code",
   "execution_count": 27,
   "metadata": {
    "scrolled": true
   },
   "outputs": [],
   "source": [
    "is_dummy = []\n",
    "for i in range(134):\n",
    "    sing_graph = p.load(open(\"./data/OASIS_full_batch/modified_graphs/graph_\"+str(i)+\".gpickle\",\"rb\"))\n",
    "    is_dummy.append(list(nx.get_node_attributes(sing_graph,\"is_dummy\").values()))\n",
    "    \n",
    "is_dummy_vect = [val for sublist in is_dummy for val in sublist]"
   ]
  },
  {
   "cell_type": "code",
   "execution_count": null,
   "metadata": {
    "scrolled": true
   },
   "outputs": [],
   "source": [
    "np.where(np.array(is_dummy_vect)==True)[0]"
   ]
  },
  {
   "cell_type": "code",
   "execution_count": null,
   "metadata": {},
   "outputs": [],
   "source": [
    "# First select the graph with highest number nodes\n",
    "max_node = 0\n",
    "largest_graph = 0\n",
    "for i in range(134):\n",
    "    g = p.load(open(\"./data/OASIS_full_batch/modified_graphs/graph_\"+str(i)+\".gpickle\",\"rb\"))\n",
    "    g = remove_dummy_nodes(g)\n",
    "    if len(g.nodes()) > max_node:\n",
    "        max_node = len(g.nodes())\n",
    "        largest_graph = g\n",
    "        print(max_node,i)\n",
    "        lar_graph_ind = i"
   ]
  },
  {
   "cell_type": "code",
   "execution_count": 21,
   "metadata": {},
   "outputs": [],
   "source": [
    "x_mSync = sio.loadmat(path_result_mat+\"X_mSync.mat\")['X']"
   ]
  },
  {
   "cell_type": "code",
   "execution_count": 3,
   "metadata": {},
   "outputs": [],
   "source": [
    "x_mALS = sio.loadmat(path_result_mat+\"X_mALS.mat\")['X']"
   ]
  },
  {
   "cell_type": "code",
   "execution_count": 4,
   "metadata": {
    "scrolled": false
   },
   "outputs": [
    {
     "data": {
      "text/plain": [
       "array([0, 0, 0, 0, 0, 0, 0, 0, 0, 0, 0, 0, 0, 0, 0, 0, 0, 0, 0, 0, 0, 0,\n",
       "       0, 0, 0, 0, 0, 0, 0, 0, 0, 0, 0, 0, 0, 0, 0, 0, 0, 0, 0, 0, 0, 0,\n",
       "       0, 0, 0, 0, 0, 0, 0, 0, 0, 0, 0, 0, 0, 0, 0, 0, 0, 0, 0, 0, 0, 0,\n",
       "       0, 0, 0, 0, 0, 0, 0, 0, 0, 0, 0, 0, 0, 0, 0, 0, 0, 0, 0, 0, 0, 0,\n",
       "       0, 0, 0, 0, 0, 0, 0, 0, 0, 0, 0, 0, 0], dtype=uint8)"
      ]
     },
     "execution_count": 4,
     "metadata": {},
     "output_type": "execute_result"
    }
   ],
   "source": [
    "x_mALS[0,:101]"
   ]
  },
  {
   "cell_type": "code",
   "execution_count": 22,
   "metadata": {
    "scrolled": true
   },
   "outputs": [
    {
     "name": "stdout",
     "output_type": "stream",
     "text": [
      "0\n"
     ]
    }
   ],
   "source": [
    "matching_matrix = x_mSync\n",
    "counter = 0\n",
    "nb_graphs = 134\n",
    "nb_nodes = int(matching_matrix.shape[0]/nb_graphs)\n",
    "\n",
    "match_node_value = {k:[] for k in range(nb_graphs)}\n",
    "\n",
    "#graph_ref_num = lar_graph_ind\n",
    "\n",
    "for graph_num in range(nb_graphs):\n",
    "    \n",
    "    graph_ref_num = p.load(open(\"./data/OASIS_full_batch/modified_graphs/graph_\"+str(graph_num)+\".gpickle\",\"rb\"))\n",
    "\n",
    "    rscope = range(graph_num * nb_nodes, (graph_num + 1) * nb_nodes)\n",
    "\n",
    "    for i in range(nb_graphs-1):\n",
    "        \n",
    "        iscope = range(i * nb_nodes, (i+1)*nb_nodes)\n",
    "        Xri = np.array(matching_matrix[np.ix_(rscope, iscope)], dtype=int)\n",
    "        \n",
    "        graph = p.load(open(\"./data/OASIS_full_batch/modified_graphs/graph_\"+str(i)+\".gpickle\",\"rb\"))\n",
    "                   \n",
    "        for j in range(Xri.shape[0]):  \n",
    "            if graph.nodes[j]['is_dummy'] == False and len(np.where(Xri[j,:]==1)[0])!=0:                \n",
    "                \n",
    "                       #if graph_ref_num.nodes[int(np.where(Xri[j,:]==1)[0])]['is_dummy'] == False:\n",
    "                    \n",
    "                        if len(np.where(Xri[j,:]==1)[0])>1:\n",
    "                            \n",
    "                            counter+=1\n",
    "                       \n",
    "                               #match_node_value[int(np.where(Xri[j,:]==1)[0])].append(1)\n",
    "print(counter)\n",
    "\n"
   ]
  },
  {
   "cell_type": "code",
   "execution_count": 56,
   "metadata": {},
   "outputs": [],
   "source": [
    "indexes = np.where(matching_matrix[6,:]==1)[0]"
   ]
  },
  {
   "cell_type": "code",
   "execution_count": 90,
   "metadata": {},
   "outputs": [],
   "source": [
    "matching_matrix = x_mSync\n",
    "nb_graphs = 134\n",
    "\n",
    "for i in range(nb_graphs):\n",
    "    match_label_per_graph={}\n",
    "    \n",
    "    g = p.load(open(\"./data/OASIS_full_batch/modified_graphs/graph_\"+str(i)+\".gpickle\",\"rb\"))\n",
    "    nb_nodes = len(g.nodes)\n",
    "    scope = range(i * nb_nodes, (i + 1) * nb_nodes)\n",
    "    for node_indx,ind in enumerate(scope):\n",
    "        match_indexes = np.where(matching_matrix[ind,:]==1)[0]\n",
    "        match_perc = (len(match_indexes) - len(set(match_indexes).intersection(np.where(np.array(is_dummy_vect)==True)[0])))/nb_graphs\n",
    "        match_label_per_graph[node_indx] = {'label_color':match_perc}\n",
    "        \n",
    "    nx.set_node_attributes(g, match_label_per_graph)\n",
    "        "
   ]
  },
  {
   "cell_type": "code",
   "execution_count": 99,
   "metadata": {},
   "outputs": [
    {
     "data": {
      "text/plain": [
       "{'vertex_index': 17282,\n",
       " 'sphere_3dcoords': array([-29.68784714, -78.65145111, -54.15331268]),\n",
       " 'sphere_coords': [1.2098698616027832, 2.1430559158325195],\n",
       " 'basin_label': 221.0,\n",
       " 'basin_area': 293.86127,\n",
       " 'depth': -0.5514118,\n",
       " 'basin_thickness': 3.1681056022644043,\n",
       " 'ico100_7_vertex_index': 4697,\n",
       " 'is_dummy': False,\n",
       " 'label_dbscan': -1,\n",
       " 'label_color': 0.9701492537313433}"
      ]
     },
     "execution_count": 99,
     "metadata": {},
     "output_type": "execute_result"
    }
   ],
   "source": [
    "g.nodes.data()[8]"
   ]
  },
  {
   "cell_type": "code",
   "execution_count": null,
   "metadata": {},
   "outputs": [],
   "source": []
  },
  {
   "cell_type": "code",
   "execution_count": null,
   "metadata": {},
   "outputs": [],
   "source": []
  },
  {
   "cell_type": "code",
   "execution_count": 80,
   "metadata": {},
   "outputs": [
    {
     "data": {
      "text/plain": [
       "0.9104477611940298"
      ]
     },
     "execution_count": 80,
     "metadata": {},
     "output_type": "execute_result"
    }
   ],
   "source": [
    "match_indexes = np.where(matching_matrix[0,:]==1)[0]\n",
    "(len(match_indexes) - len(set(match_indexes).intersection(np.where(np.array(is_dummy_vect)==True)[0])))/134"
   ]
  },
  {
   "cell_type": "code",
   "execution_count": 75,
   "metadata": {},
   "outputs": [
    {
     "data": {
      "text/plain": [
       "134"
      ]
     },
     "execution_count": 75,
     "metadata": {},
     "output_type": "execute_result"
    }
   ],
   "source": [
    "match_indexes"
   ]
  },
  {
   "cell_type": "code",
   "execution_count": 67,
   "metadata": {
    "scrolled": true
   },
   "outputs": [],
   "source": [
    "rscope = range(graph_num * nb_nodes, (graph_num + 1) * nb_nodes)"
   ]
  },
  {
   "cell_type": "code",
   "execution_count": 102,
   "metadata": {},
   "outputs": [
    {
     "name": "stdout",
     "output_type": "stream",
     "text": [
      "0\n"
     ]
    }
   ],
   "source": [
    "for i in range(nb_graphs-133):\n",
    "    print(i)"
   ]
  },
  {
   "cell_type": "code",
   "execution_count": null,
   "metadata": {},
   "outputs": [],
   "source": []
  },
  {
   "cell_type": "code",
   "execution_count": null,
   "metadata": {},
   "outputs": [],
   "source": []
  },
  {
   "cell_type": "code",
   "execution_count": 57,
   "metadata": {},
   "outputs": [
    {
     "data": {
      "text/plain": [
       "{788, 8363, 10794}"
      ]
     },
     "execution_count": 57,
     "metadata": {},
     "output_type": "execute_result"
    }
   ],
   "source": [
    "set(indexes).intersection(np.where(np.array(is_dummy_vect)==True)[0])"
   ]
  },
  {
   "cell_type": "code",
   "execution_count": 47,
   "metadata": {},
   "outputs": [
    {
     "data": {
      "text/plain": [
       "array([   83,    84,    85, ..., 13531, 13532, 13533])"
      ]
     },
     "execution_count": 47,
     "metadata": {},
     "output_type": "execute_result"
    }
   ],
   "source": [
    "np.where(np.array(is_dummy_vect)==True)[0]"
   ]
  },
  {
   "cell_type": "code",
   "execution_count": 40,
   "metadata": {},
   "outputs": [
    {
     "data": {
      "text/plain": [
       "array([False, False, False, ...,  True,  True,  True])"
      ]
     },
     "execution_count": 40,
     "metadata": {},
     "output_type": "execute_result"
    }
   ],
   "source": []
  },
  {
   "cell_type": "code",
   "execution_count": null,
   "metadata": {},
   "outputs": [],
   "source": []
  },
  {
   "cell_type": "code",
   "execution_count": null,
   "metadata": {},
   "outputs": [],
   "source": [
    "len(np.where(Xri[j,:]==1)[0])"
   ]
  },
  {
   "cell_type": "code",
   "execution_count": null,
   "metadata": {},
   "outputs": [],
   "source": [
    "np.ix_(range(0,10),range(0,10))"
   ]
  },
  {
   "cell_type": "code",
   "execution_count": null,
   "metadata": {},
   "outputs": [],
   "source": []
  },
  {
   "cell_type": "code",
   "execution_count": null,
   "metadata": {},
   "outputs": [],
   "source": [
    "graph.nodes[int(np.where(Xri[1,:]==1)[0])]['is_dummy']"
   ]
  },
  {
   "cell_type": "code",
   "execution_count": null,
   "metadata": {},
   "outputs": [],
   "source": []
  },
  {
   "cell_type": "code",
   "execution_count": null,
   "metadata": {},
   "outputs": [],
   "source": []
  },
  {
   "cell_type": "code",
   "execution_count": null,
   "metadata": {},
   "outputs": [],
   "source": [
    "int(np.where(Xri[5,:]==1)[0])"
   ]
  },
  {
   "cell_type": "code",
   "execution_count": null,
   "metadata": {},
   "outputs": [],
   "source": [
    "Xri"
   ]
  },
  {
   "cell_type": "code",
   "execution_count": null,
   "metadata": {},
   "outputs": [],
   "source": []
  },
  {
   "cell_type": "code",
   "execution_count": null,
   "metadata": {},
   "outputs": [],
   "source": []
  },
  {
   "cell_type": "code",
   "execution_count": null,
   "metadata": {},
   "outputs": [],
   "source": []
  },
  {
   "cell_type": "code",
   "execution_count": null,
   "metadata": {},
   "outputs": [],
   "source": [
    "# g = sing_graph"
   ]
  },
  {
   "cell_type": "code",
   "execution_count": null,
   "metadata": {},
   "outputs": [],
   "source": [
    "perm_mat_1 = ground_truth[1][2]\n",
    "perm_mat_2 = ground_truth[2][1]\n",
    "\n",
    "result_perm = np.zeros((perm_mat_1.shape[0],), dtype=int)\n",
    "\n",
    "for node_reference, node_noisy_1 in enumerate(perm_mat_1):\n",
    "    # get the corresponding node in the second graph\n",
    "    node_noisy_2 = perm_mat_2[node_reference]\n",
    "\n",
    "    # Fill the result\n",
    "    result_perm[node_noisy_1] = node_noisy_2\n",
    "\n",
    "result_perm"
   ]
  },
  {
   "cell_type": "code",
   "execution_count": null,
   "metadata": {},
   "outputs": [],
   "source": [
    "perm_mat_1"
   ]
  },
  {
   "cell_type": "code",
   "execution_count": null,
   "metadata": {},
   "outputs": [],
   "source": [
    "perm_mat_2"
   ]
  },
  {
   "cell_type": "code",
   "execution_count": null,
   "metadata": {},
   "outputs": [],
   "source": [
    "result_perm"
   ]
  },
  {
   "cell_type": "code",
   "execution_count": null,
   "metadata": {},
   "outputs": [],
   "source": [
    "import scipy.io as sio"
   ]
  },
  {
   "cell_type": "code",
   "execution_count": null,
   "metadata": {},
   "outputs": [],
   "source": [
    "affi_0_1 = sio.loadmat('affinity_0_1.mat')"
   ]
  },
  {
   "cell_type": "code",
   "execution_count": null,
   "metadata": {},
   "outputs": [],
   "source": [
    "affi_0_1['kE12'].shape"
   ]
  },
  {
   "cell_type": "code",
   "execution_count": null,
   "metadata": {},
   "outputs": [],
   "source": [
    "#affi_0_1"
   ]
  },
  {
   "cell_type": "code",
   "execution_count": null,
   "metadata": {},
   "outputs": [],
   "source": [
    "per_mat = np.load(\"noise_1000,outliers_0/ground_truth.npy\")"
   ]
  },
  {
   "cell_type": "code",
   "execution_count": null,
   "metadata": {},
   "outputs": [],
   "source": [
    "per_mat[0][2]"
   ]
  },
  {
   "cell_type": "code",
   "execution_count": null,
   "metadata": {},
   "outputs": [],
   "source": [
    "per_mat[2][0]"
   ]
  },
  {
   "cell_type": "code",
   "execution_count": null,
   "metadata": {},
   "outputs": [],
   "source": []
  },
  {
   "cell_type": "code",
   "execution_count": null,
   "metadata": {},
   "outputs": [],
   "source": [
    "e = np.array(list(range(0, 0, 5)))"
   ]
  },
  {
   "cell_type": "code",
   "execution_count": null,
   "metadata": {},
   "outputs": [],
   "source": [
    "e"
   ]
  },
  {
   "cell_type": "code",
   "execution_count": null,
   "metadata": {},
   "outputs": [],
   "source": []
  },
  {
   "cell_type": "code",
   "execution_count": null,
   "metadata": {},
   "outputs": [],
   "source": [
    "g = nx.read_gpickle(\"graph_25.gpickle\")"
   ]
  },
  {
   "cell_type": "code",
   "execution_count": null,
   "metadata": {},
   "outputs": [],
   "source": [
    "len(g.nodes())"
   ]
  },
  {
   "cell_type": "code",
   "execution_count": null,
   "metadata": {},
   "outputs": [],
   "source": [
    "g.nodes()"
   ]
  },
  {
   "cell_type": "code",
   "execution_count": null,
   "metadata": {},
   "outputs": [],
   "source": []
  }
 ],
 "metadata": {
  "kernelspec": {
   "display_name": "Python 3",
   "language": "python",
   "name": "python3"
  },
  "language_info": {
   "codemirror_mode": {
    "name": "ipython",
    "version": 3
   },
   "file_extension": ".py",
   "mimetype": "text/x-python",
   "name": "python",
   "nbconvert_exporter": "python",
   "pygments_lexer": "ipython3",
   "version": "3.8.3"
  }
 },
 "nbformat": 4,
 "nbformat_minor": 4
}
