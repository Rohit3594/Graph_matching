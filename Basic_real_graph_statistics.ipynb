{
 "cells": [
  {
   "cell_type": "code",
   "execution_count": 1,
   "metadata": {},
   "outputs": [],
   "source": [
    "import pickle as p\n",
    "import networkx as nx\n",
    "import numpy as np\n",
    "import scipy.io as sio\n",
    "import matplotlib.pyplot as plt"
   ]
  },
  {
   "cell_type": "code",
   "execution_count": 2,
   "metadata": {},
   "outputs": [],
   "source": [
    "path_result_mat = \"./data/OASIS_full_batch/\""
   ]
  },
  {
   "cell_type": "code",
   "execution_count": 3,
   "metadata": {},
   "outputs": [],
   "source": [
    "def remove_dummy_nodes(graph):\n",
    "    G = graph.copy()\n",
    "    to_remove = []\n",
    "    for (p, d) in G.nodes(data=True):\n",
    "        if d['is_dummy'] == True:\n",
    "            to_remove.append(p)\n",
    "    G.remove_nodes_from(to_remove)\n",
    "    return G"
   ]
  },
  {
   "cell_type": "code",
   "execution_count": 31,
   "metadata": {},
   "outputs": [],
   "source": [
    "sing_graph = p.load(open(\"./data/OASIS_full_batch/modified_graphs/graph_24.gpickle\", \"rb\" ))"
   ]
  },
  {
   "cell_type": "code",
   "execution_count": 30,
   "metadata": {
    "scrolled": true
   },
   "outputs": [],
   "source": [
    "is_dummy = []\n",
    "for i in range(134):\n",
    "    graph = p.load(open(\"./data/OASIS_full_batch/modified_graphs/graph_\"+str(i)+\".gpickle\",\"rb\"))\n",
    "    is_dummy.append(list(nx.get_node_attributes(graph,\"is_dummy\").values()))\n",
    "    \n",
    "is_dummy_vect = [val for sublist in is_dummy for val in sublist]"
   ]
  },
  {
   "cell_type": "code",
   "execution_count": 28,
   "metadata": {
    "scrolled": true
   },
   "outputs": [
    {
     "data": {
      "text/plain": [
       "array([   83,    84,    85, ..., 13531, 13532, 13533])"
      ]
     },
     "execution_count": 28,
     "metadata": {},
     "output_type": "execute_result"
    }
   ],
   "source": [
    "np.where(np.array(is_dummy_vect)==True)[0]"
   ]
  },
  {
   "cell_type": "code",
   "execution_count": null,
   "metadata": {},
   "outputs": [],
   "source": []
  },
  {
   "cell_type": "code",
   "execution_count": 21,
   "metadata": {},
   "outputs": [
    {
     "name": "stdout",
     "output_type": "stream",
     "text": [
      "83 0\n",
      "91 1\n",
      "92 5\n",
      "94 6\n",
      "95 18\n",
      "101 24\n",
      "101 41\n"
     ]
    }
   ],
   "source": [
    "# First select the graph with highest number nodes\n",
    "max_node = 0\n",
    "largest_graph = 0\n",
    "for i in range(134):\n",
    "    g = p.load(open(\"./data/OASIS_full_batch/modified_graphs/graph_\"+str(i)+\".gpickle\",\"rb\"))\n",
    "    g = remove_dummy_nodes(g)\n",
    "    if len(g.nodes()) >= max_node:\n",
    "        max_node = len(g.nodes())\n",
    "        largest_graph = g\n",
    "        print(max_node,i)\n",
    "        lar_graph_ind = i\n"
   ]
  },
  {
   "cell_type": "code",
   "execution_count": null,
   "metadata": {},
   "outputs": [],
   "source": []
  },
  {
   "cell_type": "code",
   "execution_count": 7,
   "metadata": {},
   "outputs": [],
   "source": [
    "x_mSync = sio.loadmat(path_result_mat+\"X_mSync.mat\")['X']"
   ]
  },
  {
   "cell_type": "code",
   "execution_count": 8,
   "metadata": {},
   "outputs": [],
   "source": [
    "x_mALS = sio.loadmat(path_result_mat+\"X_mALS.mat\")['X']"
   ]
  },
  {
   "cell_type": "code",
   "execution_count": null,
   "metadata": {
    "scrolled": false
   },
   "outputs": [],
   "source": []
  },
  {
   "cell_type": "code",
   "execution_count": 22,
   "metadata": {
    "scrolled": true
   },
   "outputs": [
    {
     "name": "stdout",
     "output_type": "stream",
     "text": [
      "0\n"
     ]
    }
   ],
   "source": [
    "matching_matrix = x_mSync\n",
    "counter = 0\n",
    "nb_graphs = 134\n",
    "nb_nodes = int(matching_matrix.shape[0]/nb_graphs)\n",
    "\n",
    "match_node_value = {k:[] for k in range(nb_graphs)}\n",
    "\n",
    "#graph_ref_num = lar_graph_ind\n",
    "\n",
    "for graph_num in range(nb_graphs):\n",
    "    \n",
    "    graph_ref_num = p.load(open(\"./data/OASIS_full_batch/modified_graphs/graph_\"+str(graph_num)+\".gpickle\",\"rb\"))\n",
    "\n",
    "    rscope = range(graph_num * nb_nodes, (graph_num + 1) * nb_nodes)\n",
    "\n",
    "    for i in range(nb_graphs-1):\n",
    "        \n",
    "        iscope = range(i * nb_nodes, (i+1)*nb_nodes)\n",
    "        Xri = np.array(matching_matrix[np.ix_(rscope, iscope)], dtype=int)\n",
    "        \n",
    "        graph = p.load(open(\"./data/OASIS_full_batch/modified_graphs/graph_\"+str(i)+\".gpickle\",\"rb\"))\n",
    "                   \n",
    "        for j in range(Xri.shape[0]):  \n",
    "            if graph.nodes[j]['is_dummy'] == False and len(np.where(Xri[j,:]==1)[0])!=0:                \n",
    "                \n",
    "                       #if graph_ref_num.nodes[int(np.where(Xri[j,:]==1)[0])]['is_dummy'] == False:\n",
    "                    \n",
    "                        if len(np.where(Xri[j,:]==1)[0])>1:\n",
    "                            \n",
    "                            counter+=1\n",
    "                       \n",
    "                               #match_node_value[int(np.where(Xri[j,:]==1)[0])].append(1)\n",
    "print(counter)\n",
    "\n"
   ]
  },
  {
   "cell_type": "code",
   "execution_count": 56,
   "metadata": {},
   "outputs": [],
   "source": [
    "indexes = np.where(matching_matrix[6,:]==1)[0]"
   ]
  },
  {
   "cell_type": "code",
   "execution_count": null,
   "metadata": {},
   "outputs": [],
   "source": []
  },
  {
   "cell_type": "code",
   "execution_count": 140,
   "metadata": {},
   "outputs": [],
   "source": [
    "matching_matrix = x_mALS\n",
    "nb_graphs = 134\n",
    "list_graphs = []\n",
    "for i in range(nb_graphs):\n",
    "    match_label_per_graph={}\n",
    "    \n",
    "    g = p.load(open(\"./data/OASIS_full_batch/modified_graphs/graph_\"+str(i)+\".gpickle\",\"rb\"))\n",
    "    nb_nodes = len(g.nodes)\n",
    "    scope = range(i * nb_nodes, (i + 1) * nb_nodes)\n",
    "    \n",
    "    for node_indx,ind in enumerate(scope):\n",
    "        match_indexes = np.where(matching_matrix[ind,:]==1)[0]\n",
    "        match_perc = (len(match_indexes) - len(set(match_indexes).intersection(np.where(np.array(is_dummy_vect)==True)[0])))/nb_graphs\n",
    "        match_label_per_graph[node_indx] = {'label_color':match_perc}\n",
    "        \n",
    "    nx.set_node_attributes(g, match_label_per_graph)\n",
    "    list_graphs.append(g)\n",
    "        "
   ]
  },
  {
   "cell_type": "code",
   "execution_count": 34,
   "metadata": {},
   "outputs": [],
   "source": [
    "test_scope = range(24 * 101, (24 + 1) * 101)"
   ]
  },
  {
   "cell_type": "code",
   "execution_count": 93,
   "metadata": {
    "scrolled": true
   },
   "outputs": [],
   "source": [
    "matching_matrix = x_mALS\n",
    "attr_sum = []\n",
    "large_grph_ind = 24\n",
    "large_grph = p.load(open(\"./data/OASIS_full_batch/modified_graphs/graph_\"+str(large_grph_ind)+\".gpickle\", \"rb\" ))\n",
    "nb_nodes = len(large_grph.nodes)\n",
    "row_scope = range(large_grph_ind * nb_nodes, (large_grph_ind + 1) * nb_nodes)\n",
    "\n",
    "for i in range(134):\n",
    "    grph = p.load(open(\"./data/OASIS_full_batch/modified_graphs/graph_\"+str(i)+\".gpickle\",\"rb\"))\n",
    "    nb_nodes = len(grph.nodes)\n",
    "    \n",
    "    col_scope = range(i * nb_nodes, (i + 1) * nb_nodes)\n",
    "    \n",
    "    perm_X = np.array(matching_matrix[np.ix_(row_scope, col_scope)], dtype=int)\n",
    "\n",
    "    for node_indx,ind in enumerate(row_scope):\n",
    "        match_indexes = np.where(perm_X[node_indx,:]==1)[0]\n",
    "        attr_sum.append(match_indexes)"
   ]
  },
  {
   "cell_type": "code",
   "execution_count": 94,
   "metadata": {},
   "outputs": [
    {
     "data": {
      "text/plain": [
       "13534"
      ]
     },
     "execution_count": 94,
     "metadata": {},
     "output_type": "execute_result"
    }
   ],
   "source": [
    "len(attr_sum)"
   ]
  },
  {
   "cell_type": "code",
   "execution_count": 90,
   "metadata": {},
   "outputs": [
    {
     "data": {
      "text/plain": [
       "0"
      ]
     },
     "execution_count": 90,
     "metadata": {},
     "output_type": "execute_result"
    }
   ],
   "source": [
    "len(attr_sum[0])"
   ]
  },
  {
   "cell_type": "code",
   "execution_count": 92,
   "metadata": {},
   "outputs": [
    {
     "data": {
      "text/plain": [
       "79"
      ]
     },
     "execution_count": 92,
     "metadata": {},
     "output_type": "execute_result"
    }
   ],
   "source": [
    "match_indexes[0]"
   ]
  },
  {
   "cell_type": "code",
   "execution_count": null,
   "metadata": {},
   "outputs": [],
   "source": []
  },
  {
   "cell_type": "code",
   "execution_count": null,
   "metadata": {},
   "outputs": [],
   "source": []
  },
  {
   "cell_type": "code",
   "execution_count": null,
   "metadata": {},
   "outputs": [],
   "source": []
  },
  {
   "cell_type": "code",
   "execution_count": 142,
   "metadata": {},
   "outputs": [],
   "source": [
    "match_list = list(nx.get_node_attributes(remove_dummy_nodes(list_graphs[0]),'label_color').values())"
   ]
  },
  {
   "cell_type": "code",
   "execution_count": 143,
   "metadata": {},
   "outputs": [
    {
     "data": {
      "image/png": "[encoded data removed]",
      "text/plain": [
       "<Figure size 432x288 with 1 Axes>"
      ]
     },
     "metadata": {
      "needs_background": "light"
     },
     "output_type": "display_data"
    }
   ],
   "source": [
    "plt.hist(match_list, density=False, bins=30)  # density=False would make counts\n",
    "plt.ylabel('Density')\n",
    "plt.xlabel('Data');"
   ]
  },
  {
   "cell_type": "code",
   "execution_count": null,
   "metadata": {},
   "outputs": [],
   "source": []
  },
  {
   "cell_type": "code",
   "execution_count": null,
   "metadata": {},
   "outputs": [],
   "source": []
  },
  {
   "cell_type": "code",
   "execution_count": null,
   "metadata": {},
   "outputs": [],
   "source": []
  }
 ],
 "metadata": {
  "kernelspec": {
   "display_name": "Python 3",
   "language": "python",
   "name": "python3"
  },
  "language_info": {
   "codemirror_mode": {
    "name": "ipython",
    "version": 3
   },
   "file_extension": ".py",
   "mimetype": "text/x-python",
   "name": "python",
   "nbconvert_exporter": "python",
   "pygments_lexer": "ipython3",
   "version": "3.8.3"
  }
 },
 "nbformat": 4,
 "nbformat_minor": 4
}
