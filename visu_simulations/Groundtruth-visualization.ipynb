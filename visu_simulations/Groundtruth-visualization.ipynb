{
 "cells": [
  {
   "cell_type": "code",
   "execution_count": 1,
   "metadata": {},
   "outputs": [],
   "source": [
    "import sys\n",
    "sys.path.extend(['/home/rohit/PhD_Work/GM_my_version/Graph_matching'])\n",
    "import tools.graph_visu as gv\n",
    "import tools.graph_processing as gp\n",
    "import slam.io as sio\n",
    "import numpy as np\n",
    "import networkx as nx"
   ]
  },
  {
   "cell_type": "code",
   "execution_count": 2,
   "metadata": {},
   "outputs": [],
   "source": [
    "path_to_graphs = '../data/simu_graph/0/test/0/noise_1400,outliers_8/graphs'\n",
    "gt = np.load('../data/simu_graph/0/test/0/noise_1400,outliers_8/ground_truth.npy')\n",
    "file_template_mesh = '../data/template_mesh/lh.OASIS_testGrp_average_inflated.gii'\n",
    "file_sphere_mesh = '../data/template_mesh/ico100_7.gii'"
   ]
  },
  {
   "cell_type": "code",
   "execution_count": 3,
   "metadata": {},
   "outputs": [],
   "source": [
    "list_graphs = gp.load_graphs_in_list(path_to_graphs)"
   ]
  },
  {
   "cell_type": "code",
   "execution_count": 25,
   "metadata": {},
   "outputs": [],
   "source": [
    "outliers_label = -1"
   ]
  },
  {
   "cell_type": "code",
   "execution_count": 26,
   "metadata": {},
   "outputs": [],
   "source": [
    "gt_01 = gt[0][1]\n",
    "gt_02 = gt[0][2]\n",
    "gt_03 = gt[0][3]\n",
    "gt_04 = gt[0][4]\n",
    "\n",
    "g = list_graphs[0]\n",
    "g1 = list_graphs[1]\n",
    "g2 = list_graphs[2]\n",
    "g3 = list_graphs[3]\n",
    "g4 = list_graphs[4]\n",
    "\n",
    "dict_lab = {}\n",
    "for n, node in enumerate(g1.nodes):\n",
    "    if node >=20:\n",
    "        dict_lab[node] = {'label_gt':outliers_label}\n",
    "    else:\n",
    "        dict_lab[gt_01[node]] = {'label_gt':node}\n",
    "nx.set_node_attributes(g1,dict_lab)\n",
    "\n",
    "dict_lab = {}\n",
    "for n, node in enumerate(g2.nodes):\n",
    "    if node >=20:\n",
    "        dict_lab[node] = {'label_gt':outliers_label}\n",
    "    else:\n",
    "        dict_lab[gt_02[node]] = {'label_gt':node}\n",
    "nx.set_node_attributes(g2,dict_lab)\n",
    "\n",
    "dict_lab = {}\n",
    "for n, node in enumerate(g3.nodes):\n",
    "    if node >=20:\n",
    "        dict_lab[node] = {'label_gt':outliers_label}\n",
    "    else:\n",
    "        dict_lab[gt_03[node]] = {'label_gt':node}\n",
    "nx.set_node_attributes(g3,dict_lab)\n",
    "\n",
    "dict_lab = {}\n",
    "for n, node in enumerate(g4.nodes):\n",
    "    if node >=20:\n",
    "        dict_lab[node] = {'label_gt':outliers_label}\n",
    "    else:\n",
    "        dict_lab[gt_04[node]] = {'label_gt':node}\n",
    "nx.set_node_attributes(g4,dict_lab)\n",
    "\n",
    "dict_lab = {}\n",
    "for n, node in enumerate(g.nodes):\n",
    "    if node >=20:\n",
    "        dict_lab[node] = {'label_gt':outliers_label}\n",
    "    else:\n",
    "        dict_lab[node] = {'label_gt':node}\n",
    "nx.set_node_attributes(g,dict_lab)"
   ]
  },
  {
   "cell_type": "code",
   "execution_count": null,
   "metadata": {},
   "outputs": [],
   "source": []
  },
  {
   "cell_type": "code",
   "execution_count": 27,
   "metadata": {
    "scrolled": false
   },
   "outputs": [
    {
     "data": {
      "text/plain": [
       "NodeDataView({0: {'coord': array([-32.62546432, -30.49374769, -89.47463568]), 'label_gt': 6}, 1: {'coord': array([ 94.90147083, -23.6980305 ,  20.78735637]), 'label_gt': -1}, 2: {'coord': array([-74.54044656,  50.24596227,  43.80713528]), 'label_gt': -1}, 3: {'coord': array([43.90688274, 88.12676938, 17.48880118]), 'label_gt': 4}, 4: {'coord': array([ -9.28207078, -99.25978348,   7.83189291]), 'label_gt': 0}, 5: {'coord': array([ 48.60140059, -44.88430711, -74.98868472]), 'label_gt': -1}, 6: {'coord': array([ 69.77960989, -71.60871737,   1.73136945]), 'label_gt': 8}, 7: {'coord': array([-70.28062179,  70.62715071,   8.51115645]), 'label_gt': 7}, 8: {'coord': array([-52.34375377, -22.393685  ,  82.21103523]), 'label_gt': -1}, 9: {'coord': array([ 16.76202035, -36.18698447,  91.70352681]), 'label_gt': 9}, 10: {'coord': array([-49.17804745,  82.07633359, -29.06879965]), 'label_gt': -1}, 11: {'coord': array([ 73.934375  , -28.16643084,  61.15848565]), 'label_gt': 13}, 12: {'coord': array([73.70097988,  9.97263102, 66.84842702]), 'label_gt': 15}, 13: {'coord': array([-92.88030902,  36.78147927,  -4.51342205]), 'label_gt': 12}, 14: {'coord': array([-19.39228571,  69.60576829,  69.13014014]), 'label_gt': 1}, 15: {'coord': array([ 53.8508811 ,  82.70668684, -16.11479312]), 'label_gt': 16}, 16: {'coord': array([28.7381414 ,  7.82789475, 95.46121355]), 'label_gt': 18}, 17: {'coord': array([-42.55639928, -54.45934114,  72.27124631]), 'label_gt': 3}, 18: {'coord': array([13.0712027 , 46.78967056, 87.40635211]), 'label_gt': -1}, 19: {'coord': array([ 28.26062488, -93.99886388,  19.11937947]), 'label_gt': 5}, 20: {'coord': array([ 30.19953585, -19.44155615, -93.32745539]), 'label_gt': 14}, 21: {'coord': array([ 81.32105406, -55.96772966,  15.95303742]), 'label_gt': -1}, 22: {'coord': array([-89.60878138,  15.83642067,  41.4665417 ]), 'label_gt': -1}, 23: {'coord': array([-79.55158573, -11.21003384, -59.54729506]), 'label_gt': 11}, 24: {'coord': array([ 44.44449757, -88.23851118, -15.44835846]), 'label_gt': 17}, 25: {'coord': array([-25.30512161,  95.67896948,  14.32430169]), 'label_gt': 2}, 26: {'coord': array([-47.92418327, -83.28190631, -27.70192662]), 'label_gt': 10}, 27: {'coord': array([ -5.37942285,  73.90978977, -67.14465567]), 'label_gt': 19}})"
      ]
     },
     "execution_count": 27,
     "metadata": {},
     "output_type": "execute_result"
    }
   ],
   "source": [
    "gx = nx.relabel.convert_node_labels_to_integers(g1)\n",
    "gx.nodes(data=True)"
   ]
  },
  {
   "cell_type": "code",
   "execution_count": null,
   "metadata": {},
   "outputs": [],
   "source": []
  },
  {
   "cell_type": "code",
   "execution_count": null,
   "metadata": {},
   "outputs": [],
   "source": []
  },
  {
   "cell_type": "code",
   "execution_count": null,
   "metadata": {},
   "outputs": [],
   "source": []
  },
  {
   "cell_type": "code",
   "execution_count": null,
   "metadata": {},
   "outputs": [],
   "source": []
  },
  {
   "cell_type": "code",
   "execution_count": 29,
   "metadata": {},
   "outputs": [],
   "source": [
    "# nx.get_node_attributes(g,'coord').values()"
   ]
  },
  {
   "cell_type": "code",
   "execution_count": 28,
   "metadata": {},
   "outputs": [
    {
     "name": "stdout",
     "output_type": "stream",
     "text": [
      "{'coord': array([ -8.69066969, -99.61347477,   1.27589359]), 'label_gt': 0}\n",
      "{'coord': array([-14.81124884,  64.91184598,  74.61286189]), 'label_gt': 1}\n",
      "{'coord': array([-20.8787086 ,  96.16820935,  17.76949741]), 'label_gt': 2}\n",
      "{'coord': array([-36.94592117, -51.91923021,  77.06745385]), 'label_gt': 3}\n",
      "{'coord': array([41.32935546, 87.95926412, 23.55954653]), 'label_gt': 4}\n",
      "{'coord': array([ 24.9600015 , -95.36526599,  16.80667626]), 'label_gt': 5}\n",
      "{'coord': array([-31.12708379, -22.97149931, -92.21396247]), 'label_gt': 6}\n",
      "{'coord': array([-69.51994188,  71.01383314,  11.13612074]), 'label_gt': 7}\n",
      "{'coord': array([ 72.6356404 , -68.25163855,   8.11033772]), 'label_gt': 8}\n",
      "{'coord': array([ 14.00324755, -36.50232723,  92.04069298]), 'label_gt': 9}\n",
      "{'coord': array([-47.84250124, -84.70940554, -23.13896472]), 'label_gt': 10}\n",
      "{'coord': array([-84.20397703,  -4.44431723, -53.75814632]), 'label_gt': 11}\n",
      "{'coord': array([-94.73367317,  31.29147907,  -6.80988295]), 'label_gt': 12}\n",
      "{'coord': array([ 73.58338899, -27.7140264 ,  61.78525395]), 'label_gt': 13}\n",
      "{'coord': array([ 27.94146026, -23.08979531, -93.19944287]), 'label_gt': 14}\n",
      "{'coord': array([70.27604383, 14.98929157, 69.54565983]), 'label_gt': 15}\n",
      "{'coord': array([ 51.33268916,  84.46331472, -15.19550886]), 'label_gt': 16}\n",
      "{'coord': array([ 45.33698096, -86.92135904, -19.72905218]), 'label_gt': 17}\n",
      "{'coord': array([26.21418812,  1.82792648, 96.48562082]), 'label_gt': 18}\n",
      "{'coord': array([ -3.48108105,  71.44728664, -69.87966304]), 'label_gt': 19}\n"
     ]
    }
   ],
   "source": [
    "for ind in gt_02:\n",
    "    print(g2.nodes.data()[ind])"
   ]
  },
  {
   "cell_type": "code",
   "execution_count": null,
   "metadata": {},
   "outputs": [],
   "source": []
  },
  {
   "cell_type": "code",
   "execution_count": 10,
   "metadata": {},
   "outputs": [],
   "source": [
    "sphere_mesh = sio.load_mesh(file_sphere_mesh)\n",
    "mesh = gv.reg_mesh(sio.load_mesh(file_template_mesh))\n",
    "gp.sphere_nearest_neighbor_interpolation(g, sphere_mesh)\n",
    "gp.sphere_nearest_neighbor_interpolation(g1, sphere_mesh)"
   ]
  },
  {
   "cell_type": "code",
   "execution_count": 179,
   "metadata": {},
   "outputs": [],
   "source": [
    "nodes_coords = gp.graph_nodes_to_coords(g, 'ico100_7_vertex_index', sphere_mesh)\n",
    "nodes_coords_1 = gp.graph_nodes_to_coords(g1, 'ico100_7_vertex_index', sphere_mesh)"
   ]
  },
  {
   "cell_type": "code",
   "execution_count": null,
   "metadata": {
    "scrolled": false
   },
   "outputs": [],
   "source": []
  },
  {
   "cell_type": "code",
   "execution_count": 23,
   "metadata": {},
   "outputs": [
    {
     "name": "stdout",
     "output_type": "stream",
     "text": [
      "[ -8.29375734 -99.58600481   3.72038116] [ -9.28207078 -99.25978348   7.83189291]\n",
      "[-11.96701424  65.4787652   74.62788941] [-19.39228571  69.60576829  69.13014014]\n",
      "[-25.06130415  95.60418922  15.2239955 ] [-25.30512161  95.67896948  14.32430169]\n",
      "[-36.95462701 -52.8159162   76.45151757] [-42.55639928 -54.45934114  72.27124631]\n",
      "[42.60480034 87.95995566 21.16310915] [43.90688274 88.12676938 17.48880118]\n",
      "[ 24.36019656 -95.13667031  18.85722104] [ 28.26062488 -93.99886388  19.11937947]\n",
      "[-30.4412485  -26.82708365 -91.39823835] [-32.62546432 -30.49374769 -89.47463568]\n",
      "[-70.04157873  70.43770444  11.51985424] [-70.28062179  70.62715071   8.51115645]\n",
      "[ 71.22425583 -70.1867875    0.95929233] [ 69.77960989 -71.60871737   1.73136945]\n",
      "[ 16.29928024 -35.40847182  92.09002979] [ 16.76202035 -36.18698447  91.70352681]\n",
      "[-50.03733913 -84.16323567 -20.31783587] [-47.92418327 -83.28190631 -27.70192662]\n",
      "[-83.34326539  -7.02261683 -54.81407635] [-79.55158573 -11.21003384 -59.54729506]\n",
      "[-93.32844935  35.80057941  -2.84939583] [-92.88030902  36.78147927  -4.51342205]\n",
      "[ 70.84794234 -31.21707088  63.29347164] [ 73.934375   -28.16643084  61.15848565]\n",
      "[ 30.76645264 -27.35144581 -91.13354928] [ 30.19953585 -19.44155615 -93.32745539]\n",
      "[72.54483145 11.61456095 67.84061766] [73.70097988  9.97263102 66.84842702]\n",
      "[ 53.89179539  82.41435684 -17.42263402] [ 53.8508811   82.70668684 -16.11479312]\n",
      "[ 45.10137757 -88.06192035 -14.52459727] [ 44.44449757 -88.23851118 -15.44835846]\n",
      "[31.11936669  5.83497201 94.85535366] [28.7381414   7.82789475 95.46121355]\n",
      "[ -7.45368581  73.06164773 -67.87074627] [ -5.37942285  73.90978977 -67.14465567]\n",
      "20\n"
     ]
    }
   ],
   "source": [
    "counter = 0\n",
    "rest = []\n",
    "for i in range(len(g.nodes)):\n",
    "    for ind in gt_01:\n",
    "        if(g.nodes.data()[i]['label_gt'] == g1.nodes.data()[ind]['label_gt']):\n",
    "            print(g.nodes.data()[i]['coord'],g1.nodes.data()[ind]['coord'])\n",
    "            counter+=1\n",
    "print(counter)"
   ]
  },
  {
   "cell_type": "code",
   "execution_count": 15,
   "metadata": {},
   "outputs": [],
   "source": [
    "un = nx.disjoint_union(g,g1)"
   ]
  },
  {
   "cell_type": "code",
   "execution_count": 40,
   "metadata": {},
   "outputs": [
    {
     "name": "stdout",
     "output_type": "stream",
     "text": [
      "[-56.11889642  25.04223002 -78.88951883]\n",
      "[  2.77552172  97.88816609 -20.25347916]\n",
      "[90.66891087 41.1681157  -9.18340084]\n",
      "[-59.3130305   62.22627475  51.08674138]\n",
      "[-16.49106543 -91.55535387  36.68326511]\n",
      "[ 33.0934391  -78.95991037 -51.67356038]\n",
      "[99.23325098 -8.58575806  8.89081878]\n",
      "[62.88857825 58.68303726 51.00321424]\n",
      "[ 76.43996182 -59.14811233 -25.65995021]\n",
      "[-41.37398695 -14.95721347  89.80242184]\n",
      "[-56.01050275 -81.91700632  12.34615961]\n",
      "[  2.33495907 -88.65652333  46.20139432]\n",
      "[ 34.32323732 -81.26778022 -47.0899488 ]\n",
      "[ 24.10658203  22.49024288 -94.40901269]\n",
      "[-30.7927306   65.37255605  69.12479047]\n",
      "[ 50.5466927   38.5684428  -77.18488892]\n"
     ]
    }
   ],
   "source": [
    "for i in un.nodes():\n",
    "    if((un.nodes.data()[i]['label']==50)):\n",
    "       print(un.nodes.data()[i]['coord'])"
   ]
  },
  {
   "cell_type": "code",
   "execution_count": null,
   "metadata": {},
   "outputs": [],
   "source": []
  }
 ],
 "metadata": {
  "kernelspec": {
   "display_name": "Python 3",
   "language": "python",
   "name": "python3"
  },
  "language_info": {
   "codemirror_mode": {
    "name": "ipython",
    "version": 3
   },
   "file_extension": ".py",
   "mimetype": "text/x-python",
   "name": "python",
   "nbconvert_exporter": "python",
   "pygments_lexer": "ipython3",
   "version": "3.8.3"
  }
 },
 "nbformat": 4,
 "nbformat_minor": 4
}
