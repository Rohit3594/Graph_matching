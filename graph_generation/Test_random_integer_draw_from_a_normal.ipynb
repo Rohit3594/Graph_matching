{
 "cells": [
  {
   "cell_type": "code",
   "execution_count": 125,
   "id": "90a1a4be",
   "metadata": {},
   "outputs": [],
   "source": [
    "import scipy.stats as ss\n",
    "import numpy as np\n",
    "import matplotlib.pyplot as plt\n",
    "import random\n",
    "%matplotlib inline"
   ]
  },
  {
   "cell_type": "code",
   "execution_count": 91,
   "id": "ac2fa963",
   "metadata": {},
   "outputs": [
    {
     "data": {
      "text/plain": [
       "(array([3.000e+00, 2.600e+01, 8.200e+01, 0.000e+00, 3.280e+02, 6.560e+02,\n",
       "        0.000e+00, 1.168e+03, 1.724e+03, 1.988e+03, 0.000e+00, 1.775e+03,\n",
       "        1.213e+03, 0.000e+00, 6.220e+02, 2.950e+02, 9.800e+01, 0.000e+00,\n",
       "        1.800e+01, 3.000e+00, 1.000e+00]),\n",
       " array([-7.        , -6.28571429, -5.57142857, -4.85714286, -4.14285714,\n",
       "        -3.42857143, -2.71428571, -2.        , -1.28571429, -0.57142857,\n",
       "         0.14285714,  0.85714286,  1.57142857,  2.28571429,  3.        ,\n",
       "         3.71428571,  4.42857143,  5.14285714,  5.85714286,  6.57142857,\n",
       "         7.28571429,  8.        ]),\n",
       " <BarContainer object of 21 artists>)"
      ]
     },
     "execution_count": 91,
     "metadata": {},
     "output_type": "execute_result"
    },
    {
     "data": {
      "image/png": "[encoded data removed]",
      "text/plain": [
       "<Figure size 432x288 with 1 Axes>"
      ]
     },
     "metadata": {
      "needs_background": "light"
     },
     "output_type": "display_data"
    }
   ],
   "source": [
    "x = np.arange(-10, 11)\n",
    "xU, xL = x + 0.5, x - 0.5 \n",
    "prob = ss.norm.cdf(xU, scale = 2) - ss.norm.cdf(xL, scale = 2)\n",
    "prob = prob / prob.sum() # normalize the probabilities so their sum is 1\n",
    "nums = np.random.choice(x, size = 10000, p = prob)\n",
    "plt.hist(nums, bins = len(x))"
   ]
  },
  {
   "cell_type": "code",
   "execution_count": 8,
   "id": "8c4b998e",
   "metadata": {},
   "outputs": [
    {
     "data": {
      "text/plain": [
       "array([-20, -19, -18, -17, -16, -15, -14, -13, -12, -11, -10,  -9,  -8,\n",
       "        -7,  -6,  -5,  -4,  -3,  -2,  -1,   0,   1,   2,   3,   4,   5,\n",
       "         6,   7,   8,   9,  10,  11,  12,  13,  14,  15,  16,  17,  18,\n",
       "        19,  20])"
      ]
     },
     "execution_count": 8,
     "metadata": {},
     "output_type": "execute_result"
    }
   ],
   "source": [
    "x"
   ]
  },
  {
   "cell_type": "code",
   "execution_count": 85,
   "id": "7216fb8c",
   "metadata": {},
   "outputs": [
    {
     "data": {
      "text/plain": [
       "2"
      ]
     },
     "execution_count": 85,
     "metadata": {},
     "output_type": "execute_result"
    }
   ],
   "source": [
    "draw_int = np.random.choice(x, size = 1, p = prob)\n",
    "draw_int[0]"
   ]
  },
  {
   "cell_type": "code",
   "execution_count": 95,
   "id": "2d4efe6c",
   "metadata": {
    "scrolled": true
   },
   "outputs": [
    {
     "data": {
      "image/png": "[encoded data removed]",
      "text/plain": [
       "<Figure size 432x288 with 1 Axes>"
      ]
     },
     "metadata": {
      "needs_background": "light"
     },
     "output_type": "display_data"
    }
   ],
   "source": [
    "import numpy as np\n",
    "import matplotlib.pyplot as plt\n",
    "\n",
    "mu = 20\n",
    "sigma = 2.0\n",
    "\n",
    "data = np.random.randn(100000) * sigma + mu   # Draw fom any Normal distribution..\n",
    "\n",
    "hx, hy, _ = plt.hist(data, bins=50,color=\"lightblue\")\n",
    "\n",
    "plt.ylim(0.0,max(hx)+0.05)\n",
    "plt.title('Generate random numbers \\n from a normal distribution with python')\n",
    "plt.grid()\n",
    "\n",
    "plt.savefig(\"numpy_random_numbers_normal_distribution.png\", bbox_inches='tight')\n",
    "plt.show()"
   ]
  },
  {
   "cell_type": "code",
   "execution_count": 118,
   "id": "4ed5be31",
   "metadata": {},
   "outputs": [
    {
     "data": {
      "text/plain": [
       "19.0"
      ]
     },
     "execution_count": 118,
     "metadata": {},
     "output_type": "execute_result"
    }
   ],
   "source": [
    "rand = np.random.randn(1) * sigma + mu\n",
    "np.round(rand[0])"
   ]
  },
  {
   "cell_type": "code",
   "execution_count": 220,
   "id": "ae888046",
   "metadata": {},
   "outputs": [],
   "source": [
    "list_r = [8,2,0,5,9,3,4,7,6]"
   ]
  },
  {
   "cell_type": "code",
   "execution_count": 221,
   "id": "1f06fea3",
   "metadata": {
    "scrolled": true
   },
   "outputs": [
    {
     "data": {
      "text/plain": [
       "[8, 2, 0, 5, 9, 3, 4, 7, 6]"
      ]
     },
     "execution_count": 221,
     "metadata": {},
     "output_type": "execute_result"
    }
   ],
   "source": [
    "list_r"
   ]
  },
  {
   "cell_type": "code",
   "execution_count": 219,
   "id": "3c1d21e2",
   "metadata": {},
   "outputs": [],
   "source": [
    "# pop_index = random.sample(range(len(list_r)), 4)\n",
    "# pop_index"
   ]
  },
  {
   "cell_type": "code",
   "execution_count": 226,
   "id": "8023d934",
   "metadata": {},
   "outputs": [],
   "source": [
    "test_arr = np.zeros((3,15))"
   ]
  },
  {
   "cell_type": "code",
   "execution_count": 228,
   "id": "7dd63e0d",
   "metadata": {},
   "outputs": [],
   "source": [
    "test_arr[0,:len(list_r)]=list_r"
   ]
  },
  {
   "cell_type": "code",
   "execution_count": 229,
   "id": "5da89405",
   "metadata": {},
   "outputs": [
    {
     "data": {
      "text/plain": [
       "array([[8., 2., 0., 5., 9., 3., 4., 7., 6., 0., 0., 0., 0., 0., 0.],\n",
       "       [0., 0., 0., 0., 0., 0., 0., 0., 0., 0., 0., 0., 0., 0., 0.],\n",
       "       [0., 0., 0., 0., 0., 0., 0., 0., 0., 0., 0., 0., 0., 0., 0.]])"
      ]
     },
     "execution_count": 229,
     "metadata": {},
     "output_type": "execute_result"
    }
   ],
   "source": [
    "test_arr"
   ]
  },
  {
   "cell_type": "code",
   "execution_count": null,
   "id": "f26246d5",
   "metadata": {},
   "outputs": [],
   "source": []
  },
  {
   "cell_type": "code",
   "execution_count": null,
   "id": "0e99eace",
   "metadata": {},
   "outputs": [],
   "source": []
  },
  {
   "cell_type": "code",
   "execution_count": null,
   "id": "1a7d5f0f",
   "metadata": {},
   "outputs": [],
   "source": []
  },
  {
   "cell_type": "code",
   "execution_count": null,
   "id": "5011a6b6",
   "metadata": {},
   "outputs": [],
   "source": []
  },
  {
   "cell_type": "code",
   "execution_count": null,
   "id": "c1c960f0",
   "metadata": {},
   "outputs": [],
   "source": []
  }
 ],
 "metadata": {
  "kernelspec": {
   "display_name": "Python 3",
   "language": "python",
   "name": "python3"
  },
  "language_info": {
   "codemirror_mode": {
    "name": "ipython",
    "version": 3
   },
   "file_extension": ".py",
   "mimetype": "text/x-python",
   "name": "python",
   "nbconvert_exporter": "python",
   "pygments_lexer": "ipython3",
   "version": "3.7.0"
  }
 },
 "nbformat": 4,
 "nbformat_minor": 5
}
